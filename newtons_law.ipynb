{
 "cells": [
  {
   "cell_type": "markdown",
   "id": "ed3e505a",
   "metadata": {},
   "source": [
    "# Newton's Law"
   ]
  },
  {
   "cell_type": "markdown",
   "id": "d4b41816",
   "metadata": {},
   "source": [
    "## Newton's First Law (Inertia)"
   ]
  },
  {
   "cell_type": "markdown",
   "id": "56d9a807",
   "metadata": {},
   "source": [
    "An object at rest will stay at rest, and an object in motion will stay in motion unless acted on by a net force."
   ]
  },
  {
   "cell_type": "markdown",
   "id": "f50ebbfc",
   "metadata": {},
   "source": [
    "Mathematically, this is equivalent to saying that if the net force on an object is zero, then the velocity of the object is constant."
   ]
  },
  {
   "cell_type": "markdown",
   "id": "f87decad",
   "metadata": {},
   "source": [
    "$$ F = m\\frac{dv}{dt} = 0 \\quad \\rightarrow \\quad v = \\text{constant.} $$"
   ]
  },
  {
   "cell_type": "markdown",
   "id": "58727bc2",
   "metadata": {},
   "source": [
    "## Newton's Seond Law"
   ]
  },
  {
   "cell_type": "markdown",
   "id": "de18b769",
   "metadata": {},
   "source": [
    "The rate of change of momentum of a body over time is directly proportional to the force applied, and occurs in the same direction as the applied force."
   ]
  },
  {
   "cell_type": "markdown",
   "id": "8b2ed137",
   "metadata": {},
   "source": [
    "$$ F = ma $$"
   ]
  },
  {
   "cell_type": "markdown",
   "id": "60b6c504",
   "metadata": {},
   "source": [
    "### Related Problems"
   ]
  },
  {
   "cell_type": "markdown",
   "id": "89dfd6a9",
   "metadata": {},
   "source": [
    "- GRE Physics GR1777: Problem [001](https://study-astrophysics.com/gr1777-001/)"
   ]
  },
  {
   "cell_type": "markdown",
   "id": "312db7d9",
   "metadata": {},
   "source": [
    "## Newton's Thrid Law (Action-reaction law)"
   ]
  },
  {
   "cell_type": "markdown",
   "id": "7d61a666",
   "metadata": {},
   "source": []
  }
 ],
 "metadata": {
  "kernelspec": {
   "display_name": "Python 3 (ipykernel)",
   "language": "python",
   "name": "python3"
  },
  "language_info": {
   "codemirror_mode": {
    "name": "ipython",
    "version": 3
   },
   "file_extension": ".py",
   "mimetype": "text/x-python",
   "name": "python",
   "nbconvert_exporter": "python",
   "pygments_lexer": "ipython3",
   "version": "3.8.2"
  }
 },
 "nbformat": 4,
 "nbformat_minor": 5
}
