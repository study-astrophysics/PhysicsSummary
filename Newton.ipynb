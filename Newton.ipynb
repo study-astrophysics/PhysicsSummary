{
 "cells": [
  {
   "cell_type": "markdown",
   "id": "ed3e505a",
   "metadata": {},
   "source": [
    "# Classical Dynamics Summary"
   ]
  },
  {
   "cell_type": "markdown",
   "id": "d4b41816",
   "metadata": {},
   "source": [
    "## Newton's Law"
   ]
  },
  {
   "cell_type": "markdown",
   "id": "1b3bc42f",
   "metadata": {},
   "source": [
    "### Newton's First Law (Inertia)"
   ]
  },
  {
   "cell_type": "markdown",
   "id": "56d9a807",
   "metadata": {},
   "source": [
    "The first law states that an object at rest will stay at rest, and an object in motion will stay in motion unless acted on by a net force. Mathematically, this is equivalent to saying that if the net force on an object is zero, then the velocity of the object is constant."
   ]
  },
  {
   "cell_type": "markdown",
   "id": "58727bc2",
   "metadata": {},
   "source": [
    "### Newton's Seond Law"
   ]
  },
  {
   "cell_type": "markdown",
   "id": "de18b769",
   "metadata": {},
   "source": [
    "The second law states that the rate of change of momentum of a body over time is directly proportional to the force applied, and occurs in the same direction as the applied force.\n",
    "\n"
   ]
  },
  {
   "cell_type": "markdown",
   "id": "8b2ed137",
   "metadata": {},
   "source": [
    "$$ F = ma $$"
   ]
  },
  {
   "cell_type": "code",
   "execution_count": null,
   "id": "1e1fb9f0",
   "metadata": {},
   "outputs": [],
   "source": []
  }
 ],
 "metadata": {
  "kernelspec": {
   "display_name": "Python 3 (ipykernel)",
   "language": "python",
   "name": "python3"
  },
  "language_info": {
   "codemirror_mode": {
    "name": "ipython",
    "version": 3
   },
   "file_extension": ".py",
   "mimetype": "text/x-python",
   "name": "python",
   "nbconvert_exporter": "python",
   "pygments_lexer": "ipython3",
   "version": "3.8.2"
  }
 },
 "nbformat": 4,
 "nbformat_minor": 5
}
