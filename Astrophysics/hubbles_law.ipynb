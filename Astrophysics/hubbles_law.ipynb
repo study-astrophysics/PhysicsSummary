{
 "cells": [
  {
   "cell_type": "markdown",
   "id": "31890e9d",
   "metadata": {},
   "source": [
    "# [Hubble's Law](https://study-astrophysics.com/hubbles-law/)"
   ]
  },
  {
   "cell_type": "markdown",
   "id": "e0fa0b7c",
   "metadata": {},
   "source": [
    "---"
   ]
  },
  {
   "cell_type": "markdown",
   "id": "1307fcfe",
   "metadata": {},
   "source": [
    "## Hubble's Law\n",
    "\n",
    "$$ \\large v = H_0 r $$\n",
    "\n",
    "\n",
    "where\n",
    "\n",
    "- $v$: recessional velocity (km/s)\n",
    "\n",
    "\n",
    "- $H_0$: Hubble's constant\n",
    "\n",
    "\n",
    "- $r$: proper distance\n",
    "\n",
    "\n",
    "### Related Problems\n",
    "- GRE Physics GR1777 Problem [053](https://study-astrophysics.com/gr1777-053/)"
   ]
  },
  {
   "cell_type": "markdown",
   "id": "35af2244",
   "metadata": {},
   "source": [
    "---"
   ]
  },
  {
   "cell_type": "markdown",
   "id": "6cf72fe1",
   "metadata": {},
   "source": [
    "## Related Topics\n",
    "\n",
    "### [Redshift](https://study-astrophysics.com/cosmological-redshift/)"
   ]
  }
 ],
 "metadata": {
  "kernelspec": {
   "display_name": "Python 3 (ipykernel)",
   "language": "python",
   "name": "python3"
  },
  "language_info": {
   "codemirror_mode": {
    "name": "ipython",
    "version": 3
   },
   "file_extension": ".py",
   "mimetype": "text/x-python",
   "name": "python",
   "nbconvert_exporter": "python",
   "pygments_lexer": "ipython3",
   "version": "3.8.13"
  }
 },
 "nbformat": 4,
 "nbformat_minor": 5
}
