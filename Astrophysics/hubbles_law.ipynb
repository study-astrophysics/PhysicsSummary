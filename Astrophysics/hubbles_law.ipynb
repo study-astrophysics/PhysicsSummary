{
 "cells": [
  {
   "cell_type": "markdown",
   "id": "31890e9d",
   "metadata": {},
   "source": [
    "# Hubble's Law"
   ]
  },
  {
   "cell_type": "markdown",
   "id": "1307fcfe",
   "metadata": {},
   "source": [
    "$$ \\large v = H_0 r $$"
   ]
  }
 ],
 "metadata": {
  "kernelspec": {
   "display_name": "Python 3",
   "language": "python",
   "name": "python3"
  },
  "language_info": {
   "codemirror_mode": {
    "name": "ipython",
    "version": 3
   },
   "file_extension": ".py",
   "mimetype": "text/x-python",
   "name": "python",
   "nbconvert_exporter": "python",
   "pygments_lexer": "ipython3",
   "version": "3.8.8"
  }
 },
 "nbformat": 4,
 "nbformat_minor": 5
}
