{
 "cells": [
  {
   "cell_type": "markdown",
   "id": "b20b513d",
   "metadata": {},
   "source": [
    "# [Redshift](https://study-astrophysics.com/cosmological-redshift/)"
   ]
  },
  {
   "cell_type": "markdown",
   "id": "18ba4572",
   "metadata": {},
   "source": [
    "---"
   ]
  },
  {
   "cell_type": "markdown",
   "id": "611f4cc9",
   "metadata": {},
   "source": [
    "## Cosmological Redshift\n",
    "\n",
    "\n",
    "$$ \\large z  = \\frac{\\lambda_0 - \\lambda_e}{\\lambda_e} = \\sqrt{\\frac{1+\\frac{v}{c}}{1-\\frac{v}{c}}} - 1 \\approx \\frac{v}{c}$$\n",
    "\n",
    "\n",
    "where\n",
    "\n",
    "\n",
    "- $z$: redshift\n",
    "\n",
    "\n",
    "- $\\lambda_0$: observed wavelength\n",
    "\n",
    "\n",
    "- $\\lambda_e$: emitted wavelength\n",
    "\n",
    "\n",
    "- $v$: redshift velocity\n",
    "\n",
    "\n",
    "- $c$: speed of light\n",
    "\n",
    "\n",
    "### Related Problems\n",
    "- GRE Physics GR1777: Problem [053](https://study-astrophysics.com/gr1777-053/)"
   ]
  },
  {
   "cell_type": "markdown",
   "id": "51192d56",
   "metadata": {},
   "source": [
    "## Related Topics\n",
    "\n",
    "### [Hubble's Law](https://study-astrophysics.com/hubbles-law/)"
   ]
  }
 ],
 "metadata": {
  "kernelspec": {
   "display_name": "Python 3 (ipykernel)",
   "language": "python",
   "name": "python3"
  },
  "language_info": {
   "codemirror_mode": {
    "name": "ipython",
    "version": 3
   },
   "file_extension": ".py",
   "mimetype": "text/x-python",
   "name": "python",
   "nbconvert_exporter": "python",
   "pygments_lexer": "ipython3",
   "version": "3.8.13"
  }
 },
 "nbformat": 4,
 "nbformat_minor": 5
}
