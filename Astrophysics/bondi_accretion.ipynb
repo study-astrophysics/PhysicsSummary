{
 "cells": [
  {
   "cell_type": "markdown",
   "id": "297b04dc",
   "metadata": {},
   "source": [
    "# Bondi Accretion"
   ]
  },
  {
   "cell_type": "markdown",
   "id": "34833b49",
   "metadata": {},
   "source": [
    "## Assumption"
   ]
  },
  {
   "cell_type": "markdown",
   "id": "4d15ef1e",
   "metadata": {},
   "source": [
    "- Isolated star/planet/compack object\n",
    "- Neglect\n",
    " - magnetic field\n",
    " - rotation (angular momentum)\n",
    " - viscosity\n",
    "- Spherical symmetry\n",
    "- Steady state"
   ]
  },
  {
   "cell_type": "markdown",
   "id": "95104425",
   "metadata": {},
   "source": [
    "## Goals"
   ]
  },
  {
   "cell_type": "markdown",
   "id": "6f25ad7c",
   "metadata": {},
   "source": [
    "- mass accretion rate $\\dot{m}$ at given ambient condition\n",
    " - $\\rho_\\infty$\n",
    " - $c_\\infty$\n",
    "- How big a region is affected\n",
    "- General relationship between $v$ and $c_s$"
   ]
  },
  {
   "cell_type": "markdown",
   "id": "39636748",
   "metadata": {},
   "source": [
    "## General Equations"
   ]
  },
  {
   "cell_type": "markdown",
   "id": "3011d0a6",
   "metadata": {},
   "source": [
    "### Continuity Equation"
   ]
  },
  {
   "cell_type": "markdown",
   "id": "c2498e8d",
   "metadata": {},
   "source": [
    "$$  \\large \\frac{\\partial \\rho}{\\partial r} + \\nabla \\cdot \\rho v = 0 $$"
   ]
  },
  {
   "cell_type": "markdown",
   "id": "f9e73dda",
   "metadata": {},
   "source": [
    "Since it is in a steady state and we assume the spherical symmetry, the equations becomes"
   ]
  },
  {
   "cell_type": "markdown",
   "id": "4d79cd90",
   "metadata": {},
   "source": [
    "$$ \\large \\frac{1}{r^2} \\frac{d}{dr} (r^2 \\rho v) = 0 $$"
   ]
  },
  {
   "cell_type": "markdown",
   "id": "a729b1f6",
   "metadata": {},
   "source": [
    "Thus, the mass accretion rate $\\dot{m}$ is"
   ]
  },
  {
   "cell_type": "markdown",
   "id": "c80fef63",
   "metadata": {},
   "source": [
    "$$ \\large \\dot{m} = 4 \\pi r^2 \\rho v $$"
   ]
  },
  {
   "cell_type": "markdown",
   "id": "33cec43f",
   "metadata": {},
   "source": [
    "Note that this rate is constant."
   ]
  },
  {
   "cell_type": "markdown",
   "id": "64cc7843",
   "metadata": {},
   "source": [
    "### Euler Equation"
   ]
  },
  {
   "cell_type": "markdown",
   "id": "4a80b18d",
   "metadata": {},
   "source": [
    "$$ \\large \\underbrace{v \\frac{\\partial v}{\\partial r}}_{\\text{advection}} + \\underbrace{\\frac{1}{\\rho} \\frac{\\partial P}{\\partial r}}_{\\text{pressure}} + \\underbrace{\\frac{GM}{r^2}}_{\\text{gravity}} = 0 $$"
   ]
  },
  {
   "cell_type": "markdown",
   "id": "74415f28",
   "metadata": {},
   "source": [
    "### Polytropes"
   ]
  },
  {
   "cell_type": "markdown",
   "id": "170caca5",
   "metadata": {},
   "source": [
    "$$ \\large P = k \\rho^\\gamma $$"
   ]
  },
  {
   "cell_type": "markdown",
   "id": "807aa893",
   "metadata": {},
   "source": [
    "where\n",
    "\n",
    "$$ \\gamma  = \\left\\{ \\begin{split}\n",
    "  &  \\frac{5}{3}, \\quad \\text{: adiabatic gas} \\\\\n",
    " & 1, \\quad \\text{: thermal} \n",
    "\\end{split} \\right. $$"
   ]
  },
  {
   "cell_type": "markdown",
   "id": "32ff7048",
   "metadata": {},
   "source": [
    "## Derivation"
   ]
  },
  {
   "cell_type": "markdown",
   "id": "4c16a075",
   "metadata": {},
   "source": [
    "In the continuity equation,"
   ]
  },
  {
   "cell_type": "markdown",
   "id": "81c7ceed",
   "metadata": {},
   "source": [
    "$$ \\large \\frac{\\partial}{\\partial r} (r^2 \\rho v) = \\rho \\frac{\\partial (r^2 v)}{\\partial r} + r^2 v \\frac{\\partial \\rho }{\\partial r} = 0 \\quad \\color{red}{\\text{But how?}} $$"
   ]
  },
  {
   "cell_type": "markdown",
   "id": "a48e70ca",
   "metadata": {},
   "source": [
    "Thus,"
   ]
  },
  {
   "cell_type": "markdown",
   "id": "7e0d0408",
   "metadata": {},
   "source": [
    "$$ \\large \\frac{1}{\\rho} \\color{red}{\\frac{\\partial \\rho}{\\partial r}} = - \\frac{1}{r^2 v} \\frac{\\partial (r^2 v)}{\\partial r} $$"
   ]
  },
  {
   "cell_type": "markdown",
   "id": "9434958b",
   "metadata": {},
   "source": [
    "Also, the pressure term in Euler equation can be expressed"
   ]
  },
  {
   "cell_type": "markdown",
   "id": "8cc652b5",
   "metadata": {},
   "source": [
    "$$ \\large \\frac{\\partial P}{\\partial r} = \\frac{\\partial P}{\\partial \\rho} \\frac{\\partial \\rho}{\\partial r} = c^2_s \\color{red}{\\frac{\\partial \\rho}{\\partial r}} $$"
   ]
  },
  {
   "cell_type": "markdown",
   "id": "f1636e18",
   "metadata": {},
   "source": [
    "Thus, the continuity equation can be rewritten"
   ]
  },
  {
   "cell_type": "markdown",
   "id": "a22ce0b6",
   "metadata": {},
   "source": [
    "$$ \\large v \\frac{\\partial v}{\\partial r} - \\frac{c^2_s}{r^2 v} \\frac{\\partial (r^2 v)}{\\partial r} + \\frac{GM}{r^2} = 0 $$"
   ]
  },
  {
   "cell_type": "markdown",
   "id": "44e22722",
   "metadata": {},
   "source": [
    "Since,"
   ]
  },
  {
   "cell_type": "markdown",
   "id": "ac3a24fa",
   "metadata": {},
   "source": [
    "$$ \\large v \\color{blue}{\\frac{\\partial v}{\\partial r}}  = \\frac{1}{2} \\frac{\\partial v^2}{\\partial r} $$"
   ]
  },
  {
   "cell_type": "markdown",
   "id": "817eba1e",
   "metadata": {},
   "source": [
    "$$ \\large \\frac{\\partial (r^2 v)}{\\partial r} = r^2 \\color{blue}{\\frac{\\partial v}{\\partial r}} + 2 v r = \\frac{1}{2} \\frac{r^2}{v} \\frac{\\partial v^2}{\\partial r} + 2 v r $$"
   ]
  },
  {
   "cell_type": "markdown",
   "id": "2194fe8d",
   "metadata": {},
   "source": [
    "Therefore, Euler equation becomes"
   ]
  },
  {
   "cell_type": "markdown",
   "id": "d2c68970",
   "metadata": {},
   "source": [
    "$$ \\large \\frac{1}{2} \\frac{\\partial v^2}{\\partial r} - \\frac{c^2_s}{r^2 v} \\left[ \\frac{1}{2} \\frac{r^2}{v} \\frac{\\partial v^2}{\\partial r} + 2vr \\right] + \\frac{GM}{r^2} = 0 $$"
   ]
  },
  {
   "cell_type": "markdown",
   "id": "f0977d44",
   "metadata": {},
   "source": [
    "$$ \\large \\frac{1}{2} \\frac{\\partial v^2}{\\partial r} \\left[ 1- \\frac{c^2_s}{v^2} \\right] - \\frac{2c^2_s}{r} + \\frac{GM}{r^2} = 0 $$"
   ]
  },
  {
   "cell_type": "markdown",
   "id": "34ef037c",
   "metadata": {},
   "source": [
    "$$ \\large \\boxed{ \\frac{1}{2} \\frac{\\partial v^2}{\\partial r} \\left( 1- \\frac{c^2_s}{v^2} \\right) = - \\frac{GM}{r^2} \\left[ 1 - \\frac{2c^2_s r}{GM} \\right] }$$"
   ]
  },
  {
   "cell_type": "markdown",
   "id": "d2034f0d",
   "metadata": {},
   "source": [
    "### Sonic point"
   ]
  },
  {
   "cell_type": "markdown",
   "id": "4dca6275",
   "metadata": {},
   "source": [
    "When $v = c_s$, where $c_s$ is the sound speed, the term in the Bondi equation becomes"
   ]
  },
  {
   "cell_type": "markdown",
   "id": "07ec6e0a",
   "metadata": {},
   "source": [
    "$$ \\large 1 - \\frac{2 c^2_s r}{GM} = 0 $$"
   ]
  },
  {
   "cell_type": "markdown",
   "id": "6f4fe507",
   "metadata": {},
   "source": [
    "Thus, the sonic point $r_s$ can be defined"
   ]
  },
  {
   "cell_type": "markdown",
   "id": "43fe64b6",
   "metadata": {},
   "source": [
    "$$ \\large r_{\\text{sonic}} = \\frac{GM}{2c^2_s} $$"
   ]
  },
  {
   "cell_type": "markdown",
   "id": "4db09551",
   "metadata": {},
   "source": [
    "### By the way, why is the speed of sound important in hydrodynamics?"
   ]
  },
  {
   "cell_type": "markdown",
   "id": "03b845af",
   "metadata": {},
   "source": [
    "Recall the definition of the mach number $M$,"
   ]
  },
  {
   "cell_type": "markdown",
   "id": "8d6d3dfc",
   "metadata": {},
   "source": [
    "$$ \\large M^2 = \\frac{v^2}{c^2_s} = \\frac{\\frac{1}{L} v^2}{\\frac{P}{\\rho} \\frac{1}{L}} = \\frac{ v \\cdot \\nabla v}{\\frac{1}{\\rho} \\nabla P} = \\frac{\\text{advection}}{\\text{pressure}} $$"
   ]
  },
  {
   "cell_type": "markdown",
   "id": "e4a6ae10",
   "metadata": {},
   "source": [
    "Thus, using the sound speed, we can get the information whether a region is advection dominant or pressure dominant."
   ]
  },
  {
   "cell_type": "markdown",
   "id": "93f6fc60",
   "metadata": {},
   "source": [
    "$$ \\large \\begin{cases}\n",
    "M^2 > 1 & \\text{advection is dominant}\\\\\n",
    "M^2 < 1 & \\text{pressure is dominant}\n",
    "\\end{cases} $$"
   ]
  },
  {
   "cell_type": "markdown",
   "id": "5a8c9cb5",
   "metadata": {},
   "source": [
    "## Types of Solutions"
   ]
  },
  {
   "cell_type": "markdown",
   "id": "8aaa7bc2",
   "metadata": {},
   "source": [
    "### Type 1. Bondi Accretion"
   ]
  },
  {
   "cell_type": "markdown",
   "id": "4eff0cb6",
   "metadata": {},
   "source": [
    "$$ \\large v^2 = c^2_s \\quad \\text{at} \\quad r = r_{\\text{sonic}}, \\quad  v \\rightarrow 0 \\quad \\text{as} \\quad r \\rightarrow \\infty $$"
   ]
  },
  {
   "cell_type": "markdown",
   "id": "c7142574",
   "metadata": {},
   "source": [
    "- subsonic at $r > r_{\\text{sonic}}$\n",
    "- supersonic at $r < r_{\\text{sonic}}$"
   ]
  },
  {
   "cell_type": "markdown",
   "id": "fb28af5f",
   "metadata": {},
   "source": [
    "### Type 2. Stellar Wind"
   ]
  },
  {
   "cell_type": "markdown",
   "id": "f0e3b0b3",
   "metadata": {},
   "source": [
    "$$ \\large v^2 = c^2_s \\quad \\text{at} \\quad r = r_{\\text{sonic}}, \\quad  v \\rightarrow 0 \\quad \\text{as} \\quad r \\rightarrow 0 $$"
   ]
  },
  {
   "cell_type": "markdown",
   "id": "3bb8fc0f",
   "metadata": {},
   "source": [
    "- subsonic at $r < r_{\\text{sonic}}$\n",
    "- supersonic at $r > r_{\\text{sonic}}$"
   ]
  },
  {
   "cell_type": "markdown",
   "id": "16c5a8cd",
   "metadata": {},
   "source": [
    "### Type 3"
   ]
  },
  {
   "cell_type": "markdown",
   "id": "4ce48d14",
   "metadata": {},
   "source": [
    "$$ \\large \\frac{\\partial v^2}{\\partial r} = 0 \\quad \\text{at} \\quad r = r_{\\text{sonic}}, \\quad v^2 < c^2_s \\quad \\text{: subsonic  everywhere} $$"
   ]
  },
  {
   "cell_type": "markdown",
   "id": "a0bd2eb0",
   "metadata": {},
   "source": [
    "### Type 4"
   ]
  },
  {
   "cell_type": "markdown",
   "id": "28fd6857",
   "metadata": {},
   "source": [
    "$$ \\large \\frac{\\partial v^2}{\\partial r} = 0 \\quad \\text{at} \\quad r = r_{\\text{sonic}}, \\quad v^2 > c^2_s \\quad \\text{: supersonic  everywhere} $$"
   ]
  },
  {
   "cell_type": "markdown",
   "id": "9827ee0e",
   "metadata": {},
   "source": [
    "### Type 5"
   ]
  },
  {
   "cell_type": "markdown",
   "id": "9ad76b18",
   "metadata": {},
   "source": [
    "### Type 6"
   ]
  },
  {
   "cell_type": "markdown",
   "id": "abf0babc",
   "metadata": {},
   "source": [
    "## Bondi Accretion Rate"
   ]
  },
  {
   "cell_type": "markdown",
   "id": "566caf9d",
   "metadata": {},
   "source": [
    "Euler equation again"
   ]
  },
  {
   "cell_type": "markdown",
   "id": "acce1b7f",
   "metadata": {},
   "source": []
  }
 ],
 "metadata": {
  "kernelspec": {
   "display_name": "Python 3 (ipykernel)",
   "language": "python",
   "name": "python3"
  },
  "language_info": {
   "codemirror_mode": {
    "name": "ipython",
    "version": 3
   },
   "file_extension": ".py",
   "mimetype": "text/x-python",
   "name": "python",
   "nbconvert_exporter": "python",
   "pygments_lexer": "ipython3",
   "version": "3.9.7"
  }
 },
 "nbformat": 4,
 "nbformat_minor": 5
}
