{
 "cells": [
  {
   "cell_type": "markdown",
   "id": "297b04dc",
   "metadata": {},
   "source": [
    "# Bondi Accretion"
   ]
  },
  {
   "cell_type": "markdown",
   "id": "34833b49",
   "metadata": {},
   "source": [
    "## Assumption"
   ]
  },
  {
   "cell_type": "markdown",
   "id": "4d15ef1e",
   "metadata": {},
   "source": [
    "- Isolated star/planet\n",
    "- Neglect\n",
    " - magnetic field\n",
    " - rotation (angular momentum)\n",
    " - viscosity\n",
    "- Spherical symmetry\n",
    "- Steady state"
   ]
  },
  {
   "cell_type": "markdown",
   "id": "95104425",
   "metadata": {},
   "source": [
    "## Goals"
   ]
  },
  {
   "cell_type": "markdown",
   "id": "6f25ad7c",
   "metadata": {},
   "source": [
    "- $\\dot{m}$ at given ambient condition\n",
    " - $\\rho_\\infty$\n",
    " - $c_\\infty$\n",
    "- How big a region is affected\n",
    "- General relationship between $v$ and $c_s$"
   ]
  },
  {
   "cell_type": "markdown",
   "id": "39636748",
   "metadata": {},
   "source": [
    "## General Equations"
   ]
  },
  {
   "cell_type": "markdown",
   "id": "3011d0a6",
   "metadata": {},
   "source": [
    "### Continuity Equation"
   ]
  },
  {
   "cell_type": "markdown",
   "id": "c2498e8d",
   "metadata": {},
   "source": [
    "$$ \\large \\frac{\\partial \\rho}{\\partial r} + \\nabla \\cdot \\rho v = 0 $$"
   ]
  },
  {
   "cell_type": "markdown",
   "id": "f9e73dda",
   "metadata": {},
   "source": [
    "Since it is in a steady state and we assume the spherical symmetry, the equations becomes"
   ]
  },
  {
   "cell_type": "markdown",
   "id": "4d79cd90",
   "metadata": {},
   "source": [
    "$$ \\large \\frac{1}{r^2} \\frac{d}{dr} (r^2 \\rho v) = 0 $$"
   ]
  },
  {
   "cell_type": "markdown",
   "id": "a729b1f6",
   "metadata": {},
   "source": [
    "Thus, the mass accretion rate $\\dot{m}$ is"
   ]
  },
  {
   "cell_type": "markdown",
   "id": "c80fef63",
   "metadata": {},
   "source": [
    "$$ \\large \\dot{m} = 4 \\pi r^2 \\rho v $$"
   ]
  },
  {
   "cell_type": "markdown",
   "id": "33cec43f",
   "metadata": {},
   "source": [
    "Note that this rate is constant."
   ]
  },
  {
   "cell_type": "markdown",
   "id": "64cc7843",
   "metadata": {},
   "source": [
    "### Euler Equation"
   ]
  },
  {
   "cell_type": "markdown",
   "id": "4a80b18d",
   "metadata": {},
   "source": [
    "$$ \\large \\underbrace{v \\frac{\\partial v}{\\partial r}}_{\\text{advection}} + \\underbrace{\\frac{1}{\\rho} \\frac{\\partial P}{\\partial r}}_{\\text{pressure}} + \\underbrace{\\frac{GM}{r^2}}_{\\text{gravity}} = 0 $$"
   ]
  },
  {
   "cell_type": "markdown",
   "id": "2f19ad10",
   "metadata": {},
   "source": [
    "The pressure term can be expressed as"
   ]
  },
  {
   "cell_type": "markdown",
   "id": "29abd40c",
   "metadata": {},
   "source": [
    "$$ \\large \\frac{\\partial P}{\\partial r} = \\frac{\\partial P}{\\partial \\rho} \\frac{\\partial \\rho}{\\partial r} = c^2_s \\frac{\\partial \\rho}{\\partial r} $$"
   ]
  },
  {
   "cell_type": "markdown",
   "id": "74415f28",
   "metadata": {},
   "source": [
    "### Polytropes"
   ]
  },
  {
   "cell_type": "markdown",
   "id": "170caca5",
   "metadata": {},
   "source": [
    "$$ \\large P = k \\rho^\\gamma $$"
   ]
  },
  {
   "cell_type": "markdown",
   "id": "807aa893",
   "metadata": {},
   "source": [
    "where\n",
    "\n",
    "$$ \\gamma  = \\left\\{ \\begin{split}\n",
    "  &  \\frac{5}{3}, \\quad \\text{: adiabatic gas} \\\\\n",
    " & 1, \\quad \\text{: thermal} \n",
    "\\end{split} \\right. $$"
   ]
  },
  {
   "cell_type": "code",
   "execution_count": null,
   "id": "d7fb2ca3",
   "metadata": {},
   "outputs": [],
   "source": []
  }
 ],
 "metadata": {
  "kernelspec": {
   "display_name": "Python 3 (ipykernel)",
   "language": "python",
   "name": "python3"
  },
  "language_info": {
   "codemirror_mode": {
    "name": "ipython",
    "version": 3
   },
   "file_extension": ".py",
   "mimetype": "text/x-python",
   "name": "python",
   "nbconvert_exporter": "python",
   "pygments_lexer": "ipython3",
   "version": "3.9.7"
  }
 },
 "nbformat": 4,
 "nbformat_minor": 5
}
