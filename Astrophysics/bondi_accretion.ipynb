{
 "cells": [
  {
   "cell_type": "markdown",
   "id": "297b04dc",
   "metadata": {},
   "source": [
    "# Bondi Accretion"
   ]
  },
  {
   "cell_type": "markdown",
   "id": "34833b49",
   "metadata": {},
   "source": [
    "## Assumption"
   ]
  },
  {
   "cell_type": "markdown",
   "id": "4d15ef1e",
   "metadata": {},
   "source": [
    "- Isolated star/planet/compack object\n",
    "- Neglect\n",
    " - magnetic field\n",
    " - rotation (angular momentum)\n",
    " - viscosity\n",
    "- Spherical symmetry\n",
    "- Steady state"
   ]
  },
  {
   "cell_type": "markdown",
   "id": "95104425",
   "metadata": {},
   "source": [
    "## Goals"
   ]
  },
  {
   "cell_type": "markdown",
   "id": "6f25ad7c",
   "metadata": {},
   "source": [
    "- mass accretion rate $\\dot{m}$ at given ambient condition\n",
    " - $\\rho_\\infty$\n",
    " - $c_\\infty$\n",
    "- How big a region is affected\n",
    "- General relationship between $v$ and $c_s$"
   ]
  },
  {
   "cell_type": "markdown",
   "id": "39636748",
   "metadata": {},
   "source": [
    "## General Equations"
   ]
  },
  {
   "cell_type": "markdown",
   "id": "3011d0a6",
   "metadata": {},
   "source": [
    "### Continuity Equation"
   ]
  },
  {
   "cell_type": "markdown",
   "id": "c2498e8d",
   "metadata": {},
   "source": [
    "$$  \\large \\frac{\\partial \\rho}{\\partial r} + \\nabla \\cdot \\rho v = 0 $$"
   ]
  },
  {
   "cell_type": "markdown",
   "id": "f9e73dda",
   "metadata": {},
   "source": [
    "Since it is in a steady state and we assume the spherical symmetry, the equations becomes"
   ]
  },
  {
   "cell_type": "markdown",
   "id": "4d79cd90",
   "metadata": {},
   "source": [
    "$$ \\large \\frac{1}{r^2} \\frac{d}{dr} (r^2 \\rho v) = 0 $$"
   ]
  },
  {
   "cell_type": "markdown",
   "id": "a729b1f6",
   "metadata": {},
   "source": [
    "Thus, the mass accretion rate $\\dot{m}$ is"
   ]
  },
  {
   "cell_type": "markdown",
   "id": "c80fef63",
   "metadata": {},
   "source": [
    "$$ \\large \\dot{m} = 4 \\pi r^2 \\rho v $$"
   ]
  },
  {
   "cell_type": "markdown",
   "id": "33cec43f",
   "metadata": {},
   "source": [
    "Note that this rate is constant."
   ]
  },
  {
   "cell_type": "markdown",
   "id": "64cc7843",
   "metadata": {},
   "source": [
    "### Euler Equation"
   ]
  },
  {
   "cell_type": "markdown",
   "id": "4a80b18d",
   "metadata": {},
   "source": [
    "$$ \\large \\underbrace{v \\frac{\\partial v}{\\partial r}}_{\\text{advection}} + \\underbrace{\\frac{1}{\\rho} \\frac{\\partial P}{\\partial r}}_{\\text{pressure}} + \\underbrace{\\frac{GM}{r^2}}_{\\text{gravity}} = 0 $$"
   ]
  },
  {
   "cell_type": "markdown",
   "id": "74415f28",
   "metadata": {},
   "source": [
    "### Polytropes"
   ]
  },
  {
   "cell_type": "markdown",
   "id": "170caca5",
   "metadata": {},
   "source": [
    "$$ \\large P = k \\rho^\\gamma $$"
   ]
  },
  {
   "cell_type": "markdown",
   "id": "807aa893",
   "metadata": {},
   "source": [
    "where\n",
    "\n",
    "$$ \\gamma  = \\left\\{ \\begin{split}\n",
    "  &  \\frac{5}{3}, \\quad \\text{: adiabatic gas} \\\\\n",
    " & 1, \\quad \\text{: thermal} \n",
    "\\end{split} \\right. $$"
   ]
  },
  {
   "cell_type": "markdown",
   "id": "32ff7048",
   "metadata": {},
   "source": [
    "## Derivation"
   ]
  },
  {
   "cell_type": "markdown",
   "id": "4c16a075",
   "metadata": {},
   "source": [
    "In the continuity equation,"
   ]
  },
  {
   "cell_type": "markdown",
   "id": "81c7ceed",
   "metadata": {},
   "source": [
    "$$ \\large \\frac{\\partial}{\\partial r} (r^2 \\rho v) = \\rho \\frac{\\partial (r^2 v)}{\\partial r} + r^2 v \\frac{\\partial \\rho }{\\partial r} = 0 \\quad \\color{red}{\\text{But how?}} $$"
   ]
  },
  {
   "cell_type": "markdown",
   "id": "a48e70ca",
   "metadata": {},
   "source": [
    "Thus,"
   ]
  },
  {
   "cell_type": "markdown",
   "id": "7e0d0408",
   "metadata": {},
   "source": [
    "$$ \\large \\frac{1}{\\rho} \\color{red}{\\frac{\\partial \\rho}{\\partial r}} = - \\frac{1}{r^2 v} \\frac{\\partial (r^2 v)}{\\partial r} $$"
   ]
  },
  {
   "cell_type": "markdown",
   "id": "9434958b",
   "metadata": {},
   "source": [
    "Also, the pressure term in Euler equation can be expressed"
   ]
  },
  {
   "cell_type": "markdown",
   "id": "8cc652b5",
   "metadata": {},
   "source": [
    "$$ \\large \\frac{\\partial P}{\\partial r} = \\frac{\\partial P}{\\partial \\rho} \\frac{\\partial \\rho}{\\partial r} = c^2_s \\color{red}{\\frac{\\partial \\rho}{\\partial r}} $$"
   ]
  },
  {
   "cell_type": "markdown",
   "id": "f1636e18",
   "metadata": {},
   "source": [
    "Thus, the continuity equation can be rewritten"
   ]
  },
  {
   "cell_type": "markdown",
   "id": "a22ce0b6",
   "metadata": {},
   "source": [
    "$$ \\large v \\frac{\\partial v}{\\partial r} - \\frac{c^2_s}{r^2 v} \\frac{\\partial (r^2 v)}{\\partial r} + \\frac{GM}{r^2} = 0 $$"
   ]
  },
  {
   "cell_type": "markdown",
   "id": "44e22722",
   "metadata": {},
   "source": [
    "Since,"
   ]
  },
  {
   "cell_type": "markdown",
   "id": "ac3a24fa",
   "metadata": {},
   "source": [
    "$$ \\large v \\color{blue}{\\frac{\\partial v}{\\partial r}}  = \\frac{1}{2} \\frac{\\partial v^2}{\\partial r} $$"
   ]
  },
  {
   "cell_type": "markdown",
   "id": "817eba1e",
   "metadata": {},
   "source": [
    "$$ \\large \\frac{\\partial (r^2 v)}{\\partial r} = r^2 \\color{blue}{\\frac{\\partial v}{\\partial r}} + 2 v r = \\frac{1}{2} \\frac{r^2}{v} \\frac{\\partial v^2}{\\partial r} + 2 v r $$"
   ]
  },
  {
   "cell_type": "markdown",
   "id": "2194fe8d",
   "metadata": {},
   "source": [
    "Therefore,"
   ]
  },
  {
   "cell_type": "markdown",
   "id": "d2c68970",
   "metadata": {},
   "source": []
  },
  {
   "cell_type": "code",
   "execution_count": null,
   "id": "97ac4eed",
   "metadata": {},
   "outputs": [],
   "source": []
  }
 ],
 "metadata": {
  "kernelspec": {
   "display_name": "Python 3 (ipykernel)",
   "language": "python",
   "name": "python3"
  },
  "language_info": {
   "codemirror_mode": {
    "name": "ipython",
    "version": 3
   },
   "file_extension": ".py",
   "mimetype": "text/x-python",
   "name": "python",
   "nbconvert_exporter": "python",
   "pygments_lexer": "ipython3",
   "version": "3.9.7"
  }
 },
 "nbformat": 4,
 "nbformat_minor": 5
}
