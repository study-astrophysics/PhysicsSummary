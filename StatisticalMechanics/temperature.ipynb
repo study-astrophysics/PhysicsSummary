{
 "cells": [
  {
   "cell_type": "markdown",
   "id": "4851f59e",
   "metadata": {},
   "source": [
    "# [Temperature](https://study-astrophysics.com/temperature/)"
   ]
  },
  {
   "cell_type": "markdown",
   "id": "ad4da013",
   "metadata": {},
   "source": [
    "---"
   ]
  },
  {
   "cell_type": "markdown",
   "id": "dfed48b7",
   "metadata": {},
   "source": [
    "## Temperature of the Ideal Gas\n",
    "\n",
    "\n",
    "$$ \\large \\frac{3 k_B T}{2} \\ = \\ \\frac{1}{2} m \\bar{v}^2 $$"
   ]
  }
 ],
 "metadata": {
  "kernelspec": {
   "display_name": "Python 3 (ipykernel)",
   "language": "python",
   "name": "python3"
  },
  "language_info": {
   "codemirror_mode": {
    "name": "ipython",
    "version": 3
   },
   "file_extension": ".py",
   "mimetype": "text/x-python",
   "name": "python",
   "nbconvert_exporter": "python",
   "pygments_lexer": "ipython3",
   "version": "3.8.2"
  }
 },
 "nbformat": 4,
 "nbformat_minor": 5
}
