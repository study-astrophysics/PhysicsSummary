{
 "cells": [
  {
   "cell_type": "markdown",
   "id": "01bf4d9d",
   "metadata": {},
   "source": [
    "# Dalton's Law"
   ]
  },
  {
   "cell_type": "markdown",
   "id": "9ceb6f75",
   "metadata": {},
   "source": [
    "---"
   ]
  },
  {
   "cell_type": "markdown",
   "id": "5f3217c6",
   "metadata": {},
   "source": [
    "## Dalton's Law\n",
    "\n",
    "> In a mixture of non-reacting gases, the total pressure exerted is equal to the sum of the partial pressures of the individual gases.\n",
    "\n",
    "$$ \\large P \\ = \\ P_1 + P_2 \\ = \\ (n_1 + n_2) \\frac{RT}{V} $$"
   ]
  }
 ],
 "metadata": {
  "kernelspec": {
   "display_name": "Python 3 (ipykernel)",
   "language": "python",
   "name": "python3"
  },
  "language_info": {
   "codemirror_mode": {
    "name": "ipython",
    "version": 3
   },
   "file_extension": ".py",
   "mimetype": "text/x-python",
   "name": "python",
   "nbconvert_exporter": "python",
   "pygments_lexer": "ipython3",
   "version": "3.9.7"
  }
 },
 "nbformat": 4,
 "nbformat_minor": 5
}
