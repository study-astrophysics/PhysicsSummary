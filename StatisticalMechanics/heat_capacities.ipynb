{
 "cells": [
  {
   "cell_type": "markdown",
   "id": "9a4c21cc",
   "metadata": {},
   "source": [
    "# [Heat Capacities](https://study-astrophysics.com/heat-capacities/)"
   ]
  },
  {
   "cell_type": "markdown",
   "id": "973d68c2",
   "metadata": {},
   "source": [
    "---"
   ]
  },
  {
   "cell_type": "markdown",
   "id": "e577a8e8",
   "metadata": {},
   "source": [
    "## Basic Definition\n",
    "\n",
    "\n",
    "$$ \\large C \\ = \\ \\lim_{\\Delta T \\rightarrow 0} \\frac{Q}{\\Delta T} \\ = \\ \\frac{dQ}{dT} $$\n",
    "\n",
    "\n",
    "\n",
    "### Specific Heat\n",
    "\n",
    "\n",
    "$$ \\large c = \\frac{C}{m} $$\n",
    "\n",
    "\n",
    "where\n",
    "\n",
    "\n",
    "- $m$: mass"
   ]
  },
  {
   "cell_type": "markdown",
   "id": "13b4142b",
   "metadata": {},
   "source": [
    "---"
   ]
  },
  {
   "cell_type": "markdown",
   "id": "79e30990",
   "metadata": {},
   "source": [
    "## Heat Capacity at Constant Volume ($dV = 0$)\n",
    "\n",
    "$$ \\large \\begin{split}\n",
    "dU &= dQ - pdV \\\\\n",
    "&= \\frac{3}{2} nRdT\n",
    "\\end{split}\n",
    "$$\n",
    "\n",
    "\n",
    "$$ \\large \\Rightarrow C_V = \\left( \\frac{dQ}{dT} \\right)_V = \\frac{3}{2}nR $$"
   ]
  },
  {
   "cell_type": "markdown",
   "id": "531a31e4",
   "metadata": {},
   "source": [
    "---"
   ]
  },
  {
   "cell_type": "markdown",
   "id": "0d59ec76",
   "metadata": {},
   "source": [
    "## Heat Capacity at Constant Pressure ($dp = 0$)\n",
    "\n",
    "$$ \\large dU = dQ - pdV $$\n",
    "\n",
    "\n",
    "$$ \\large dQ = dU + pdV = \\frac{3}{2}nRdT + nRdT $$\n",
    "\n",
    "\n",
    "$$ \\large \\Rightarrow C_P = \\left( \\frac{dQ}{dT} \\right)_p = \\frac{5}{2} nR $$"
   ]
  },
  {
   "cell_type": "markdown",
   "id": "ce2f791b",
   "metadata": {},
   "source": [
    "---"
   ]
  },
  {
   "cell_type": "markdown",
   "id": "667a85d9",
   "metadata": {},
   "source": [
    "## Relationship between $C_P$ and $C_V$\n",
    "\n",
    "\n",
    "$$ \\large C_V \\ < \\ C_P $$\n",
    "\n",
    "\n",
    "$$ \\large \\gamma \\ = \\ \\frac{C_P}{C_V} $$\n",
    "\n",
    "\n",
    "### For ideal Gas\n",
    "\n",
    "\n",
    "$$ \\large C_P \\ = \\ C_V + nR $$\n",
    "\n",
    "\n",
    "### For a Monotomic Gas\n",
    "\n",
    "\n",
    "$$ \\large U \\ = \\ \\frac{3}{2} nRT $$\n",
    "\n",
    "\n",
    "$$ \\large C_V \\ = \\  \\frac{3}{2}nR $$\n",
    "\n",
    "\n",
    "$$ \\large \\gamma \\ = \\ \\frac{5}{3} $$\n",
    "\n",
    "\n",
    "### Related Problems\n",
    "- GRE Physics GR0877: Problem 034"
   ]
  }
 ],
 "metadata": {
  "kernelspec": {
   "display_name": "Python 3 (ipykernel)",
   "language": "python",
   "name": "python3"
  },
  "language_info": {
   "codemirror_mode": {
    "name": "ipython",
    "version": 3
   },
   "file_extension": ".py",
   "mimetype": "text/x-python",
   "name": "python",
   "nbconvert_exporter": "python",
   "pygments_lexer": "ipython3",
   "version": "3.9.7"
  }
 },
 "nbformat": 4,
 "nbformat_minor": 5
}
