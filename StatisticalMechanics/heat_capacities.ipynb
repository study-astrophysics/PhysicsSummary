{
 "cells": [
  {
   "cell_type": "markdown",
   "id": "9a4c21cc",
   "metadata": {},
   "source": [
    "# Heat Capacities"
   ]
  },
  {
   "cell_type": "markdown",
   "id": "e577a8e8",
   "metadata": {},
   "source": [
    "## Basic Definition"
   ]
  },
  {
   "cell_type": "markdown",
   "id": "79e30990",
   "metadata": {},
   "source": [
    "## Heat Capacity at Constant Volume ($dV = 0$)\n",
    "\n",
    "$$ \\large \\begin{split}\n",
    "dU &= dQ - pdV \\\\\n",
    "&= \\frac{3}{2} nRdT\n",
    "\\end{split}\n",
    "$$\n",
    "\n",
    "$$ \\large \\Rightarrow C_V = \\left( \\frac{dQ}{dT} \\right)_V = \\frac{3}{2}nR $$"
   ]
  },
  {
   "cell_type": "markdown",
   "id": "0d59ec76",
   "metadata": {},
   "source": [
    "## Heat Capacity at Constant Pressure ($dP = 0$)\n",
    "\n",
    "$$ \\large dU = dQ - pdV $$\n",
    "\n",
    "$$ \\large dQ = dU + pdV = \\frac{3}{2}nRdT + nRdT $$\n",
    "\n",
    "$$ \\large \\Rightarrow C_P = \\left( \\frac{dQ}{dT} \\right) = \\frac{5}{2} nR $$"
   ]
  },
  {
   "cell_type": "markdown",
   "id": "667a85d9",
   "metadata": {},
   "source": [
    "## Relationship between $C_P$ and $C_V$\n",
    "\n",
    "$$ \\large C_V < C_P $$\n",
    "\n",
    "\n",
    "### Related Problems\n",
    "- GRE Physics GR0877: Problem 034"
   ]
  }
 ],
 "metadata": {
  "kernelspec": {
   "display_name": "Python 3 (ipykernel)",
   "language": "python",
   "name": "python3"
  },
  "language_info": {
   "codemirror_mode": {
    "name": "ipython",
    "version": 3
   },
   "file_extension": ".py",
   "mimetype": "text/x-python",
   "name": "python",
   "nbconvert_exporter": "python",
   "pygments_lexer": "ipython3",
   "version": "3.8.2"
  }
 },
 "nbformat": 4,
 "nbformat_minor": 5
}
