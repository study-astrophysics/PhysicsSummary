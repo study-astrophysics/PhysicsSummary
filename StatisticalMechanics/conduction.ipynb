{
 "cells": [
  {
   "cell_type": "markdown",
   "id": "b4594f1f",
   "metadata": {},
   "source": [
    "# [Conduction](https://study-astrophysics.com/conduction/)"
   ]
  },
  {
   "cell_type": "markdown",
   "id": "87d89585",
   "metadata": {},
   "source": [
    "---"
   ]
  },
  {
   "cell_type": "markdown",
   "id": "43e5e289",
   "metadata": {},
   "source": [
    "## Conduction Rate\n",
    "\n",
    "\n",
    "$$ \\large H \\ = \\ \\frac{\\Delta Q}{\\Delta t} \\ = -k A \\frac{T_2 - T_1}{L} $$\n",
    "\n",
    "\n",
    "$$ $$\n",
    "\n",
    "\n",
    "$$ \\large \\frac{dQ}{dt} \\ = \\ -kA \\frac{dT}{dx}  $$\n",
    "\n",
    "\n",
    "\n",
    "where\n",
    "\n",
    "\n",
    "\n",
    "- $A$: area\n",
    "\n",
    "\n",
    "- $k$: constant"
   ]
  }
 ],
 "metadata": {
  "kernelspec": {
   "display_name": "Python 3 (ipykernel)",
   "language": "python",
   "name": "python3"
  },
  "language_info": {
   "codemirror_mode": {
    "name": "ipython",
    "version": 3
   },
   "file_extension": ".py",
   "mimetype": "text/x-python",
   "name": "python",
   "nbconvert_exporter": "python",
   "pygments_lexer": "ipython3",
   "version": "3.9.7"
  }
 },
 "nbformat": 4,
 "nbformat_minor": 5
}
