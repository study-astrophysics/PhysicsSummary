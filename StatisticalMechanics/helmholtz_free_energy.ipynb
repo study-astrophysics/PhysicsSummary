{
 "cells": [
  {
   "cell_type": "markdown",
   "id": "769b3fed",
   "metadata": {},
   "source": [
    "# Helmholtz Free Energy"
   ]
  },
  {
   "cell_type": "markdown",
   "id": "0b4fee9c",
   "metadata": {},
   "source": [
    "---"
   ]
  },
  {
   "cell_type": "markdown",
   "id": "dfb04e9e",
   "metadata": {},
   "source": [
    "## Definition\n",
    "\n",
    "\n",
    "The Helmholtz free energy (or Helmholtz energy) is a thermodynamic potential that measures the useful work obtainable from a closed thermodynamic system at a constant temperature (**isothermal**).\n",
    "\n",
    "\n",
    "The helmholtz free energy can be defined as\n",
    "\n",
    "\n",
    "$$ \\large F \\ = \\ U - TS $$\n",
    "\n",
    "\n",
    "where\n",
    "\n",
    "\n",
    "- $U$: internal energy of the system\n",
    "\n",
    "\n",
    "- $T$: temperature of surroundings\n",
    "\n",
    "\n",
    "- $S$: entropy of the system"
   ]
  },
  {
   "cell_type": "markdown",
   "id": "66f36210",
   "metadata": {},
   "source": [
    "---"
   ]
  },
  {
   "cell_type": "markdown",
   "id": "970f71cb",
   "metadata": {},
   "source": [
    "The change in the Helmholtz energy during a process is equal to the maximum amount of work that the system can perform in a thermodynamic process in which temperature is held constant. At constant temperature, the Helmholtz free energy is minimized at equilibrium."
   ]
  }
 ],
 "metadata": {
  "kernelspec": {
   "display_name": "Python 3 (ipykernel)",
   "language": "python",
   "name": "python3"
  },
  "language_info": {
   "codemirror_mode": {
    "name": "ipython",
    "version": 3
   },
   "file_extension": ".py",
   "mimetype": "text/x-python",
   "name": "python",
   "nbconvert_exporter": "python",
   "pygments_lexer": "ipython3",
   "version": "3.8.2"
  }
 },
 "nbformat": 4,
 "nbformat_minor": 5
}
