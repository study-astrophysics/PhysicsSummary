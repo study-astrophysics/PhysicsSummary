{
 "cells": [
  {
   "cell_type": "markdown",
   "id": "c72d2b82",
   "metadata": {},
   "source": [
    "# [Entropy](https://study-astrophysics.com/entropy/)"
   ]
  },
  {
   "cell_type": "markdown",
   "id": "03c7b796",
   "metadata": {},
   "source": [
    "---"
   ]
  },
  {
   "cell_type": "markdown",
   "id": "2b65d6db",
   "metadata": {},
   "source": [
    "## Change in Entropy\n",
    "\n",
    "\n",
    "$$ \\large \\Delta S \\ = \\ \\int^f_i \\frac{dQ}{T} $$\n",
    "\n",
    "\n",
    "where\n",
    "\n",
    "\n",
    "- $\\Delta S$: change in entropy\n",
    "\n",
    "\n",
    "- $Q$: heat\n",
    "\n",
    "\n",
    "- $T$: temperture\n",
    "\n",
    "\n",
    "\n",
    "### Related Problems\n",
    "- GRE Physics GR1777 Problem [058](https://study-astrophysics.com/gr1777-058/)"
   ]
  },
  {
   "cell_type": "markdown",
   "id": "6dc8cd6b",
   "metadata": {},
   "source": [
    "---"
   ]
  },
  {
   "cell_type": "markdown",
   "id": "e92d159b",
   "metadata": {},
   "source": [
    "## For any Reversible Process\n",
    "\n",
    "\n",
    "$$ \\large dQ \\ = \\ T dS $$"
   ]
  },
  {
   "cell_type": "markdown",
   "id": "e129c367",
   "metadata": {},
   "source": [
    "---"
   ]
  },
  {
   "cell_type": "markdown",
   "id": "99cc0d8e",
   "metadata": {},
   "source": [
    "## For an Isothermal Process\n",
    "\n",
    "\n",
    "$$ \\large \\Delta S \\ = \\ nR \\ln \\left( \\frac{V_f}{V_i} \\right) $$"
   ]
  },
  {
   "cell_type": "markdown",
   "id": "c20ca7f4",
   "metadata": {},
   "source": [
    "---"
   ]
  },
  {
   "cell_type": "markdown",
   "id": "f38fe6a5",
   "metadata": {},
   "source": [
    "## In General\n",
    "\n",
    "\n",
    "$$ \\large \\frac{dQ}{T} \\le dS $$\n",
    "\n",
    "\n",
    "The equality holds if and only if the process is reversible."
   ]
  },
  {
   "cell_type": "markdown",
   "id": "24970eb1",
   "metadata": {},
   "source": [
    "---"
   ]
  },
  {
   "cell_type": "markdown",
   "id": "40a3207b",
   "metadata": {},
   "source": [
    "$$ \\large S \\ = \\ k_B \\ln \\Omega $$\n",
    "\n",
    "\n",
    "where\n",
    "\n",
    "\n",
    "- $k_B$: Boltzmann constant\n",
    "\n",
    "\n",
    "- $\\Omega$: thermodynamic probability (number of microstates)"
   ]
  },
  {
   "cell_type": "markdown",
   "id": "44724083",
   "metadata": {},
   "source": [
    "---"
   ]
  },
  {
   "cell_type": "markdown",
   "id": "1cff5863",
   "metadata": {},
   "source": [
    "$$ \\large S \\ = \\ \\frac{\\partial}{\\partial T} (T k_B \\ln Z) $$\n",
    "\n",
    "\n",
    "where\n",
    "\n",
    "\n",
    "- $Z$: partition function"
   ]
  },
  {
   "cell_type": "markdown",
   "id": "317c18c8",
   "metadata": {},
   "source": [
    "---"
   ]
  },
  {
   "cell_type": "markdown",
   "id": "49e7765a",
   "metadata": {},
   "source": [
    "## For a Thermally Isolated System\n",
    "\n",
    "\n",
    "$$ \\large \\Delta S \\ge 0 $$\n",
    "\n",
    "\n",
    "The equality holds if and only if the process is reversible."
   ]
  },
  {
   "cell_type": "markdown",
   "id": "b9c254ed",
   "metadata": {},
   "source": [
    "---"
   ]
  },
  {
   "cell_type": "markdown",
   "id": "2cdfbb15",
   "metadata": {},
   "source": [
    "## The Laws of Thermodynamics\n",
    "\n",
    "\n",
    "For a reversible process, the first law of thermodynamics becomes\n",
    "\n",
    "\n",
    "$$ \\large TdS \\ = \\ dU + PdV $$\n",
    "\n",
    "\n",
    "Thus, the heat capacities in terms of the entropy are\n",
    "\n",
    "\n",
    "\n",
    "$$ \\large C_V \\ = \\ T \\left( \\frac{\\partial S}{\\partial T} \\right)_V $$\n",
    "\n",
    "\n",
    "$$ \\large C_P \\ = \\ T \\left( \\frac{\\partial S}{\\partial T} \\right)_P $$\n"
   ]
  }
 ],
 "metadata": {
  "kernelspec": {
   "display_name": "Python 3 (ipykernel)",
   "language": "python",
   "name": "python3"
  },
  "language_info": {
   "codemirror_mode": {
    "name": "ipython",
    "version": 3
   },
   "file_extension": ".py",
   "mimetype": "text/x-python",
   "name": "python",
   "nbconvert_exporter": "python",
   "pygments_lexer": "ipython3",
   "version": "3.8.13"
  }
 },
 "nbformat": 4,
 "nbformat_minor": 5
}
