{
 "cells": [
  {
   "cell_type": "markdown",
   "id": "f3df9d2c",
   "metadata": {},
   "source": [
    "# Entropy"
   ]
  },
  {
   "cell_type": "markdown",
   "id": "6eb5d6cc",
   "metadata": {},
   "source": [
    "---"
   ]
  },
  {
   "cell_type": "markdown",
   "id": "d34c8801",
   "metadata": {},
   "source": [
    "## Change in Entropy\n",
    "\n",
    "\n",
    "$$ \\large \\Delta S \\ = \\ \\int^f_i \\frac{dQ}{T} $$\n",
    "\n",
    "\n",
    "where\n",
    "\n",
    "\n",
    "- $\\Delta S$: change in entropy\n",
    "\n",
    "\n",
    "- $Q$: heat\n",
    "\n",
    "\n",
    "- $T$: temperture"
   ]
  },
  {
   "cell_type": "markdown",
   "id": "d3dff0b5",
   "metadata": {},
   "source": [
    "---"
   ]
  },
  {
   "cell_type": "markdown",
   "id": "ad473999",
   "metadata": {},
   "source": [
    "## For any Reversible Process\n",
    "\n",
    "\n",
    "$$ \\large dQ \\ = \\ T dS $$"
   ]
  },
  {
   "cell_type": "markdown",
   "id": "424c6180",
   "metadata": {},
   "source": [
    "---"
   ]
  },
  {
   "cell_type": "markdown",
   "id": "0f38eff0",
   "metadata": {},
   "source": [
    "## For an Isothermal Process\n",
    "\n",
    "\n",
    "$$ \\large \\Delta S \\ = \\ nR \\ln \\left( \\frac{V_f}{V_i} \\right) $$"
   ]
  },
  {
   "cell_type": "markdown",
   "id": "433107f1",
   "metadata": {},
   "source": [
    "---"
   ]
  },
  {
   "cell_type": "markdown",
   "id": "cb9e1bcb",
   "metadata": {},
   "source": [
    "## In General\n",
    "\n",
    "\n",
    "$$ \\large \\frac{dQ}{T} \\le dS $$\n",
    "\n",
    "\n",
    "The equality holds if and only if the process is reversible."
   ]
  },
  {
   "cell_type": "markdown",
   "id": "36d54361",
   "metadata": {},
   "source": [
    "---"
   ]
  },
  {
   "cell_type": "markdown",
   "id": "cb17b954",
   "metadata": {},
   "source": [
    "$$ \\large S \\ = \\ k_B \\ln \\Omega $$\n",
    "\n",
    "\n",
    "where\n",
    "\n",
    "\n",
    "- $k_B$: Boltzmann constant\n",
    "\n",
    "\n",
    "- $\\Omega$: thermodynamic probability (number of microstates)"
   ]
  },
  {
   "cell_type": "markdown",
   "id": "3cdaf954",
   "metadata": {},
   "source": [
    "---"
   ]
  },
  {
   "cell_type": "markdown",
   "id": "92021fc2",
   "metadata": {},
   "source": [
    "## For a Thermally Isolated System\n",
    "\n",
    "\n",
    "$$ \\large \\Delta S \\ge 0 $$\n",
    "\n",
    "\n",
    "The equality holds if and only if the process is reversible."
   ]
  },
  {
   "cell_type": "markdown",
   "id": "67f84d17",
   "metadata": {},
   "source": [
    "---"
   ]
  },
  {
   "cell_type": "markdown",
   "id": "c39bb375",
   "metadata": {},
   "source": [
    "## The Laws of Thermodynamics\n",
    "\n",
    "\n",
    "For a reversible process, the first law of thermodynamics becomes\n",
    "\n",
    "\n",
    "$$ \\large TdS \\ = \\ dU + PdV $$\n",
    "\n",
    "\n",
    "Thus, the heat capacities in terms of the entropy are\n",
    "\n",
    "\n",
    "\n",
    "$$ \\large C_V \\ = \\ T \\left( \\frac{\\partial S}{\\partial T} \\right)_V $$\n",
    "\n",
    "\n",
    "$$ \\large C_P \\ = \\ T \\left( \\frac{\\partial S}{\\partial T} \\right)_P $$"
   ]
  }
 ],
 "metadata": {
  "kernelspec": {
   "display_name": "Python 3 (ipykernel)",
   "language": "python",
   "name": "python3"
  },
  "language_info": {
   "codemirror_mode": {
    "name": "ipython",
    "version": 3
   },
   "file_extension": ".py",
   "mimetype": "text/x-python",
   "name": "python",
   "nbconvert_exporter": "python",
   "pygments_lexer": "ipython3",
   "version": "3.9.7"
  }
 },
 "nbformat": 4,
 "nbformat_minor": 5
}
