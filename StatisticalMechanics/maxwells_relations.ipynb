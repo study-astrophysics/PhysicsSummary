{
 "cells": [
  {
   "cell_type": "markdown",
   "id": "78edc09b",
   "metadata": {},
   "source": [
    "# [Maxwell's Relations](https://study-astrophysics.com/maxwells-relations)"
   ]
  },
  {
   "cell_type": "markdown",
   "id": "1333f5ef",
   "metadata": {},
   "source": [
    "---"
   ]
  },
  {
   "cell_type": "markdown",
   "id": "b81af2e6",
   "metadata": {},
   "source": [
    "## Maxwell's Relations\n",
    "\n",
    "\n",
    "$$ \\large \\left( \\frac{\\partial V}{\\partial S} \\right)_P = \\left( \\frac{\\partial T}{\\partial P}\\right)_S $$\n",
    "\n",
    "\n",
    "$$ \\large \\left( \\frac{\\partial S}{\\partial V} \\right)_T = \\left( \\frac{\\partial P}{\\partial T}\\right)_V $$\n",
    "\n",
    "\n",
    "$$ \\large - \\left( \\frac{\\partial S}{\\partial P} \\right)_T = \\left( \\frac{\\partial V}{\\partial T}\\right)_P $$\n",
    "\n",
    "\n",
    "$$ \\large - \\left( \\frac{\\partial T}{\\partial V} \\right)_S = \\left( \\frac{\\partial P}{\\partial S}\\right)_V $$"
   ]
  }
 ],
 "metadata": {
  "kernelspec": {
   "display_name": "Python 3 (ipykernel)",
   "language": "python",
   "name": "python3"
  },
  "language_info": {
   "codemirror_mode": {
    "name": "ipython",
    "version": 3
   },
   "file_extension": ".py",
   "mimetype": "text/x-python",
   "name": "python",
   "nbconvert_exporter": "python",
   "pygments_lexer": "ipython3",
   "version": "3.9.7"
  }
 },
 "nbformat": 4,
 "nbformat_minor": 5
}
