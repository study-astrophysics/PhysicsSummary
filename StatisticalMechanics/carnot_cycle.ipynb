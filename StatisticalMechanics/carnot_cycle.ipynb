{
 "cells": [
  {
   "cell_type": "markdown",
   "id": "fe941d33",
   "metadata": {},
   "source": [
    "# [Carnot Cycle](https://study-astrophysics.com/carnot-cycle/)"
   ]
  },
  {
   "cell_type": "markdown",
   "id": "46987238",
   "metadata": {},
   "source": [
    "---"
   ]
  },
  {
   "cell_type": "markdown",
   "id": "673aa1d2",
   "metadata": {},
   "source": [
    "## Carnot Engine\n",
    "\n",
    "\n",
    "The most efficient engine between any two reservoirs."
   ]
  },
  {
   "cell_type": "markdown",
   "id": "abe0aef6",
   "metadata": {},
   "source": [
    "---"
   ]
  },
  {
   "cell_type": "markdown",
   "id": "17b1d0da",
   "metadata": {},
   "source": [
    "## Efficiency\n",
    "\n",
    "$$ \\large \\eta \\ = \\ \\frac{W}{Q_H} \\ = \\ 1 - \\frac{Q_C}{Q_H} \\ = \\ 1 - \\frac{T_C}{T_H} $$ \n",
    "\n",
    "\n",
    "### Related Problems\n",
    "- GRE Physics GR0877: Problem 035"
   ]
  }
 ],
 "metadata": {
  "kernelspec": {
   "display_name": "Python 3 (ipykernel)",
   "language": "python",
   "name": "python3"
  },
  "language_info": {
   "codemirror_mode": {
    "name": "ipython",
    "version": 3
   },
   "file_extension": ".py",
   "mimetype": "text/x-python",
   "name": "python",
   "nbconvert_exporter": "python",
   "pygments_lexer": "ipython3",
   "version": "3.9.7"
  }
 },
 "nbformat": 4,
 "nbformat_minor": 5
}
