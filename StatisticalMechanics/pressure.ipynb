{
 "cells": [
  {
   "cell_type": "markdown",
   "id": "d8e038b0",
   "metadata": {},
   "source": [
    "# [Pressure](https://study-astrophysics.com/pressure/)"
   ]
  },
  {
   "cell_type": "markdown",
   "id": "5a939ccf",
   "metadata": {},
   "source": [
    "---"
   ]
  },
  {
   "cell_type": "markdown",
   "id": "4f932a14",
   "metadata": {},
   "source": [
    "## Pressure of the Ideal Gas\n",
    "\n",
    "\n",
    "The pressure exerted by N molecules of an ideal gas is\n",
    "\n",
    "\n",
    "$$ \\large P \\ = \\ \\frac{2}{3} \\frac{N}{V} \\left( \\frac{1}{2}m \\bar{v}^2 \\right) $$"
   ]
  },
  {
   "cell_type": "markdown",
   "id": "cd7b2af0",
   "metadata": {},
   "source": [
    "---"
   ]
  },
  {
   "cell_type": "markdown",
   "id": "1c423c75",
   "metadata": {},
   "source": [
    "## In General\n",
    "\n",
    "\n",
    "$$ \\large P \\ = \\ k_B T \\ln Z $$\n",
    "\n",
    "\n",
    "where\n",
    "\n",
    "\n",
    "- $Z$: partition function"
   ]
  }
 ],
 "metadata": {
  "kernelspec": {
   "display_name": "Python 3 (ipykernel)",
   "language": "python",
   "name": "python3"
  },
  "language_info": {
   "codemirror_mode": {
    "name": "ipython",
    "version": 3
   },
   "file_extension": ".py",
   "mimetype": "text/x-python",
   "name": "python",
   "nbconvert_exporter": "python",
   "pygments_lexer": "ipython3",
   "version": "3.9.7"
  }
 },
 "nbformat": 4,
 "nbformat_minor": 5
}
