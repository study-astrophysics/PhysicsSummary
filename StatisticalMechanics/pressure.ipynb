{
 "cells": [
  {
   "cell_type": "markdown",
   "id": "978d055d",
   "metadata": {},
   "source": [
    "# Pressure"
   ]
  },
  {
   "cell_type": "markdown",
   "id": "3c6e589a",
   "metadata": {},
   "source": [
    "---"
   ]
  },
  {
   "cell_type": "markdown",
   "id": "74358641",
   "metadata": {},
   "source": [
    "## Pressure of the Ideal Gas\n",
    "\n",
    "\n",
    "The pressure exerted by N molecules of an ideal gas is\n",
    "\n",
    "\n",
    "$$ \\large P \\ = \\ \\frac{2}{3} \\frac{N}{V} \\left( \\frac{1}{2}m \\bar{v}^2 \\right) $$"
   ]
  },
  {
   "cell_type": "markdown",
   "id": "eaed558b",
   "metadata": {},
   "source": [
    "---"
   ]
  },
  {
   "cell_type": "markdown",
   "id": "6b0d0183",
   "metadata": {},
   "source": [
    "## In General\n",
    "\n",
    "\n",
    "$$ \\large P \\ = \\ k_B T \\ln Z $$\n",
    "\n",
    "\n",
    "where\n",
    "\n",
    "\n",
    "- $Z$: partition function"
   ]
  }
 ],
 "metadata": {
  "kernelspec": {
   "display_name": "Python 3 (ipykernel)",
   "language": "python",
   "name": "python3"
  },
  "language_info": {
   "codemirror_mode": {
    "name": "ipython",
    "version": 3
   },
   "file_extension": ".py",
   "mimetype": "text/x-python",
   "name": "python",
   "nbconvert_exporter": "python",
   "pygments_lexer": "ipython3",
   "version": "3.8.2"
  }
 },
 "nbformat": 4,
 "nbformat_minor": 5
}
