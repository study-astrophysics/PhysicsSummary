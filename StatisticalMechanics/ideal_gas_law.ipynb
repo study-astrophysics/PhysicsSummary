{
 "cells": [
  {
   "cell_type": "markdown",
   "id": "513a70fc",
   "metadata": {},
   "source": [
    "# Ideal Gas Law"
   ]
  },
  {
   "cell_type": "markdown",
   "id": "1e98b161",
   "metadata": {},
   "source": [
    "---"
   ]
  },
  {
   "cell_type": "markdown",
   "id": "5c245481",
   "metadata": {},
   "source": [
    "## Ideal Gas Law\n",
    "\n",
    "\n",
    "$$ \\large PV \\ = \\ nRT \\ = \\ n k_B T $$\n",
    "\n",
    "\n",
    "where\n",
    "\n",
    "\n",
    "- $P$: pressure\n",
    "\n",
    "\n",
    "- $V$: volume\n",
    "\n",
    "\n",
    "- $n$: amount of substance\n",
    "\n",
    "\n",
    "- $R$: ideal gas constant\n",
    "\n",
    "\n",
    "- $T$: temperature\n",
    "\n",
    "\n",
    "- $k_B$: Boltzmann constant"
   ]
  }
 ],
 "metadata": {
  "kernelspec": {
   "display_name": "Python 3 (ipykernel)",
   "language": "python",
   "name": "python3"
  },
  "language_info": {
   "codemirror_mode": {
    "name": "ipython",
    "version": 3
   },
   "file_extension": ".py",
   "mimetype": "text/x-python",
   "name": "python",
   "nbconvert_exporter": "python",
   "pygments_lexer": "ipython3",
   "version": "3.9.7"
  }
 },
 "nbformat": 4,
 "nbformat_minor": 5
}
