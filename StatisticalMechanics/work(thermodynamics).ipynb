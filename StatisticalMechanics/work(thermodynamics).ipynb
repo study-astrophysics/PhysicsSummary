{
 "cells": [
  {
   "cell_type": "markdown",
   "id": "e3a0a901",
   "metadata": {},
   "source": [
    "# [Work (Thermodynamics)](https://study-astrophysics.com/work-thermodynamics/)"
   ]
  },
  {
   "cell_type": "markdown",
   "id": "8f40b109",
   "metadata": {},
   "source": [
    "---"
   ]
  },
  {
   "cell_type": "markdown",
   "id": "376b7123",
   "metadata": {},
   "source": [
    "## Work\n",
    "\n",
    "\n",
    "$$ \\large dW = -P dV $$\n",
    "\n",
    "\n",
    "where\n",
    "\n",
    "\n",
    "- $dW$: change in work\n",
    "\n",
    "\n",
    "- $P$: pressure\n",
    "\n",
    "\n",
    "- $dV$: change in volume"
   ]
  },
  {
   "cell_type": "markdown",
   "id": "b63f59bb",
   "metadata": {},
   "source": [
    "---"
   ]
  },
  {
   "cell_type": "markdown",
   "id": "d3318aae",
   "metadata": {},
   "source": [
    "## Total Work (done on a system)\n",
    "\n",
    "\n",
    "$$ \\large W = - \\int^{V_2}_{V_1} P dV $$\n",
    "\n",
    "\n",
    "where\n",
    "\n",
    "\n",
    "- $V_1$ and $V_2$: initial and final volume"
   ]
  }
 ],
 "metadata": {
  "kernelspec": {
   "display_name": "Python 3 (ipykernel)",
   "language": "python",
   "name": "python3"
  },
  "language_info": {
   "codemirror_mode": {
    "name": "ipython",
    "version": 3
   },
   "file_extension": ".py",
   "mimetype": "text/x-python",
   "name": "python",
   "nbconvert_exporter": "python",
   "pygments_lexer": "ipython3",
   "version": "3.9.7"
  }
 },
 "nbformat": 4,
 "nbformat_minor": 5
}
