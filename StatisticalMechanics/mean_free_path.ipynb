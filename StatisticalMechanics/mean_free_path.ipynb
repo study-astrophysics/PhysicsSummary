{
 "cells": [
  {
   "cell_type": "markdown",
   "id": "10368876",
   "metadata": {},
   "source": [
    "# Mean Free Path"
   ]
  },
  {
   "cell_type": "markdown",
   "id": "8968c841",
   "metadata": {},
   "source": [
    "---"
   ]
  },
  {
   "cell_type": "markdown",
   "id": "db63de25",
   "metadata": {},
   "source": [
    "## Definition\n",
    "\n",
    "\n",
    "Mean free path is the average distance over which a moving particle travels before substantially changing its direction or energy, typically as a result of one or more successive collisions with other particles."
   ]
  },
  {
   "cell_type": "markdown",
   "id": "000cf8bc",
   "metadata": {},
   "source": [
    "---"
   ]
  },
  {
   "cell_type": "markdown",
   "id": "2e45c90b",
   "metadata": {},
   "source": [
    "## Mean Free Path of Gas Molecules\n",
    "\n",
    "\n",
    "The mean free path of gas molecules $l$ is\n",
    "\n",
    "\n",
    "$$ \\large l \\ = \\ \\frac{1}{\\sqrt{2} \\pi d^2 n } \\ = \\ \\frac {k_B T}{{\\sqrt {2}}\\pi d^{2} P}$$\n",
    "\n",
    "\n",
    "where\n",
    "\n",
    "\n",
    "- $d$: diameter of the gas\n",
    "\n",
    "\n",
    "- $n = N/V$: number density\n",
    "\n",
    "\n",
    "- $k_B$: Boltzmann constant\n",
    "\n",
    "\n",
    "- $T$: absolute temperature\n",
    "\n",
    "\n",
    "- $P$: pressure of the gas"
   ]
  }
 ],
 "metadata": {
  "kernelspec": {
   "display_name": "Python 3 (ipykernel)",
   "language": "python",
   "name": "python3"
  },
  "language_info": {
   "codemirror_mode": {
    "name": "ipython",
    "version": 3
   },
   "file_extension": ".py",
   "mimetype": "text/x-python",
   "name": "python",
   "nbconvert_exporter": "python",
   "pygments_lexer": "ipython3",
   "version": "3.8.2"
  }
 },
 "nbformat": 4,
 "nbformat_minor": 5
}
