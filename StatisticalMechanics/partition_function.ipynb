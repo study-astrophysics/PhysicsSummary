{
 "cells": [
  {
   "cell_type": "markdown",
   "id": "7c519778",
   "metadata": {},
   "source": [
    "# [Partition Function](https://study-astrophysics.com/partition-function/)"
   ]
  },
  {
   "cell_type": "markdown",
   "id": "1efbe949",
   "metadata": {},
   "source": [
    "---"
   ]
  },
  {
   "cell_type": "markdown",
   "id": "6023ef54",
   "metadata": {},
   "source": [
    "## Definition\n",
    "\n",
    "A partition function describes the statistical properties of a system in thermodynamic equilibrium. Partition functions are functions of the thermodynamic state variables, such as the temperature and volume. \n",
    "\n",
    "\n",
    "For a canonical ensemble that is classical and discrete, the canonical partition function is defined as\n",
    "\n",
    "\n",
    "$$ \\large Z \\ =\\ \\sum_{i} e^{-\\beta E_i} $$\n",
    "\n",
    "\n",
    "where\n",
    "\n",
    "\n",
    "- $i$: index for the microstate of the system\n",
    "\n",
    "\n",
    "- $\\beta$: thermodynamic beta, defined as $ \\tfrac {1}{k_B T}$ \n",
    "\n",
    "\n",
    "- $E_i$: total energy of the system in the respective microstate"
   ]
  },
  {
   "cell_type": "markdown",
   "id": "7f3195e8",
   "metadata": {},
   "source": [
    "---"
   ]
  },
  {
   "cell_type": "markdown",
   "id": "dd5fee34",
   "metadata": {},
   "source": [
    "## Probability \n",
    "\n",
    "\n",
    "The probability $P_s$ that the system occupies microstate s is\n",
    "\n",
    "$$ \\large P_s \\ = \\ \\frac{1}{Z} e^{- \\beta E_s} $$"
   ]
  },
  {
   "cell_type": "markdown",
   "id": "9f6a5e37",
   "metadata": {},
   "source": [
    "---"
   ]
  },
  {
   "cell_type": "markdown",
   "id": "00d9b00f",
   "metadata": {},
   "source": [
    "## Pressure\n",
    "\n",
    "\n",
    "$$ \\large P \\ = \\ k_B T \\ln Z $$\n",
    "\n",
    "\n",
    "where\n",
    "\n",
    "\n",
    "- $Z$: partition function"
   ]
  },
  {
   "cell_type": "markdown",
   "id": "d8e32583",
   "metadata": {},
   "source": [
    "---"
   ]
  },
  {
   "cell_type": "markdown",
   "id": "d09b1b54",
   "metadata": {},
   "source": [
    "## Entropy\n",
    "\n",
    "\n",
    "$$ \\large S \\ = \\ \\frac{\\partial}{\\partial T} (T k_B \\ln Z) $$\n",
    "\n",
    "\n",
    "where\n",
    "\n",
    "\n",
    "- $Z$: partition function"
   ]
  }
 ],
 "metadata": {
  "kernelspec": {
   "display_name": "Python 3 (ipykernel)",
   "language": "python",
   "name": "python3"
  },
  "language_info": {
   "codemirror_mode": {
    "name": "ipython",
    "version": 3
   },
   "file_extension": ".py",
   "mimetype": "text/x-python",
   "name": "python",
   "nbconvert_exporter": "python",
   "pygments_lexer": "ipython3",
   "version": "3.9.7"
  }
 },
 "nbformat": 4,
 "nbformat_minor": 5
}
