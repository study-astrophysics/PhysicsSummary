{
 "cells": [
  {
   "cell_type": "markdown",
   "id": "a4a80575",
   "metadata": {},
   "source": [
    "# Maxwell-Boltzmann Distribution"
   ]
  },
  {
   "cell_type": "markdown",
   "id": "52aee33e",
   "metadata": {},
   "source": [
    "## Maxwell-Boltzmann Distribution Equation\n",
    "\n",
    "$$ \\large \\frac{N_i}{N} = \\frac{e^{-E_i/kT}}{\\sum_j e^{-E_j/kT}} $$"
   ]
  },
  {
   "cell_type": "markdown",
   "id": "86b9b176",
   "metadata": {},
   "source": [
    "## Partition Function in Maxwell-Boltzmann Distribution\n",
    "\n",
    "$$ \\large Z = \\sum_i g_i e^{-E_i/kT} $$"
   ]
  }
 ],
 "metadata": {
  "kernelspec": {
   "display_name": "Python 3 (ipykernel)",
   "language": "python",
   "name": "python3"
  },
  "language_info": {
   "codemirror_mode": {
    "name": "ipython",
    "version": 3
   },
   "file_extension": ".py",
   "mimetype": "text/x-python",
   "name": "python",
   "nbconvert_exporter": "python",
   "pygments_lexer": "ipython3",
   "version": "3.8.2"
  }
 },
 "nbformat": 4,
 "nbformat_minor": 5
}
