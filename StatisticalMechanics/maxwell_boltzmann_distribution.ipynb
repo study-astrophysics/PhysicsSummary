{
 "cells": [
  {
   "cell_type": "markdown",
   "id": "a4a80575",
   "metadata": {},
   "source": [
    "# [Maxwell-Boltzmann Distribution](https://study-astrophysics.com/maxwell-boltzmann-distribution/)"
   ]
  },
  {
   "cell_type": "markdown",
   "id": "e0888790",
   "metadata": {},
   "source": [
    "---"
   ]
  },
  {
   "cell_type": "markdown",
   "id": "85769778",
   "metadata": {},
   "source": [
    "## Probability Density $f(E)$\n",
    "\n",
    "\n",
    "$$ \\large f(E_i) = e^{-\\frac{E_i}{kT}} $$"
   ]
  },
  {
   "cell_type": "markdown",
   "id": "11168eb0",
   "metadata": {},
   "source": [
    "---"
   ]
  },
  {
   "cell_type": "markdown",
   "id": "52aee33e",
   "metadata": {},
   "source": [
    "## Maxwell-Boltzmann Distribution Equation\n",
    "\n",
    "$$ \\large \\frac{N_i}{N} = \\frac{e^{-E_i/kT}}{\\sum_j e^{-E_j/kT}} $$"
   ]
  },
  {
   "cell_type": "markdown",
   "id": "79cd6fa8",
   "metadata": {},
   "source": [
    "---"
   ]
  },
  {
   "cell_type": "markdown",
   "id": "86b9b176",
   "metadata": {},
   "source": [
    "## Partition Function in Maxwell-Boltzmann Distribution\n",
    "\n",
    "$$ \\large Z = \\sum_i g_i e^{-E_i/kT} $$"
   ]
  },
  {
   "cell_type": "markdown",
   "id": "280e0b6b",
   "metadata": {},
   "source": [
    "---"
   ]
  },
  {
   "cell_type": "markdown",
   "id": "173e20ad",
   "metadata": {},
   "source": [
    "## Properties\n",
    "\n",
    "\n",
    "- The average velocity of the atoms is zero.\n",
    "\n",
    "\n",
    "- The distribution of the speeds of the atoms has a maximum at $v = \\sqrt{\\frac{2RT}{M}}$\n",
    "\n",
    "\n",
    "- The probability of finding an atom with zero kinetic energy is zero.\n",
    "\n",
    "\n",
    "### Related Problems\n",
    "- GRE Physics GR1777 Problem [057](https://study-astrophysics.com/gr1777-057/)"
   ]
  }
 ],
 "metadata": {
  "kernelspec": {
   "display_name": "Python 3 (ipykernel)",
   "language": "python",
   "name": "python3"
  },
  "language_info": {
   "codemirror_mode": {
    "name": "ipython",
    "version": 3
   },
   "file_extension": ".py",
   "mimetype": "text/x-python",
   "name": "python",
   "nbconvert_exporter": "python",
   "pygments_lexer": "ipython3",
   "version": "3.8.13"
  }
 },
 "nbformat": 4,
 "nbformat_minor": 5
}
