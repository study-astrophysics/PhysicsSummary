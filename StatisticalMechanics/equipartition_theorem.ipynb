{
 "cells": [
  {
   "cell_type": "markdown",
   "id": "b39317e1",
   "metadata": {},
   "source": [
    "# Equipartition Theorem"
   ]
  },
  {
   "cell_type": "markdown",
   "id": "806c9656",
   "metadata": {},
   "source": [
    "---"
   ]
  },
  {
   "cell_type": "markdown",
   "id": "b63b023f",
   "metadata": {},
   "source": [
    "## Equipartition Theorem\n",
    "\n",
    "\n",
    "Molecules in thermal equilibrium have the same average energy associated with each independent degree of freedom of their motion and that the energy is\n",
    "\n",
    "\n",
    "$$\\large \\frac{1}{2} kT$$"
   ]
  },
  {
   "cell_type": "markdown",
   "id": "7517c88f",
   "metadata": {},
   "source": [
    "---"
   ]
  },
  {
   "cell_type": "markdown",
   "id": "4e7ae573",
   "metadata": {},
   "source": [
    "## Related Topics\n",
    "\n",
    "\n",
    "### [Degree of Freedom](https://study-astrophysics.com/degree-of-freedom/)\n",
    "\n",
    "\n",
    "### Kinetic Theory"
   ]
  }
 ],
 "metadata": {
  "kernelspec": {
   "display_name": "Python 3 (ipykernel)",
   "language": "python",
   "name": "python3"
  },
  "language_info": {
   "codemirror_mode": {
    "name": "ipython",
    "version": 3
   },
   "file_extension": ".py",
   "mimetype": "text/x-python",
   "name": "python",
   "nbconvert_exporter": "python",
   "pygments_lexer": "ipython3",
   "version": "3.9.7"
  }
 },
 "nbformat": 4,
 "nbformat_minor": 5
}
