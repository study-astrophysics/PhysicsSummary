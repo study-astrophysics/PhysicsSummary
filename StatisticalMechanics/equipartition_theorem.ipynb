{
 "cells": [
  {
   "cell_type": "markdown",
   "id": "32b69b48",
   "metadata": {},
   "source": [
    "# [Equipartition Theorem](https://study-astrophysics.com/equipartition-theorem/)"
   ]
  },
  {
   "cell_type": "markdown",
   "id": "487ac68b",
   "metadata": {},
   "source": [
    "---"
   ]
  },
  {
   "cell_type": "markdown",
   "id": "27a784d4",
   "metadata": {},
   "source": [
    "## Equipartition Theorem\n",
    "\n",
    "\n",
    "Molecules in thermal equilibrium have the same average energy associated with each independent degree of freedom of their motion and that the energy is\n",
    "\n",
    "\n",
    "$$\\large \\frac{1}{2} kT$$"
   ]
  },
  {
   "cell_type": "markdown",
   "id": "15c40381",
   "metadata": {},
   "source": [
    "---"
   ]
  },
  {
   "cell_type": "markdown",
   "id": "32870e5d",
   "metadata": {},
   "source": [
    "## Related Topics\n",
    "\n",
    "\n",
    "### [Degree of Freedom](https://study-astrophysics.com/degree-of-freedom/)\n",
    "\n",
    "\n",
    "### [Kinetic Theory](https://study-astrophysics.com/kinetic-theory/)"
   ]
  }
 ],
 "metadata": {
  "kernelspec": {
   "display_name": "Python 3 (ipykernel)",
   "language": "python",
   "name": "python3"
  },
  "language_info": {
   "codemirror_mode": {
    "name": "ipython",
    "version": 3
   },
   "file_extension": ".py",
   "mimetype": "text/x-python",
   "name": "python",
   "nbconvert_exporter": "python",
   "pygments_lexer": "ipython3",
   "version": "3.9.7"
  }
 },
 "nbformat": 4,
 "nbformat_minor": 5
}
