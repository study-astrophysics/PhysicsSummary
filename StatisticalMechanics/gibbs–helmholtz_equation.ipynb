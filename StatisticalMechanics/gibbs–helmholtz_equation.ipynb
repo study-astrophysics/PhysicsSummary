{
 "cells": [
  {
   "cell_type": "markdown",
   "id": "4a927dd5",
   "metadata": {},
   "source": [
    "# [Gibbs–Helmholtz Equation](https://study-astrophysics.com/gibbs-helmholtz-equation/)"
   ]
  },
  {
   "cell_type": "markdown",
   "id": "c498cc3a",
   "metadata": {},
   "source": [
    "---"
   ]
  },
  {
   "cell_type": "markdown",
   "id": "16ce70f3",
   "metadata": {},
   "source": [
    "## Gibbs–Helmholtz Equation\n",
    "\n",
    "\n",
    "$$ \\large U \\ = \\ F + TS \\ = \\ F - T \\left( \\frac{\\partial F}{\\partial T} \\right)_V \\ = \\ - T^2 \\left( \\frac{\\partial}{\\partial T} \\right)_V \\left(\\frac{F}{T} \\right) $$"
   ]
  }
 ],
 "metadata": {
  "kernelspec": {
   "display_name": "Python 3 (ipykernel)",
   "language": "python",
   "name": "python3"
  },
  "language_info": {
   "codemirror_mode": {
    "name": "ipython",
    "version": 3
   },
   "file_extension": ".py",
   "mimetype": "text/x-python",
   "name": "python",
   "nbconvert_exporter": "python",
   "pygments_lexer": "ipython3",
   "version": "3.9.7"
  }
 },
 "nbformat": 4,
 "nbformat_minor": 5
}
