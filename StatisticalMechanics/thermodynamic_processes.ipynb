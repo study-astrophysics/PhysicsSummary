{
 "cells": [
  {
   "cell_type": "markdown",
   "id": "491ef52d",
   "metadata": {},
   "source": [
    "# Thermodynamic Processes"
   ]
  },
  {
   "cell_type": "markdown",
   "id": "f197cc3a",
   "metadata": {},
   "source": [
    "## Adiabatic Process ($dQ = 0$)\n",
    "\n",
    "Combining \n",
    "\n",
    "$$ \\large PV^\\gamma = \\text{constant} $$\n",
    "\n",
    "and \n",
    "\n",
    "$$ \\large PV = nRT $$\n",
    "\n",
    "then\n",
    "\n",
    "$$ \\large TV^{\\gamma-1} = \\text{constant} $$\n",
    "\n",
    "\n",
    "### Related Problems\n",
    "- GRE Physics GR0877: Problem 021"
   ]
  },
  {
   "cell_type": "markdown",
   "id": "0ab5adbf",
   "metadata": {},
   "source": [
    "## Isobaric Process ($dP = 0$)"
   ]
  },
  {
   "cell_type": "markdown",
   "id": "8df3e2e6",
   "metadata": {},
   "source": [
    "## Isothermal Process ($dT = 0$)\n",
    "\n",
    "$$ \\large P_1V_1 = P_2V_2 \\quad (\\because PV = nRT)$$\n",
    "\n",
    "$$ \\large W = \\int d(PV) = P \\int dV = nRT \\int \\frac{dV}{V} = nRT \\ln V $$\n",
    "\n",
    "### Related Problems\n",
    "- GRE Physics GR0177: Problem 047"
   ]
  }
 ],
 "metadata": {
  "kernelspec": {
   "display_name": "Python 3 (ipykernel)",
   "language": "python",
   "name": "python3"
  },
  "language_info": {
   "codemirror_mode": {
    "name": "ipython",
    "version": 3
   },
   "file_extension": ".py",
   "mimetype": "text/x-python",
   "name": "python",
   "nbconvert_exporter": "python",
   "pygments_lexer": "ipython3",
   "version": "3.8.2"
  }
 },
 "nbformat": 4,
 "nbformat_minor": 5
}
