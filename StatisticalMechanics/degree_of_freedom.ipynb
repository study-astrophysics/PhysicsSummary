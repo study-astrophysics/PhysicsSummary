{
 "cells": [
  {
   "cell_type": "markdown",
   "id": "7cda85f4",
   "metadata": {},
   "source": [
    "# Degree of Freedom"
   ]
  },
  {
   "attachments": {},
   "cell_type": "markdown",
   "id": "1c79996b",
   "metadata": {},
   "source": [
    "## Example 1. 3D Harmonic Oscillator\n",
    "\n",
    "If the oscillator has no transitional and rotational degrees of freedom, but it has 3 vibrational degrees of freedom, then the energy is\n",
    "\n",
    "$$ \\large \\begin{split}\n",
    "E &= \\text{(kinetic energy)} + \\text{(potential energy)}  \\\\\n",
    "\\\\\n",
    "&= \\left( \\frac{1}{2}kT \\times 3 \\right) + \\left( \\frac{1}{2}kT \\times 3 \\right) \\\\\n",
    "\\\\\n",
    "&= 3kT\n",
    "\\end{split} $$\n",
    "\n",
    "\n",
    "### Related Problems\n",
    "- GRE Physics GR0177: Problem 005"
   ]
  }
 ],
 "metadata": {
  "kernelspec": {
   "display_name": "Python 3 (ipykernel)",
   "language": "python",
   "name": "python3"
  },
  "language_info": {
   "codemirror_mode": {
    "name": "ipython",
    "version": 3
   },
   "file_extension": ".py",
   "mimetype": "text/x-python",
   "name": "python",
   "nbconvert_exporter": "python",
   "pygments_lexer": "ipython3",
   "version": "3.8.2"
  }
 },
 "nbformat": 4,
 "nbformat_minor": 5
}
