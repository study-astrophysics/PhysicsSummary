{
 "cells": [
  {
   "cell_type": "markdown",
   "id": "ab373ef4",
   "metadata": {},
   "source": [
    "# Kinetic Theory"
   ]
  },
  {
   "cell_type": "markdown",
   "id": "4ffe1916",
   "metadata": {},
   "source": [
    "---"
   ]
  },
  {
   "cell_type": "markdown",
   "id": "fa1edb9c",
   "metadata": {},
   "source": [
    "## Kinetic Theory of Gases\n",
    "\n",
    "\n",
    "### Pressure\n",
    "\n",
    "\n",
    "$$ \\large P \\ = \\ \\frac{1}{3} \\rho v^2_\\text{rms} $$\n",
    "\n",
    "\n",
    "\n",
    "### Root Mean Square Velocity\n",
    "\n",
    "\n",
    "$$ \\large v_\\text{rms} \\ = \\ \\sqrt{ \\frac{3 k T}{m} } $$\n",
    "\n",
    "\n",
    "\n",
    "### Mean Velocity\n",
    "\n",
    "$$ \\large \\bar{v} \\ = \\ \\sqrt{ \\frac{8kT}{m}} $$\n",
    "\n",
    "\n",
    "\n",
    "### Most Probable Velocity\n",
    "\n",
    "\n",
    "$$ \\large v_m \\ = \\ \\sqrt{ \\frac{2kT}{m}} $$\n"
   ]
  }
 ],
 "metadata": {
  "kernelspec": {
   "display_name": "Python 3 (ipykernel)",
   "language": "python",
   "name": "python3"
  },
  "language_info": {
   "codemirror_mode": {
    "name": "ipython",
    "version": 3
   },
   "file_extension": ".py",
   "mimetype": "text/x-python",
   "name": "python",
   "nbconvert_exporter": "python",
   "pygments_lexer": "ipython3",
   "version": "3.9.7"
  }
 },
 "nbformat": 4,
 "nbformat_minor": 5
}
