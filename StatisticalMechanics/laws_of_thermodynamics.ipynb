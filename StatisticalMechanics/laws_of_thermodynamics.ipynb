{
 "cells": [
  {
   "cell_type": "markdown",
   "id": "65c4e4af",
   "metadata": {},
   "source": [
    "# Laws of Thermodynamics"
   ]
  },
  {
   "cell_type": "markdown",
   "id": "89bceff9",
   "metadata": {},
   "source": [
    "## 1. First Law\n",
    "\n",
    "$$ \\large dU = dQ - pdV = TdS - pdV $$"
   ]
  },
  {
   "cell_type": "markdown",
   "id": "091544e3",
   "metadata": {},
   "source": [
    "## 2. Second Law\n",
    "\n",
    "$$ \\large dS = \\frac{dQ}{T} = c m \\frac{dT}{T} \\quad (\\because dQ = cmdT) $$\n",
    "\n",
    "$$ \\large \\Delta S = \\int c m \\frac{dT}{T} = c m \\ln \\left( \\frac{T_f}{T_i} \\right) $$"
   ]
  },
  {
   "cell_type": "markdown",
   "id": "94bf4223",
   "metadata": {},
   "source": [
    "## 3. Third Law"
   ]
  }
 ],
 "metadata": {
  "kernelspec": {
   "display_name": "Python 3 (ipykernel)",
   "language": "python",
   "name": "python3"
  },
  "language_info": {
   "codemirror_mode": {
    "name": "ipython",
    "version": 3
   },
   "file_extension": ".py",
   "mimetype": "text/x-python",
   "name": "python",
   "nbconvert_exporter": "python",
   "pygments_lexer": "ipython3",
   "version": "3.8.2"
  }
 },
 "nbformat": 4,
 "nbformat_minor": 5
}
