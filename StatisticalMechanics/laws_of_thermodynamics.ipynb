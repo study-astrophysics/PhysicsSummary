{
 "cells": [
  {
   "cell_type": "markdown",
   "id": "65c4e4af",
   "metadata": {},
   "source": [
    "# [Laws of Thermodynamics](https://study-astrophysics.com/laws-of-thermodynamics/)"
   ]
  },
  {
   "cell_type": "markdown",
   "id": "6820eab9",
   "metadata": {},
   "source": [
    "---"
   ]
  },
  {
   "cell_type": "markdown",
   "id": "6937636d",
   "metadata": {},
   "source": [
    "## 0. Zeroth Law\n",
    "\n",
    "\n",
    "If two bodies are each in thermal equilibrium with some third body, then they are also in equilibrium with each other."
   ]
  },
  {
   "cell_type": "markdown",
   "id": "bd96c223",
   "metadata": {},
   "source": [
    "---"
   ]
  },
  {
   "cell_type": "markdown",
   "id": "89bceff9",
   "metadata": {},
   "source": [
    "## 1. First Law\n",
    "\n",
    "\n",
    "$$ \\large \\Delta U \\ = \\ W + Q $$\n",
    "\n",
    "\n",
    "### For a Reversible Process,\n",
    "\n",
    "\n",
    "$$ \\large dU \\ = \\ dQ - PdV \\ = \\ TdS - PdV $$\n",
    "\n",
    "\n",
    "where\n",
    "\n",
    "\n",
    "- $dU$: change in the internal energy\n",
    "\n",
    "\n",
    "- $dQ$: change in heat (added)\n",
    "\n",
    "\n",
    "- $PdV = dW$: change in work (done on the system)\n",
    "\n",
    "\n",
    "- $T$: temperature\n",
    "\n",
    "\n",
    "- $dS$: change in entropy"
   ]
  },
  {
   "cell_type": "markdown",
   "id": "814e7205",
   "metadata": {},
   "source": [
    "---"
   ]
  },
  {
   "cell_type": "markdown",
   "id": "091544e3",
   "metadata": {},
   "source": [
    "## 2. Second Law\n",
    "\n",
    "\n",
    "100% efficiency is impossible.\n",
    "\n",
    "\n",
    "$$ \\large dS = \\frac{dQ}{T} = c m \\frac{dT}{T} \\quad (\\because dQ = cmdT) $$\n",
    "\n",
    "\n",
    "$$ \\large \\Delta S = \\int c m \\frac{dT}{T} = c m \\ln \\left( \\frac{T_f}{T_i} \\right) $$"
   ]
  },
  {
   "cell_type": "markdown",
   "id": "33f9f6b6",
   "metadata": {},
   "source": [
    "---"
   ]
  },
  {
   "cell_type": "markdown",
   "id": "94bf4223",
   "metadata": {},
   "source": [
    "## 3. Third Law"
   ]
  }
 ],
 "metadata": {
  "kernelspec": {
   "display_name": "Python 3 (ipykernel)",
   "language": "python",
   "name": "python3"
  },
  "language_info": {
   "codemirror_mode": {
    "name": "ipython",
    "version": 3
   },
   "file_extension": ".py",
   "mimetype": "text/x-python",
   "name": "python",
   "nbconvert_exporter": "python",
   "pygments_lexer": "ipython3",
   "version": "3.9.7"
  }
 },
 "nbformat": 4,
 "nbformat_minor": 5
}
