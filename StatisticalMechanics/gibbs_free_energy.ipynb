{
 "cells": [
  {
   "cell_type": "markdown",
   "id": "c3a0bc62",
   "metadata": {},
   "source": [
    "# [Gibbs Free Energy](https://study-astrophysics.com/gibbs-free-energy/)"
   ]
  },
  {
   "cell_type": "markdown",
   "id": "935c5d9a",
   "metadata": {},
   "source": [
    "---"
   ]
  },
  {
   "cell_type": "markdown",
   "id": "6bea0bbb",
   "metadata": {},
   "source": [
    "## Definition\n",
    "\n",
    "The Gibbs free energy (or Gibbs energy) is a thermodynamic potential that can be used to calculate the maximum reversible work that may be performed by a thermodynamic system at a **constant temperature and pressure**.\n",
    "\n",
    "\n",
    "The Gibbs free energy is defined as\n",
    "\n",
    "\n",
    "$$ \\large G \\ = \\ H - TS \\ = \\ U - PV - TS $$\n",
    "\n",
    "\n",
    "where\n",
    "\n",
    "\n",
    "- $U$: internal energy\n",
    "\n",
    "\n",
    "- $H$: enthalpy\n",
    "\n",
    "\n",
    "- $T$: temperature\n",
    "\n",
    "\n",
    "- $S$: entropy\n",
    "\n",
    "\n",
    "- $P$: pressure\n",
    "\n",
    "\n",
    "- $V$: volume"
   ]
  },
  {
   "cell_type": "markdown",
   "id": "b7298740",
   "metadata": {},
   "source": [
    "---"
   ]
  },
  {
   "cell_type": "markdown",
   "id": "e357f3b1",
   "metadata": {},
   "source": [
    "The Gibbs free energy is the maximum amount of non-expansion work that can be extracted from a thermodynamically closed system. This maximum can be attained only in a completely reversible process. When a system transforms reversibly from an initial state to a final state, the decrease in Gibbs free energy equals the work done by the system to its surroundings, minus the work of the pressure forces.\n",
    "\n",
    "\n",
    "The Gibbs free energy or free enthalpy is most commonly used as a measure of thermodynamic potential when it is convenient for applications that occur at constant pressure."
   ]
  }
 ],
 "metadata": {
  "kernelspec": {
   "display_name": "Python 3 (ipykernel)",
   "language": "python",
   "name": "python3"
  },
  "language_info": {
   "codemirror_mode": {
    "name": "ipython",
    "version": 3
   },
   "file_extension": ".py",
   "mimetype": "text/x-python",
   "name": "python",
   "nbconvert_exporter": "python",
   "pygments_lexer": "ipython3",
   "version": "3.8.2"
  }
 },
 "nbformat": 4,
 "nbformat_minor": 5
}
