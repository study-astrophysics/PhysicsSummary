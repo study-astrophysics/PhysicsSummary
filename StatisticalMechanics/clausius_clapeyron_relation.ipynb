{
 "cells": [
  {
   "cell_type": "markdown",
   "id": "32959f4c",
   "metadata": {},
   "source": [
    "# [Clausius-Clapeyron Relation](https://study-astrophysics.com/clausius-clapeyron-relation/)"
   ]
  },
  {
   "cell_type": "markdown",
   "id": "cd889a0e",
   "metadata": {},
   "source": [
    "---"
   ]
  },
  {
   "cell_type": "markdown",
   "id": "5aac0330",
   "metadata": {},
   "source": [
    "## Clausius-Clapeyron Relation\n",
    "\n",
    "\n",
    "$$ \\large \\frac {\\mathrm {d} P}{\\mathrm {d} T} \\ = \\ \\frac {PL}{T^{2}R} $$"
   ]
  }
 ],
 "metadata": {
  "kernelspec": {
   "display_name": "Python 3 (ipykernel)",
   "language": "python",
   "name": "python3"
  },
  "language_info": {
   "codemirror_mode": {
    "name": "ipython",
    "version": 3
   },
   "file_extension": ".py",
   "mimetype": "text/x-python",
   "name": "python",
   "nbconvert_exporter": "python",
   "pygments_lexer": "ipython3",
   "version": "3.9.7"
  }
 },
 "nbformat": 4,
 "nbformat_minor": 5
}
