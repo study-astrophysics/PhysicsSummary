{
 "cells": [
  {
   "cell_type": "markdown",
   "id": "c3f8ac27",
   "metadata": {},
   "source": [
    "# Clausius-Clapeyron Relation"
   ]
  },
  {
   "cell_type": "markdown",
   "id": "db6dadb8",
   "metadata": {},
   "source": [
    "---"
   ]
  },
  {
   "cell_type": "markdown",
   "id": "e338b2da",
   "metadata": {},
   "source": [
    "$$ \\large \\frac {\\mathrm {d} P}{\\mathrm {d} T} \\ = \\ \\frac {PL}{T^{2}R} $$"
   ]
  }
 ],
 "metadata": {
  "kernelspec": {
   "display_name": "Python 3 (ipykernel)",
   "language": "python",
   "name": "python3"
  },
  "language_info": {
   "codemirror_mode": {
    "name": "ipython",
    "version": 3
   },
   "file_extension": ".py",
   "mimetype": "text/x-python",
   "name": "python",
   "nbconvert_exporter": "python",
   "pygments_lexer": "ipython3",
   "version": "3.9.7"
  }
 },
 "nbformat": 4,
 "nbformat_minor": 5
}
