{
 "cells": [
  {
   "cell_type": "markdown",
   "id": "6b2e838c",
   "metadata": {},
   "source": [
    "# [Meissner Effect in Superconductor](https://study-astrophysics.com/meissner-effect/)"
   ]
  },
  {
   "cell_type": "markdown",
   "id": "1a882761",
   "metadata": {},
   "source": [
    "---"
   ]
  },
  {
   "cell_type": "markdown",
   "id": "2fd7ed77",
   "metadata": {},
   "source": [
    "## Meissner Effect\n",
    "\n",
    "Magnetic field should be tangential to the surface.\n",
    "\n",
    "\n",
    "### Related Problems\n",
    "- GRE Physics GR1777 Problem [077](https://study-astrophysics.com/gr1777-077/)"
   ]
  }
 ],
 "metadata": {
  "kernelspec": {
   "display_name": "Python 3 (ipykernel)",
   "language": "python",
   "name": "python3"
  },
  "language_info": {
   "codemirror_mode": {
    "name": "ipython",
    "version": 3
   },
   "file_extension": ".py",
   "mimetype": "text/x-python",
   "name": "python",
   "nbconvert_exporter": "python",
   "pygments_lexer": "ipython3",
   "version": "3.8.13"
  }
 },
 "nbformat": 4,
 "nbformat_minor": 5
}
