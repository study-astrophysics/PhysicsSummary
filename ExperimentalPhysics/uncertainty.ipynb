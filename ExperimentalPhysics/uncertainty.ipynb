{
 "cells": [
  {
   "cell_type": "markdown",
   "id": "b029b2b1",
   "metadata": {},
   "source": [
    "# Uncertainty"
   ]
  },
  {
   "cell_type": "markdown",
   "id": "30df4cd0",
   "metadata": {},
   "source": [
    "$$ \\large x_1 \\pm \\sigma_1, \\quad x_2 \\pm \\sigma_2, \\quad x_3 \\pm \\sigma_3, \\quad  \\cdots, \\quad  x_N \\pm \\sigma_N $$"
   ]
  },
  {
   "cell_type": "markdown",
   "id": "812ba69f",
   "metadata": {},
   "source": [
    "## Weighted Average\n",
    "\n",
    "$$ \\large \\bar{x} = \\frac{ \\sum^N_{i=1} w_i x_i}{\\sum^N_{i=1} w_i} $$\n",
    "\n",
    "where\n",
    "\n",
    "$$ \\large w_i = \\frac{1}{\\sigma^2_i} $$"
   ]
  },
  {
   "cell_type": "markdown",
   "id": "e2bf6d71",
   "metadata": {},
   "source": [
    "## Uncertainty\n",
    "\n",
    "$$ \\large \\begin{split} \n",
    "\\sigma & = \\left( \\sum^N_{i=1} w_i \\right)^{-\\frac{1}{2}} \\\\\n",
    "& = \\left( \\sum^N_{i=1} \\frac{1}{\\sigma^2_i} \\right)^{-\\frac{1}{2}} \n",
    "\\end{split} $$"
   ]
  },
  {
   "cell_type": "markdown",
   "id": "0e000cf2",
   "metadata": {},
   "source": [
    "## Time\n",
    "\n",
    "$$ \\large t = \\frac{\\sigma^2}{(\\text{uncertainty})^2} $$"
   ]
  }
 ],
 "metadata": {
  "kernelspec": {
   "display_name": "Python 3 (ipykernel)",
   "language": "python",
   "name": "python3"
  },
  "language_info": {
   "codemirror_mode": {
    "name": "ipython",
    "version": 3
   },
   "file_extension": ".py",
   "mimetype": "text/x-python",
   "name": "python",
   "nbconvert_exporter": "python",
   "pygments_lexer": "ipython3",
   "version": "3.8.2"
  }
 },
 "nbformat": 4,
 "nbformat_minor": 5
}
