{
 "cells": [
  {
   "cell_type": "markdown",
   "id": "bd692d11",
   "metadata": {},
   "source": [
    "# Standard Deviation"
   ]
  },
  {
   "cell_type": "markdown",
   "id": "45c30c40",
   "metadata": {},
   "source": [
    "## Binomial Distribution\n",
    "\n",
    "$$ \\large \\sigma = [np(1-p)]^{\\frac{1}{2}} $$"
   ]
  },
  {
   "cell_type": "markdown",
   "id": "35323731",
   "metadata": {},
   "source": [
    "## Poisson Distribution\n",
    "\n",
    "$$ \\large \\sigma = \\sqrt{m} $$\n",
    "\n",
    "since (variance) = (mean) in the Poisson distribution.\n",
    "\n",
    "\n",
    "### Related Problems\n",
    "- GRE Physics GR0177: Problem 016"
   ]
  }
 ],
 "metadata": {
  "kernelspec": {
   "display_name": "Python 3 (ipykernel)",
   "language": "python",
   "name": "python3"
  },
  "language_info": {
   "codemirror_mode": {
    "name": "ipython",
    "version": 3
   },
   "file_extension": ".py",
   "mimetype": "text/x-python",
   "name": "python",
   "nbconvert_exporter": "python",
   "pygments_lexer": "ipython3",
   "version": "3.8.2"
  }
 },
 "nbformat": 4,
 "nbformat_minor": 5
}
