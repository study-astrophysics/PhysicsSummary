{
 "cells": [
  {
   "cell_type": "markdown",
   "id": "2283000e",
   "metadata": {},
   "source": [
    "# [Michelson-Morley Experiment](https://study-astrophysics.com/michelson-morley-experiment/)"
   ]
  },
  {
   "cell_type": "markdown",
   "id": "e826b22e",
   "metadata": {},
   "source": [
    "---"
   ]
  },
  {
   "cell_type": "markdown",
   "id": "6ee35f80",
   "metadata": {},
   "source": [
    "## Path Difference\n",
    "\n",
    "$$ \\large 2 d (n - 1) = m \\lambda $$\n",
    "\n",
    "where\n",
    "\n",
    "$m$: number of fringes\n",
    "\n",
    "\n",
    "### Related Problems\n",
    "- GRE Physics GR1777: Problem 052"
   ]
  },
  {
   "cell_type": "markdown",
   "id": "bac63c05",
   "metadata": {},
   "source": [
    "---"
   ]
  },
  {
   "cell_type": "markdown",
   "id": "2d6d511b",
   "metadata": {},
   "source": [
    "## Ratio\n",
    "\n",
    "$$ \\large \\frac{d_1}{d_2} = \\frac{m_1 \\lambda_1}{m_2 \\lambda_2} $$\n",
    "\n",
    "\n",
    "### Related Problems\n",
    "- GRE Physics GR0177: Problem 100"
   ]
  }
 ],
 "metadata": {
  "kernelspec": {
   "display_name": "Python 3 (ipykernel)",
   "language": "python",
   "name": "python3"
  },
  "language_info": {
   "codemirror_mode": {
    "name": "ipython",
    "version": 3
   },
   "file_extension": ".py",
   "mimetype": "text/x-python",
   "name": "python",
   "nbconvert_exporter": "python",
   "pygments_lexer": "ipython3",
   "version": "3.9.7"
  }
 },
 "nbformat": 4,
 "nbformat_minor": 5
}
