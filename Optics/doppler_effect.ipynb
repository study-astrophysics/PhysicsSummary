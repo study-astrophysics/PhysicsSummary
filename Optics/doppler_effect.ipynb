{
 "cells": [
  {
   "cell_type": "markdown",
   "id": "4afa4081",
   "metadata": {},
   "source": [
    "# [Doppler Effect](https://study-astrophysics.com/doppler-effect/)"
   ]
  },
  {
   "cell_type": "markdown",
   "id": "846da635",
   "metadata": {},
   "source": [
    "---"
   ]
  },
  {
   "cell_type": "markdown",
   "id": "748d5e7a",
   "metadata": {},
   "source": [
    "## Doppler Effect\n",
    "\n",
    "\n",
    "$$ \\large f_o = \\frac{c_s+v_r}{c_s+v_s} f_e $$\n",
    "\n",
    "\n",
    "where\n",
    "\n",
    "\n",
    "- $f_o$: observed frequency\n",
    "\n",
    "\n",
    "- $f_e$: emitted frequency\n",
    "\n",
    "\n",
    "- $c_s$: speed of the sound\n",
    "\n",
    "\n",
    "- $v_r$: speed of the receiver\n",
    "\n",
    "\n",
    "- $v_s$: speed of the source"
   ]
  },
  {
   "cell_type": "markdown",
   "id": "bbaf998f",
   "metadata": {},
   "source": [
    "---"
   ]
  },
  {
   "cell_type": "markdown",
   "id": "26af77a7",
   "metadata": {},
   "source": [
    "## Related Topics\n",
    "\n",
    "\n",
    "### [Relativistic Doppler Effect](https://study-astrophysics.com/relativistic-doppler-effect/)"
   ]
  }
 ],
 "metadata": {
  "kernelspec": {
   "display_name": "Python 3 (ipykernel)",
   "language": "python",
   "name": "python3"
  },
  "language_info": {
   "codemirror_mode": {
    "name": "ipython",
    "version": 3
   },
   "file_extension": ".py",
   "mimetype": "text/x-python",
   "name": "python",
   "nbconvert_exporter": "python",
   "pygments_lexer": "ipython3",
   "version": "3.9.7"
  }
 },
 "nbformat": 4,
 "nbformat_minor": 5
}
