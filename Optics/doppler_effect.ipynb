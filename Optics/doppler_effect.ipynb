{
 "cells": [
  {
   "cell_type": "markdown",
   "id": "4afa4081",
   "metadata": {},
   "source": [
    "# Doppler Effect"
   ]
  },
  {
   "cell_type": "markdown",
   "id": "748d5e7a",
   "metadata": {},
   "source": [
    "## When Both Moves\n",
    "\n",
    "$$ \\large f = \\frac{c+v_r}{c+v_s} f_e $$\n",
    "\n"
   ]
  }
 ],
 "metadata": {
  "kernelspec": {
   "display_name": "Python 3 (ipykernel)",
   "language": "python",
   "name": "python3"
  },
  "language_info": {
   "codemirror_mode": {
    "name": "ipython",
    "version": 3
   },
   "file_extension": ".py",
   "mimetype": "text/x-python",
   "name": "python",
   "nbconvert_exporter": "python",
   "pygments_lexer": "ipython3",
   "version": "3.8.2"
  }
 },
 "nbformat": 4,
 "nbformat_minor": 5
}
