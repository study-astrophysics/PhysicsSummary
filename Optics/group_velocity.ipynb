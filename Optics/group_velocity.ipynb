{
 "cells": [
  {
   "cell_type": "markdown",
   "id": "adafd6a7",
   "metadata": {},
   "source": [
    "# [Group Velocity](https://study-astrophysics.com/group-velocity/)"
   ]
  },
  {
   "cell_type": "markdown",
   "id": "fb78db2c",
   "metadata": {},
   "source": [
    "---"
   ]
  },
  {
   "cell_type": "markdown",
   "id": "6f5491d6",
   "metadata": {},
   "source": [
    "## Group Velocity\n",
    "\n",
    "\n",
    "The group velocity of a wave is the velocity with which the overall envelope shape of the wave's amplitudes—known as the modulation or envelope of the wave—propagates through space.\n",
    "\n",
    "\n",
    "$$ \\large v_g \\ = \\ \\frac{\\partial \\omega}{\\partial k} $$\n",
    "\n",
    "\n",
    "where\n",
    "\n",
    "\n",
    "- $\\omega$: angular frequency\n",
    "\n",
    "\n",
    "- $k$: wave number"
   ]
  },
  {
   "cell_type": "markdown",
   "id": "70d9e68f",
   "metadata": {},
   "source": [
    "---"
   ]
  },
  {
   "cell_type": "markdown",
   "id": "9b51711b",
   "metadata": {},
   "source": [
    "## Relationship between the Group Velocity $v_g$\n",
    "\n",
    "\n",
    "### For waves on a string,\n",
    "\n",
    "\n",
    "$$ \\large v_p = v_g $$\n",
    "\n",
    "\n",
    "\n",
    "### For water waves,\n",
    "\n",
    "\n",
    "$$ \\large v_p = 2 v_g $$"
   ]
  },
  {
   "cell_type": "markdown",
   "id": "6f267e2b",
   "metadata": {},
   "source": [
    "---"
   ]
  },
  {
   "cell_type": "markdown",
   "id": "12666b0e",
   "metadata": {},
   "source": [
    "## Related Topics\n",
    "\n",
    "\n",
    "### [Phase Velocity](https://study-astrophysics.com/phase-velocity/)"
   ]
  }
 ],
 "metadata": {
  "kernelspec": {
   "display_name": "Python 3 (ipykernel)",
   "language": "python",
   "name": "python3"
  },
  "language_info": {
   "codemirror_mode": {
    "name": "ipython",
    "version": 3
   },
   "file_extension": ".py",
   "mimetype": "text/x-python",
   "name": "python",
   "nbconvert_exporter": "python",
   "pygments_lexer": "ipython3",
   "version": "3.9.7"
  }
 },
 "nbformat": 4,
 "nbformat_minor": 5
}
