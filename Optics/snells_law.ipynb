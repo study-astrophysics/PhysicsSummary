{
 "cells": [
  {
   "cell_type": "markdown",
   "id": "d7af4944",
   "metadata": {},
   "source": [
    "# [Snell's Law](https://study-astrophysics.com/snells-law/)"
   ]
  },
  {
   "cell_type": "markdown",
   "id": "687da6a8",
   "metadata": {},
   "source": [
    "---"
   ]
  },
  {
   "cell_type": "markdown",
   "id": "27eed0f1",
   "metadata": {},
   "source": [
    "## Snell's Law\n",
    "\n",
    "$$ \\large n_i \\sin \\theta_i \\ = \\ n_f \\sin \\theta_f $$\n",
    "\n",
    "\n",
    "where\n",
    "\n",
    "\n",
    "- $n_i$: index of refraction for initial materials\n",
    "\n",
    "\n",
    "- $n_f$: index of refraction for final materials\n",
    "\n",
    "\n",
    "- $\\theta_i$: initial angle with respect to the surface normal\n",
    "\n",
    "\n",
    "- $\\theta_f$: final angle with respect to the surface normal\n",
    "\n",
    "\n",
    "### Related Problems\n",
    "- GRE Physics GR1777 Problem [082](https://study-astrophysics.com/gr1777-082/)"
   ]
  },
  {
   "cell_type": "markdown",
   "id": "0c3912b6",
   "metadata": {},
   "source": [
    "---"
   ]
  },
  {
   "cell_type": "markdown",
   "id": "61859e58",
   "metadata": {},
   "source": [
    "## Total Internal Reflection\n",
    "\n",
    "\n",
    "If $$ \\large \\frac{n_i \\sin \\theta_i}{n_f} > 1 $$\n",
    "\n",
    "\n",
    "then no value of $\\theta_f$ will satisfy Snell's law. That means, the light cannot refract, but only reflected by the surface. That is called 'total internal reflection.'\n",
    "\n"
   ]
  }
 ],
 "metadata": {
  "kernelspec": {
   "display_name": "Python 3 (ipykernel)",
   "language": "python",
   "name": "python3"
  },
  "language_info": {
   "codemirror_mode": {
    "name": "ipython",
    "version": 3
   },
   "file_extension": ".py",
   "mimetype": "text/x-python",
   "name": "python",
   "nbconvert_exporter": "python",
   "pygments_lexer": "ipython3",
   "version": "3.8.13"
  }
 },
 "nbformat": 4,
 "nbformat_minor": 5
}
