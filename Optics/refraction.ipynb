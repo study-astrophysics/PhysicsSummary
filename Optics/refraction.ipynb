{
 "cells": [
  {
   "cell_type": "markdown",
   "id": "f6906c29",
   "metadata": {},
   "source": [
    "# [Refraction](https://study-astrophysics.com/refraction/)"
   ]
  },
  {
   "cell_type": "markdown",
   "id": "baa8aa5d",
   "metadata": {},
   "source": [
    "---"
   ]
  },
  {
   "cell_type": "markdown",
   "id": "335de137",
   "metadata": {},
   "source": [
    "## Index of Refraction\n",
    "\n",
    "\n",
    "$$ \\large n \\equiv \\frac{c}{v} $$\n",
    "\n",
    "\n",
    "where\n",
    "\n",
    "\n",
    "- $c$: speed of light in vacuum\n",
    "\n",
    "\n",
    "- $v$: speed of light in the medium"
   ]
  }
 ],
 "metadata": {
  "kernelspec": {
   "display_name": "Python 3 (ipykernel)",
   "language": "python",
   "name": "python3"
  },
  "language_info": {
   "codemirror_mode": {
    "name": "ipython",
    "version": 3
   },
   "file_extension": ".py",
   "mimetype": "text/x-python",
   "name": "python",
   "nbconvert_exporter": "python",
   "pygments_lexer": "ipython3",
   "version": "3.9.7"
  }
 },
 "nbformat": 4,
 "nbformat_minor": 5
}
