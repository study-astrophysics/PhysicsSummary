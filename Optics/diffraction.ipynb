{
 "cells": [
  {
   "cell_type": "markdown",
   "id": "505af0ea",
   "metadata": {},
   "source": [
    "# [Diffraction](https://study-astrophysics.com/diffraction/)"
   ]
  },
  {
   "cell_type": "markdown",
   "id": "e6fccbc1",
   "metadata": {},
   "source": [
    "---"
   ]
  },
  {
   "cell_type": "markdown",
   "id": "eeba1407",
   "metadata": {},
   "source": [
    "## Single-Slit Diffraction\n",
    "\n",
    "\n",
    "$$ \\large d \\sin \\theta_\\text{min} = n \\lambda, \\quad \\quad n = 1, 2, 3, \\cdots $$\n",
    "\n",
    "\n",
    "where\n",
    "\n",
    "\n",
    "- $d$: width of the slit\n",
    "\n",
    "\n",
    "- $\\theta_\\text{min}$: angle of incidence at which the minimum intensity occurs\n",
    "\n",
    "\n",
    "- $\\lambda$: wavelength of the light"
   ]
  },
  {
   "cell_type": "markdown",
   "id": "7f29995a",
   "metadata": {},
   "source": [
    "---"
   ]
  },
  {
   "cell_type": "markdown",
   "id": "9aecdc19",
   "metadata": {},
   "source": [
    "## Double-Slit Diffraction\n",
    "\n",
    "\n",
    "\n",
    "### Maxima\n",
    "\n",
    "\n",
    "$$ \\large d \\sin\\theta \\ = \\ n \\lambda, \\quad \\quad n = 0, 1, 2, \\cdots  $$\n",
    "\n",
    "\n",
    "where\n",
    "\n",
    "\n",
    "- $d$: distance between slits\n",
    "\n",
    "\n",
    "\n",
    "### Minima\n",
    "\n",
    "\n",
    "$$ \\large d \\sin \\theta \\ = \\left( m + \\frac{1}{2} \\right) \\lambda, \\quad \\quad n = 0, 1, 2 \\cdots $$\n",
    "\n",
    "### Related Problems\n",
    "\n",
    "- GRE Physics GR0177: Problem 070"
   ]
  },
  {
   "cell_type": "markdown",
   "id": "6b592ff1",
   "metadata": {},
   "source": [
    "---"
   ]
  },
  {
   "cell_type": "markdown",
   "id": "fd1b17d5",
   "metadata": {},
   "source": [
    "## Related Topics\n",
    "\n",
    "\n",
    "### [Bragg's Law](https://study-astrophysics.com/braggs-law/)\n",
    "\n",
    "\n",
    "### [Wave Interference](https://study-astrophysics.com/wave-interference/)"
   ]
  }
 ],
 "metadata": {
  "kernelspec": {
   "display_name": "Python 3 (ipykernel)",
   "language": "python",
   "name": "python3"
  },
  "language_info": {
   "codemirror_mode": {
    "name": "ipython",
    "version": 3
   },
   "file_extension": ".py",
   "mimetype": "text/x-python",
   "name": "python",
   "nbconvert_exporter": "python",
   "pygments_lexer": "ipython3",
   "version": "3.9.7"
  }
 },
 "nbformat": 4,
 "nbformat_minor": 5
}
