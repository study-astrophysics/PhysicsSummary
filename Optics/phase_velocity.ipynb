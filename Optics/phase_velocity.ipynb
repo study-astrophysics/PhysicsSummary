{
 "cells": [
  {
   "cell_type": "markdown",
   "id": "40d104b3",
   "metadata": {},
   "source": [
    "# [Phase Velocity](https://study-astrophysics.com/phase-velocity/)"
   ]
  },
  {
   "cell_type": "markdown",
   "id": "ff786638",
   "metadata": {},
   "source": [
    "---"
   ]
  },
  {
   "cell_type": "markdown",
   "id": "d92c8559",
   "metadata": {},
   "source": [
    "## Phase Velocity $v_p$\n",
    "\n",
    "The phase velocity of a wave $v_p$ is the rate at which the wave propagates in any medium.\n",
    "\n",
    "\n",
    "$$ \\large v_p \\ = \\ \\frac{\\lambda}{T} \\ = \\ \\frac{\\omega}{k} $$\n",
    "\n",
    "\n",
    "where\n",
    "\n",
    "\n",
    "- $\\lambda$: wavelength\n",
    "\n",
    "\n",
    "- $T$: time period\n",
    "\n",
    "\n",
    "- $\\omega$: angular frequency\n",
    "\n",
    "\n",
    "- $k$: wave number"
   ]
  },
  {
   "cell_type": "markdown",
   "id": "f270cce9",
   "metadata": {},
   "source": [
    "---"
   ]
  },
  {
   "cell_type": "markdown",
   "id": "a1b620b1",
   "metadata": {},
   "source": [
    "## Relationship between the Group Velocity $v_g$\n",
    "\n",
    "\n",
    "### For waves on a string,\n",
    "\n",
    "\n",
    "$$ \\large v_p = v_g $$\n",
    "\n",
    "\n",
    "\n",
    "### For water waves,\n",
    "\n",
    "\n",
    "$$ \\large v_p = 2 v_g $$"
   ]
  },
  {
   "cell_type": "markdown",
   "id": "15d7fe81",
   "metadata": {},
   "source": [
    "---"
   ]
  },
  {
   "cell_type": "markdown",
   "id": "99d11c1f",
   "metadata": {},
   "source": [
    "## Related Topics\n",
    "\n",
    "\n",
    "### [Group Velocity](https://study-astrophysics.com/group-velocity/)"
   ]
  }
 ],
 "metadata": {
  "kernelspec": {
   "display_name": "Python 3 (ipykernel)",
   "language": "python",
   "name": "python3"
  },
  "language_info": {
   "codemirror_mode": {
    "name": "ipython",
    "version": 3
   },
   "file_extension": ".py",
   "mimetype": "text/x-python",
   "name": "python",
   "nbconvert_exporter": "python",
   "pygments_lexer": "ipython3",
   "version": "3.9.7"
  }
 },
 "nbformat": 4,
 "nbformat_minor": 5
}
