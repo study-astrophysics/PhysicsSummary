{
 "cells": [
  {
   "cell_type": "markdown",
   "id": "83129603",
   "metadata": {},
   "source": [
    "# Reflection"
   ]
  },
  {
   "cell_type": "markdown",
   "id": "5c872f22",
   "metadata": {},
   "source": [
    "## Reflection Coefficient\n",
    "\n",
    "$$ \\large R = \\frac{(n_2 - n_1)^2}{(n_2 + n_1)^2} $$"
   ]
  },
  {
   "cell_type": "markdown",
   "id": "0352c6d1",
   "metadata": {},
   "source": [
    "## Transmission Coefficient\n",
    "\n",
    "$$ \\large T = 1 - R $$"
   ]
  }
 ],
 "metadata": {
  "kernelspec": {
   "display_name": "Python 3 (ipykernel)",
   "language": "python",
   "name": "python3"
  },
  "language_info": {
   "codemirror_mode": {
    "name": "ipython",
    "version": 3
   },
   "file_extension": ".py",
   "mimetype": "text/x-python",
   "name": "python",
   "nbconvert_exporter": "python",
   "pygments_lexer": "ipython3",
   "version": "3.8.2"
  }
 },
 "nbformat": 4,
 "nbformat_minor": 5
}
