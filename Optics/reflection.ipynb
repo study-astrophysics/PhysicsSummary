{
 "cells": [
  {
   "cell_type": "markdown",
   "id": "83129603",
   "metadata": {},
   "source": [
    "# [Reflection](https://study-astrophysics.com/reflection/)"
   ]
  },
  {
   "cell_type": "markdown",
   "id": "154d9a91",
   "metadata": {},
   "source": [
    "---"
   ]
  },
  {
   "cell_type": "markdown",
   "id": "7edc72da",
   "metadata": {},
   "source": [
    "## Reflection from Fixed End (or High Density)\n",
    "\n",
    "- The reflected wave experiences a $\\pi \\ ( 180 ^\\circ)$ phase shift."
   ]
  },
  {
   "cell_type": "markdown",
   "id": "da399807",
   "metadata": {},
   "source": [
    "---"
   ]
  },
  {
   "cell_type": "markdown",
   "id": "7cba9476",
   "metadata": {},
   "source": [
    "## Reflection form Fee End (or Low Density)\n",
    "\n",
    "- The reflected wave experiences no phase shift."
   ]
  },
  {
   "cell_type": "markdown",
   "id": "942867af",
   "metadata": {},
   "source": [
    "---"
   ]
  },
  {
   "cell_type": "markdown",
   "id": "19dcc95e",
   "metadata": {},
   "source": [
    "## Law of Reflection\n",
    "\n",
    "\n",
    "> Angle of Incidence = Angle of Reflection\n",
    "\n",
    "\n",
    "Note that the angles are measured from the normal to the surface of reflection."
   ]
  },
  {
   "cell_type": "markdown",
   "id": "c390ffd7",
   "metadata": {},
   "source": [
    "---"
   ]
  },
  {
   "cell_type": "markdown",
   "id": "5c872f22",
   "metadata": {},
   "source": [
    "## Reflection Coefficient\n",
    "\n",
    "\n",
    "$$ \\large R = \\frac{(n_2 - n_1)^2}{(n_2 + n_1)^2} $$\n",
    "\n",
    "\n",
    "### Related Problems\n",
    "- GRE Physics GR1777 Problem [070](https://study-astrophysics.com/gr1777-070/)"
   ]
  },
  {
   "cell_type": "markdown",
   "id": "4c3221e0",
   "metadata": {},
   "source": [
    "---"
   ]
  },
  {
   "cell_type": "markdown",
   "id": "0352c6d1",
   "metadata": {},
   "source": [
    "## Transmission Coefficient\n",
    "\n",
    "\n",
    "$$ \\large T = 1 - R  = \\frac{4 n_1 n_2}{(n_1 - n_2)^2} $$"
   ]
  }
 ],
 "metadata": {
  "kernelspec": {
   "display_name": "Python 3 (ipykernel)",
   "language": "python",
   "name": "python3"
  },
  "language_info": {
   "codemirror_mode": {
    "name": "ipython",
    "version": 3
   },
   "file_extension": ".py",
   "mimetype": "text/x-python",
   "name": "python",
   "nbconvert_exporter": "python",
   "pygments_lexer": "ipython3",
   "version": "3.9.12"
  }
 },
 "nbformat": 4,
 "nbformat_minor": 5
}
