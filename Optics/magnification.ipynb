{
 "cells": [
  {
   "cell_type": "markdown",
   "id": "beadac7f",
   "metadata": {},
   "source": [
    "# [Magnification](https://study-astrophysics.com/magnification/)"
   ]
  },
  {
   "cell_type": "markdown",
   "id": "595c5535",
   "metadata": {},
   "source": [
    "## Telescope\n",
    "\n",
    "The angular magnification of an optical telescope is\n",
    "\n",
    "\n",
    "$$ \\large M = \\frac{f_o}{f_e} $$\n",
    "\n",
    "where\n",
    "\n",
    "$f_o$: focal length of the objective lens in a refractor or of the primary mirror in a reflector\n",
    "\n",
    "$f_e$: focal length of the eyepiece\n",
    "\n",
    "\n",
    "\n",
    "### Related Problems\n",
    "- GRE Physics GR1777 Problem [032](https://study-astrophysics.com/gr1777-032/)"
   ]
  }
 ],
 "metadata": {
  "kernelspec": {
   "display_name": "Python 3 (ipykernel)",
   "language": "python",
   "name": "python3"
  },
  "language_info": {
   "codemirror_mode": {
    "name": "ipython",
    "version": 3
   },
   "file_extension": ".py",
   "mimetype": "text/x-python",
   "name": "python",
   "nbconvert_exporter": "python",
   "pygments_lexer": "ipython3",
   "version": "3.8.2"
  }
 },
 "nbformat": 4,
 "nbformat_minor": 5
}
