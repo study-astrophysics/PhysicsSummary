{
 "cells": [
  {
   "cell_type": "markdown",
   "id": "8e5c5854",
   "metadata": {},
   "source": [
    "# Lens"
   ]
  },
  {
   "cell_type": "markdown",
   "id": "93d9d2b7",
   "metadata": {},
   "source": [
    "---"
   ]
  },
  {
   "cell_type": "markdown",
   "id": "261e8133",
   "metadata": {},
   "source": [
    "## Lens Formula\n",
    "\n",
    "$$ \\large \\frac{1}{f} = \\frac{1}{d_o} + \\frac{1}{d_i} $$\n",
    "\n",
    "\n",
    "where\n",
    "\n",
    "\n",
    "- $f$: focal length of the lens\n",
    "\n",
    "    - Positive if converges\n",
    "    - Negative if diverges\n",
    "\n",
    "\n",
    "- $d_o$: object distance\n",
    "\n",
    "    - Positive if object is real\n",
    "    - Negative if object is virtual\n",
    "\n",
    "\n",
    "- $d_i$: image distance\n",
    "\n",
    "    - Positive if object is real\n",
    "    - Negative if object is virtual"
   ]
  },
  {
   "cell_type": "markdown",
   "id": "4022bf97",
   "metadata": {},
   "source": [
    "---"
   ]
  },
  {
   "cell_type": "markdown",
   "id": "aaa857f9",
   "metadata": {},
   "source": [
    "## Lensmaker's Equation\n",
    "\n",
    "\n",
    "$$ \\large \\frac{1}{f} = (n-1) \\left( \\frac{1}{R_1} - \\frac{1}{R_2} \\right) $$\n",
    "\n",
    "\n",
    "where\n",
    "\n",
    "\n",
    "- $f$: focal length of the lens\n",
    "\n",
    "\n",
    "- $n$: refractive index of the lens material\n",
    "\n",
    "\n",
    "- $R_{1}$: radius of curvature (with sign) of the lens surface closer to the light source\n",
    "\n",
    "    - Positive if center of lens is in back\n",
    "    - Negative if center of lens is in front\n",
    "\n",
    "\n",
    "- $R_{2}$: radius of curvature of the lens surface farther from the light source\n",
    "\n",
    "    - Positive if center of lens is in back\n",
    "    - Negative if center of lens is in front"
   ]
  },
  {
   "cell_type": "markdown",
   "id": "ef57cd4e",
   "metadata": {},
   "source": [
    "---"
   ]
  },
  {
   "cell_type": "markdown",
   "id": "e8a074dd",
   "metadata": {},
   "source": [
    "## f-number (Relative Aperture)\n",
    "\n",
    "\n",
    "$$ \\large  \\text{f-number} = \\frac{f}{D} $$\n",
    "\n",
    "\n",
    "where\n",
    "\n",
    "\n",
    "- $f$: focal length of the lens\n",
    "\n",
    "\n",
    "- $D$: diameter"
   ]
  }
 ],
 "metadata": {
  "kernelspec": {
   "display_name": "Python 3 (ipykernel)",
   "language": "python",
   "name": "python3"
  },
  "language_info": {
   "codemirror_mode": {
    "name": "ipython",
    "version": 3
   },
   "file_extension": ".py",
   "mimetype": "text/x-python",
   "name": "python",
   "nbconvert_exporter": "python",
   "pygments_lexer": "ipython3",
   "version": "3.9.7"
  }
 },
 "nbformat": 4,
 "nbformat_minor": 5
}
