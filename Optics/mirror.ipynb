{
 "cells": [
  {
   "cell_type": "markdown",
   "id": "2736542f",
   "metadata": {},
   "source": [
    "# [Mirror](https://study-astrophysics.com/mirror/)"
   ]
  },
  {
   "cell_type": "markdown",
   "id": "ccf13b9d",
   "metadata": {},
   "source": [
    "---"
   ]
  },
  {
   "cell_type": "markdown",
   "id": "d43f5cfa",
   "metadata": {},
   "source": [
    "## Convex Mirror\n",
    "\n",
    "\n",
    "#### The image is\n",
    "\n",
    "\n",
    "- virtual,\n",
    "\n",
    "\n",
    "- upright,\n",
    "\n",
    "\n",
    "- smaller than the object.\n"
   ]
  },
  {
   "cell_type": "markdown",
   "id": "aa179ce6",
   "metadata": {},
   "source": [
    "---"
   ]
  },
  {
   "cell_type": "markdown",
   "id": "6782dc00",
   "metadata": {},
   "source": [
    "## Concave Mirror\n",
    "\n",
    "\n",
    "#### If you are behind the focal point, then the image is\n",
    "\n",
    "- real,\n",
    "\n",
    "\n",
    "- inverted,\n",
    "\n",
    "\n",
    "- smaller than the object.\n",
    "\n",
    "\n",
    "\n",
    "#### However, if you are close than the focal point, then the image is\n",
    "\n",
    "- virtual,\n",
    "\n",
    "\n",
    "- upright,\n",
    "\n",
    "\n",
    "- larger than the object."
   ]
  },
  {
   "cell_type": "markdown",
   "id": "5bad584d",
   "metadata": {},
   "source": [
    "---"
   ]
  },
  {
   "cell_type": "markdown",
   "id": "34a42cf1",
   "metadata": {},
   "source": [
    "## Focal Length\n",
    "\n",
    "\n",
    "$$ \\large f = - \\frac{R}{2} $$\n",
    "\n",
    "\n",
    "where\n",
    "\n",
    "\n",
    "- $R$: radius of curvature of the mirror's surface"
   ]
  },
  {
   "cell_type": "markdown",
   "id": "e6a5a235",
   "metadata": {},
   "source": [
    "---"
   ]
  },
  {
   "cell_type": "markdown",
   "id": "67bcfaf6",
   "metadata": {},
   "source": [
    "## Mirror Equation\n",
    "\n",
    "\n",
    "$$ \\large \\frac{1}{f} \\ = \\ \\frac{1}{d_o} + \\frac{1}{d_i} $$\n",
    "\n",
    "\n",
    "where\n",
    "\n",
    "\n",
    "- $f$: focal length\n",
    "\n",
    "\n",
    "- $d_o$: object distance\n",
    "\n",
    "\n",
    "- $d_i$: image distance"
   ]
  },
  {
   "cell_type": "markdown",
   "id": "2177bb7d",
   "metadata": {},
   "source": [
    "---"
   ]
  }
 ],
 "metadata": {
  "kernelspec": {
   "display_name": "Python 3 (ipykernel)",
   "language": "python",
   "name": "python3"
  },
  "language_info": {
   "codemirror_mode": {
    "name": "ipython",
    "version": 3
   },
   "file_extension": ".py",
   "mimetype": "text/x-python",
   "name": "python",
   "nbconvert_exporter": "python",
   "pygments_lexer": "ipython3",
   "version": "3.9.7"
  }
 },
 "nbformat": 4,
 "nbformat_minor": 5
}
