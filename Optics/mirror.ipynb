{
 "cells": [
  {
   "cell_type": "markdown",
   "id": "ed8732ce",
   "metadata": {},
   "source": [
    "# Mirror"
   ]
  },
  {
   "cell_type": "markdown",
   "id": "3dec155b",
   "metadata": {},
   "source": [
    "---"
   ]
  },
  {
   "cell_type": "markdown",
   "id": "a9a3f84b",
   "metadata": {},
   "source": [
    "## Convex Mirror\n",
    "\n",
    "\n",
    "#### The image is\n",
    "\n",
    "\n",
    "- virtual,\n",
    "\n",
    "\n",
    "- upright,\n",
    "\n",
    "\n",
    "- smaller than the object.\n"
   ]
  },
  {
   "cell_type": "markdown",
   "id": "711588b0",
   "metadata": {},
   "source": [
    "---"
   ]
  },
  {
   "cell_type": "markdown",
   "id": "96517f32",
   "metadata": {},
   "source": [
    "## Concave Mirror\n",
    "\n",
    "\n",
    "#### If you are behind the focal point, then the image is\n",
    "\n",
    "- real,\n",
    "\n",
    "\n",
    "- inverted,\n",
    "\n",
    "\n",
    "- smaller than the object.\n",
    "\n",
    "\n",
    "\n",
    "#### However, if you are close than the focal point, then the image is\n",
    "\n",
    "- virtual,\n",
    "\n",
    "\n",
    "- upright,\n",
    "\n",
    "\n",
    "- larger than the object."
   ]
  },
  {
   "cell_type": "markdown",
   "id": "41a081ff",
   "metadata": {},
   "source": [
    "---"
   ]
  },
  {
   "cell_type": "markdown",
   "id": "9cf4eec7",
   "metadata": {},
   "source": [
    "## Focal Length\n",
    "\n",
    "\n",
    "$$ \\large f = - \\frac{R}{2} $$\n",
    "\n",
    "\n",
    "where\n",
    "\n",
    "\n",
    "- $R$: radius of curvature of the mirror's surface"
   ]
  },
  {
   "cell_type": "markdown",
   "id": "c90edb93",
   "metadata": {},
   "source": [
    "---"
   ]
  },
  {
   "cell_type": "markdown",
   "id": "3b63ce58",
   "metadata": {},
   "source": [
    "## Mirror Equation\n",
    "\n",
    "\n",
    "$$ \\large \\frac{1}{f} \\ = \\ \\frac{1}{d_o} + \\frac{1}{d_i} $$\n",
    "\n",
    "\n",
    "where\n",
    "\n",
    "\n",
    "- $f$: focal length\n",
    "\n",
    "\n",
    "- $d_o$: object distance\n",
    "\n",
    "\n",
    "- $d_i$: image distance"
   ]
  },
  {
   "cell_type": "markdown",
   "id": "6861b3e4",
   "metadata": {},
   "source": [
    "---"
   ]
  }
 ],
 "metadata": {
  "kernelspec": {
   "display_name": "Python 3 (ipykernel)",
   "language": "python",
   "name": "python3"
  },
  "language_info": {
   "codemirror_mode": {
    "name": "ipython",
    "version": 3
   },
   "file_extension": ".py",
   "mimetype": "text/x-python",
   "name": "python",
   "nbconvert_exporter": "python",
   "pygments_lexer": "ipython3",
   "version": "3.9.7"
  }
 },
 "nbformat": 4,
 "nbformat_minor": 5
}
