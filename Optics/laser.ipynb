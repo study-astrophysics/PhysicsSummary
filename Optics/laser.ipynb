{
 "cells": [
  {
   "cell_type": "markdown",
   "id": "9e88a5b3",
   "metadata": {},
   "source": [
    "# [Laser](https://study-astrophysics.com/laser/)"
   ]
  },
  {
   "cell_type": "markdown",
   "id": "3736b778",
   "metadata": {},
   "source": [
    "---"
   ]
  },
  {
   "cell_type": "markdown",
   "id": "068f70a3",
   "metadata": {},
   "source": [
    "## Types of Lasers\n",
    "\n",
    "- Diode laser: semiconductor (solid)\n",
    "- Dye laser: liquid\n",
    "- Free-electron laser: electron only\n",
    "- Gas laser: free atom\n",
    "- Solid-state laser: solid"
   ]
  },
  {
   "cell_type": "markdown",
   "id": "92045164",
   "metadata": {},
   "source": [
    "---"
   ]
  },
  {
   "cell_type": "markdown",
   "id": "d7155bf3",
   "metadata": {},
   "source": [
    "## Dye Laser\n",
    "\n",
    "A dye laser can usually be used for a much wider range of wavelengths, often spanning 50 to 100 nanometers or more. The wide bandwidth makes them particularly suitable for tunable lasers and pulsed lasers. For instance, the dye rhodamine 6G can be tuned from 635 nm (orangish-red) to 560 nm (greenish-yellow), which is the visible wavelengths.\n",
    "\n",
    "### Related Problems\n",
    "- GRE Physics GR1777 Problem [033](https://study-astrophysics.com/gr1777-033/)"
   ]
  }
 ],
 "metadata": {
  "kernelspec": {
   "display_name": "Python 3 (ipykernel)",
   "language": "python",
   "name": "python3"
  },
  "language_info": {
   "codemirror_mode": {
    "name": "ipython",
    "version": 3
   },
   "file_extension": ".py",
   "mimetype": "text/x-python",
   "name": "python",
   "nbconvert_exporter": "python",
   "pygments_lexer": "ipython3",
   "version": "3.9.7"
  }
 },
 "nbformat": 4,
 "nbformat_minor": 5
}
