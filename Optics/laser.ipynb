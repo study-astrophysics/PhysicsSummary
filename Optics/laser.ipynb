{
 "cells": [
  {
   "cell_type": "markdown",
   "id": "9e88a5b3",
   "metadata": {},
   "source": [
    "# Laser"
   ]
  },
  {
   "cell_type": "markdown",
   "id": "068f70a3",
   "metadata": {},
   "source": [
    "## Types of Lasers\n",
    "\n",
    "- Diode laser: semiconductor (solid)\n",
    "- Dye laser: liquid\n",
    "- Free-electron laser: electron only\n",
    "- Gas laser: free atom\n",
    "- Solid-state laser: solid"
   ]
  }
 ],
 "metadata": {
  "kernelspec": {
   "display_name": "Python 3 (ipykernel)",
   "language": "python",
   "name": "python3"
  },
  "language_info": {
   "codemirror_mode": {
    "name": "ipython",
    "version": 3
   },
   "file_extension": ".py",
   "mimetype": "text/x-python",
   "name": "python",
   "nbconvert_exporter": "python",
   "pygments_lexer": "ipython3",
   "version": "3.8.2"
  }
 },
 "nbformat": 4,
 "nbformat_minor": 5
}
