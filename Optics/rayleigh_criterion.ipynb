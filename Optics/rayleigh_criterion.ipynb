{
 "cells": [
  {
   "cell_type": "markdown",
   "id": "9c8ae31d",
   "metadata": {},
   "source": [
    "# Rayleigh Criterion"
   ]
  },
  {
   "cell_type": "markdown",
   "id": "fc7d1403",
   "metadata": {},
   "source": [
    "$$ \\large \\theta \\approx \\frac{1.22 \\lambda}{d} $$\n",
    "\n",
    "\n",
    "### Related Problems\n",
    "- GRE Physics GR0177: Problem 013"
   ]
  }
 ],
 "metadata": {
  "kernelspec": {
   "display_name": "Python 3 (ipykernel)",
   "language": "python",
   "name": "python3"
  },
  "language_info": {
   "codemirror_mode": {
    "name": "ipython",
    "version": 3
   },
   "file_extension": ".py",
   "mimetype": "text/x-python",
   "name": "python",
   "nbconvert_exporter": "python",
   "pygments_lexer": "ipython3",
   "version": "3.8.2"
  }
 },
 "nbformat": 4,
 "nbformat_minor": 5
}
