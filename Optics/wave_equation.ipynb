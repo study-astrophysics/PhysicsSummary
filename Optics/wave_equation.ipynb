{
 "cells": [
  {
   "cell_type": "markdown",
   "id": "ffaba2aa",
   "metadata": {},
   "source": [
    "# [Wave Equation](https://study-astrophysics.com/wave-equation/)"
   ]
  },
  {
   "cell_type": "markdown",
   "id": "9e2fdc18",
   "metadata": {},
   "source": [
    "---"
   ]
  },
  {
   "cell_type": "markdown",
   "id": "18503caa",
   "metadata": {},
   "source": [
    "## Wave Equation\n",
    "\n",
    "\n",
    "$$ \\large \\frac{\\partial^2 u}{\\partial t^2} = c^2 \\nabla^2 u $$\n",
    "\n",
    "\n",
    "### Solution to the 1-dimensional case\n",
    "\n",
    "\n",
    "$$ \\large u(x,t) = A \\sin(kx - \\omega t) + B \\cos (kx - \\omega t) $$\n",
    "\n"
   ]
  }
 ],
 "metadata": {
  "kernelspec": {
   "display_name": "Python 3 (ipykernel)",
   "language": "python",
   "name": "python3"
  },
  "language_info": {
   "codemirror_mode": {
    "name": "ipython",
    "version": 3
   },
   "file_extension": ".py",
   "mimetype": "text/x-python",
   "name": "python",
   "nbconvert_exporter": "python",
   "pygments_lexer": "ipython3",
   "version": "3.9.7"
  }
 },
 "nbformat": 4,
 "nbformat_minor": 5
}
