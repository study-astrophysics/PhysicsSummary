{
 "cells": [
  {
   "cell_type": "markdown",
   "id": "17ab8e6a",
   "metadata": {},
   "source": [
    "# [Bragg's Law](https://study-astrophysics.com/braggs-law/)"
   ]
  },
  {
   "cell_type": "markdown",
   "id": "5f7b9205",
   "metadata": {},
   "source": [
    "---"
   ]
  },
  {
   "cell_type": "markdown",
   "id": "bd55cbcd",
   "metadata": {},
   "source": [
    "## Bragg's Law\n",
    "\n",
    "The condition of constructive interference is\n",
    "\n",
    "\n",
    "$$ \\large 2d \\sin \\theta = n \\lambda $$\n",
    "\n",
    "\n",
    "where\n",
    "\n",
    "\n",
    "- $\\lambda$: wavelength of the light\n",
    "\n",
    "\n",
    "- $d$: distance between crystal planes\n",
    "\n",
    "\n",
    "- $\\theta$: angle of the diffracted wave\n",
    "\n",
    "\n",
    "- $m$: integer known as the order of the diffracted beam\n",
    "\n",
    "\n",
    "### Related Problems\n",
    "- GRE Physics GR1777 Problems [075](https://study-astrophysics.com/gr1777-075/) and [098](https://study-astrophysics.com/gr1777-098/) \n",
    "- GRE Physics GR0877 Problem 052"
   ]
  },
  {
   "cell_type": "markdown",
   "id": "3619f69c",
   "metadata": {},
   "source": [
    "## Related Topics\n",
    "\n",
    "\n",
    "### [Diffraction](https://study-astrophysics.com/diffraction/)\n",
    "\n",
    "\n",
    "### [Wave Interference](https://study-astrophysics.com/wave-interference/)"
   ]
  }
 ],
 "metadata": {
  "kernelspec": {
   "display_name": "Python 3 (ipykernel)",
   "language": "python",
   "name": "python3"
  },
  "language_info": {
   "codemirror_mode": {
    "name": "ipython",
    "version": 3
   },
   "file_extension": ".py",
   "mimetype": "text/x-python",
   "name": "python",
   "nbconvert_exporter": "python",
   "pygments_lexer": "ipython3",
   "version": "3.8.13"
  }
 },
 "nbformat": 4,
 "nbformat_minor": 5
}
