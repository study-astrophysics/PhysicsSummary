{
 "cells": [
  {
   "cell_type": "markdown",
   "id": "17ab8e6a",
   "metadata": {},
   "source": [
    "# Bragg's Law"
   ]
  },
  {
   "cell_type": "markdown",
   "id": "bd55cbcd",
   "metadata": {},
   "source": [
    "$$ \\large 2d \\sin \\theta = n \\lambda $$\n",
    "\n",
    "\n",
    "### Related Problems\n",
    "- GRE Physics GR0877: Problem 052"
   ]
  }
 ],
 "metadata": {
  "kernelspec": {
   "display_name": "Python 3 (ipykernel)",
   "language": "python",
   "name": "python3"
  },
  "language_info": {
   "codemirror_mode": {
    "name": "ipython",
    "version": 3
   },
   "file_extension": ".py",
   "mimetype": "text/x-python",
   "name": "python",
   "nbconvert_exporter": "python",
   "pygments_lexer": "ipython3",
   "version": "3.8.2"
  }
 },
 "nbformat": 4,
 "nbformat_minor": 5
}
