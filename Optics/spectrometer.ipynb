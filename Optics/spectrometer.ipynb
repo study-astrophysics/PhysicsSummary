{
 "cells": [
  {
   "cell_type": "markdown",
   "id": "751c5c56",
   "metadata": {},
   "source": [
    "# [Spectrometer](https://study-astrophysics.com/spectrometer/)"
   ]
  },
  {
   "cell_type": "markdown",
   "id": "b2ff56c3",
   "metadata": {},
   "source": [
    "---"
   ]
  },
  {
   "cell_type": "markdown",
   "id": "279fdfff",
   "metadata": {},
   "source": [
    "## Spectral Resolution (Resolving Power)\n",
    "\n",
    "$$ \\large R = \\frac{\\lambda}{\\Delta \\lambda} $$\n",
    "\n",
    "\n",
    "### Related Problems\n",
    "- GRE Physics GR1777: Problem 051"
   ]
  }
 ],
 "metadata": {
  "kernelspec": {
   "display_name": "Python 3 (ipykernel)",
   "language": "python",
   "name": "python3"
  },
  "language_info": {
   "codemirror_mode": {
    "name": "ipython",
    "version": 3
   },
   "file_extension": ".py",
   "mimetype": "text/x-python",
   "name": "python",
   "nbconvert_exporter": "python",
   "pygments_lexer": "ipython3",
   "version": "3.9.7"
  }
 },
 "nbformat": 4,
 "nbformat_minor": 5
}
