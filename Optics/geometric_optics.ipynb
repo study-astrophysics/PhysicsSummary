{
 "cells": [
  {
   "cell_type": "markdown",
   "id": "8e5c5854",
   "metadata": {},
   "source": [
    "# Geometric Optics"
   ]
  },
  {
   "cell_type": "markdown",
   "id": "261e8133",
   "metadata": {},
   "source": [
    "## Lens Formula\n",
    "\n",
    "$$ \\large \\frac{1}{\\text{O}} + \\frac{1}{\\text{I}} = \\frac{1}{\\text{F}}$$\n",
    "\n",
    "\n",
    "### Focal Lengh (F)\n",
    "\n",
    "(+): Convergent\n",
    "\n",
    "(-): Divergent"
   ]
  },
  {
   "cell_type": "markdown",
   "id": "30d8c4f0",
   "metadata": {},
   "source": []
  },
  {
   "cell_type": "markdown",
   "id": "e9efa270",
   "metadata": {},
   "source": [
    "## Lens Maker's Equation\n",
    "\n",
    "$$ \\large \\frac{1}{f} = (n-1)\\left( \\frac{1}{R_1} - \\frac{1}{R_2} \\right) $$\n",
    "\n",
    "### Sign\n",
    "+: right\n",
    "-: left"
   ]
  }
 ],
 "metadata": {
  "kernelspec": {
   "display_name": "Python 3 (ipykernel)",
   "language": "python",
   "name": "python3"
  },
  "language_info": {
   "codemirror_mode": {
    "name": "ipython",
    "version": 3
   },
   "file_extension": ".py",
   "mimetype": "text/x-python",
   "name": "python",
   "nbconvert_exporter": "python",
   "pygments_lexer": "ipython3",
   "version": "3.8.2"
  }
 },
 "nbformat": 4,
 "nbformat_minor": 5
}
