{
 "cells": [
  {
   "cell_type": "markdown",
   "id": "0bc87fd6",
   "metadata": {},
   "source": [
    "# [Polarization](https://study-astrophysics.com/polarization/)"
   ]
  },
  {
   "cell_type": "markdown",
   "id": "f6224b16",
   "metadata": {},
   "source": [
    "---"
   ]
  },
  {
   "cell_type": "markdown",
   "id": "bc512984",
   "metadata": {},
   "source": [
    "## Polarization\n",
    "\n",
    "\n",
    "### Electric Field\n",
    "\n",
    "\n",
    "The electric field for a light wave travelling in the z-direction is\n",
    "\n",
    "$$ \\large \\vec{E}(\\vec{r},t) = (A_x \\cos (kz - \\omega t), A_y \\cos(kz - \\omega t + \\phi), 0) $$\n",
    "\n",
    "\n",
    "If\n",
    "\n",
    "\n",
    "- $\\phi = 0, \\pi$: light is linearly polarized.\n",
    "\n",
    "\n",
    "- $\\phi = \\pi/2, -\\pi/2, \\text{ and } A_x = A_y$: the light is circularly polarized.\n",
    "\n",
    "\n",
    "- Otherwise, the light is elliptically polarized.\n",
    "\n",
    "\n",
    "\n",
    "\n",
    "### Magnetic Field\n",
    "\n",
    "\n",
    "The magnetic field is perpendicular to both the direction of propagation and the electric field."
   ]
  },
  {
   "cell_type": "markdown",
   "id": "4fed5f60",
   "metadata": {},
   "source": [
    "---"
   ]
  },
  {
   "cell_type": "markdown",
   "id": "9a2b9257",
   "metadata": {},
   "source": [
    "## Polarizing Filter (Polarizer)\n",
    "\n",
    "\n",
    "- First Filter: 50 % Intensity decreased if the incident light is unpolarized.\n",
    "\n",
    "\n",
    "- Second Filter: depends on the angle with respect to the previous filter \n",
    "\n",
    "\n",
    "$$ \\large I = I_0 \\cos^2 \\theta $$\n",
    "\n",
    "\n",
    "### Related Problems\n",
    "- GRE Physics GR0877: Problems 016, 051"
   ]
  }
 ],
 "metadata": {
  "kernelspec": {
   "display_name": "Python 3 (ipykernel)",
   "language": "python",
   "name": "python3"
  },
  "language_info": {
   "codemirror_mode": {
    "name": "ipython",
    "version": 3
   },
   "file_extension": ".py",
   "mimetype": "text/x-python",
   "name": "python",
   "nbconvert_exporter": "python",
   "pygments_lexer": "ipython3",
   "version": "3.9.7"
  }
 },
 "nbformat": 4,
 "nbformat_minor": 5
}
