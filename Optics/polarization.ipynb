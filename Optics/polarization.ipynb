{
 "cells": [
  {
   "cell_type": "markdown",
   "id": "0bc87fd6",
   "metadata": {},
   "source": [
    "# Polarization"
   ]
  },
  {
   "cell_type": "markdown",
   "id": "9a2b9257",
   "metadata": {},
   "source": [
    "## Polarizing Filter (Polarizer)\n",
    "\n",
    "- First Filter: 50 % Intensity decreased\n",
    "\n",
    "- Second Filter: depends on the angle with respect to the previous filter \n",
    "\n",
    "$$ \\large I = I_0 \\cos^2 \\theta $$\n",
    "\n",
    "### Related Problems\n",
    "- GRE Physics GR0877: Problem 016\n",
    "- GRE Physics GR0877: Problem 051"
   ]
  }
 ],
 "metadata": {
  "kernelspec": {
   "display_name": "Python 3 (ipykernel)",
   "language": "python",
   "name": "python3"
  },
  "language_info": {
   "codemirror_mode": {
    "name": "ipython",
    "version": 3
   },
   "file_extension": ".py",
   "mimetype": "text/x-python",
   "name": "python",
   "nbconvert_exporter": "python",
   "pygments_lexer": "ipython3",
   "version": "3.8.2"
  }
 },
 "nbformat": 4,
 "nbformat_minor": 5
}
