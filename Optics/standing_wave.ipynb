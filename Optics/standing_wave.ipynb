{
 "cells": [
  {
   "cell_type": "markdown",
   "id": "634b00af",
   "metadata": {},
   "source": [
    "# [Standing Wave]()"
   ]
  },
  {
   "cell_type": "markdown",
   "id": "9703a97d",
   "metadata": {},
   "source": [
    "---"
   ]
  },
  {
   "cell_type": "markdown",
   "id": "2ff02091",
   "metadata": {},
   "source": [
    "## Standing Wave\n",
    "\n",
    "\n",
    "A standing wave is a wave that oscillates in time but whose peak amplitude profile does not move in space. Two sine waves heading to each other create standing waves:\n",
    "\n",
    "\n",
    "$$ \\large y \\ = \\ A \\sin (kx - \\omega t) + A \\sin (kx + \\omega t) \\ = \\ 2A \\sin(kx)\\cos(wt) $$\n",
    "\n",
    "\n",
    "\n",
    "The points of zero amplitude $(kx = n\\pi)$ are called **nodes**.\n",
    "\n",
    "\n",
    "The points of maximum amplitude $(kx = \\pi/2 + n\\pi)$ are called **anti-nodes**.\n",
    "\n",
    "\n",
    "### Related Problems"
   ]
  }
 ],
 "metadata": {
  "kernelspec": {
   "display_name": "Python 3 (ipykernel)",
   "language": "python",
   "name": "python3"
  },
  "language_info": {
   "codemirror_mode": {
    "name": "ipython",
    "version": 3
   },
   "file_extension": ".py",
   "mimetype": "text/x-python",
   "name": "python",
   "nbconvert_exporter": "python",
   "pygments_lexer": "ipython3",
   "version": "3.9.7"
  }
 },
 "nbformat": 4,
 "nbformat_minor": 5
}
