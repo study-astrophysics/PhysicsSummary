{
 "cells": [
  {
   "cell_type": "markdown",
   "id": "8f8a1c2b",
   "metadata": {},
   "source": [
    "# Transmission"
   ]
  },
  {
   "cell_type": "markdown",
   "id": "9f725b69",
   "metadata": {},
   "source": [
    "---"
   ]
  },
  {
   "cell_type": "markdown",
   "id": "4bf4eb9b",
   "metadata": {},
   "source": [
    "## Transmission\n",
    "\n",
    "- The transmitted wave feels no phase shift."
   ]
  },
  {
   "cell_type": "markdown",
   "id": "e1b23a8c",
   "metadata": {},
   "source": [
    "---"
   ]
  },
  {
   "cell_type": "markdown",
   "id": "92b5c95d",
   "metadata": {},
   "source": [
    "## Transmission to the More Dense Region\n",
    "\n",
    "\n",
    "- The transimitted wave feels no phase shift.\n",
    "\n",
    "\n",
    "- The reflected wave experiences a $\\pi \\ (180^\\circ)$ phase shift."
   ]
  },
  {
   "cell_type": "markdown",
   "id": "e62e4c31",
   "metadata": {},
   "source": [
    "---"
   ]
  },
  {
   "cell_type": "markdown",
   "id": "8d49eb86",
   "metadata": {},
   "source": [
    "## Transmission to the Less Dense Region\n",
    "\n",
    "\n",
    "- The transimitted wave feels no phase shift.\n",
    "\n",
    "\n",
    "- The reflected wave experiences no phase shift."
   ]
  },
  {
   "cell_type": "markdown",
   "id": "95393010",
   "metadata": {},
   "source": [
    "---"
   ]
  },
  {
   "cell_type": "markdown",
   "id": "43517e59",
   "metadata": {},
   "source": [
    "## Amplitudes of the Waves\n",
    "\n",
    "\n",
    "$$ \\large A_\\text{incident} \\ = \\ A_\\text{transmitted} + A_\\text{reflected} $$"
   ]
  }
 ],
 "metadata": {
  "kernelspec": {
   "display_name": "Python 3 (ipykernel)",
   "language": "python",
   "name": "python3"
  },
  "language_info": {
   "codemirror_mode": {
    "name": "ipython",
    "version": 3
   },
   "file_extension": ".py",
   "mimetype": "text/x-python",
   "name": "python",
   "nbconvert_exporter": "python",
   "pygments_lexer": "ipython3",
   "version": "3.9.7"
  }
 },
 "nbformat": 4,
 "nbformat_minor": 5
}
