{
 "cells": [
  {
   "cell_type": "markdown",
   "id": "300641d0",
   "metadata": {},
   "source": [
    "# [Wave Interference](https://study-astrophysics.com/wave-interference/)"
   ]
  },
  {
   "cell_type": "markdown",
   "id": "7e221849",
   "metadata": {},
   "source": [
    "---"
   ]
  },
  {
   "cell_type": "markdown",
   "id": "22bc767c",
   "metadata": {},
   "source": [
    "## Thin Film Interference\n",
    "\n",
    "\n",
    "$$ \\large 2nd = m \\lambda $$\n",
    "\n",
    "\n",
    "- constructive interference\n",
    "\n",
    "\n",
    "- destructive interference\n",
    "\n",
    "\n",
    "### Related Problems\n",
    "- GRE Physics GR0177: Problem 069"
   ]
  },
  {
   "cell_type": "markdown",
   "id": "8578f4c7",
   "metadata": {},
   "source": [
    "---"
   ]
  },
  {
   "cell_type": "markdown",
   "id": "0892de1b",
   "metadata": {},
   "source": [
    "## Related Topics\n",
    "\n",
    "\n",
    "### [Bragg's Law](https://study-astrophysics.com/braggs-law/)\n",
    "\n",
    "\n",
    "### [Diffraction](https://study-astrophysics.com/diffraction/)"
   ]
  }
 ],
 "metadata": {
  "kernelspec": {
   "display_name": "Python 3 (ipykernel)",
   "language": "python",
   "name": "python3"
  },
  "language_info": {
   "codemirror_mode": {
    "name": "ipython",
    "version": 3
   },
   "file_extension": ".py",
   "mimetype": "text/x-python",
   "name": "python",
   "nbconvert_exporter": "python",
   "pygments_lexer": "ipython3",
   "version": "3.9.7"
  }
 },
 "nbformat": 4,
 "nbformat_minor": 5
}
