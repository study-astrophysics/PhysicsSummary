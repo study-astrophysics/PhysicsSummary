{
 "cells": [
  {
   "cell_type": "markdown",
   "id": "300641d0",
   "metadata": {},
   "source": [
    "# Wave Interference"
   ]
  },
  {
   "cell_type": "markdown",
   "id": "22bc767c",
   "metadata": {},
   "source": [
    "## Thin Film Interference\n",
    "\n",
    "$$ \\large 2nd = m \\lambda $$\n",
    "\n",
    "\n",
    "### Related Problems\n",
    "- GRE Physics GR0177: Problem 069"
   ]
  },
  {
   "cell_type": "markdown",
   "id": "7c5141f6",
   "metadata": {},
   "source": [
    "## Double Slit Interference\n",
    "\n",
    "$$ \\large d\\sin\\theta = m \\lambda $$\n",
    "\n",
    "### Related Problems\n",
    "- GRE Physics GR0177: Problem 070"
   ]
  }
 ],
 "metadata": {
  "kernelspec": {
   "display_name": "Python 3 (ipykernel)",
   "language": "python",
   "name": "python3"
  },
  "language_info": {
   "codemirror_mode": {
    "name": "ipython",
    "version": 3
   },
   "file_extension": ".py",
   "mimetype": "text/x-python",
   "name": "python",
   "nbconvert_exporter": "python",
   "pygments_lexer": "ipython3",
   "version": "3.8.2"
  }
 },
 "nbformat": 4,
 "nbformat_minor": 5
}
