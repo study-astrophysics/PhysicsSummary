{
 "cells": [
  {
   "cell_type": "markdown",
   "id": "703ba086",
   "metadata": {},
   "source": [
    "# Brewster's Angle"
   ]
  },
  {
   "cell_type": "markdown",
   "id": "f51492b4",
   "metadata": {},
   "source": [
    "---"
   ]
  },
  {
   "cell_type": "markdown",
   "id": "f2980138",
   "metadata": {},
   "source": [
    "## Brewster's Law\n",
    "\n",
    "\n",
    "An angle of incidence at which light with a particular polarization is perfectly transmitted through a transparent dielectric surface, with no reflection. \n",
    "\n",
    "\n",
    "- When unpolarized light is incident at this angle, the light that is reflected from the surface is therefore perfectly polarized. \n",
    "\n",
    "\n",
    "$$ \\large \\theta_B \\ = \\ \\arctan \\left( \\frac{n_2}{n_1} \\right) $$\n",
    "\n",
    "\n",
    "where\n",
    "\n",
    "\n",
    "- $n_1$: refractive index of the incident medium\n",
    "\n",
    "\n",
    "- $n_2$: refractive index of the other medium"
   ]
  }
 ],
 "metadata": {
  "kernelspec": {
   "display_name": "Python 3 (ipykernel)",
   "language": "python",
   "name": "python3"
  },
  "language_info": {
   "codemirror_mode": {
    "name": "ipython",
    "version": 3
   },
   "file_extension": ".py",
   "mimetype": "text/x-python",
   "name": "python",
   "nbconvert_exporter": "python",
   "pygments_lexer": "ipython3",
   "version": "3.9.7"
  }
 },
 "nbformat": 4,
 "nbformat_minor": 5
}
