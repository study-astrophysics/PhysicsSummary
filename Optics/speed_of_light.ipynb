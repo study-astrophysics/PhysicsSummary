{
 "cells": [
  {
   "cell_type": "markdown",
   "id": "24a9bf99",
   "metadata": {},
   "source": [
    "# [Speed of light](https://study-astrophysics.com/speed-of-light/)"
   ]
  },
  {
   "cell_type": "markdown",
   "id": "98c53795",
   "metadata": {},
   "source": [
    "---"
   ]
  },
  {
   "cell_type": "markdown",
   "id": "0fc4a2fe",
   "metadata": {},
   "source": [
    "## In Vacuum\n",
    "\n",
    "$$ \\large c $$"
   ]
  },
  {
   "cell_type": "markdown",
   "id": "84b62b2a",
   "metadata": {},
   "source": [
    "---"
   ]
  },
  {
   "cell_type": "markdown",
   "id": "1a75b619",
   "metadata": {},
   "source": [
    "## In a Medium\n",
    "\n",
    "$$ \\large v = \\frac{c}{n} $$\n",
    "\n",
    "For example, if $n = 4/3$, then the speed of light is $v = c/n = \\frac{3}{4}c $"
   ]
  }
 ],
 "metadata": {
  "kernelspec": {
   "display_name": "Python 3 (ipykernel)",
   "language": "python",
   "name": "python3"
  },
  "language_info": {
   "codemirror_mode": {
    "name": "ipython",
    "version": 3
   },
   "file_extension": ".py",
   "mimetype": "text/x-python",
   "name": "python",
   "nbconvert_exporter": "python",
   "pygments_lexer": "ipython3",
   "version": "3.9.7"
  }
 },
 "nbformat": 4,
 "nbformat_minor": 5
}
