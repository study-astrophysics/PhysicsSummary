{
 "cells": [
  {
   "cell_type": "markdown",
   "id": "8e5ecc5d",
   "metadata": {},
   "source": [
    "# Time Dilation"
   ]
  },
  {
   "cell_type": "markdown",
   "id": "31e290ea",
   "metadata": {},
   "source": [
    "$$ \\large t = \\frac{t_0}{\\sqrt{1-(v/c)^2}} $$"
   ]
  },
  {
   "cell_type": "markdown",
   "id": "cc32367f",
   "metadata": {},
   "source": [
    "## Time Difference\n",
    "\n",
    "$$ \\large \\Delta t = \\frac{\\gamma v \\Delta x}{c^2} $$\n",
    "\n",
    "\n",
    "### Related Problems\n",
    "- GRE Physics GR0877: Problem 094"
   ]
  }
 ],
 "metadata": {
  "kernelspec": {
   "display_name": "Python 3 (ipykernel)",
   "language": "python",
   "name": "python3"
  },
  "language_info": {
   "codemirror_mode": {
    "name": "ipython",
    "version": 3
   },
   "file_extension": ".py",
   "mimetype": "text/x-python",
   "name": "python",
   "nbconvert_exporter": "python",
   "pygments_lexer": "ipython3",
   "version": "3.8.2"
  }
 },
 "nbformat": 4,
 "nbformat_minor": 5
}
