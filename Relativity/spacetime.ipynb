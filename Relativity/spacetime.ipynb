{
 "cells": [
  {
   "cell_type": "markdown",
   "id": "c1618945",
   "metadata": {},
   "source": [
    "# [Spacetime](https://study-astrophysics.com/spacetime/)"
   ]
  },
  {
   "cell_type": "markdown",
   "id": "0420c115",
   "metadata": {},
   "source": [
    "---"
   ]
  },
  {
   "cell_type": "markdown",
   "id": "747047a9",
   "metadata": {},
   "source": [
    "## Light Corn\n",
    "\n",
    "\n",
    "### 1. Timelike \n",
    "\n",
    "$$ \\large \\frac{\\Delta x}{\\Delta t} < c $$\n",
    "\n",
    "\n",
    "### 2. Lightlike \n",
    "\n",
    "$$ \\large \\frac{\\Delta x}{\\Delta t} = c $$\n",
    "\n",
    "\n",
    "### 3. Spacelike\n",
    "\n",
    "$$ \\large \\frac{\\Delta x}{\\Delta t} > c $$\n",
    "\n",
    "\n",
    "### Related Problems\n",
    "- GRE Physics GR0177: Problem 034"
   ]
  }
 ],
 "metadata": {
  "kernelspec": {
   "display_name": "Python 3 (ipykernel)",
   "language": "python",
   "name": "python3"
  },
  "language_info": {
   "codemirror_mode": {
    "name": "ipython",
    "version": 3
   },
   "file_extension": ".py",
   "mimetype": "text/x-python",
   "name": "python",
   "nbconvert_exporter": "python",
   "pygments_lexer": "ipython3",
   "version": "3.9.7"
  }
 },
 "nbformat": 4,
 "nbformat_minor": 5
}
