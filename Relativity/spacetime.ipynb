{
 "cells": [
  {
   "cell_type": "markdown",
   "id": "c1618945",
   "metadata": {},
   "source": [
    "# Spacetime"
   ]
  },
  {
   "cell_type": "markdown",
   "id": "747047a9",
   "metadata": {},
   "source": [
    "## Light Corn\n",
    "\n",
    "\n",
    "### Timelike \n",
    "\n",
    "$$ \\large \\frac{\\Delta x}{\\Delta t} < c $$\n",
    "\n",
    "\n",
    "### Lightlike \n",
    "\n",
    "$$ \\large \\frac{\\Delta x}{\\Delta t} = c $$\n",
    "\n",
    "\n",
    "### Spacelike\n",
    "\n",
    "$$ \\large \\frac{\\Delta x}{\\Delta t} > c $$\n",
    "\n",
    "\n",
    "### Related Problems\n",
    "- GRE Physics GR0177: Problem 034"
   ]
  }
 ],
 "metadata": {
  "kernelspec": {
   "display_name": "Python 3 (ipykernel)",
   "language": "python",
   "name": "python3"
  },
  "language_info": {
   "codemirror_mode": {
    "name": "ipython",
    "version": 3
   },
   "file_extension": ".py",
   "mimetype": "text/x-python",
   "name": "python",
   "nbconvert_exporter": "python",
   "pygments_lexer": "ipython3",
   "version": "3.8.2"
  }
 },
 "nbformat": 4,
 "nbformat_minor": 5
}
