{
 "cells": [
  {
   "cell_type": "markdown",
   "id": "eb6db02c",
   "metadata": {},
   "source": [
    "# Lorentz Invariance"
   ]
  },
  {
   "cell_type": "markdown",
   "id": "9cf5bdd1",
   "metadata": {},
   "source": [
    "$$ \\large \\Delta s^2 = \\Delta x^2 - c^2 \\Delta t^2 = \\Delta x'^2 - c^2 \\Delta t'^2 = \\Delta s'^2 $$\n",
    "\n",
    "\n",
    "### Related Problems\n",
    "- GRE Physics GR0177: Problem 033"
   ]
  }
 ],
 "metadata": {
  "kernelspec": {
   "display_name": "Python 3 (ipykernel)",
   "language": "python",
   "name": "python3"
  }
 },
 "nbformat": 4,
 "nbformat_minor": 5
}
