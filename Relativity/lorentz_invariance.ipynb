{
 "cells": [
  {
   "cell_type": "markdown",
   "id": "eb6db02c",
   "metadata": {},
   "source": [
    "# [Lorentz Invariance](https://study-astrophysics.com/lorentz-invariance/)"
   ]
  },
  {
   "cell_type": "markdown",
   "id": "491814cb",
   "metadata": {},
   "source": [
    "---"
   ]
  },
  {
   "cell_type": "markdown",
   "id": "9cf5bdd1",
   "metadata": {},
   "source": [
    "## Lorentz Invariance\n",
    "\n",
    "\n",
    "$$ \\large \\Delta s^2 \\ = \\ \\Delta x^2 - c^2 \\Delta t^2 \\ = \\ \\Delta x'^2 - c^2 \\Delta t'^2 = \\Delta s'^2 $$\n",
    "\n",
    "\n",
    "### Related Problems\n",
    "- GRE Physics GR0177: Problem 033"
   ]
  }
 ],
 "metadata": {
  "kernelspec": {
   "display_name": "Python 3 (ipykernel)",
   "language": "python",
   "name": "python3"
  },
  "language_info": {
   "codemirror_mode": {
    "name": "ipython",
    "version": 3
   },
   "file_extension": ".py",
   "mimetype": "text/x-python",
   "name": "python",
   "nbconvert_exporter": "python",
   "pygments_lexer": "ipython3",
   "version": "3.9.7"
  }
 },
 "nbformat": 4,
 "nbformat_minor": 5
}
