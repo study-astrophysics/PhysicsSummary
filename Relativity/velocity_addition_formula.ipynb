{
 "cells": [
  {
   "cell_type": "markdown",
   "id": "488afd77",
   "metadata": {},
   "source": [
    "# Velocity-Addition Formula (Einstein Velocity Relation)"
   ]
  },
  {
   "cell_type": "markdown",
   "id": "7316f292",
   "metadata": {},
   "source": [
    "Add pictures later\n",
    "\n",
    "$$ \\large u = \\frac{v + u'}{1 + \\frac{vu'}{c^2}} $$ \n",
    "\n",
    "\n",
    "### Related Problems\n",
    "- GRE Physics GR0877: Problem 080"
   ]
  }
 ],
 "metadata": {
  "kernelspec": {
   "display_name": "Python 3 (ipykernel)",
   "language": "python",
   "name": "python3"
  }
 },
 "nbformat": 4,
 "nbformat_minor": 5
}
