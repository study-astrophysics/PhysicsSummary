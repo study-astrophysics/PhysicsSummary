{
 "cells": [
  {
   "cell_type": "markdown",
   "id": "488afd77",
   "metadata": {},
   "source": [
    "# [Velocity-Addition Formula (Einstein Velocity Relation)](https://study-astrophysics.com/velocity-addition-formula/)"
   ]
  },
  {
   "cell_type": "markdown",
   "id": "74e547e8",
   "metadata": {},
   "source": [
    "---"
   ]
  },
  {
   "cell_type": "markdown",
   "id": "7316f292",
   "metadata": {},
   "source": [
    "## Velocity-Addtion Formula\n",
    "\n",
    "\n",
    "Add pictures later\n",
    "\n",
    "$$ \\large u = \\frac{v + u'}{1 + \\frac{vu'}{c^2}} $$ \n",
    "\n",
    "\n",
    "### Related Problems\n",
    "- GRE Physics GR0877: Problem 080"
   ]
  }
 ],
 "metadata": {
  "kernelspec": {
   "display_name": "Python 3 (ipykernel)",
   "language": "python",
   "name": "python3"
  },
  "language_info": {
   "codemirror_mode": {
    "name": "ipython",
    "version": 3
   },
   "file_extension": ".py",
   "mimetype": "text/x-python",
   "name": "python",
   "nbconvert_exporter": "python",
   "pygments_lexer": "ipython3",
   "version": "3.9.7"
  }
 },
 "nbformat": 4,
 "nbformat_minor": 5
}
