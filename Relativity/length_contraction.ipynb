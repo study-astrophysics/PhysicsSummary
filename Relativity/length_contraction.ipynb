{
 "cells": [
  {
   "cell_type": "markdown",
   "id": "30b08d76",
   "metadata": {},
   "source": [
    "# Length Contraction"
   ]
  },
  {
   "cell_type": "markdown",
   "id": "a16d53ba",
   "metadata": {},
   "source": [
    "$$ \\large L = L_0 \\sqrt{1-(v/c)^2} $$"
   ]
  }
 ],
 "metadata": {
  "kernelspec": {
   "display_name": "Python 3 (ipykernel)",
   "language": "python",
   "name": "python3"
  },
  "language_info": {
   "codemirror_mode": {
    "name": "ipython",
    "version": 3
   },
   "file_extension": ".py",
   "mimetype": "text/x-python",
   "name": "python",
   "nbconvert_exporter": "python",
   "pygments_lexer": "ipython3",
   "version": "3.8.2"
  }
 },
 "nbformat": 4,
 "nbformat_minor": 5
}
