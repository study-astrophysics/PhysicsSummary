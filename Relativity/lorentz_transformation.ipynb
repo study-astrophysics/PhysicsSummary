{
 "cells": [
  {
   "cell_type": "markdown",
   "id": "28ec87e1",
   "metadata": {},
   "source": [
    "# [Lorentz Transformation](https://study-astrophysics.com/lorentz-transformation/)"
   ]
  },
  {
   "cell_type": "markdown",
   "id": "37e4288e",
   "metadata": {},
   "source": [
    "---"
   ]
  },
  {
   "cell_type": "markdown",
   "id": "15eb6d87",
   "metadata": {},
   "source": [
    "## Lorentz Transformation\n",
    "\n",
    "The Lorentz transformations are a six-parameter family of linear transformations from a coordinate frame in spacetime to another frame that moves at a constant velocity relative to the former. The respective inverse transformation is then parameterized by the negative of this velocity.\n",
    "\n",
    "\n",
    "\n",
    "The most common form of the transformation, parametrized by the real constant $v$, representing a velocity confined to the $x$-direction, is\n",
    "\n",
    "$$ \\large \\begin{align*} \n",
    "t' &\\ = \\ \\gamma \\left( t - \\frac{vx}{c^2} \\right) \\\\ \n",
    "\\\\\n",
    "x' &\\ = \\ \\gamma (x - vt) \\\\\n",
    "\\\\\n",
    "y' &\\ = \\ y \\\\\n",
    "\\\\\n",
    "z' &\\ = \\ z\n",
    "\\end{align*} $$\n",
    "\n",
    "\n",
    "where\n",
    "\n",
    "\n",
    "- $\\gamma = \\frac{1}{\\sqrt{1- \\beta^2}} $\n",
    "\n",
    "\n",
    "- $\\beta = \\frac{v}{c} $"
   ]
  },
  {
   "cell_type": "markdown",
   "id": "10f0940e",
   "metadata": {},
   "source": [
    "---"
   ]
  },
  {
   "cell_type": "markdown",
   "id": "31aaac8f",
   "metadata": {},
   "source": [
    "## Related Topics\n",
    "\n",
    "\n",
    "### [Lorentz Invariance](https://study-astrophysics.com/lorentz-invariance/)"
   ]
  }
 ],
 "metadata": {
  "kernelspec": {
   "display_name": "Python 3 (ipykernel)",
   "language": "python",
   "name": "python3"
  },
  "language_info": {
   "codemirror_mode": {
    "name": "ipython",
    "version": 3
   },
   "file_extension": ".py",
   "mimetype": "text/x-python",
   "name": "python",
   "nbconvert_exporter": "python",
   "pygments_lexer": "ipython3",
   "version": "3.9.7"
  }
 },
 "nbformat": 4,
 "nbformat_minor": 5
}
