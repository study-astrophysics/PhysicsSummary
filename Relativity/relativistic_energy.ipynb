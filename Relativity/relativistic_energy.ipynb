{
 "cells": [
  {
   "cell_type": "markdown",
   "id": "974487c2",
   "metadata": {},
   "source": [
    "# [Relativistic Energy](https://study-astrophysics.com/relativistic-energy/)"
   ]
  },
  {
   "cell_type": "markdown",
   "id": "dfad8322",
   "metadata": {},
   "source": [
    "---"
   ]
  },
  {
   "cell_type": "markdown",
   "id": "0df5d802",
   "metadata": {},
   "source": [
    "## Energy-momentum Relation (Invariant Energy)\n",
    "\n",
    "$$ \\large E^2 = (pc)^2 + (mc^2)^2 $$\n",
    "\n",
    "where\n",
    "\n",
    "$E$: total energy (relativistic energy)\n",
    "\n",
    "$p$: momentum of magnitude\n",
    "\n",
    "$m$: rest mass (invariant mass)\n",
    "\n",
    "$c$: speed of light\n",
    "\n",
    "\n",
    "### Related Problems\n",
    "- GRE Physics GR1777 Problems [036](https://study-astrophysics.com/gr1777-036/) and [093](https://study-astrophysics.com/gr1777-093/)"
   ]
  },
  {
   "cell_type": "markdown",
   "id": "4145bc26",
   "metadata": {},
   "source": [
    "---"
   ]
  },
  {
   "cell_type": "markdown",
   "id": "dfdc6ee8",
   "metadata": {},
   "source": [
    "## Kinetic Energy\n",
    "\n",
    "$$ \\large \\begin{split} \n",
    "\\text{(Kinetic Energy)} & = \\gamma mc^2 - mc^2 \\\\\n",
    " & = (\\gamma - 1)mc^2\n",
    "\\end{split} $$\n",
    "\n",
    "where\n",
    "\n",
    "$$ \\large \\gamma = \\frac{1}{\\sqrt{1-(v/c)^2}} $$\n",
    "\n",
    "\n",
    "### Related Problems\n",
    "- GRE Physics GR1777 Problem 085"
   ]
  }
 ],
 "metadata": {
  "kernelspec": {
   "display_name": "Python 3",
   "language": "python",
   "name": "python3"
  },
  "language_info": {
   "codemirror_mode": {
    "name": "ipython",
    "version": 3
   },
   "file_extension": ".py",
   "mimetype": "text/x-python",
   "name": "python",
   "nbconvert_exporter": "python",
   "pygments_lexer": "ipython3",
   "version": "3.8.8"
  }
 },
 "nbformat": 4,
 "nbformat_minor": 5
}
