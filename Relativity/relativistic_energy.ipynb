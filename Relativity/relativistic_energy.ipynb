{
 "cells": [
  {
   "cell_type": "markdown",
   "id": "974487c2",
   "metadata": {},
   "source": [
    "# Relativistic Energy"
   ]
  },
  {
   "cell_type": "markdown",
   "id": "0df5d802",
   "metadata": {},
   "source": [
    "## Total Energy\n",
    "\n",
    "$$ \\large E^2 = (pc)^2 + (mc^2)^2 $$"
   ]
  },
  {
   "cell_type": "markdown",
   "id": "dfdc6ee8",
   "metadata": {},
   "source": [
    "## Kinetic Energy\n",
    "\n",
    "$$ \\large \\begin{split} \n",
    "K.E. & = \\gamma mc^2 - mc^2 \\\\\n",
    " & = (\\gamma - 1)mc^2\n",
    "\\end{split} $$\n",
    "\n",
    "where\n",
    "\n",
    "$$ \\large \\gamma = \\frac{1}{\\sqrt{1-(v/c)^2}} $$\n",
    "\n",
    "\n",
    "### Related Problems\n",
    "- GRE Physics GR1777: Problem 085"
   ]
  }
 ],
 "metadata": {
  "kernelspec": {
   "display_name": "Python 3 (ipykernel)",
   "language": "python",
   "name": "python3"
  },
  "language_info": {
   "codemirror_mode": {
    "name": "ipython",
    "version": 3
   },
   "file_extension": ".py",
   "mimetype": "text/x-python",
   "name": "python",
   "nbconvert_exporter": "python",
   "pygments_lexer": "ipython3",
   "version": "3.8.2"
  }
 },
 "nbformat": 4,
 "nbformat_minor": 5
}
