{
 "cells": [
  {
   "cell_type": "markdown",
   "id": "d274432b",
   "metadata": {},
   "source": [
    "# [Relativistic Doppler Effect](https://study-astrophysics.com/relativistic-doppler-effect/)"
   ]
  },
  {
   "cell_type": "markdown",
   "id": "2fc882dc",
   "metadata": {},
   "source": [
    "---"
   ]
  },
  {
   "cell_type": "markdown",
   "id": "8800112e",
   "metadata": {},
   "source": [
    "## Relativistic Doppler Effect\n",
    "\n",
    "\n",
    "$$ \\large \\frac{f_s}{f_o} = \\frac{\\lambda_0}{\\lambda_s} = \\sqrt{\\frac{1+\\beta}{1-\\beta}} $$\n",
    "\n",
    "\n",
    "### Related Problems\n",
    "- GRE Physics GR1777: Problem [084](https://study-astrophysics.com/gr1777-084/)\n",
    "- GRE Physics GR0877: Problem 055\n",
    "- GRE Physics GR0177: Problem 071"
   ]
  },
  {
   "cell_type": "markdown",
   "id": "54fc5e90",
   "metadata": {},
   "source": [
    "---"
   ]
  },
  {
   "cell_type": "markdown",
   "id": "78f1746f",
   "metadata": {},
   "source": [
    "## Related Topics\n",
    "\n",
    "\n",
    "### [Doppler Effect](https://study-astrophysics.com/doppler-effect/)"
   ]
  }
 ],
 "metadata": {
  "kernelspec": {
   "display_name": "Python 3 (ipykernel)",
   "language": "python",
   "name": "python3"
  },
  "language_info": {
   "codemirror_mode": {
    "name": "ipython",
    "version": 3
   },
   "file_extension": ".py",
   "mimetype": "text/x-python",
   "name": "python",
   "nbconvert_exporter": "python",
   "pygments_lexer": "ipython3",
   "version": "3.8.13"
  }
 },
 "nbformat": 4,
 "nbformat_minor": 5
}
