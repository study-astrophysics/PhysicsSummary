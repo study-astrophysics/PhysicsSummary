{
 "cells": [
  {
   "cell_type": "markdown",
   "id": "d274432b",
   "metadata": {},
   "source": [
    "# Relativistic Doppler Effect"
   ]
  },
  {
   "cell_type": "markdown",
   "id": "8800112e",
   "metadata": {},
   "source": [
    "$$ \\large \\frac{f_s}{f_o} = \\frac{\\lambda_0}{\\lambda_s} = \\sqrt{\\frac{1+\\beta}{1-\\beta}} $$\n",
    "\n",
    "\n",
    "### Related Problems\n",
    "- GRE Physics GR1777: Problem 084\n",
    "- GRE Physics GR0877: Problem 055\n",
    "- GRE Physics GR0177: Problem 071"
   ]
  }
 ],
 "metadata": {
  "kernelspec": {
   "display_name": "Python 3 (ipykernel)",
   "language": "python",
   "name": "python3"
  },
  "language_info": {
   "codemirror_mode": {
    "name": "ipython",
    "version": 3
   },
   "file_extension": ".py",
   "mimetype": "text/x-python",
   "name": "python",
   "nbconvert_exporter": "python",
   "pygments_lexer": "ipython3",
   "version": "3.8.2"
  }
 },
 "nbformat": 4,
 "nbformat_minor": 5
}
