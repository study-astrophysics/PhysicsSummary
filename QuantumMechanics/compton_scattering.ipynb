{
 "cells": [
  {
   "cell_type": "markdown",
   "id": "2121cd6a",
   "metadata": {},
   "source": [
    "# [Compton Scattering](https://study-astrophysics.com/compton-scattering/)"
   ]
  },
  {
   "cell_type": "markdown",
   "id": "235c5da4",
   "metadata": {},
   "source": [
    "---"
   ]
  },
  {
   "cell_type": "markdown",
   "id": "88d9e53a",
   "metadata": {},
   "source": [
    "## Compton Scattering\n",
    "\n",
    "\n",
    "$$ \\large \\lambda' - \\lambda \\ = \\ \\frac{h}{mc} (1 - \\cos \\theta) $$\n",
    "\n",
    "\n",
    "### Related Problems\n",
    "- GRE Physics GR1777 Problem [060](https://study-astrophysics.com/gr1777-060/)\n",
    "- GRE Physics GR0877 Problem 097"
   ]
  },
  {
   "cell_type": "markdown",
   "id": "1f1015f3",
   "metadata": {},
   "source": [
    "---"
   ]
  },
  {
   "cell_type": "markdown",
   "id": "1e0125d0",
   "metadata": {},
   "source": [
    "$$ \\large E = \\frac{hc}{\\lambda} $$"
   ]
  }
 ],
 "metadata": {
  "kernelspec": {
   "display_name": "Python 3 (ipykernel)",
   "language": "python",
   "name": "python3"
  },
  "language_info": {
   "codemirror_mode": {
    "name": "ipython",
    "version": 3
   },
   "file_extension": ".py",
   "mimetype": "text/x-python",
   "name": "python",
   "nbconvert_exporter": "python",
   "pygments_lexer": "ipython3",
   "version": "3.8.13"
  }
 },
 "nbformat": 4,
 "nbformat_minor": 5
}
