{
 "cells": [
  {
   "cell_type": "markdown",
   "id": "62fa7f30",
   "metadata": {},
   "source": [
    "# [Pauli Matrices](https://study-astrophysics.com/pauli-matrices/)"
   ]
  },
  {
   "cell_type": "markdown",
   "id": "bf23b406",
   "metadata": {},
   "source": [
    "---"
   ]
  },
  {
   "cell_type": "markdown",
   "id": "48baaa09",
   "metadata": {},
   "source": [
    "## Pauli Spin Matrices\n",
    "\n",
    "The spin operators are related to the Pauli matrices in this basis $\\hat{S}_i = \\tfrac{\\hbar}{2} \\sigma_i$\n",
    "\n",
    "$$ \\large \\sigma_x = \\begin{pmatrix}\n",
    "0 & 1 \\\\\n",
    "1 & 0\n",
    "\\end{pmatrix} $$\n",
    "\n",
    "$$ \\\\ $$\n",
    "\n",
    "$$ \\large \\sigma_y = \\begin{pmatrix}\n",
    "0 & -i \\\\\n",
    "i & 0\n",
    "\\end{pmatrix} $$\n",
    "\n",
    "$$ \\\\ $$\n",
    "\n",
    "$$ \\large \\sigma_z = \\begin{pmatrix}\n",
    "1 & 0 \\\\\n",
    "0 & -1\n",
    "\\end{pmatrix} $$\n",
    "\n",
    "\n",
    "### Related Problems\n",
    "- GRE Physics GR1777 Problem [071](https://study-astrophysics.com/gr1777-071/)\n",
    "- GRE Physics GR0877 Problem 087"
   ]
  },
  {
   "cell_type": "markdown",
   "id": "a4974b0b",
   "metadata": {},
   "source": [
    "---"
   ]
  },
  {
   "cell_type": "markdown",
   "id": "58e68edd",
   "metadata": {},
   "source": [
    "## Eigenspinors of $\\hat{S}_x$ in this basis,\n",
    "\n",
    "\n",
    "$$ \\large \\chi^{(x)}_\\pm \\ = \\ \\frac{1}{\\sqrt{2}} \\begin{pmatrix}\n",
    "1 \\\\\n",
    "\\pm 1\n",
    "\\end{pmatrix} $$"
   ]
  }
 ],
 "metadata": {
  "kernelspec": {
   "display_name": "Python 3 (ipykernel)",
   "language": "python",
   "name": "python3"
  },
  "language_info": {
   "codemirror_mode": {
    "name": "ipython",
    "version": 3
   },
   "file_extension": ".py",
   "mimetype": "text/x-python",
   "name": "python",
   "nbconvert_exporter": "python",
   "pygments_lexer": "ipython3",
   "version": "3.8.13"
  }
 },
 "nbformat": 4,
 "nbformat_minor": 5
}
