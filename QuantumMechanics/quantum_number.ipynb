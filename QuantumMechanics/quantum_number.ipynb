{
 "cells": [
  {
   "cell_type": "markdown",
   "id": "5bf95dd1",
   "metadata": {},
   "source": [
    "# Quantum Number"
   ]
  },
  {
   "cell_type": "markdown",
   "id": "28311841",
   "metadata": {},
   "source": [
    "## Principal Quantum Number\n",
    "\n",
    "$$ \\large n = 0, 1, 2, 3, ... $$"
   ]
  },
  {
   "cell_type": "markdown",
   "id": "d3ef8cf5",
   "metadata": {},
   "source": [
    "## Orbital Quantum Number\n",
    "\n",
    "$$ \\large l = 0, 1, 2, ... ,n-1 $$"
   ]
  },
  {
   "cell_type": "markdown",
   "id": "fbc769c2",
   "metadata": {},
   "source": [
    "## Magnetic Quantum Number\n",
    "\n",
    "\n",
    "$$ \\large m = -l, -l+1, ..., -1, 0, 1, ... l-1, l $$\n",
    "\n",
    "In total, there are $2l+1$ numbers.\n",
    "\n",
    "\n",
    "### Related Problems\n",
    "- GRE Physics GR0877 Problem 064"
   ]
  },
  {
   "cell_type": "markdown",
   "id": "80a3d451",
   "metadata": {},
   "source": [
    "## Spin Quantum Number\n",
    "\n",
    "$$ \\large m_s = +\\frac{1}{2}, -\\frac{1}{2} $$"
   ]
  },
  {
   "cell_type": "markdown",
   "id": "22fb0a38",
   "metadata": {},
   "source": [
    "## Orbital Angular Momentum\n",
    "\n",
    "$$ \\large L = \\sqrt{l(l+1)}\\hbar $$\n",
    "\n",
    "$$ \\large L^2 = l(l+1)\\hbar^2 $$\n",
    "\n",
    "$$ \\large L_z = m\\hbar $$\n",
    "\n",
    "\n",
    "### Related Problems\n",
    "- GRE Physics GR0177 Problem 081"
   ]
  }
 ],
 "metadata": {
  "kernelspec": {
   "display_name": "Python 3 (ipykernel)",
   "language": "python",
   "name": "python3"
  },
  "language_info": {
   "codemirror_mode": {
    "name": "ipython",
    "version": 3
   },
   "file_extension": ".py",
   "mimetype": "text/x-python",
   "name": "python",
   "nbconvert_exporter": "python",
   "pygments_lexer": "ipython3",
   "version": "3.8.2"
  }
 },
 "nbformat": 4,
 "nbformat_minor": 5
}
