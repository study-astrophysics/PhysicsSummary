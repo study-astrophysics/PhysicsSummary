{
 "cells": [
  {
   "cell_type": "markdown",
   "id": "4378c890",
   "metadata": {},
   "source": [
    "# [Spin](https://study-astrophysics.com/spin/)"
   ]
  },
  {
   "cell_type": "markdown",
   "id": "aaf03708",
   "metadata": {},
   "source": [
    "---"
   ]
  },
  {
   "cell_type": "markdown",
   "id": "8466de9f",
   "metadata": {},
   "source": [
    "## Spin Examples\n",
    "\n",
    "\n",
    "### $\\Pi^0$ meson has a spin $s = 0$"
   ]
  },
  {
   "cell_type": "markdown",
   "id": "ed271c1c",
   "metadata": {},
   "source": [
    "---"
   ]
  },
  {
   "cell_type": "markdown",
   "id": "29b7817c",
   "metadata": {},
   "source": [
    "## Fermion\n",
    "\n",
    "\n",
    "Fermion has a half-integer spin\n",
    "\n",
    "\n",
    "### Example: Electron has a spin $s = 1/2$"
   ]
  },
  {
   "cell_type": "markdown",
   "id": "6b55b8cb",
   "metadata": {},
   "source": [
    "---"
   ]
  },
  {
   "cell_type": "markdown",
   "id": "6089d1c8",
   "metadata": {},
   "source": [
    "## Boson\n",
    "\n",
    "\n",
    "Boson has an integer spin\n",
    "\n",
    "\n",
    "### Example: Photon has a spin $s = 1$"
   ]
  }
 ],
 "metadata": {
  "kernelspec": {
   "display_name": "Python 3 (ipykernel)",
   "language": "python",
   "name": "python3"
  },
  "language_info": {
   "codemirror_mode": {
    "name": "ipython",
    "version": 3
   },
   "file_extension": ".py",
   "mimetype": "text/x-python",
   "name": "python",
   "nbconvert_exporter": "python",
   "pygments_lexer": "ipython3",
   "version": "3.9.7"
  }
 },
 "nbformat": 4,
 "nbformat_minor": 5
}
