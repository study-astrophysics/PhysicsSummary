{
 "cells": [
  {
   "cell_type": "markdown",
   "id": "6c870a6c",
   "metadata": {},
   "source": [
    "# Spin"
   ]
  },
  {
   "cell_type": "markdown",
   "id": "e6c0b94d",
   "metadata": {},
   "source": [
    "---"
   ]
  },
  {
   "cell_type": "markdown",
   "id": "2d32b0f7",
   "metadata": {},
   "source": [
    "## Spin Examples\n",
    "\n",
    "\n",
    "### $\\Pi^0$ meson has a spin $s = 0$"
   ]
  },
  {
   "cell_type": "markdown",
   "id": "ebf6fb3a",
   "metadata": {},
   "source": [
    "---"
   ]
  },
  {
   "cell_type": "markdown",
   "id": "8d1085db",
   "metadata": {},
   "source": [
    "## Fermion\n",
    "\n",
    "\n",
    "Fermion has a half-integer spin\n",
    "\n",
    "\n",
    "### Example: Electron has a spin $s = 1/2$"
   ]
  },
  {
   "cell_type": "markdown",
   "id": "d1990025",
   "metadata": {},
   "source": [
    "---"
   ]
  },
  {
   "cell_type": "markdown",
   "id": "38a96588",
   "metadata": {},
   "source": [
    "## Boson\n",
    "\n",
    "\n",
    "Boson has an integer spin\n",
    "\n",
    "\n",
    "### Example: Photon has a spin $s = 1$"
   ]
  }
 ],
 "metadata": {
  "kernelspec": {
   "display_name": "Python 3 (ipykernel)",
   "language": "python",
   "name": "python3"
  },
  "language_info": {
   "codemirror_mode": {
    "name": "ipython",
    "version": 3
   },
   "file_extension": ".py",
   "mimetype": "text/x-python",
   "name": "python",
   "nbconvert_exporter": "python",
   "pygments_lexer": "ipython3",
   "version": "3.9.7"
  }
 },
 "nbformat": 4,
 "nbformat_minor": 5
}
