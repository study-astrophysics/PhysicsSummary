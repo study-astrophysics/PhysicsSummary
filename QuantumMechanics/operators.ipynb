{
 "cells": [
  {
   "cell_type": "markdown",
   "id": "f23c3cb1",
   "metadata": {},
   "source": [
    "# Quantum Operators"
   ]
  },
  {
   "cell_type": "markdown",
   "id": "7d64304c",
   "metadata": {},
   "source": [
    "## Kinetic Energy Operator\n",
    "\n",
    "$$ \\large \\hat{T} = \\frac{\\hat{p}^2}{2m} $$"
   ]
  },
  {
   "cell_type": "code",
   "execution_count": null,
   "id": "0179583c",
   "metadata": {},
   "outputs": [],
   "source": []
  }
 ],
 "metadata": {
  "kernelspec": {
   "display_name": "Python 3 (ipykernel)",
   "language": "python",
   "name": "python3"
  },
  "language_info": {
   "codemirror_mode": {
    "name": "ipython",
    "version": 3
   },
   "file_extension": ".py",
   "mimetype": "text/x-python",
   "name": "python",
   "nbconvert_exporter": "python",
   "pygments_lexer": "ipython3",
   "version": "3.8.2"
  }
 },
 "nbformat": 4,
 "nbformat_minor": 5
}
