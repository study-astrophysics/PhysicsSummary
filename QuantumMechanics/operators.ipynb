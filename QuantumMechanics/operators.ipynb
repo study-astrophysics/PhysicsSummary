{
 "cells": [
  {
   "cell_type": "markdown",
   "id": "f23c3cb1",
   "metadata": {},
   "source": [
    "# [Quantum Operators](https://study-astrophysics.com/quantum-operators/)"
   ]
  },
  {
   "cell_type": "markdown",
   "id": "e8519d80",
   "metadata": {},
   "source": [
    "---"
   ]
  },
  {
   "cell_type": "markdown",
   "id": "70d65c96",
   "metadata": {},
   "source": [
    "## Position Operator\n",
    "\n",
    "\n",
    "$$ \\large \\hat{x} \\ = \\  x \\ = \\ i \\hbar \\frac{\\partial}{\\partial p} $$"
   ]
  },
  {
   "cell_type": "markdown",
   "id": "ef0cddec",
   "metadata": {},
   "source": [
    "---"
   ]
  },
  {
   "cell_type": "markdown",
   "id": "e7e45f49",
   "metadata": {},
   "source": [
    "## Momentum Operator\n",
    "\n",
    "\n",
    "$$ \\large \\hat{p} \\ = \\ - i \\hbar \\nabla \\ = \\ - i \\hbar \\frac{\\partial}{\\partial x} $$"
   ]
  },
  {
   "cell_type": "markdown",
   "id": "c970d67c",
   "metadata": {},
   "source": [
    "---"
   ]
  },
  {
   "cell_type": "markdown",
   "id": "1bcabdd9",
   "metadata": {},
   "source": [
    "## Momentum and Position Operator\n",
    "\n",
    "\n",
    "$$ \\large [\\hat{x},\\hat{p}] \\ = \\ i\\hbar $$"
   ]
  },
  {
   "cell_type": "markdown",
   "id": "7504fda6",
   "metadata": {},
   "source": [
    "---"
   ]
  },
  {
   "cell_type": "markdown",
   "id": "7d64304c",
   "metadata": {},
   "source": [
    "## Kinetic Energy Operator\n",
    "\n",
    "$$ \\large \\hat{T} \\ = \\ \\frac{\\hat{p}^2}{2m} $$"
   ]
  },
  {
   "cell_type": "markdown",
   "id": "f99cd49d",
   "metadata": {},
   "source": [
    "---"
   ]
  },
  {
   "cell_type": "markdown",
   "id": "a8d30645",
   "metadata": {},
   "source": [
    "## Hamiltonian Operator\n",
    "\n",
    "\n",
    "$$ \\large \\hat{H} = \\frac{\\hat{p}^2}{2m} + V(\\hat{x}) $$"
   ]
  },
  {
   "cell_type": "markdown",
   "id": "cdcc0f13",
   "metadata": {},
   "source": [
    "---"
   ]
  },
  {
   "cell_type": "markdown",
   "id": "abbd4c48",
   "metadata": {},
   "source": [
    "## Pauli Spin Matrix\n",
    "\n",
    "\n",
    "$$ \\large \\sigma_x = \\begin{pmatrix}\n",
    "0 & 1 \\\\\n",
    "1 & 0\n",
    "\\end{pmatrix} $$\n",
    "\n",
    "$$ \\large \\sigma_y = \\begin{pmatrix}\n",
    "0 & -i \\\\\n",
    "i & 0\n",
    "\\end{pmatrix} $$\n",
    "\n",
    "$$ \\large \\sigma_z = \\begin{pmatrix}\n",
    "1 & 0 \\\\\n",
    "0 & -1\n",
    "\\end{pmatrix} $$\n",
    "\n",
    "\n",
    "### Related Problems\n",
    "- GRE Physics GR0877 Problem 087"
   ]
  },
  {
   "cell_type": "markdown",
   "id": "655931c5",
   "metadata": {},
   "source": [
    "---"
   ]
  },
  {
   "cell_type": "markdown",
   "id": "6312a177",
   "metadata": {},
   "source": [
    "## Angular Momentum Operator\n",
    "\n",
    "$$ \\large [J_x, J_y] = i \\hbar J_z $$\n",
    "\n",
    "$$ \\large [J_y, J_z] = i \\hbar J_x $$\n",
    "\n",
    "$$ \\large [J_z, J_x] = i \\hbar J_y $$\n",
    "\n",
    "Cyclic order\n",
    "\n",
    "\n",
    "## Related Problems\n",
    "- GRE Physics GR0877 Problem 095"
   ]
  },
  {
   "cell_type": "markdown",
   "id": "1ed745fb",
   "metadata": {},
   "source": [
    "---"
   ]
  },
  {
   "cell_type": "markdown",
   "id": "f504b6d3",
   "metadata": {},
   "source": [
    "## Useful Properties\n",
    "\n",
    "Orthogonal (Perpendicular) = Independent\n",
    "\n",
    "\n",
    "### Related Problems\n",
    "- GRE Physics GR0177 Problem 028"
   ]
  },
  {
   "cell_type": "markdown",
   "id": "1f7a2999",
   "metadata": {},
   "source": [
    "---"
   ]
  },
  {
   "cell_type": "markdown",
   "id": "9607674e",
   "metadata": {},
   "source": [
    "## Useful Formula\n",
    "\n",
    "$$ \\large [AB, C] = A[B,C] + [A,C]B $$\n",
    "\n",
    "\n",
    "### Related Problems\n",
    "- GRE Physics GR0177 Problem 043"
   ]
  },
  {
   "cell_type": "markdown",
   "id": "2d131819",
   "metadata": {},
   "source": [
    "---"
   ]
  },
  {
   "cell_type": "markdown",
   "id": "76721842",
   "metadata": {},
   "source": [
    "## Eigenvalue\n",
    "\n",
    "\n",
    "$$ \\large \\det (A-\\lambda I) = 0 $$\n",
    "\n",
    "- Eigenvalues of the Hamiltonian operators are always **real**."
   ]
  },
  {
   "cell_type": "markdown",
   "id": "b4feb3d6",
   "metadata": {},
   "source": [
    "---"
   ]
  },
  {
   "cell_type": "markdown",
   "id": "3f94234b",
   "metadata": {},
   "source": [
    "## Hermitian Operator\n",
    "\n",
    "$\\hat{Q}$ is Hermitian if\n",
    "\n",
    "\n",
    "$$ \\large \\langle \\hat{Q} \\psi|\\psi \\rangle \\ = \\ \\langle \\psi| \\hat{Q} \\psi\\rangle $$\n",
    "\n",
    "\n",
    "- Hermitian operators only have real eigen values.\n",
    "    - Thus, observables are represented by Hermitian operators."
   ]
  },
  {
   "cell_type": "markdown",
   "id": "b5ac5a56",
   "metadata": {},
   "source": [
    "---"
   ]
  },
  {
   "cell_type": "markdown",
   "id": "4c3d394e",
   "metadata": {},
   "source": [
    "## Commutator\n",
    "\n",
    "\n",
    "$$ \\large [\\hat{A},\\hat{B}] \\ = \\ \\hat{A}\\hat{B} - \\hat{B}\\hat{A} $$"
   ]
  }
 ],
 "metadata": {
  "kernelspec": {
   "display_name": "Python 3 (ipykernel)",
   "language": "python",
   "name": "python3"
  },
  "language_info": {
   "codemirror_mode": {
    "name": "ipython",
    "version": 3
   },
   "file_extension": ".py",
   "mimetype": "text/x-python",
   "name": "python",
   "nbconvert_exporter": "python",
   "pygments_lexer": "ipython3",
   "version": "3.9.7"
  }
 },
 "nbformat": 4,
 "nbformat_minor": 5
}
