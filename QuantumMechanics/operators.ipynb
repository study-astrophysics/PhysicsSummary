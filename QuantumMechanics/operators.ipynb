{
 "cells": [
  {
   "cell_type": "markdown",
   "id": "f23c3cb1",
   "metadata": {},
   "source": [
    "# Quantum Operators"
   ]
  },
  {
   "cell_type": "markdown",
   "id": "fe4c38d5",
   "metadata": {},
   "source": [
    "---"
   ]
  },
  {
   "cell_type": "markdown",
   "id": "4a903ae3",
   "metadata": {},
   "source": [
    "## Position Operator\n",
    "\n",
    "\n",
    "$$ \\large \\hat{x} \\ = \\ x $$"
   ]
  },
  {
   "cell_type": "markdown",
   "id": "7143bb32",
   "metadata": {},
   "source": [
    "---"
   ]
  },
  {
   "cell_type": "markdown",
   "id": "9bc027b1",
   "metadata": {},
   "source": [
    "## Momentum Operator\n",
    "\n",
    "\n",
    "$$ \\large \\hat{p} \\ = \\ - i \\hbar \\nabla \\ = \\ - i \\hbar \\frac{\\partial}{\\partial x} $$"
   ]
  },
  {
   "cell_type": "markdown",
   "id": "0f0ad6cf",
   "metadata": {},
   "source": [
    "---"
   ]
  },
  {
   "cell_type": "markdown",
   "id": "7d64304c",
   "metadata": {},
   "source": [
    "## Kinetic Energy Operator\n",
    "\n",
    "$$ \\large \\hat{T} \\ = \\ \\frac{\\hat{p}^2}{2m} $$"
   ]
  },
  {
   "cell_type": "markdown",
   "id": "ba8a8a19",
   "metadata": {},
   "source": [
    "---"
   ]
  },
  {
   "cell_type": "markdown",
   "id": "a8d30645",
   "metadata": {},
   "source": [
    "## Hamiltonian Operator\n",
    "\n",
    "\n",
    "$$ \\large \\hat{H} = \\frac{\\hat{p}^2}{2m} + V(\\hat{x}) $$"
   ]
  },
  {
   "cell_type": "markdown",
   "id": "dfe0e0dd",
   "metadata": {},
   "source": [
    "---"
   ]
  },
  {
   "cell_type": "markdown",
   "id": "abbd4c48",
   "metadata": {},
   "source": [
    "## Pauli Spin Matrix\n",
    "\n",
    "\n",
    "$$ \\large \\sigma_x = \\begin{pmatrix}\n",
    "0 & 1 \\\\\n",
    "1 & 0\n",
    "\\end{pmatrix} $$\n",
    "\n",
    "$$ \\large \\sigma_y = \\begin{pmatrix}\n",
    "0 & -i \\\\\n",
    "i & 0\n",
    "\\end{pmatrix} $$\n",
    "\n",
    "$$ \\large \\sigma_z = \\begin{pmatrix}\n",
    "1 & 0 \\\\\n",
    "0 & -1\n",
    "\\end{pmatrix} $$\n",
    "\n",
    "\n",
    "### Related Problems\n",
    "- GRE Physics GR0877 Problem 087"
   ]
  },
  {
   "cell_type": "markdown",
   "id": "420257e9",
   "metadata": {},
   "source": [
    "---"
   ]
  },
  {
   "cell_type": "markdown",
   "id": "6312a177",
   "metadata": {},
   "source": [
    "## Angular Momentum Operator\n",
    "\n",
    "$$ \\large [J_x, J_y] = i \\hbar J_z $$\n",
    "\n",
    "$$ \\large [J_y, J_z] = i \\hbar J_x $$\n",
    "\n",
    "$$ \\large [J_z, J_x] = i \\hbar J_y $$\n",
    "\n",
    "Cyclic order\n",
    "\n",
    "\n",
    "## Related Problems\n",
    "- GRE Physics GR0877 Problem 095"
   ]
  },
  {
   "cell_type": "markdown",
   "id": "bc9bb1f9",
   "metadata": {},
   "source": [
    "---"
   ]
  },
  {
   "cell_type": "markdown",
   "id": "f504b6d3",
   "metadata": {},
   "source": [
    "## Useful Properties\n",
    "\n",
    "Orthogonal (Perpendicular) = Independent\n",
    "\n",
    "\n",
    "### Related Problems\n",
    "- GRE Physics GR0177 Problem 028"
   ]
  },
  {
   "cell_type": "markdown",
   "id": "e1bd6e0f",
   "metadata": {},
   "source": [
    "---"
   ]
  },
  {
   "cell_type": "markdown",
   "id": "9607674e",
   "metadata": {},
   "source": [
    "## Useful Formula\n",
    "\n",
    "$$ \\large [AB, C] = A[B,C] + [A,C]B $$\n",
    "\n",
    "\n",
    "### Related Problems\n",
    "- GRE Physics GR0177 Problem 043"
   ]
  },
  {
   "cell_type": "markdown",
   "id": "03dbaf7d",
   "metadata": {},
   "source": [
    "---"
   ]
  },
  {
   "cell_type": "markdown",
   "id": "76721842",
   "metadata": {},
   "source": [
    "## Eigenvalue\n",
    "\n",
    "\n",
    "$$ \\large \\det (A-\\lambda I) = 0 $$\n",
    "\n",
    "- Eigenvalues of the Hamiltonian operators are always **real**."
   ]
  }
 ],
 "metadata": {
  "kernelspec": {
   "display_name": "Python 3 (ipykernel)",
   "language": "python",
   "name": "python3"
  },
  "language_info": {
   "codemirror_mode": {
    "name": "ipython",
    "version": 3
   },
   "file_extension": ".py",
   "mimetype": "text/x-python",
   "name": "python",
   "nbconvert_exporter": "python",
   "pygments_lexer": "ipython3",
   "version": "3.9.7"
  }
 },
 "nbformat": 4,
 "nbformat_minor": 5
}
