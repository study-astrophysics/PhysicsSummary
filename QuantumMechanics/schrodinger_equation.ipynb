{
 "cells": [
  {
   "cell_type": "markdown",
   "id": "7205533c",
   "metadata": {},
   "source": [
    "# Schrödinger Equation"
   ]
  },
  {
   "cell_type": "markdown",
   "id": "76c1377e",
   "metadata": {},
   "source": [
    "$$ \\large i\\hbar {\\frac {\\partial }{\\partial t}}\\Psi (x,t)=\\left[-{\\frac {\\hbar ^{2}}{2m}}{\\frac {\\partial ^{2}}{\\partial x^{2}}}+V(x,t)\\right]\\Psi (x,t) $$\n",
    "\n",
    "where\n",
    "\n",
    "- $\\Psi(x,t)$: wave function\n",
    "- "
   ]
  },
  {
   "cell_type": "markdown",
   "id": "c6506394",
   "metadata": {},
   "source": [
    "\n",
    "\n"
   ]
  }
 ],
 "metadata": {
  "kernelspec": {
   "display_name": "Python 3 (ipykernel)",
   "language": "python",
   "name": "python3"
  },
  "language_info": {
   "codemirror_mode": {
    "name": "ipython",
    "version": 3
   },
   "file_extension": ".py",
   "mimetype": "text/x-python",
   "name": "python",
   "nbconvert_exporter": "python",
   "pygments_lexer": "ipython3",
   "version": "3.8.2"
  }
 },
 "nbformat": 4,
 "nbformat_minor": 5
}
