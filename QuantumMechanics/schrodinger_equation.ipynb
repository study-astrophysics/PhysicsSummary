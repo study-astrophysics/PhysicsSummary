{
 "cells": [
  {
   "cell_type": "markdown",
   "id": "7205533c",
   "metadata": {},
   "source": [
    "# [Schrödinger Equation](https://study-astrophysics.com/schrodinger-equation/)"
   ]
  },
  {
   "cell_type": "markdown",
   "id": "c00ad877",
   "metadata": {},
   "source": [
    "---"
   ]
  },
  {
   "cell_type": "markdown",
   "id": "76c1377e",
   "metadata": {},
   "source": [
    "## Time-dependent Schrödinger Equation\n",
    "\n",
    "\n",
    "$$ \\large i\\hbar {\\frac {\\partial }{\\partial t}}\\Psi \\ = \\ \\left[-{\\frac {\\hbar ^{2}}{2m}}\\nabla^2+V \\right]\\Psi $$\n",
    "\n",
    "$$ \\large \\\\ $$\n",
    "\n",
    "$$ \\large i\\hbar {\\frac {d}{dt}}|\\Psi (t)\\rangle \\ = \\ \\left({\\frac {1}{2m}}{\\hat {p}}^{2}+{\\hat {V}}\\right)|\\Psi (t)\\rangle  $$\n",
    "\n",
    "$$ \\large \\\\ $$\n",
    "\n",
    "$$ \\large i\\hbar {\\frac {d}{dt}}\\vert \\Psi (t)\\rangle \\ = \\ {\\hat {H}}\\vert \\Psi (t)\\rangle $$\n",
    "\n",
    "\n",
    "\n",
    "### In 1-D\n",
    "\n",
    "$$ \\large i\\hbar {\\frac {\\partial }{\\partial t}}\\Psi (x,t) \\ = \\ \\left[-{\\frac {\\hbar ^{2}}{2m}}{\\frac {\\partial ^{2}}{\\partial x^{2}}}+V(x,t)\\right]\\Psi (x,t) $$\n",
    "\n",
    "\n",
    "where\n",
    "\n",
    "\n",
    "- $\\Psi(x,t)$: time-dependent wave function\n",
    "\n",
    "\n",
    "- $V$: potential\n",
    "\n",
    "\n",
    "- $\\hbar$: reduced Planck constant"
   ]
  },
  {
   "cell_type": "markdown",
   "id": "c6506394",
   "metadata": {},
   "source": [
    "---"
   ]
  },
  {
   "cell_type": "markdown",
   "id": "c432988a",
   "metadata": {},
   "source": [
    "## Time-independent Schrödinger Equation\n",
    "\n",
    "$$ \\large E \\psi \\ = \\ \\left[-{\\frac {\\hbar ^{2}}{2m}}\\nabla^2+V\\right]\\psi $$\n",
    "\n",
    "\n",
    "$$ \\large \\\\ $$\n",
    "\n",
    "\n",
    "$$ \\large {\\hat {H}} |\\Psi \\rangle \\ = \\ E|\\Psi \\rangle $$\n",
    "\n",
    "\n",
    "## In 1-D\n",
    "\n",
    "$$ \\large E \\psi (x) \\ = \\ \\left[-{\\frac {\\hbar ^{2}}{2m}}{\\frac {\\partial ^{2}}{\\partial x^{2}}}+V(x)\\right]\\psi (x) $$\n",
    "\n",
    "\n",
    "where\n",
    "\n",
    "\n",
    "- $\\psi(x)$: time-independent wave function\n",
    "\n",
    "\n",
    "- $V$: potential\n",
    "\n",
    "\n",
    "- $\\hbar$: reduced Planck constant"
   ]
  },
  {
   "cell_type": "markdown",
   "id": "70fca249",
   "metadata": {},
   "source": [
    "---"
   ]
  },
  {
   "cell_type": "markdown",
   "id": "0cc20424",
   "metadata": {},
   "source": [
    "## Wave function\n",
    "\n",
    "The wave function $\\Psi$ can be factored into a spartial and time component\n",
    "\n",
    "\n",
    "$$ \\large \\Psi (\\vec{x},t) \\ = \\ \\psi(\\vec{x}) \\ \\varphi(t) $$\n",
    "\n",
    "\n",
    "### For a stationary state\n",
    "\n",
    "\n",
    "$$ \\large \\varphi(t) = e^{-i Et/\\hbar} $$\n"
   ]
  },
  {
   "cell_type": "markdown",
   "id": "9bee82e1",
   "metadata": {},
   "source": [
    "---"
   ]
  },
  {
   "cell_type": "markdown",
   "id": "e4bba82b",
   "metadata": {},
   "source": [
    "## Probability Distribution\n",
    "\n",
    "\n",
    "$$ \\large \\int | \\Psi(\\vec{x},t) |^2 d^3 x = 1 $$"
   ]
  }
 ],
 "metadata": {
  "kernelspec": {
   "display_name": "Python 3 (ipykernel)",
   "language": "python",
   "name": "python3"
  },
  "language_info": {
   "codemirror_mode": {
    "name": "ipython",
    "version": 3
   },
   "file_extension": ".py",
   "mimetype": "text/x-python",
   "name": "python",
   "nbconvert_exporter": "python",
   "pygments_lexer": "ipython3",
   "version": "3.9.7"
  }
 },
 "nbformat": 4,
 "nbformat_minor": 5
}
