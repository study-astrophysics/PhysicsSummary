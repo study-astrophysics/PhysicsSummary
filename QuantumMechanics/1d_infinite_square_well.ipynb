{
 "cells": [
  {
   "cell_type": "markdown",
   "id": "6c9f98c0",
   "metadata": {},
   "source": [
    "# One-dimensional Infinite Square Well"
   ]
  },
  {
   "cell_type": "markdown",
   "id": "678607a0",
   "metadata": {},
   "source": [
    "## Energy \n",
    "\n",
    "\n",
    "$$ \\large E_n = \\frac{n^2 \\hbar^2 \\pi^2}{2 m L^2} $$\n",
    "\n",
    "\n",
    "### Related Problems\n",
    "- GRE Physics GR0177 Problem 044"
   ]
  },
  {
   "cell_type": "markdown",
   "id": "18c7a6cb",
   "metadata": {},
   "source": [
    "## Wave Function\n",
    "\n",
    "$$ \\large \\psi (x) = A \\sin \\left( \\frac{n \\pi}{L}x \\right) = \\sqrt{\\frac{2}{L}} \\sin \\left( \\frac{n \\pi}{L}x \\right) $$"
   ]
  },
  {
   "cell_type": "markdown",
   "id": "f70835ea",
   "metadata": {},
   "source": [
    "## Normalization\n",
    "\n",
    "$$ \\begin{split}\n",
    "\\int^L_0 \\psi^* \\psi dx & = \\large \\int^L_0 A^2 \\sin^2 \\left( \\frac{n \\pi}{L} x \\right) dx \\quad & = \\ 1 \\\\\n",
    " & = A^2 \\left[ \\frac{x}{2} - \\frac{\\sin \\left( \\frac{2 n \\pi}{L} x\\right)}{4 \\pi n/L} \\right] & = \\frac{A^2}{2}L\n",
    "\\end{split} $$\n",
    "\n",
    "\n",
    "### Related Problems\n",
    "- GRE Physics GR0877 Problem 085"
   ]
  }
 ],
 "metadata": {
  "kernelspec": {
   "display_name": "Python 3 (ipykernel)",
   "language": "python",
   "name": "python3"
  },
  "language_info": {
   "codemirror_mode": {
    "name": "ipython",
    "version": 3
   },
   "file_extension": ".py",
   "mimetype": "text/x-python",
   "name": "python",
   "nbconvert_exporter": "python",
   "pygments_lexer": "ipython3",
   "version": "3.8.2"
  }
 },
 "nbformat": 4,
 "nbformat_minor": 5
}
