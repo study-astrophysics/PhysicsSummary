{
 "cells": [
  {
   "cell_type": "markdown",
   "id": "6c9f98c0",
   "metadata": {},
   "source": [
    "# [One-dimensional Infinite Square Well](https://study-astrophysics.com/1d-infinite-square-well/)"
   ]
  },
  {
   "cell_type": "markdown",
   "id": "7263ce66",
   "metadata": {},
   "source": [
    "---"
   ]
  },
  {
   "cell_type": "markdown",
   "id": "09967b21",
   "metadata": {},
   "source": [
    "## Potential Energy\n",
    "\n",
    "\n",
    "$$ \\large \\begin{split}\n",
    "V(x) & \\ = \\ 0 \\quad\\quad (0 \\le x \\le L) \\\\\n",
    "\\\\\n",
    "& \\ = \\ \\infty \\quad\\quad (\\text{otherwise}) \\end{split} $$"
   ]
  },
  {
   "cell_type": "markdown",
   "id": "232fc75f",
   "metadata": {},
   "source": [
    "---"
   ]
  },
  {
   "cell_type": "markdown",
   "id": "66c6991a",
   "metadata": {},
   "source": [
    "## Time-Independent Schrodinger Equation\n",
    "\n",
    "$$ \\large \\frac{d^2 \\psi}{dx^2} \\ = \\ -k^2 \\psi$$\n",
    "\n",
    "\n",
    "where\n",
    "\n",
    "\n",
    "- $k = \\sqrt{2mE}/\\hbar$"
   ]
  },
  {
   "cell_type": "markdown",
   "id": "ef1869e7",
   "metadata": {},
   "source": [
    "---"
   ]
  },
  {
   "cell_type": "markdown",
   "id": "678607a0",
   "metadata": {},
   "source": [
    "## Energy \n",
    "\n",
    "\n",
    "$$ \\large E_n = \\frac{n^2 \\hbar^2 \\pi^2}{2 m L^2} $$\n",
    "\n",
    "\n",
    "### Related Problems\n",
    "- GRE Physics GR1777 Problems [013](https://study-astrophysics.com/gr1777-013/) and [092](https://study-astrophysics.com/gr1777-092/)\n",
    "- GRE Physics GR0177 Problem 044"
   ]
  },
  {
   "cell_type": "markdown",
   "id": "7e80fa8c",
   "metadata": {},
   "source": [
    "---"
   ]
  },
  {
   "cell_type": "markdown",
   "id": "18c7a6cb",
   "metadata": {},
   "source": [
    "## Wave Function\n",
    "\n",
    "$$ \\large \\psi (x) = A \\sin \\left( \\frac{n \\pi}{L}x \\right) = \\sqrt{\\frac{2}{L}} \\sin \\left( \\frac{n \\pi}{L}x \\right) $$"
   ]
  },
  {
   "cell_type": "markdown",
   "id": "ae2148fe",
   "metadata": {},
   "source": [
    "---"
   ]
  },
  {
   "cell_type": "markdown",
   "id": "f70835ea",
   "metadata": {},
   "source": [
    "## Normalization\n",
    "\n",
    "$$ \\large  \\begin{split}\n",
    "\\int^L_0 \\psi^* \\psi dx & \\ = \\  \\large \\int^L_0 A^2 \\sin^2 \\left( \\frac{n \\pi}{L} x \\right) dx \\quad & \\ = \\ 1 \\\\\n",
    "\\\\\n",
    " & \\ = \\ A^2 \\left[ \\frac{x}{2} - \\frac{\\sin \\left( \\frac{2 n \\pi}{L} x\\right)}{4 \\pi n/L} \\right] & \\ = \\ \\frac{A^2}{2}L\n",
    "\\end{split} $$\n",
    "\n",
    "\n",
    "### Related Problems\n",
    "- GRE Physics GR0877 Problem 085"
   ]
  },
  {
   "cell_type": "markdown",
   "id": "497e83f4",
   "metadata": {},
   "source": [
    "---"
   ]
  },
  {
   "cell_type": "markdown",
   "id": "304da3ab",
   "metadata": {},
   "source": [
    "## Orthogonal Condition\n",
    "\n",
    "$$ \\large \\int^L_0 \\psi^*_m \\psi_n dx \\ = \\ \\delta_{mn} $$"
   ]
  },
  {
   "cell_type": "markdown",
   "id": "2999a166",
   "metadata": {},
   "source": [
    "---"
   ]
  },
  {
   "cell_type": "markdown",
   "id": "1f321dcb",
   "metadata": {},
   "source": [
    "## $c_n$\n",
    "\n",
    "\n",
    "$$ \\large c_n = \\sqrt{\\frac{2}{L}} \\int^L_0 \\sin \\left( \\frac{n \\pi}{L}x \\right) \\Psi (x,0) dx $$"
   ]
  },
  {
   "cell_type": "markdown",
   "id": "317db0ad",
   "metadata": {},
   "source": [
    "---"
   ]
  },
  {
   "cell_type": "markdown",
   "id": "53596857",
   "metadata": {},
   "source": [
    "One-dimensional problem has no degenerate states."
   ]
  },
  {
   "cell_type": "markdown",
   "id": "545fcc5d",
   "metadata": {},
   "source": [
    "---"
   ]
  },
  {
   "cell_type": "markdown",
   "id": "0e59e6fa",
   "metadata": {},
   "source": [
    "## Delta Function Well\n",
    "\n",
    "\n",
    "### Potential\n",
    "\n",
    "$$ \\large V \\ = \\ - \\alpha \\delta (x) $$\n",
    "\n",
    "\n",
    "### It only has one bound state, and many scattering states.\n",
    "\n",
    "\n",
    "### Solution\n",
    "\n",
    "\n",
    "$$ \\large \\psi (x)  \\ = \\ \\sqrt{\\frac{m\\alpha}{\\hbar}} e^{-m\\alpha|x|/\\pi^2} $$\n",
    "\n",
    "\n",
    "### Energy\n",
    "\n",
    "\n",
    "$$ \\large E \\ = \\ - \\frac{m\\alpha^2}{2\\hbar^2} $$"
   ]
  }
 ],
 "metadata": {
  "kernelspec": {
   "display_name": "Python 3",
   "language": "python",
   "name": "python3"
  },
  "language_info": {
   "codemirror_mode": {
    "name": "ipython",
    "version": 3
   },
   "file_extension": ".py",
   "mimetype": "text/x-python",
   "name": "python",
   "nbconvert_exporter": "python",
   "pygments_lexer": "ipython3",
   "version": "3.8.8"
  }
 },
 "nbformat": 4,
 "nbformat_minor": 5
}
