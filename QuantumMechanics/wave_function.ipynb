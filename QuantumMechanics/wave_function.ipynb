{
 "cells": [
  {
   "cell_type": "markdown",
   "id": "f9162c38",
   "metadata": {},
   "source": [
    "# [Wave Function](https://study-astrophysics.com/wave-function/)"
   ]
  },
  {
   "cell_type": "markdown",
   "id": "16bcbac3",
   "metadata": {},
   "source": [
    "---"
   ]
  },
  {
   "cell_type": "markdown",
   "id": "d4ab725d",
   "metadata": {},
   "source": [
    "## Wave function\n",
    "\n",
    "The wave function $\\Psi$ can be factored into a spartial and time component\n",
    "\n",
    "\n",
    "$$ \\large \\Psi (\\vec{x},t) \\ = \\ \\psi(\\vec{x}) \\ \\varphi(t) $$\n",
    "\n",
    "\n",
    "### For a stationary state\n",
    "\n",
    "\n",
    "$$ \\large \\varphi(t) = e^{-i Et/\\hbar} $$\n"
   ]
  },
  {
   "cell_type": "markdown",
   "id": "b6a8dcac",
   "metadata": {},
   "source": [
    "---"
   ]
  },
  {
   "cell_type": "markdown",
   "id": "44f53ff8",
   "metadata": {},
   "source": [
    "## Probability Distribution\n",
    "\n",
    "\n",
    "$$ \\large \\int | \\Psi(\\vec{x},t) |^2 d^3 x = 1 $$"
   ]
  },
  {
   "cell_type": "markdown",
   "id": "6f97b331",
   "metadata": {},
   "source": [
    "---"
   ]
  },
  {
   "cell_type": "markdown",
   "id": "9f06bd11",
   "metadata": {},
   "source": [
    "## Momentum Space Wave Function \n",
    "\n",
    "\n",
    "$$ \\large \\Phi (p,t) \\ = \\ \\frac{1}{\\sqrt{2\\pi\\hbar}} \\int e^{-ipx/\\hbar} \\Psi(x,t) dx $$\n",
    "\n",
    "\n",
    "$$ \\\\ $$\n",
    "\n",
    "\n",
    "$$ \\large \\Psi (x,t) \\ = \\ \\frac{1}{\\sqrt{2\\pi\\hbar}} \\int e^{-ipx/\\hbar} \\Phi(p,t) dp $$"
   ]
  }
 ],
 "metadata": {
  "kernelspec": {
   "display_name": "Python 3 (ipykernel)",
   "language": "python",
   "name": "python3"
  },
  "language_info": {
   "codemirror_mode": {
    "name": "ipython",
    "version": 3
   },
   "file_extension": ".py",
   "mimetype": "text/x-python",
   "name": "python",
   "nbconvert_exporter": "python",
   "pygments_lexer": "ipython3",
   "version": "3.9.7"
  }
 },
 "nbformat": 4,
 "nbformat_minor": 5
}
