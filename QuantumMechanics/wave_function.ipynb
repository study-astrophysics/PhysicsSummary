{
 "cells": [
  {
   "cell_type": "markdown",
   "id": "f9162c38",
   "metadata": {},
   "source": [
    "# Wave Function"
   ]
  },
  {
   "cell_type": "markdown",
   "id": "16bcbac3",
   "metadata": {},
   "source": [
    "---"
   ]
  },
  {
   "cell_type": "markdown",
   "id": "d4ab725d",
   "metadata": {},
   "source": [
    "## Wave function\n",
    "\n",
    "The wave function $\\Psi$ can be factored into a spartial and time component\n",
    "\n",
    "\n",
    "$$ \\large \\Psi (\\vec{x},t) \\ = \\ \\psi(\\vec{x}) \\ \\varphi(t) $$\n",
    "\n",
    "\n",
    "### For a stationary state\n",
    "\n",
    "\n",
    "$$ \\large \\varphi(t) = e^{-i Et/\\hbar} $$\n"
   ]
  },
  {
   "cell_type": "markdown",
   "id": "b6a8dcac",
   "metadata": {},
   "source": [
    "---"
   ]
  },
  {
   "cell_type": "markdown",
   "id": "44f53ff8",
   "metadata": {},
   "source": [
    "## Probability Distribution\n",
    "\n",
    "\n",
    "$$ \\large \\int | \\Psi(\\vec{x},t) |^2 d^3 x = 1 $$"
   ]
  }
 ],
 "metadata": {
  "kernelspec": {
   "display_name": "Python 3 (ipykernel)",
   "language": "python",
   "name": "python3"
  },
  "language_info": {
   "codemirror_mode": {
    "name": "ipython",
    "version": 3
   },
   "file_extension": ".py",
   "mimetype": "text/x-python",
   "name": "python",
   "nbconvert_exporter": "python",
   "pygments_lexer": "ipython3",
   "version": "3.8.2"
  }
 },
 "nbformat": 4,
 "nbformat_minor": 5
}
