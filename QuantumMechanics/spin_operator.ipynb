{
 "cells": [
  {
   "cell_type": "markdown",
   "id": "a8ab3fe4",
   "metadata": {},
   "source": [
    "# Spin Operator"
   ]
  },
  {
   "cell_type": "markdown",
   "id": "a494247e",
   "metadata": {},
   "source": [
    "---"
   ]
  },
  {
   "cell_type": "markdown",
   "id": "7529dbc8",
   "metadata": {},
   "source": [
    "## Commutative Property\n",
    "\n",
    "\n",
    "$$ \\large [\\hat{S}_i, \\hat{S}_j] \\ = \\ i \\hbar \\epsilon_{ijk} \\hat{S}_k $$\n",
    "\n",
    "$$ \\\\ $$\n",
    "\n",
    "$$ \\large [\\hat{S}^2, \\hat{S}_i] \\ = \\ 0 $$"
   ]
  },
  {
   "cell_type": "markdown",
   "id": "558a0372",
   "metadata": {},
   "source": [
    "---"
   ]
  },
  {
   "cell_type": "markdown",
   "id": "f8863792",
   "metadata": {},
   "source": [
    "## Eigenvalues\n",
    "\n",
    "\n",
    "### of $\\hat{S}^2$\n",
    "\n",
    "\n",
    "$$ \\large \\hat{S}^2 | sm \\rangle \\ = \\ s(s+1) \\hbar^2 | sm \\rangle $$\n",
    "\n",
    "\n",
    "### of $\\hat{S}_z$\n",
    "\n",
    "\n",
    "$$ \\large \\hat{S}_z | sm \\rangle \\ = \\ m \\hbar | sm \\rangle $$\n",
    "\n",
    "\n",
    "where\n",
    "\n",
    "- $s = 0, \\tfrac{1}{2}, \\tfrac{3}{2}, \\cdots$\n",
    "\n",
    "\n",
    "- $m = -s, -(s-1), \\cdots, -1, 0, 1, \\cdots (s-1), s$"
   ]
  }
 ],
 "metadata": {
  "kernelspec": {
   "display_name": "Python 3 (ipykernel)",
   "language": "python",
   "name": "python3"
  },
  "language_info": {
   "codemirror_mode": {
    "name": "ipython",
    "version": 3
   },
   "file_extension": ".py",
   "mimetype": "text/x-python",
   "name": "python",
   "nbconvert_exporter": "python",
   "pygments_lexer": "ipython3",
   "version": "3.9.7"
  }
 },
 "nbformat": 4,
 "nbformat_minor": 5
}
