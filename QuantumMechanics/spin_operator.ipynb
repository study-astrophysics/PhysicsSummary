{
 "cells": [
  {
   "cell_type": "markdown",
   "id": "5ec71514",
   "metadata": {},
   "source": [
    "# [Spin Operator](https://study-astrophysics.com/spin-operator/)"
   ]
  },
  {
   "cell_type": "markdown",
   "id": "8f47a49c",
   "metadata": {},
   "source": [
    "---"
   ]
  },
  {
   "cell_type": "markdown",
   "id": "94f06eb1",
   "metadata": {},
   "source": [
    "## Commutative Property\n",
    "\n",
    "\n",
    "$$ \\large [\\hat{S}_i, \\hat{S}_j] \\ = \\ i \\hbar \\epsilon_{ijk} \\hat{S}_k $$\n",
    "\n",
    "$$ \\\\ $$\n",
    "\n",
    "$$ \\large [\\hat{S}^2, \\hat{S}_i] \\ = \\ 0 $$"
   ]
  },
  {
   "cell_type": "markdown",
   "id": "b37c3dcc",
   "metadata": {},
   "source": [
    "---"
   ]
  },
  {
   "cell_type": "markdown",
   "id": "c30a0ae0",
   "metadata": {},
   "source": [
    "## Eigenvalues of $\\hat{S}^2$\n",
    "\n",
    "\n",
    "$$ \\large \\hat{S}^2 | sm \\rangle \\ = \\ s(s+1) \\hbar^2 | sm \\rangle $$\n",
    "\n",
    "\n",
    "\n",
    "\n",
    "## Eigenvalues of $\\hat{S}_z$\n",
    "\n",
    "\n",
    "$$ \\large \\hat{S}_z | sm \\rangle \\ = \\ m \\hbar | sm \\rangle $$\n",
    "\n",
    "\n",
    "where\n",
    "\n",
    "- $s = 0, \\tfrac{1}{2}, \\tfrac{3}{2}, \\cdots$\n",
    "\n",
    "\n",
    "- $m = -s, -(s-1), \\cdots, -1, 0, 1, \\cdots (s-1), s$"
   ]
  }
 ],
 "metadata": {
  "kernelspec": {
   "display_name": "Python 3 (ipykernel)",
   "language": "python",
   "name": "python3"
  },
  "language_info": {
   "codemirror_mode": {
    "name": "ipython",
    "version": 3
   },
   "file_extension": ".py",
   "mimetype": "text/x-python",
   "name": "python",
   "nbconvert_exporter": "python",
   "pygments_lexer": "ipython3",
   "version": "3.9.7"
  }
 },
 "nbformat": 4,
 "nbformat_minor": 5
}
