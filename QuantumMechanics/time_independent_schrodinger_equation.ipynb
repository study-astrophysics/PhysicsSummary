{
 "cells": [
  {
   "cell_type": "markdown",
   "id": "7205533c",
   "metadata": {},
   "source": [
    "# [Time Independent Schrödinger Equation](https://study-astrophysics.com/time-independent-schrodinger-equation/)"
   ]
  },
  {
   "cell_type": "markdown",
   "id": "c00ad877",
   "metadata": {},
   "source": [
    "---"
   ]
  },
  {
   "cell_type": "markdown",
   "id": "c432988a",
   "metadata": {},
   "source": [
    "## Time-independent Schrödinger Equation\n",
    "\n",
    "$$ \\large E \\psi \\ = \\ \\left[-{\\frac {\\hbar ^{2}}{2m}}\\nabla^2+V\\right]\\psi $$\n",
    "\n",
    "\n",
    "$$ \\large \\\\ $$\n",
    "\n",
    "\n",
    "$$ \\large {\\hat {H}} |\\Psi \\rangle \\ = \\ E|\\Psi \\rangle $$\n",
    "\n",
    "\n",
    "## In 1-D\n",
    "\n",
    "$$ \\large E \\psi (x) \\ = \\ \\left[-{\\frac {\\hbar ^{2}}{2m}}{\\frac {\\partial ^{2}}{\\partial x^{2}}}+V(x)\\right]\\psi (x) $$\n",
    "\n",
    "\n",
    "where\n",
    "\n",
    "\n",
    "- $\\psi(x)$: time-independent wave function\n",
    "\n",
    "\n",
    "- $V$: potential\n",
    "\n",
    "\n",
    "- $\\hbar$: reduced Planck constant"
   ]
  },
  {
   "cell_type": "markdown",
   "id": "70fca249",
   "metadata": {},
   "source": [
    "---"
   ]
  },
  {
   "cell_type": "markdown",
   "id": "e4bba82b",
   "metadata": {},
   "source": [
    "## General Solution\n",
    "\n",
    "\n",
    "$$ \\large \\Psi(x,t) \\ = \\ \\sum^\\infty_{n=1} c_n \\psi_n(x) e^{-i E_nt/\\hbar}  $$\n",
    "\n",
    "\n",
    "where\n",
    "\n",
    "\n",
    "- $c_n = \\langle \\psi_n | \\Psi \\rangle$: complex constant $\\sum^\\infty_{n=1} |c_n|^2 = 1 $"
   ]
  }
 ],
 "metadata": {
  "kernelspec": {
   "display_name": "Python 3 (ipykernel)",
   "language": "python",
   "name": "python3"
  },
  "language_info": {
   "codemirror_mode": {
    "name": "ipython",
    "version": 3
   },
   "file_extension": ".py",
   "mimetype": "text/x-python",
   "name": "python",
   "nbconvert_exporter": "python",
   "pygments_lexer": "ipython3",
   "version": "3.8.2"
  }
 },
 "nbformat": 4,
 "nbformat_minor": 5
}
