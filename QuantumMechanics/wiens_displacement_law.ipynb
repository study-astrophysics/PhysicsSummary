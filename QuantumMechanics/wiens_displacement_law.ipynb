{
 "cells": [
  {
   "cell_type": "markdown",
   "id": "881af6be",
   "metadata": {},
   "source": [
    "# Wien's displacement law"
   ]
  },
  {
   "cell_type": "markdown",
   "id": "171d16f2",
   "metadata": {},
   "source": [
    "$$ \\large \\lambda_\\text{max} = \\frac{b}{T} $$\n",
    "\n",
    "where\n",
    "\n",
    "$b = 2.9 \\times 10^{-3} \\text{m $\\cdot$ K} $\n",
    "\n",
    "\n",
    "### Related Problems\n",
    "- GRE Physics GR0177: Problem 063"
   ]
  }
 ],
 "metadata": {
  "kernelspec": {
   "display_name": "Python 3 (ipykernel)",
   "language": "python",
   "name": "python3"
  }
 },
 "nbformat": 4,
 "nbformat_minor": 5
}
