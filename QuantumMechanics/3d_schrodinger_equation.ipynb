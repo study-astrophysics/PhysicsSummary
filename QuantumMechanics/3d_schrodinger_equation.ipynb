{
 "cells": [
  {
   "cell_type": "markdown",
   "id": "4bb29c03",
   "metadata": {},
   "source": [
    "# [3-Dimensional Schrödinger Equation](https://study-astrophysics.com/3d-schrodinger-equation/)"
   ]
  },
  {
   "cell_type": "markdown",
   "id": "ffa80a59",
   "metadata": {},
   "source": [
    "---"
   ]
  },
  {
   "cell_type": "markdown",
   "id": "8fae40c6",
   "metadata": {},
   "source": [
    "## Separation of Variables\n",
    "\n",
    "$$ \\large \\psi (r, \\theta, \\phi) \\ = \\ R(r) \\ Y(\\theta, \\phi) $$"
   ]
  },
  {
   "cell_type": "markdown",
   "id": "be380926",
   "metadata": {},
   "source": [
    "---"
   ]
  },
  {
   "cell_type": "markdown",
   "id": "eaf5bd02",
   "metadata": {},
   "source": [
    "## 3-D Schrödinger Equation\n",
    "\n",
    "\n",
    "\n",
    "### Radial Equation\n",
    "\n",
    "\n",
    "$$ \\large \\frac{1}{R} \\frac{d}{dr} \\left( r^2 \\frac{dR}{dr} \\right) - \\frac{2mr^2}{\\hbar^2} (V(r) - E) \\ = \\ l (l+1) $$\n",
    "\n",
    "\n",
    "### Angular Equation\n",
    "\n",
    "\n",
    "$$ \\large \\frac{1}{Y} \\left( \\frac{1}{\\sin \\theta} \\frac{\\partial}{\\partial \\theta} \\left( \\sin \\theta \\frac{\\partial Y}{\\partial \\theta} \\right) + \\frac{1}{\\sin^2 \\theta} \\frac{\\partial^2 Y}{\\partial \\phi^2} \\right) \\ = \\ - l(l+1) $$"
   ]
  },
  {
   "cell_type": "markdown",
   "id": "4aa980b4",
   "metadata": {},
   "source": [
    "---"
   ]
  },
  {
   "cell_type": "markdown",
   "id": "405653de",
   "metadata": {},
   "source": [
    "## Solutions\n",
    "\n",
    "\n",
    "### Radial Solutions\n",
    "\n",
    "\n",
    "It depends on the potential $V(r)$.\n",
    "\n",
    "\n",
    "### Angular Solutions\n",
    "\n",
    "\n",
    "Sphere harmonics\n",
    "\n",
    "\n",
    "$$ \\large Y^m_l (\\theta, \\phi) $$\n",
    "\n",
    "\n",
    "- $m = 0$: No $\\phi$ dependence\n",
    "\n",
    "\n",
    "\n",
    "### Spherical square well\n",
    "\n",
    "\n",
    "The solutions are Bessel functions."
   ]
  }
 ],
 "metadata": {
  "kernelspec": {
   "display_name": "Python 3 (ipykernel)",
   "language": "python",
   "name": "python3"
  },
  "language_info": {
   "codemirror_mode": {
    "name": "ipython",
    "version": 3
   },
   "file_extension": ".py",
   "mimetype": "text/x-python",
   "name": "python",
   "nbconvert_exporter": "python",
   "pygments_lexer": "ipython3",
   "version": "3.9.7"
  }
 },
 "nbformat": 4,
 "nbformat_minor": 5
}
