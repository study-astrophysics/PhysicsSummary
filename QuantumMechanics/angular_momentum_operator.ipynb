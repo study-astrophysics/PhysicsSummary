{
 "cells": [
  {
   "cell_type": "markdown",
   "id": "e7a41b62",
   "metadata": {},
   "source": [
    "# [Angular Momentum Operator](https://study-astrophysics.com/angular-momentum-operator/)"
   ]
  },
  {
   "cell_type": "markdown",
   "id": "ed6ec1f4",
   "metadata": {},
   "source": [
    "---"
   ]
  },
  {
   "cell_type": "markdown",
   "id": "6312a177",
   "metadata": {},
   "source": [
    "## Angular Momentum Operator\n",
    "\n",
    "Similar to the classical one.\n",
    "\n",
    "\n",
    "$$ \\large \\hat{L} \\ = \\ \\hat{r} \\times \\hat{p} $$\n"
   ]
  },
  {
   "cell_type": "markdown",
   "id": "64034719",
   "metadata": {},
   "source": [
    "---"
   ]
  },
  {
   "cell_type": "markdown",
   "id": "7f02e56f",
   "metadata": {},
   "source": [
    "## Angular momentum operators obey commutation relations\n",
    "\n",
    "\n",
    "$$ \\large [\\hat{L}_x, \\hat{L}_y] \\ = \\ i \\hbar \\hat{L}_z $$\n",
    "\n",
    "\n",
    "$$ \\large [\\hat{L}_y, \\hat{L}_z] \\ = \\ i \\hbar \\hat{L}_x $$\n",
    "\n",
    "\n",
    "$$ \\large [\\hat{L}_z, \\hat{L}_x] \\ = \\ i \\hbar \\hat{L}_y $$\n",
    "\n",
    "\n",
    "Cyclic order\n",
    "\n",
    "\n",
    "$$ \\large [\\hat{L}_i, \\hat{L}_j] \\ = \\ i \\hbar \\epsilon_{ijk} \\hat{L}_k$$\n",
    "\n",
    "\n",
    "## Related Problems\n",
    "- GRE Physics GR0877 Problem 095"
   ]
  },
  {
   "cell_type": "markdown",
   "id": "e13644b9",
   "metadata": {},
   "source": [
    "---"
   ]
  },
  {
   "cell_type": "markdown",
   "id": "2ee5623e",
   "metadata": {},
   "source": [
    "## Eigenvalues\n",
    "\n",
    "\n",
    "- Eigenvalues of $\\hat{L}_z$ is $m\\hbar$, where $m = -l, -(l-1), \\cdots, -1, 0, 1, \\cdots, (l-1), l $\n",
    "\n",
    "\n",
    "- In spherical harmonics\n",
    "\n",
    "    - Eigenvalues of $\\hat{L}_z$: $\\hat{L}_z Y^m_l = m\\hbar Y^m_l$\n",
    "    \n",
    "    - Eigenvalues of $\\hat{L}^2$: $\\hat{L}^2 Y^m_l = l(l+1)\\hbar^2 Y^m_l$"
   ]
  },
  {
   "cell_type": "markdown",
   "id": "a0834c83",
   "metadata": {},
   "source": [
    "---"
   ]
  },
  {
   "cell_type": "markdown",
   "id": "114dd7e4",
   "metadata": {},
   "source": [
    "## In spherical coordinates\n",
    "\n",
    "\n",
    "$$ \\large \\hat{L}_z \\ = \\ \\frac{\\hbar}{i} \\frac{\\partial}{\\partial \\phi} $$"
   ]
  },
  {
   "cell_type": "markdown",
   "id": "3a890896",
   "metadata": {},
   "source": [
    "---"
   ]
  },
  {
   "cell_type": "markdown",
   "id": "d3039bf8",
   "metadata": {},
   "source": [
    "## Commutative\n",
    "\n",
    "\n",
    "$\\hat{L}^2$ commutes with each of the individual components of angular momentum operator.\n",
    "\n",
    "\n",
    "$$ \\large [\\hat{L}^2,\\hat{L}_i] \\ = \\ 0 $$\n",
    "\n",
    "\n",
    "where\n",
    "\n",
    "\n",
    "- $i = x, y, z$"
   ]
  },
  {
   "cell_type": "markdown",
   "id": "576fcf9e",
   "metadata": {},
   "source": [
    "## Related Topics\n",
    "\n",
    "\n",
    "### [Quantum Operators](https://study-astrophysics.com/quantum-operators/)"
   ]
  }
 ],
 "metadata": {
  "kernelspec": {
   "display_name": "Python 3 (ipykernel)",
   "language": "python",
   "name": "python3"
  },
  "language_info": {
   "codemirror_mode": {
    "name": "ipython",
    "version": 3
   },
   "file_extension": ".py",
   "mimetype": "text/x-python",
   "name": "python",
   "nbconvert_exporter": "python",
   "pygments_lexer": "ipython3",
   "version": "3.9.7"
  }
 },
 "nbformat": 4,
 "nbformat_minor": 5
}
