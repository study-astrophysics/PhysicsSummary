{
 "cells": [
  {
   "cell_type": "markdown",
   "id": "e7a41b62",
   "metadata": {},
   "source": [
    "# [Angular Momentum Operator](https://study-astrophysics.com/angular-momentum-operator/)"
   ]
  },
  {
   "cell_type": "markdown",
   "id": "ed6ec1f4",
   "metadata": {},
   "source": [
    "---"
   ]
  },
  {
   "cell_type": "markdown",
   "id": "6312a177",
   "metadata": {},
   "source": [
    "## Angular Momentum Operator\n",
    "\n",
    "\n",
    "$ \\\\ $\n",
    "\n",
    "\n",
    "$$ \\large \\hat{L} \\ = \\ \\hat{r} \\times \\hat{p} $$\n"
   ]
  },
  {
   "cell_type": "markdown",
   "id": "64034719",
   "metadata": {},
   "source": [
    "---"
   ]
  },
  {
   "cell_type": "markdown",
   "id": "7f02e56f",
   "metadata": {},
   "source": [
    "## Angular momentum operators obey commutation relations\n",
    "\n",
    "$ \\\\ $\n",
    "\n",
    "$$ \\large [L_x, L_y] = i \\hbar L_z $$\n",
    "\n",
    "$ \\\\ $\n",
    "\n",
    "$$ \\large [L_y, L_z] = i \\hbar L_x $$\n",
    "\n",
    "$ \\\\ $\n",
    "\n",
    "$$ \\large [L_z, L_x] = i \\hbar L_y $$\n",
    "\n",
    "\n",
    "Cyclic order\n",
    "\n",
    "\n",
    "## Related Problems\n",
    "- GRE Physics GR0877 Problem 095"
   ]
  }
 ],
 "metadata": {
  "kernelspec": {
   "display_name": "Python 3 (ipykernel)",
   "language": "python",
   "name": "python3"
  },
  "language_info": {
   "codemirror_mode": {
    "name": "ipython",
    "version": 3
   },
   "file_extension": ".py",
   "mimetype": "text/x-python",
   "name": "python",
   "nbconvert_exporter": "python",
   "pygments_lexer": "ipython3",
   "version": "3.9.7"
  }
 },
 "nbformat": 4,
 "nbformat_minor": 5
}
