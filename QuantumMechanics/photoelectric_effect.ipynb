{
 "cells": [
  {
   "cell_type": "markdown",
   "id": "552b13a6",
   "metadata": {},
   "source": [
    "# Photoelectric Effect"
   ]
  },
  {
   "cell_type": "markdown",
   "id": "eedb3dff",
   "metadata": {},
   "source": [
    "$$ \\large E = qV = \\frac{1}{2} mv^2 = h\\nu - W $$"
   ]
  }
 ],
 "metadata": {
  "kernelspec": {
   "display_name": "Python 3 (ipykernel)",
   "language": "python",
   "name": "python3"
  },
  "language_info": {
   "codemirror_mode": {
    "name": "ipython",
    "version": 3
   },
   "file_extension": ".py",
   "mimetype": "text/x-python",
   "name": "python",
   "nbconvert_exporter": "python",
   "pygments_lexer": "ipython3",
   "version": "3.8.2"
  }
 },
 "nbformat": 4,
 "nbformat_minor": 5
}
