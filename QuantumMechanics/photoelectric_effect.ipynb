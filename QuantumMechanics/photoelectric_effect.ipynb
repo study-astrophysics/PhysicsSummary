{
 "cells": [
  {
   "cell_type": "markdown",
   "id": "552b13a6",
   "metadata": {},
   "source": [
    "# [Photoelectric Effect](https://study-astrophysics.com/photoelectric-effect/)"
   ]
  },
  {
   "cell_type": "markdown",
   "id": "3d905a1f",
   "metadata": {},
   "source": [
    "---"
   ]
  },
  {
   "cell_type": "markdown",
   "id": "eedb3dff",
   "metadata": {},
   "source": [
    "## Photoelectric Effect\n",
    "\n",
    "\n",
    "$$ \\large K_\\text{max} \\ = \\ qV_0 \\ = \\ \\frac{1}{2} mv^2 = h\\nu - W $$"
   ]
  },
  {
   "cell_type": "markdown",
   "id": "e51ac5aa",
   "metadata": {},
   "source": [
    "---"
   ]
  },
  {
   "cell_type": "markdown",
   "id": "e0e1c09c",
   "metadata": {},
   "source": [
    "## Properties\n",
    "\n",
    "\n",
    "1. Rate of ejection is proportional to intensity of light.\n",
    "\n",
    "\n",
    "2. There is a minimum frequency below which no photoelectric emission occurs.\n",
    "\n",
    "\n",
    "3. The maximum kinetic energy of the electron is independent of intensity."
   ]
  }
 ],
 "metadata": {
  "kernelspec": {
   "display_name": "Python 3 (ipykernel)",
   "language": "python",
   "name": "python3"
  },
  "language_info": {
   "codemirror_mode": {
    "name": "ipython",
    "version": 3
   },
   "file_extension": ".py",
   "mimetype": "text/x-python",
   "name": "python",
   "nbconvert_exporter": "python",
   "pygments_lexer": "ipython3",
   "version": "3.9.7"
  }
 },
 "nbformat": 4,
 "nbformat_minor": 5
}
