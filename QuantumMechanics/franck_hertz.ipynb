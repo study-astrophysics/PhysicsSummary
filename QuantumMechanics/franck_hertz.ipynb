{
 "cells": [
  {
   "cell_type": "markdown",
   "id": "85f4f0d3",
   "metadata": {},
   "source": [
    "# [Franck-Hertz Experiment](https://study-astrophysics.com/franck-hertz-experiment/)"
   ]
  },
  {
   "cell_type": "markdown",
   "id": "dc428d8c",
   "metadata": {},
   "source": [
    "---"
   ]
  },
  {
   "cell_type": "markdown",
   "id": "1e3d402e",
   "metadata": {},
   "source": [
    "## Franck-Hertz Experiment\n",
    "\n",
    "In 1914, James Franck and Gustav Hertz performed an experiment which demonstrated the existence of excited states in mercury atoms, helping to confirm the quantum theory which predicted that electrons occupied only discrete, quantized energy states. Electrons were accelerated by a voltage toward a positively charged grid in a glass envelope filled with mercury vapor. Past the grid was a collection plate held at a small negative voltage with respect to the grid. The values of accelerating voltage where the current dropped gave a measure of the energy necessary to force an electron to an excited state.\n",
    "\n",
    "Electrons are accelerated in the Franck-Hertz apparatus and the collected current rises with accelerated voltage. As the Franck-Hertz data shows, when the accelerating voltage reaches 4.9 volts, the current sharply drops, indicating the sharp onset of a new phenomenon which takes enough energy away from the electrons that they cannot reach the collector. This drop is attributed to inelastic collisions between the accelerated electrons and atomic electrons in the mercury atoms. The sudden onset suggests that the mercury electrons cannot accept energy until it reaches the threshold for elevating them to an excited state. This 4.9 volt excited state corresponds to a strong line in the ultraviolet emission spectrum of mercury at 254 nm (a 4.9eV photon). Drops in the collected current occur at multiples of 4.9 volts since an accelerated electron which has 4.9 eV of energy removed in a collision can be re-accelerated to produce other such collisions at multiples of 4.9 volts. This experiment was strong confirmation of the idea of quantized atomic energy levels.\n",
    "\n",
    "This original Franck-Hertz data shows electrons losing 4.9 eV per collision with mercury atoms. It is possible to observe ten sequential bumps at intervals of 4.9 volts.\n",
    "\n",
    "\n",
    "\n",
    "![alt text](https://upload.wikimedia.org/wikipedia/commons/thumb/f/f1/Franck-Hertz_en.svg/521px-Franck-Hertz_en.svg.png)"
   ]
  },
  {
   "cell_type": "markdown",
   "id": "3616b1a4",
   "metadata": {},
   "source": [
    "\n",
    "The Franck–Hertz experiment was the first electrical measurement to clearly show the quantum nature of atoms, and thus \"transformed our understanding of the world\".[1] It was presented on April 24, 1914, to the German Physical Society in a paper by James Franck and Gustav Hertz.[2][3] Franck and Hertz had designed a vacuum tube for studying energetic electrons that flew through a thin vapor of mercury atoms. They discovered that, when an electron collided with a mercury atom, it could lose only a specific quantity (4.9 electron volts) of its kinetic energy before flying away.[4] This energy loss corresponds to decelerating the electron from a speed of about 1.3 million meters per second to zero.[5] A faster electron does not decelerate completely after a collision, but loses precisely the same amount of its kinetic energy. Slower electrons merely bounce off mercury atoms without losing any significant speed or kinetic energy.\n",
    "\n",
    "These experimental results proved to be consistent with the Bohr model for atoms that had been proposed the previous year by Niels Bohr. The Bohr model was a precursor of quantum mechanics and of the electron shell model of atoms. Its key feature was that an electron inside an atom occupies one of the atom's \"quantum energy levels\". Before the collision, an electron inside the mercury atom occupies its lowest available energy level. After the collision, the electron inside occupies a higher energy level with 4.9 electron volts (eV) more energy. This means that the electron is more loosely bound to the mercury atom. There were no intermediate levels or possibilities in Bohr's quantum model. This feature was \"revolutionary\" because it was inconsistent with the expectation that an electron could be bound to an atom's nucleus by any amount of energy.[4][6]\n",
    "\n",
    "In a second paper presented in May 1914, Franck and Hertz reported on the light emission by the mercury atoms that had absorbed energy from collisions.[7] They showed that the wavelength of this ultraviolet light corresponded exactly to the 4.9 eV of energy that the flying electron had lost. The relationship of energy and wavelength had also been predicted by Bohr because he had followed the structure laid out by Hendrik Lorentz at the 1911 Solvay Congress. At Solvay, Hendrik Lorentz suggested after Einstein’s talk on quantum structure that the energy of a rotator be set equal to nhv.[8][9] Therefore, Bohr had followed the instructions given in 1911 and copied the formula proposed by Lorentz and others into his 1913 atomic model.[10] Lorentz had been correct. The quantization of the atoms matched his formula incorporated into the Bohr model.[4] After a presentation of these results by Franck a few years later, Albert Einstein is said to have remarked, \"It's so lovely it makes you cry.\"[1]\n",
    "\n",
    "\n",
    "\n",
    "\n",
    "\n",
    "Low-energy electrons are accelerated between electrodes in a tube filled with a gas in the Franck-Hertz apparatus represented above. A plot of current collected versus accelerating voltage is also shown. The data provide evidence for which of the following\n",
    "\n",
    "(A) Electronic energy losses due only to elastic collisions \n",
    "(B) Excitation energies of the gas atoms of 4.9, 9.8, and 14.7 eV \n",
    "(C) Excitation energy of the gas atoms of 4.9 eV only \n",
    "(D) Atomic energy levels of -4.9, -9.8, and -14.7 eV \n",
    "(E) Atomic energy levels of -4.9 and -9.8 eV only\n"
   ]
  }
 ],
 "metadata": {
  "kernelspec": {
   "display_name": "Python 3 (ipykernel)",
   "language": "python",
   "name": "python3"
  },
  "language_info": {
   "codemirror_mode": {
    "name": "ipython",
    "version": 3
   },
   "file_extension": ".py",
   "mimetype": "text/x-python",
   "name": "python",
   "nbconvert_exporter": "python",
   "pygments_lexer": "ipython3",
   "version": "3.8.13"
  }
 },
 "nbformat": 4,
 "nbformat_minor": 5
}
