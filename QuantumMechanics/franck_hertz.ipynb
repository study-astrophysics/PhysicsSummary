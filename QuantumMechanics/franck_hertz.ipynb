{
 "cells": [
  {
   "cell_type": "markdown",
   "id": "85f4f0d3",
   "metadata": {},
   "source": [
    "# [Franck-Hertz Experiment](https://study-astrophysics.com/franck-hertz-experiment/)"
   ]
  },
  {
   "cell_type": "markdown",
   "id": "dc428d8c",
   "metadata": {},
   "source": [
    "---"
   ]
  },
  {
   "cell_type": "markdown",
   "id": "1e3d402e",
   "metadata": {},
   "source": [
    "## Franck-Hertz Experiment\n",
    "\n",
    "Franck-Hertz experiment demonstrated the existence of excited states in mercury atoms, helping to confirm the quantum theory which predicted that electrons occupied only discrete, quantized energy states.\n",
    "\n",
    "\n",
    "Electrons are accelerated in the Franck-Hertz apparatus and the collected current rises with accelerated voltage. When the accelerating voltage reaches 4.9 electron volts (eV), the current sharply drops.\n",
    "\n",
    "\n",
    "This 4.9 eV excited state corresponds to a strong line in the ultraviolet emission spectrum of mercury at 254 nm (a 4.9 eV photon). **Drops in the collected current occur at multiples of 4.9 eV since an accelerated electron which has 4.9 eV of energy removed in a collision can be re-accelerated to produce other such collisions at multiples of 4.9 eV.** \n",
    "\n",
    "\n",
    "This experiment was strong confirmation of the idea of quantized atomic energy levels.\n",
    "\n",
    "\n",
    "![alt text](https://upload.wikimedia.org/wikipedia/commons/thumb/f/f1/Franck-Hertz_en.svg/521px-Franck-Hertz_en.svg.png)\n",
    "\n",
    "\n",
    "### Related Problems\n",
    "- GRE Physics GR1777 Problem [059](https://study-astrophysics.com/gr1777-059/)"
   ]
  }
 ],
 "metadata": {
  "kernelspec": {
   "display_name": "Python 3 (ipykernel)",
   "language": "python",
   "name": "python3"
  },
  "language_info": {
   "codemirror_mode": {
    "name": "ipython",
    "version": 3
   },
   "file_extension": ".py",
   "mimetype": "text/x-python",
   "name": "python",
   "nbconvert_exporter": "python",
   "pygments_lexer": "ipython3",
   "version": "3.8.13"
  }
 },
 "nbformat": 4,
 "nbformat_minor": 5
}
