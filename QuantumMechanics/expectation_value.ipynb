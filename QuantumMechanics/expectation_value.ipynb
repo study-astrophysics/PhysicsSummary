{
 "cells": [
  {
   "cell_type": "markdown",
   "id": "b1cf1b2a",
   "metadata": {},
   "source": [
    "# [Expectation Value](https://study-astrophysics.com/expectation-value/)"
   ]
  },
  {
   "cell_type": "markdown",
   "id": "22999a6a",
   "metadata": {},
   "source": [
    "---"
   ]
  },
  {
   "cell_type": "markdown",
   "id": "fba6d8ca",
   "metadata": {},
   "source": [
    "## Probability Distribution\n",
    "\n",
    "\n",
    "$$ \\large \\int | \\Psi(\\vec{x},t) |^2 d^3 x = 1 |$$"
   ]
  },
  {
   "cell_type": "markdown",
   "id": "f0f2087e",
   "metadata": {},
   "source": [
    "---"
   ]
  },
  {
   "cell_type": "markdown",
   "id": "e939d96e",
   "metadata": {},
   "source": [
    "## Expectation Value of $\\vec{x}$\n",
    "\n",
    "\n",
    "$$ \\large \\langle \\vec{x} \\rangle \\ = \\ \\int \\vec{x} | \\Psi(\\vec{x},t) |^2 d^3 x = 1 $$"
   ]
  },
  {
   "cell_type": "markdown",
   "id": "6f650bf6",
   "metadata": {},
   "source": [
    "---"
   ]
  },
  {
   "cell_type": "markdown",
   "id": "24d881b0",
   "metadata": {},
   "source": [
    "## Expectation Value of $\\vec{p}$\n",
    "\n",
    "$$ \\large \\langle \\vec{p} \\rangle \\ = \\ \\int - \\hbar \\Psi^* \\nabla \\Psi $$"
   ]
  },
  {
   "cell_type": "markdown",
   "id": "559279c7",
   "metadata": {},
   "source": [
    "---"
   ]
  },
  {
   "cell_type": "markdown",
   "id": "d7cbb1f5",
   "metadata": {},
   "source": [
    "## Expectation Value of a General Operator $\\hat{Q}$\n",
    "\n",
    "\n",
    "$$ \\large \\langle Q \\rangle \\ = \\ \\int d^3 x \\Psi^* \\hat{Q} \\Psi \\ = \\ \\langle \\Psi | \\hat{Q} | \\Psi \\rangle $$"
   ]
  },
  {
   "cell_type": "markdown",
   "id": "c7e01230",
   "metadata": {},
   "source": [
    "---"
   ]
  },
  {
   "cell_type": "markdown",
   "id": "3ff41ff5",
   "metadata": {},
   "source": [
    "$$ \\large \\frac{d}{dt} \\langle Q \\rangle \\ = \\ \\frac{i}{\\hbar} \\langle [\\hat{H},\\hat{Q}] \\rangle + \\langle \\frac{\\partial \\hat{Q}}{\\partial t} \\rangle $$"
   ]
  }
 ],
 "metadata": {
  "kernelspec": {
   "display_name": "Python 3 (ipykernel)",
   "language": "python",
   "name": "python3"
  },
  "language_info": {
   "codemirror_mode": {
    "name": "ipython",
    "version": 3
   },
   "file_extension": ".py",
   "mimetype": "text/x-python",
   "name": "python",
   "nbconvert_exporter": "python",
   "pygments_lexer": "ipython3",
   "version": "3.9.7"
  }
 },
 "nbformat": 4,
 "nbformat_minor": 5
}
