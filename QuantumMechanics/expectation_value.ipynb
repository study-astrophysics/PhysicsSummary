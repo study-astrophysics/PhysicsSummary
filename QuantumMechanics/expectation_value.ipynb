{
 "cells": [
  {
   "cell_type": "markdown",
   "id": "03a0ea5f",
   "metadata": {},
   "source": [
    "# Expectation Value"
   ]
  },
  {
   "cell_type": "markdown",
   "id": "8d74cda7",
   "metadata": {},
   "source": [
    "---"
   ]
  },
  {
   "cell_type": "markdown",
   "id": "adc762d3",
   "metadata": {},
   "source": [
    "## Probability Distribution\n",
    "\n",
    "\n",
    "$$ \\large \\int | \\Psi(\\vec{x},t) |^2 d^3 x = 1 |$$"
   ]
  },
  {
   "cell_type": "markdown",
   "id": "6c5d3a9b",
   "metadata": {},
   "source": [
    "---"
   ]
  },
  {
   "cell_type": "markdown",
   "id": "99ed14a2",
   "metadata": {},
   "source": [
    "## Expectation Value of $\\vec{x}$\n",
    "\n",
    "\n",
    "$$ \\large \\langle \\vec{x} \\rangle \\ = \\ \\int \\vec{x} | \\Psi(\\vec{x},t) |^2 d^3 x = 1 $$"
   ]
  },
  {
   "cell_type": "markdown",
   "id": "f766a66b",
   "metadata": {},
   "source": [
    "---"
   ]
  },
  {
   "cell_type": "markdown",
   "id": "0248046c",
   "metadata": {},
   "source": [
    "## Expectation Value of $\\vec{p}$\n",
    "\n",
    "$$ \\large \\langle \\vec{p} \\rangle \\ = \\ \\int - \\hbar \\Psi^* \\nabla \\Psi $$"
   ]
  },
  {
   "cell_type": "markdown",
   "id": "c54e208c",
   "metadata": {},
   "source": [
    "---"
   ]
  },
  {
   "cell_type": "markdown",
   "id": "6bade26d",
   "metadata": {},
   "source": [
    "## Expectation Value of a General Operator $\\hat{Q}$\n",
    "\n",
    "\n",
    "$$ \\large \\langle Q \\rangle \\ = \\ \\int d^3 x \\Psi^* \\hat{Q} \\Psi \\ = \\ \\langle \\Psi | \\hat{Q} | \\Psi \\rangle $$"
   ]
  }
 ],
 "metadata": {
  "kernelspec": {
   "display_name": "Python 3 (ipykernel)",
   "language": "python",
   "name": "python3"
  },
  "language_info": {
   "codemirror_mode": {
    "name": "ipython",
    "version": 3
   },
   "file_extension": ".py",
   "mimetype": "text/x-python",
   "name": "python",
   "nbconvert_exporter": "python",
   "pygments_lexer": "ipython3",
   "version": "3.9.7"
  }
 },
 "nbformat": 4,
 "nbformat_minor": 5
}
