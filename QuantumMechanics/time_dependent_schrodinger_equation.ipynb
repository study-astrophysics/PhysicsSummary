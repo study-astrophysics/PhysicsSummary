{
 "cells": [
  {
   "cell_type": "markdown",
   "id": "be1f0fd0",
   "metadata": {},
   "source": [
    "# [Time-dependent Schrödinger Equation](https://study-astrophysics.com/time-dependent-schrodinger-equation/)"
   ]
  },
  {
   "cell_type": "markdown",
   "id": "39a89cc2",
   "metadata": {},
   "source": [
    "---"
   ]
  },
  {
   "cell_type": "markdown",
   "id": "8c3b902f",
   "metadata": {},
   "source": [
    "## Time-dependent Schrödinger Equation\n",
    "\n",
    "\n",
    "$$ \\large i\\hbar {\\frac {\\partial }{\\partial t}}\\Psi \\ = \\ \\left[-{\\frac {\\hbar ^{2}}{2m}}\\nabla^2+V \\right]\\Psi $$\n",
    "\n",
    "$$ \\large \\\\ $$\n",
    "\n",
    "$$ \\large i\\hbar {\\frac {d}{dt}}|\\Psi (t)\\rangle \\ = \\ \\left({\\frac {1}{2m}}{\\hat {p}}^{2}+{\\hat {V}}\\right)|\\Psi (t)\\rangle  $$\n",
    "\n",
    "$$ \\large \\\\ $$\n",
    "\n",
    "$$ \\large i\\hbar {\\frac {d}{dt}}\\vert \\Psi (t)\\rangle \\ = \\ {\\hat {H}}\\vert \\Psi (t)\\rangle $$\n",
    "\n",
    "\n",
    "\n",
    "### In 1-D\n",
    "\n",
    "$$ \\large i\\hbar {\\frac {\\partial }{\\partial t}}\\Psi (x,t) \\ = \\ \\left[-{\\frac {\\hbar ^{2}}{2m}}{\\frac {\\partial ^{2}}{\\partial x^{2}}}+V(x,t)\\right]\\Psi (x,t) $$\n",
    "\n",
    "\n",
    "where\n",
    "\n",
    "\n",
    "- $\\Psi(x,t)$: time-dependent wave function\n",
    "\n",
    "\n",
    "- $V$: potential\n",
    "\n",
    "\n",
    "- $\\hbar$: reduced Planck constant"
   ]
  }
 ],
 "metadata": {
  "kernelspec": {
   "display_name": "Python 3 (ipykernel)",
   "language": "python",
   "name": "python3"
  },
  "language_info": {
   "codemirror_mode": {
    "name": "ipython",
    "version": 3
   },
   "file_extension": ".py",
   "mimetype": "text/x-python",
   "name": "python",
   "nbconvert_exporter": "python",
   "pygments_lexer": "ipython3",
   "version": "3.9.7"
  }
 },
 "nbformat": 4,
 "nbformat_minor": 5
}
