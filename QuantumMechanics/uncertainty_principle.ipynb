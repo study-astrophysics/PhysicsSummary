{
 "cells": [
  {
   "cell_type": "markdown",
   "id": "dfa1cb20",
   "metadata": {},
   "source": [
    "# [Uncertainty Principle](https://study-astrophysics.com/uncertainty-principle/)"
   ]
  },
  {
   "cell_type": "markdown",
   "id": "ab20f598",
   "metadata": {},
   "source": [
    "---"
   ]
  },
  {
   "cell_type": "markdown",
   "id": "64c9864a",
   "metadata": {},
   "source": [
    "## Heisenberg's Uncertainty Principle\n",
    "\n",
    "\n",
    "$$ \\large \\sigma_x \\sigma_p \\ge \\frac{\\hbar}{2} $$\n",
    "\n",
    "\n",
    "$$ \\large \\Delta p \\ \\Delta x \\ge \\frac{\\hbar}{2} $$\n",
    "\n",
    "\n",
    "$$ \\large \\Delta E \\ \\Delta t \\ge \\frac{\\hbar}{2} $$\n"
   ]
  },
  {
   "cell_type": "markdown",
   "id": "89610a84",
   "metadata": {},
   "source": [
    "---"
   ]
  },
  {
   "cell_type": "markdown",
   "id": "26ae07e1",
   "metadata": {},
   "source": [
    "## Generalized Uncertainty Principle\n",
    "\n",
    "\n",
    "$$ \\large \\sigma^2_A \\sigma^2_B \\ge \\left( \\frac{1}{2i} \\langle [\\hat{A},\\hat{B}] \\rangle \\right)^2 $$"
   ]
  }
 ],
 "metadata": {
  "kernelspec": {
   "display_name": "Python 3 (ipykernel)",
   "language": "python",
   "name": "python3"
  },
  "language_info": {
   "codemirror_mode": {
    "name": "ipython",
    "version": 3
   },
   "file_extension": ".py",
   "mimetype": "text/x-python",
   "name": "python",
   "nbconvert_exporter": "python",
   "pygments_lexer": "ipython3",
   "version": "3.9.7"
  }
 },
 "nbformat": 4,
 "nbformat_minor": 5
}
