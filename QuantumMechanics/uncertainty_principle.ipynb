{
 "cells": [
  {
   "cell_type": "markdown",
   "id": "dfa1cb20",
   "metadata": {},
   "source": [
    "# Uncertainty Principle"
   ]
  },
  {
   "cell_type": "markdown",
   "id": "ab20f598",
   "metadata": {},
   "source": [
    "---"
   ]
  },
  {
   "cell_type": "markdown",
   "id": "64c9864a",
   "metadata": {},
   "source": [
    "## Heisenberg's Uncertainty Principle\n",
    "\n",
    "\n",
    "$$ \\large \\sigma_x \\sigma_p \\ge \\frac{\\hbar}{2} $$\n",
    "\n",
    "\n",
    "$$ \\large \\Delta p \\ \\Delta x \\ge \\frac{\\hbar}{2} $$\n",
    "\n",
    "\n",
    "$$ \\large \\Delta E \\ \\Delta t \\ge \\frac{\\hbar}{2} $$\n"
   ]
  }
 ],
 "metadata": {
  "kernelspec": {
   "display_name": "Python 3 (ipykernel)",
   "language": "python",
   "name": "python3"
  },
  "language_info": {
   "codemirror_mode": {
    "name": "ipython",
    "version": 3
   },
   "file_extension": ".py",
   "mimetype": "text/x-python",
   "name": "python",
   "nbconvert_exporter": "python",
   "pygments_lexer": "ipython3",
   "version": "3.8.2"
  }
 },
 "nbformat": 4,
 "nbformat_minor": 5
}
