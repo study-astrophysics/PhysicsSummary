{
 "cells": [
  {
   "cell_type": "markdown",
   "id": "c728caeb",
   "metadata": {},
   "source": [
    "## Selection Rules\n",
    "\n",
    "\n",
    "$$ \\large \\Delta l = \\pm 1 \\quad (\\Delta l = 0 \\text{ is not allowed.}) $$\n",
    "\n",
    "$$ \\large \\Delta m = 0, \\pm 1 $$\n",
    "\n",
    "\n",
    "### Related Problems\n",
    "- GRE Physics GR0177 Problem 084"
   ]
  },
  {
   "cell_type": "markdown",
   "id": "f4736001",
   "metadata": {},
   "source": [
    "---"
   ]
  },
  {
   "cell_type": "markdown",
   "id": "43233998",
   "metadata": {},
   "source": [
    "## Electron Occupation"
   ]
  }
 ],
 "metadata": {
  "kernelspec": {
   "display_name": "Python 3 (ipykernel)",
   "language": "python",
   "name": "python3"
  },
  "language_info": {
   "codemirror_mode": {
    "name": "ipython",
    "version": 3
   },
   "file_extension": ".py",
   "mimetype": "text/x-python",
   "name": "python",
   "nbconvert_exporter": "python",
   "pygments_lexer": "ipython3",
   "version": "3.9.7"
  }
 },
 "nbformat": 4,
 "nbformat_minor": 5
}
