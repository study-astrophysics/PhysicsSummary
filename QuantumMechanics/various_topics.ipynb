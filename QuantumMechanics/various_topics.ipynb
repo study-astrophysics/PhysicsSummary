{
 "cells": [
  {
   "cell_type": "markdown",
   "id": "c728caeb",
   "metadata": {},
   "source": [
    "## Selection Rules\n",
    "\n",
    "\n",
    "$$ \\large \\Delta l = \\pm 1 \\quad (\\Delta l = 0 \\text{ is not allowed.}) $$\n",
    "\n",
    "$$ \\large \\Delta m = 0, \\pm 1 $$\n",
    "\n",
    "\n",
    "### Related Problems\n",
    "- GRE Physics GR0177 Problem 084"
   ]
  },
  {
   "cell_type": "markdown",
   "id": "43233998",
   "metadata": {},
   "source": [
    "## Electron Occupation"
   ]
  },
  {
   "cell_type": "markdown",
   "id": "86c6643a",
   "metadata": {},
   "source": [
    "## Heisenberg's Uncertainty Principle\n",
    "\n",
    "\n",
    "$$ \\large \\Delta p \\ \\Delta x > \\frac{\\hbar}{2} $$\n",
    "\n",
    "$$ \\large \\Delta E \\ \\Delta t > \\frac{\\hbar}{2} $$\n",
    "\n"
   ]
  },
  {
   "cell_type": "markdown",
   "id": "276e34f5",
   "metadata": {},
   "source": []
  }
 ],
 "metadata": {
  "kernelspec": {
   "display_name": "Python 3 (ipykernel)",
   "language": "python",
   "name": "python3"
  },
  "language_info": {
   "codemirror_mode": {
    "name": "ipython",
    "version": 3
   },
   "file_extension": ".py",
   "mimetype": "text/x-python",
   "name": "python",
   "nbconvert_exporter": "python",
   "pygments_lexer": "ipython3",
   "version": "3.8.2"
  }
 },
 "nbformat": 4,
 "nbformat_minor": 5
}
