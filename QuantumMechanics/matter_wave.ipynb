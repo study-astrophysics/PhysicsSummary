{
 "cells": [
  {
   "cell_type": "markdown",
   "id": "5ebc545b",
   "metadata": {},
   "source": [
    "# [Matter Wave](https://study-astrophysics.com/matter-wave/)"
   ]
  },
  {
   "cell_type": "markdown",
   "id": "798e3cf3",
   "metadata": {},
   "source": [
    "---"
   ]
  },
  {
   "cell_type": "markdown",
   "id": "da996572",
   "metadata": {},
   "source": [
    "## de Broglie Wavelength\n",
    "\n",
    "\n",
    "$$ \\large \\begin{split}\n",
    "\\lambda & \\ = \\frac{h}{p} \\ = \\ \\frac{2\\pi\\hbar}{p} \\\\\n",
    "& \\ = \\frac{h}{\\sqrt{2mE}} \\quad ( \\text{when } E = \\frac{p^2}{2m} ) \\\\\n",
    "& \\ = \\frac{h}{\\sqrt{2m(E-V)}} \\quad ( \\text{when } E = \\frac{p^2}{2m} + V )\n",
    "\\end{split}\n",
    "$$\n",
    "\n",
    "\n",
    "### Related Problems\n",
    "- GRE Physics GR1777 Problem [075](https://study-astrophysics.com/gr1777-075/)\n",
    "- GRE Physics GR0177 Problem 046"
   ]
  }
 ],
 "metadata": {
  "kernelspec": {
   "display_name": "Python 3 (ipykernel)",
   "language": "python",
   "name": "python3"
  },
  "language_info": {
   "codemirror_mode": {
    "name": "ipython",
    "version": 3
   },
   "file_extension": ".py",
   "mimetype": "text/x-python",
   "name": "python",
   "nbconvert_exporter": "python",
   "pygments_lexer": "ipython3",
   "version": "3.8.13"
  }
 },
 "nbformat": 4,
 "nbformat_minor": 5
}
