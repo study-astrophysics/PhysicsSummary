{
 "cells": [
  {
   "cell_type": "markdown",
   "id": "897c9aa2",
   "metadata": {},
   "source": [
    "# [Magnetic Moment in Quantum Mechanics](https://study-astrophysics.com/magnetic-moment-qm/)"
   ]
  },
  {
   "cell_type": "markdown",
   "id": "090f2553",
   "metadata": {},
   "source": [
    "---"
   ]
  },
  {
   "cell_type": "markdown",
   "id": "d504eb92",
   "metadata": {},
   "source": [
    "## Magnetic Dipole Moment for an Electron in a Magnetic Field\n",
    "\n",
    "\n",
    "$$ \\large \\vec{\\mu} \\ = \\ \\gamma \\vec{S} $$\n",
    "\n",
    "\n",
    "where\n",
    "\n",
    "\n",
    "- $\\gamma$: gyromagnetic ratio"
   ]
  },
  {
   "cell_type": "markdown",
   "id": "dfec0642",
   "metadata": {},
   "source": [
    "---"
   ]
  },
  {
   "cell_type": "markdown",
   "id": "5dbefca9",
   "metadata": {},
   "source": [
    "## Hamiltonian for this System\n",
    "\n",
    "\n",
    "$$ \\large \\hat{H} \\ = \\ - \\hat{\\mu} \\cdot \\vec{B} \\ = \\ - \\gamma \\vec{B} \\cdot \\vec{S} $$"
   ]
  }
 ],
 "metadata": {
  "kernelspec": {
   "display_name": "Python 3 (ipykernel)",
   "language": "python",
   "name": "python3"
  },
  "language_info": {
   "codemirror_mode": {
    "name": "ipython",
    "version": 3
   },
   "file_extension": ".py",
   "mimetype": "text/x-python",
   "name": "python",
   "nbconvert_exporter": "python",
   "pygments_lexer": "ipython3",
   "version": "3.9.7"
  }
 },
 "nbformat": 4,
 "nbformat_minor": 5
}
