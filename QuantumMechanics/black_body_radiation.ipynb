{
 "cells": [
  {
   "cell_type": "markdown",
   "id": "5145b09f",
   "metadata": {},
   "source": [
    "# Black-body Radiation"
   ]
  },
  {
   "cell_type": "markdown",
   "id": "4d6e1b1c",
   "metadata": {},
   "source": [
    "---"
   ]
  },
  {
   "cell_type": "markdown",
   "id": "0ae11428",
   "metadata": {},
   "source": [
    "## Black-body Radiation\n",
    "\n",
    "\n",
    "Black-body radiation is the thermal electromagnetic radiation within or surrounding a body in thermodynamic equilibrium with its environment, emitted by a black body (an idealized opaque, non-reflective body). It has a specific, continuous, spectrum of wavelengths, inversely related to intensity that depend only on the body's temperature, which is assumed for the sake of calculations and theory to be uniform and constant."
   ]
  },
  {
   "cell_type": "markdown",
   "id": "27fcfc25",
   "metadata": {},
   "source": [
    "---"
   ]
  },
  {
   "cell_type": "markdown",
   "id": "ee79c134",
   "metadata": {},
   "source": [
    "## Most Probable Occupation Number for Photon\n",
    "\n",
    "\n",
    "$$ \\large N_\\omega \\ = \\ \\frac{d_k}{e^{\\frac{\\hbar\\omega}{k_B T}} - 1} $$\n",
    "\n",
    "\n",
    "where\n",
    "\n",
    "\n",
    "- $d_k = \\tfrac{V}{\\pi^2 c^3} \\omega^2 d\\omega$\n",
    "\n",
    "\n",
    "- $V$: volume of the black-body\n"
   ]
  },
  {
   "cell_type": "markdown",
   "id": "78f000c2",
   "metadata": {},
   "source": [
    "---"
   ]
  },
  {
   "cell_type": "markdown",
   "id": "f0ceb392",
   "metadata": {},
   "source": [
    "## Energy Density in the frequency range $d \\omega$\n",
    "\n",
    "\n",
    "$$ \\large \\rho(\\omega) \\ = \\ \\frac{\\hbar \\omega^3}{\\pi^2 c^3 \\left( e^{\\frac{\\hbar \\omega}{k_B T}} - 1 \\right)} $$"
   ]
  },
  {
   "cell_type": "markdown",
   "id": "57d1aa75",
   "metadata": {},
   "source": [
    "---"
   ]
  },
  {
   "cell_type": "markdown",
   "id": "6e05b946",
   "metadata": {},
   "source": [
    "## Total Energy Density\n",
    "\n",
    "\n",
    "$$ \\large \\frac{E}{V} \\ = \\ \\sigma T^4 $$"
   ]
  }
 ],
 "metadata": {
  "kernelspec": {
   "display_name": "Python 3 (ipykernel)",
   "language": "python",
   "name": "python3"
  },
  "language_info": {
   "codemirror_mode": {
    "name": "ipython",
    "version": 3
   },
   "file_extension": ".py",
   "mimetype": "text/x-python",
   "name": "python",
   "nbconvert_exporter": "python",
   "pygments_lexer": "ipython3",
   "version": "3.9.7"
  }
 },
 "nbformat": 4,
 "nbformat_minor": 5
}
