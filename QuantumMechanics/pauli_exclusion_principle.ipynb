{
 "cells": [
  {
   "cell_type": "markdown",
   "id": "369655ec",
   "metadata": {},
   "source": [
    "# Pauli Exclusion Principle"
   ]
  },
  {
   "cell_type": "markdown",
   "id": "540f6b02",
   "metadata": {},
   "source": [
    "---"
   ]
  },
  {
   "cell_type": "markdown",
   "id": "145fba6d",
   "metadata": {},
   "source": [
    "## Pauli Exclusion Principle\n",
    "\n",
    "**Two or more identical particles with half-integer spins (i.e. fermions; electrons) cannot occupy the same quantum state within a quantum system simultaneously.**\n",
    "\n",
    "\n",
    "### Example: A helium atom\n",
    "\n",
    "In the helium energy level, one electron is presumed to be in the ground state of a helium atom, the $1s$ state. An electron in an upper state can have spin antiparallel to the ground state electron ($S=0$, singlet state, parahelium) or parallel to the ground state electron ($S=1$, triplet state, orthohelium).\n",
    "\n",
    "It is observed that the orthohelium states are lower in energy than the parahelium states since the total wavefunction for the electrons must be anti-symmetric due do the Pauli exclusion principle.\n",
    "\n",
    "\n",
    "### Related Problems\n",
    "- GRE Physics GR1777 Problem [061](https://study-astrophysics.com/gr1777-061/)"
   ]
  },
  {
   "cell_type": "markdown",
   "id": "1760f933",
   "metadata": {},
   "source": [
    "---"
   ]
  },
  {
   "cell_type": "markdown",
   "id": "0bfb1a11",
   "metadata": {},
   "source": [
    "## Related Topics\n",
    "\n",
    "### [Hund's Rules](https://study-astrophysics.com/hunds-rules/)"
   ]
  }
 ],
 "metadata": {
  "kernelspec": {
   "display_name": "Python 3 (ipykernel)",
   "language": "python",
   "name": "python3"
  },
  "language_info": {
   "codemirror_mode": {
    "name": "ipython",
    "version": 3
   },
   "file_extension": ".py",
   "mimetype": "text/x-python",
   "name": "python",
   "nbconvert_exporter": "python",
   "pygments_lexer": "ipython3",
   "version": "3.8.13"
  }
 },
 "nbformat": 4,
 "nbformat_minor": 5
}
