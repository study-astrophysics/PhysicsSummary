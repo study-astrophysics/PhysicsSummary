{
 "cells": [
  {
   "cell_type": "markdown",
   "id": "b2e7f6a5",
   "metadata": {},
   "source": [
    "# Quantum Harmonic Oscillator"
   ]
  },
  {
   "cell_type": "markdown",
   "id": "1310db3c",
   "metadata": {},
   "source": [
    "---"
   ]
  },
  {
   "cell_type": "markdown",
   "id": "6a74d64e",
   "metadata": {},
   "source": [
    "## Potential Energy\n",
    "\n",
    "\n",
    "$$ \\large V \\ = \\ \\frac{1}{2} kx^2 \\ = \\ \\frac{1}{2} k \\omega^2 x^2 $$\n",
    "\n",
    "\n",
    "where\n",
    "\n",
    "\n",
    "- $\\omega = \\sqrt{ \\tfrac{k}{m} }$"
   ]
  },
  {
   "cell_type": "markdown",
   "id": "18ab13ca",
   "metadata": {},
   "source": [
    "---"
   ]
  },
  {
   "cell_type": "markdown",
   "id": "59fe3829",
   "metadata": {},
   "source": [
    "## Creation & Annihilation Operators\n",
    "\n",
    "\n",
    "To solve it, we need to introduce creation and annihilation operators.\n",
    "\n",
    "\n",
    "$$ \\large \\hat{a}_{\\pm} \\ = \\ \\frac{1}{\\sqrt{2\\hbar m \\omega}} (\\mp i p + m \\omega x) $$\n",
    "\n",
    "\n",
    "\n",
    "### Annihilation operator kills the ground state\n",
    "\n",
    "\n",
    "$$ \\large \\hat{a}_- \\psi_0 \\ = \\ 0 $$"
   ]
  },
  {
   "cell_type": "markdown",
   "id": "d57d0a3d",
   "metadata": {},
   "source": [
    "---"
   ]
  },
  {
   "cell_type": "markdown",
   "id": "f35e6979",
   "metadata": {},
   "source": [
    "## Hamiltonian\n",
    "\n",
    "\n",
    "$$ \\large \\hat{H} \\ = \\ \\hbar \\omega (\\hat{a}_{-} \\hat{a}_{+} - \\frac{1}{2} ) $$"
   ]
  },
  {
   "cell_type": "markdown",
   "id": "ba371938",
   "metadata": {},
   "source": [
    "---"
   ]
  },
  {
   "cell_type": "markdown",
   "id": "8a8a73bd",
   "metadata": {},
   "source": [
    "## Ground State\n",
    "\n",
    "Gaussian\n",
    "\n",
    "\n",
    "$$ \\large \\psi_0 (x) = \\left( \\frac{m \\omega}{\\pi \\hbar} \\right)^{1/4} e^{-\\frac{m \\omega}{2\\hbar}x^2} $$"
   ]
  },
  {
   "cell_type": "markdown",
   "id": "2b5d0d18",
   "metadata": {},
   "source": [
    "---"
   ]
  },
  {
   "cell_type": "markdown",
   "id": "7b43be55",
   "metadata": {},
   "source": [
    "## Eigenstate\n",
    "\n",
    "\n",
    "$$ \\large \\psi_n(x) \\ = \\ \\frac{1}{\\sqrt{n!}} (\\hat{a}_+)^n \\psi_0(x) $$"
   ]
  },
  {
   "cell_type": "markdown",
   "id": "f9c2ea16",
   "metadata": {},
   "source": [
    "---"
   ]
  },
  {
   "cell_type": "markdown",
   "id": "97c523f5",
   "metadata": {},
   "source": [
    "## Energy Levels\n",
    "\n",
    "Energy level is evenly spaced!\n",
    "\n",
    "\n",
    "$$ \\large \\begin{split}\n",
    "E & = (n + \\frac{1}{2}) \\ \\hbar \\omega & \\quad \\text{: in 1D} \\\\\n",
    "  & = (n_x + n_y + n_z + \\frac{3}{2}) \\ \\hbar \\omega & \\quad \\text{: in 3D}\n",
    "\\end{split} $$\n",
    "\n",
    "\n",
    "### Related Problems\n",
    "- GRE Physics GR0177 Problem 045"
   ]
  },
  {
   "cell_type": "markdown",
   "id": "1c8be785",
   "metadata": {},
   "source": [
    "---"
   ]
  }
 ],
 "metadata": {
  "kernelspec": {
   "display_name": "Python 3 (ipykernel)",
   "language": "python",
   "name": "python3"
  },
  "language_info": {
   "codemirror_mode": {
    "name": "ipython",
    "version": 3
   },
   "file_extension": ".py",
   "mimetype": "text/x-python",
   "name": "python",
   "nbconvert_exporter": "python",
   "pygments_lexer": "ipython3",
   "version": "3.8.2"
  }
 },
 "nbformat": 4,
 "nbformat_minor": 5
}
