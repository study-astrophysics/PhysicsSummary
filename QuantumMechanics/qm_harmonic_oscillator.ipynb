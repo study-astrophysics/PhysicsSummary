{
 "cells": [
  {
   "cell_type": "markdown",
   "id": "b2e7f6a5",
   "metadata": {},
   "source": [
    "# Quantum Harmonic Oscillator"
   ]
  },
  {
   "attachments": {},
   "cell_type": "markdown",
   "id": "97c523f5",
   "metadata": {},
   "source": [
    "## Energy Levels\n",
    "\n",
    "$$ \\large \\begin{split}\n",
    "E & = (n + \\frac{1}{2}) \\ \\hbar \\omega & \\quad \\text{: in 1D} \\\\\n",
    "  & = (n_x + n_y + n_z + \\frac{3}{2}) \\ \\hbar \\omega & \\quad \\text{: in 3D}\n",
    "\\end{split} $$\n",
    "\n",
    "\n",
    "### Related Problems\n",
    "- GRE Physics GR0177 Problem 045"
   ]
  }
 ],
 "metadata": {
  "kernelspec": {
   "display_name": "Python 3 (ipykernel)",
   "language": "python",
   "name": "python3"
  },
  "language_info": {
   "codemirror_mode": {
    "name": "ipython",
    "version": 3
   },
   "file_extension": ".py",
   "mimetype": "text/x-python",
   "name": "python",
   "nbconvert_exporter": "python",
   "pygments_lexer": "ipython3",
   "version": "3.8.2"
  }
 },
 "nbformat": 4,
 "nbformat_minor": 5
}
