{
 "cells": [
  {
   "cell_type": "markdown",
   "id": "86123470",
   "metadata": {},
   "source": [
    "# [Eigenspinor](https://study-astrophysics.com/eigenspinor/)"
   ]
  },
  {
   "cell_type": "markdown",
   "id": "ced601a5",
   "metadata": {},
   "source": [
    "---"
   ]
  },
  {
   "cell_type": "markdown",
   "id": "5d8260a7",
   "metadata": {},
   "source": [
    "## Eigenspinor\n",
    "\n",
    "\n",
    "Eigenspinors are thought of as basis vectors representing the general spin state of a particle. For a single spin 1/2 particle, they can be defined as the eigenvectors of the Pauli matrices."
   ]
  },
  {
   "cell_type": "markdown",
   "id": "e352d9bf",
   "metadata": {},
   "source": [
    "---"
   ]
  },
  {
   "cell_type": "markdown",
   "id": "3b2286ed",
   "metadata": {},
   "source": [
    "## The Spin 1/2 Particle\n",
    "\n",
    "\n",
    "$$ \\large \\chi^z_+ \\ = \\ \\begin{pmatrix}\n",
    "1\\\\\n",
    "0\n",
    "\\end{pmatrix}\n",
    "$$\n",
    "\n",
    "$$ \\\\ $$ \n",
    "\n",
    "$$ \\large \\chi^z_- \\ = \\ \\begin{pmatrix}\n",
    "0\\\\\n",
    "1\n",
    "\\end{pmatrix}\n",
    "$$\n",
    "\n",
    "\n",
    "### Eigenvalue of $\\hat{S}^2 \\chi_\\pm$\n",
    "\n",
    "\n",
    "$$ \\large \\hat{S}^2 \\chi_\\pm \\ = \\ \\frac{3}{4} \\hbar^2 \\chi_\\pm $$\n",
    "\n",
    "\n",
    "\n",
    "### Eigenvalue of $\\hat{S}_z \\chi_\\pm$\n",
    "\n",
    "\n",
    "$$ \\large \\hat{S}^2 \\chi_\\pm \\ = \\ \\pm \\frac{\\hbar}{2} \\chi_\\pm $$"
   ]
  }
 ],
 "metadata": {
  "kernelspec": {
   "display_name": "Python 3 (ipykernel)",
   "language": "python",
   "name": "python3"
  },
  "language_info": {
   "codemirror_mode": {
    "name": "ipython",
    "version": 3
   },
   "file_extension": ".py",
   "mimetype": "text/x-python",
   "name": "python",
   "nbconvert_exporter": "python",
   "pygments_lexer": "ipython3",
   "version": "3.9.7"
  }
 },
 "nbformat": 4,
 "nbformat_minor": 5
}
