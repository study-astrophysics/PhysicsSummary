{
 "cells": [
  {
   "cell_type": "markdown",
   "id": "03d21cd3",
   "metadata": {},
   "source": [
    "# Bohr Model"
   ]
  },
  {
   "cell_type": "markdown",
   "id": "1893a3a0",
   "metadata": {},
   "source": [
    "## 1.\n",
    "\n",
    "$$ \\large \\frac{m_e v^2}{r} = \\frac{1}{4 \\pi \\epsilon_0} \\frac{Z e^2}{r^2} $$"
   ]
  },
  {
   "cell_type": "markdown",
   "id": "6cdc2f5c",
   "metadata": {},
   "source": [
    "## 2.\n",
    "\n",
    "$$ \\large L = n \\frac{h}{2 \\pi} = n\\hbar = mvr_n  \\quad \\text{: angular momentum} $$\n",
    "\n",
    "$$ \\large mv = \\frac{n\\hbar}{r_n} \\quad \\text{: linear momentum} $$"
   ]
  },
  {
   "cell_type": "markdown",
   "id": "df099879",
   "metadata": {},
   "source": [
    "## 3.\n",
    "\n",
    "$$ \\large \\Delta E = E_2 - E_1 = h \\nu $$"
   ]
  },
  {
   "cell_type": "markdown",
   "id": "32e2f1d4",
   "metadata": {},
   "source": [
    "## Bohr Radius\n",
    "\n",
    "$$ \\large a_0 = \\frac{4 \\pi \\epsilon_0 \\hbar^2}{m_e e^2} $$"
   ]
  },
  {
   "cell_type": "markdown",
   "id": "799330b2",
   "metadata": {},
   "source": [
    "## Bohr Energy\n",
    "\n",
    "$$ \\large E_n = - \\frac{m_e e^4}{n^2 \\hbar^2 2 (4 \\pi \\epsilon_0)^2} $$\n",
    "\n",
    "\n",
    "### Useful Properties\n",
    "\n",
    "$$ \\large \\frac{E_\\mu}{E_e} \\propto \\frac{\\mu_\\mu}{\\mu_e} $$\n",
    "\n",
    "$$ \\large \\text{energy} \\propto \\text{reduced mass} $$"
   ]
  }
 ],
 "metadata": {
  "kernelspec": {
   "display_name": "Python 3 (ipykernel)",
   "language": "python",
   "name": "python3"
  },
  "language_info": {
   "codemirror_mode": {
    "name": "ipython",
    "version": 3
   },
   "file_extension": ".py",
   "mimetype": "text/x-python",
   "name": "python",
   "nbconvert_exporter": "python",
   "pygments_lexer": "ipython3",
   "version": "3.8.2"
  }
 },
 "nbformat": 4,
 "nbformat_minor": 5
}
