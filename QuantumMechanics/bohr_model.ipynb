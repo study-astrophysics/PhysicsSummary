{
 "cells": [
  {
   "cell_type": "markdown",
   "id": "03d21cd3",
   "metadata": {},
   "source": [
    "# [Bohr Model](https://study-astrophysics.com/bohr-model/)"
   ]
  },
  {
   "cell_type": "markdown",
   "id": "5eeae8d4",
   "metadata": {},
   "source": [
    "---"
   ]
  },
  {
   "cell_type": "markdown",
   "id": "1893a3a0",
   "metadata": {},
   "source": [
    "## 1. \n",
    "\n",
    "The electron is able to revolve in certain stable orbits around the nucleus without radiating any energy.\n",
    "\n",
    "$$ \\large \\frac{m_e v^2}{r} = \\frac{1}{4 \\pi \\epsilon_0} \\frac{Z e^2}{r^2} $$"
   ]
  },
  {
   "cell_type": "markdown",
   "id": "35f99a61",
   "metadata": {},
   "source": [
    "---"
   ]
  },
  {
   "cell_type": "markdown",
   "id": "6cdc2f5c",
   "metadata": {},
   "source": [
    "## 2. \n",
    "\n",
    "The stationary orbits are attained at distances for which the angular momentum of the revolving electron is an integer multiple of the reduced Planck constant.\n",
    "\n",
    "\n",
    "$$ \\large L = n \\frac{h}{2 \\pi} = n\\hbar = mvr_n  \\quad \\text{: angular momentum} $$\n",
    "\n",
    "$$ \\large mv = \\frac{n\\hbar}{r_n} \\quad \\text{: linear momentum} $$"
   ]
  },
  {
   "cell_type": "markdown",
   "id": "36335ada",
   "metadata": {},
   "source": [
    "---"
   ]
  },
  {
   "cell_type": "markdown",
   "id": "df099879",
   "metadata": {},
   "source": [
    "## 3. \n",
    "\n",
    "Electrons can only gain and lose energy by jumping from one allowed orbit to another, absorbing or emitting electromagnetic radiation with a frequency ν determined by the energy difference of the levels according to the Planck relation:\n",
    "\n",
    "$$ \\\\ $$\n",
    "\n",
    "$$ \\large \\Delta E = E_2 - E_1 = h \\nu $$"
   ]
  },
  {
   "cell_type": "markdown",
   "id": "fbd75923",
   "metadata": {},
   "source": [
    "---"
   ]
  },
  {
   "cell_type": "markdown",
   "id": "32e2f1d4",
   "metadata": {},
   "source": [
    "## Bohr Radius\n",
    "\n",
    "$$ \\large a_0 = \\frac{4 \\pi \\epsilon_0 \\hbar^2}{m_e e^2} $$"
   ]
  },
  {
   "cell_type": "markdown",
   "id": "3ed30ecf",
   "metadata": {},
   "source": [
    "---"
   ]
  },
  {
   "cell_type": "markdown",
   "id": "799330b2",
   "metadata": {},
   "source": [
    "## Bohr Energy\n",
    "\n",
    "$$ \\large E_n = - \\frac{m_e e^4}{n^2 \\hbar^2 2 (4 \\pi \\epsilon_0)^2} $$\n",
    "\n",
    "\n",
    "\n",
    "### Related Problems\n",
    "\n",
    "\n",
    "- GRE Physics GR1777 Problem [022](https://study-astrophysics.com/gr1777-022/)"
   ]
  }
 ],
 "metadata": {
  "kernelspec": {
   "display_name": "Python 3 (ipykernel)",
   "language": "python",
   "name": "python3"
  },
  "language_info": {
   "codemirror_mode": {
    "name": "ipython",
    "version": 3
   },
   "file_extension": ".py",
   "mimetype": "text/x-python",
   "name": "python",
   "nbconvert_exporter": "python",
   "pygments_lexer": "ipython3",
   "version": "3.9.7"
  }
 },
 "nbformat": 4,
 "nbformat_minor": 5
}
