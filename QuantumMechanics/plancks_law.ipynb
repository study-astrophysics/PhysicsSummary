{
 "cells": [
  {
   "cell_type": "markdown",
   "id": "7f9eab61",
   "metadata": {},
   "source": [
    "# Planck's Law"
   ]
  },
  {
   "cell_type": "markdown",
   "id": "90b59dfe",
   "metadata": {},
   "source": [
    "---"
   ]
  },
  {
   "cell_type": "markdown",
   "id": "dcd20c41",
   "metadata": {},
   "source": [
    "## Planck's Law\n",
    "\n",
    "\n",
    "Planck's law describes the spectral density of electromagnetic radiation emitted by a black body in thermal equilibrium at a given temperature T, when there is no net flow of matter or energy between the body and its environment.\n",
    "\n",
    "\n",
    "$$ \\large B(\\nu ,T)={\\frac {2h\\nu ^{3}}{c^{2}}}{\\frac {1}{e^{\\frac{h\\nu }{k_B T}}-1}} $$\n",
    "https://en.wikipedia.org/wiki/Planck%27s_law\n",
    "\n"
   ]
  }
 ],
 "metadata": {
  "kernelspec": {
   "display_name": "Python 3 (ipykernel)",
   "language": "python",
   "name": "python3"
  },
  "language_info": {
   "codemirror_mode": {
    "name": "ipython",
    "version": 3
   },
   "file_extension": ".py",
   "mimetype": "text/x-python",
   "name": "python",
   "nbconvert_exporter": "python",
   "pygments_lexer": "ipython3",
   "version": "3.9.7"
  }
 },
 "nbformat": 4,
 "nbformat_minor": 5
}
