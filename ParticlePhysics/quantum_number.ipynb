{
 "cells": [
  {
   "cell_type": "markdown",
   "id": "c6133811",
   "metadata": {},
   "source": [
    "# Quantum Number"
   ]
  },
  {
   "cell_type": "markdown",
   "id": "c958bbe1",
   "metadata": {},
   "source": [
    "---"
   ]
  },
  {
   "cell_type": "markdown",
   "id": "ef66a5f0",
   "metadata": {},
   "source": [
    "## Principal Quantum Number $n$\n",
    "\n",
    "https://en.wikipedia.org/wiki/Quantum_number\n"
   ]
  },
  {
   "cell_type": "markdown",
   "id": "555bc7f0",
   "metadata": {},
   "source": [
    "---"
   ]
  },
  {
   "cell_type": "markdown",
   "id": "779a97ac",
   "metadata": {},
   "source": [
    "## Orbital Quantum Number $l$"
   ]
  },
  {
   "cell_type": "markdown",
   "id": "cdde7af8",
   "metadata": {},
   "source": [
    "---"
   ]
  },
  {
   "cell_type": "markdown",
   "id": "6a75a943",
   "metadata": {},
   "source": [
    "## Magnetic Quantum Number $m_l$"
   ]
  },
  {
   "cell_type": "markdown",
   "id": "c4a4cf4c",
   "metadata": {},
   "source": [
    "---"
   ]
  },
  {
   "cell_type": "markdown",
   "id": "9348371e",
   "metadata": {},
   "source": [
    "## Spin Quantum Number $m_s$"
   ]
  },
  {
   "cell_type": "markdown",
   "id": "f37224a2",
   "metadata": {},
   "source": [
    "---"
   ]
  },
  {
   "cell_type": "markdown",
   "id": "ba9664ef",
   "metadata": {},
   "source": [
    "## Related Topics\n",
    "\n",
    "\n",
    "### Atomic Orbital"
   ]
  }
 ],
 "metadata": {
  "kernelspec": {
   "display_name": "Python 3 (ipykernel)",
   "language": "python",
   "name": "python3"
  },
  "language_info": {
   "codemirror_mode": {
    "name": "ipython",
    "version": 3
   },
   "file_extension": ".py",
   "mimetype": "text/x-python",
   "name": "python",
   "nbconvert_exporter": "python",
   "pygments_lexer": "ipython3",
   "version": "3.9.7"
  }
 },
 "nbformat": 4,
 "nbformat_minor": 5
}
