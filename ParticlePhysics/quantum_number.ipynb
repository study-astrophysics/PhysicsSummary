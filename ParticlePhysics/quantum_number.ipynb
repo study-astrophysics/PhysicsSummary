{
 "cells": [
  {
   "cell_type": "markdown",
   "id": "c6133811",
   "metadata": {},
   "source": [
    "# Quantum Number"
   ]
  },
  {
   "cell_type": "markdown",
   "id": "c958bbe1",
   "metadata": {},
   "source": [
    "---"
   ]
  },
  {
   "cell_type": "markdown",
   "id": "ef66a5f0",
   "metadata": {},
   "source": [
    "## Principal Quantum Number $n$\n",
    "\n",
    "The principal quantum number describes the **electron shell, or energy level**, of an electron."
   ]
  },
  {
   "cell_type": "markdown",
   "id": "555bc7f0",
   "metadata": {},
   "source": [
    "---"
   ]
  },
  {
   "cell_type": "markdown",
   "id": "779a97ac",
   "metadata": {},
   "source": [
    "## Orbital Quantum Number $l$\n",
    "\n",
    "The azimuthal quantum number, also known as the (angular momentum quantum number or orbital quantum number), describes the **subshell**, and gives the magnitude of the orbital angular momentum through the relation.\n",
    "\n",
    "\n",
    "$$ \\large L^2 \\ = \\ \\hbar^2 l (l + 1) $$\n",
    "\n",
    "\n",
    "where\n",
    "\n",
    "\n",
    "- $l = 0$: s orbital\n",
    "\n",
    "- $l = 1$: p orbital\n",
    "\n",
    "- $l = 2$: d orbital\n",
    "\n",
    "- $l = 3$: f orbital\n",
    "\n",
    "\n",
    "\n",
    "The value of $l$ ranges from $0$ to $n − 1$, so the first p orbital ($l = 1$) appears in the second electron shell ($n = 2$), the first d orbital ($l = 2$) appears in the third shell ($n = 3$), and so on.\n",
    "\n",
    "\n",
    "$$ \\large l = 0, 1, 2, \\cdots, n − 1 $$"
   ]
  },
  {
   "cell_type": "markdown",
   "id": "cdde7af8",
   "metadata": {},
   "source": [
    "---"
   ]
  },
  {
   "cell_type": "markdown",
   "id": "6a75a943",
   "metadata": {},
   "source": [
    "## Magnetic Quantum Number $m_l$\n",
    "\n",
    "The magnetic quantum number describes the **specific orbital (or \"cloud\") within that subshell**, and yields the projection of the orbital angular momentum along a specified axis.\n",
    "\n",
    "\n",
    "$$ \\large L_z \\ = \\ m_l \\hbar $$\n",
    "\n",
    "\n",
    "The values of $m_l$ range from $-l$ to $l$, with integer intervals.\n",
    "\n",
    "\n",
    "The s subshell ($l = 0$) contains only one orbital, and therefore the $m_l$ of an electron in an s orbital will always be 0. The p subshell ($l = 1$) contains three orbitals, so the $m_l$ of an electron in a p orbital will be −1, 0, or 1. The d subshell ($l = 2$) contains five orbitals, with $m_l$ values of −2, −1, 0, 1, and 2."
   ]
  },
  {
   "cell_type": "markdown",
   "id": "c4a4cf4c",
   "metadata": {},
   "source": [
    "---"
   ]
  },
  {
   "cell_type": "markdown",
   "id": "9348371e",
   "metadata": {},
   "source": [
    "## Spin Quantum Number $m_s$\n",
    "\n",
    "\n",
    "The spin quantum number describes the **intrinsic spin angular momentum** of the electron within each orbital and gives the projection of the spin angular momentum $S$ along the specified axis.\n",
    "\n",
    "$$ \\large S_z \\ = \\ m_s \\hbar$$\n",
    "\n",
    "\n",
    "In general, the values of $m_s$ range from $−s$ to $s$, where $s$ is the spin quantum number, associated with the particle's intrinsic spin angular momentum.\n",
    "\n",
    "$$ \\large m_s = −s, −s + 1, −s + 2, \\cdots, s − 2, s − 1, s. $$\n",
    "\n",
    "\n",
    "An electron has spin number $s = \\tfrac{1}{2}$, consequently $m_s$ will be $\\pm \\tfrac{1}{2}$, referring to \"spin up\" and \"spin down\" states."
   ]
  },
  {
   "cell_type": "markdown",
   "id": "f37224a2",
   "metadata": {},
   "source": [
    "---"
   ]
  },
  {
   "cell_type": "markdown",
   "id": "ba9664ef",
   "metadata": {},
   "source": [
    "## Related Topics\n",
    "\n",
    "\n",
    "### Atomic Orbital"
   ]
  }
 ],
 "metadata": {
  "kernelspec": {
   "display_name": "Python 3 (ipykernel)",
   "language": "python",
   "name": "python3"
  },
  "language_info": {
   "codemirror_mode": {
    "name": "ipython",
    "version": 3
   },
   "file_extension": ".py",
   "mimetype": "text/x-python",
   "name": "python",
   "nbconvert_exporter": "python",
   "pygments_lexer": "ipython3",
   "version": "3.9.7"
  }
 },
 "nbformat": 4,
 "nbformat_minor": 5
}
