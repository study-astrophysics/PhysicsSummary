{
 "cells": [
  {
   "cell_type": "markdown",
   "id": "7e6a3f63",
   "metadata": {},
   "source": [
    "# [Stark Effect](https://study-astrophysics.com/stark-effect/)"
   ]
  },
  {
   "cell_type": "markdown",
   "id": "365f019b",
   "metadata": {},
   "source": [
    "---"
   ]
  },
  {
   "cell_type": "markdown",
   "id": "ad09888a",
   "metadata": {},
   "source": [
    "## Stark Effect\n",
    "\n",
    "The Stark effect is the shifting and splitting of spectral lines of atoms and molecules due to the presence of an external electric field $\\hat{H}' = e E \\hat{z}$.\n",
    "\n",
    "\n",
    "For a hydrogen atom in the ground state, the first-order correction to the energy vanishes.\n",
    "\n",
    "\n",
    "The second-order correction is\n",
    "\n",
    "\n",
    "$$ \\large E^2_1 \\ = \\ \\sum_{n\\neq1,l,m} \\frac{|\\langle nlm | e E_z | 100 \\rangle |^2}{E_1 - E_n} $$"
   ]
  },
  {
   "cell_type": "markdown",
   "id": "82185d79",
   "metadata": {},
   "source": [
    "---"
   ]
  },
  {
   "cell_type": "markdown",
   "id": "6ef77cb0",
   "metadata": {},
   "source": [
    "## Related Topics\n",
    "\n",
    "\n",
    "### [Zeeman Effect](https://study-astrophysics.com/zeeman-effect/)"
   ]
  }
 ],
 "metadata": {
  "kernelspec": {
   "display_name": "Python 3 (ipykernel)",
   "language": "python",
   "name": "python3"
  },
  "language_info": {
   "codemirror_mode": {
    "name": "ipython",
    "version": 3
   },
   "file_extension": ".py",
   "mimetype": "text/x-python",
   "name": "python",
   "nbconvert_exporter": "python",
   "pygments_lexer": "ipython3",
   "version": "3.9.7"
  }
 },
 "nbformat": 4,
 "nbformat_minor": 5
}
