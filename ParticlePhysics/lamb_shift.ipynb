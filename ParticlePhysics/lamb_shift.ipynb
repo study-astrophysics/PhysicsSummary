{
 "cells": [
  {
   "cell_type": "markdown",
   "id": "f1c75b29",
   "metadata": {},
   "source": [
    "# Lamb Shift"
   ]
  },
  {
   "cell_type": "markdown",
   "id": "ea624f99",
   "metadata": {},
   "source": [
    "---"
   ]
  },
  {
   "cell_type": "markdown",
   "id": "254d4cab",
   "metadata": {},
   "source": [
    "## Lamb Shift\n",
    "\n",
    "\n",
    "Lamb shift give an $O(\\alpha^3)$ correction."
   ]
  },
  {
   "cell_type": "markdown",
   "id": "ebc4e047",
   "metadata": {},
   "source": [
    "---"
   ]
  },
  {
   "cell_type": "markdown",
   "id": "a4e8bce0",
   "metadata": {},
   "source": [
    "## Related Topics\n",
    "\n",
    "### Fine Structure\n",
    "\n",
    "\n",
    "### Hyperfine Structure"
   ]
  }
 ],
 "metadata": {
  "kernelspec": {
   "display_name": "Python 3 (ipykernel)",
   "language": "python",
   "name": "python3"
  },
  "language_info": {
   "codemirror_mode": {
    "name": "ipython",
    "version": 3
   },
   "file_extension": ".py",
   "mimetype": "text/x-python",
   "name": "python",
   "nbconvert_exporter": "python",
   "pygments_lexer": "ipython3",
   "version": "3.9.7"
  }
 },
 "nbformat": 4,
 "nbformat_minor": 5
}
