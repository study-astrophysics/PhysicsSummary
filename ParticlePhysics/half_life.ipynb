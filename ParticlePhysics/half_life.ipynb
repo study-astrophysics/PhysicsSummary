{
 "cells": [
  {
   "cell_type": "markdown",
   "id": "87217443",
   "metadata": {},
   "source": [
    "# Half-Life"
   ]
  },
  {
   "cell_type": "markdown",
   "id": "a52acc1c",
   "metadata": {},
   "source": [
    "## Reduced Half-Life\n",
    "\n",
    "$$ \\large \\tau_\\text{total} = \\frac{\\tau_\\beta \\ \\tau_\\gamma}{\\tau_\\beta + \\tau_\\gamma} $$\n",
    "\n",
    "\n",
    "### Related Problems\n",
    "- GRE Physics GR0177: Problem 066"
   ]
  }
 ],
 "metadata": {
  "kernelspec": {
   "display_name": "Python 3",
   "language": "python",
   "name": "python3"
  },
  "language_info": {
   "codemirror_mode": {
    "name": "ipython",
    "version": 3
   },
   "file_extension": ".py",
   "mimetype": "text/x-python",
   "name": "python",
   "nbconvert_exporter": "python",
   "pygments_lexer": "ipython3",
   "version": "3.8.8"
  }
 },
 "nbformat": 4,
 "nbformat_minor": 5
}
