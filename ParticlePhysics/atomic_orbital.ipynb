{
 "cells": [
  {
   "cell_type": "markdown",
   "id": "ac93d11e",
   "metadata": {},
   "source": [
    "# Atomic Orbital"
   ]
  },
  {
   "cell_type": "markdown",
   "id": "90d40f59",
   "metadata": {},
   "source": [
    "---"
   ]
  },
  {
   "cell_type": "markdown",
   "id": "a440d9d3",
   "metadata": {},
   "source": [
    "## Quantum Numbers\n",
    "\n",
    "\n",
    "- $n$: principal quantum number\n",
    "\n",
    "\n",
    "- $l$: orbital quantum number (angular momentum quantum number, or azimuthal qunatum number)\n",
    "\n",
    "\n",
    "- $m$: magnetic quantum number\n",
    "\n",
    "\n",
    "- $s$: spin quantum number"
   ]
  },
  {
   "cell_type": "markdown",
   "id": "9b8537dd",
   "metadata": {},
   "source": [
    "## Electron Filling Order\n",
    "\n",
    "The following is the order for filling the \"subshell\" orbitals, which also gives the order of the \"blocks\" in the periodic table:\n",
    "\n",
    "$$ \\large 1s, 2s, 2p, 3s, 3p, 4s, 3d, 4p, 5s, 4d, 5p, 6s, 4f, 5d, 6p, 7s, 5f, 6d, 7p $$"
   ]
  },
  {
   "cell_type": "markdown",
   "id": "b553af69",
   "metadata": {},
   "source": [
    "## Related Topics\n",
    "\n",
    "\n",
    "### Quantum Numbers\n",
    "\n",
    "\n",
    "### Hund's Rules"
   ]
  }
 ],
 "metadata": {
  "kernelspec": {
   "display_name": "Python 3 (ipykernel)",
   "language": "python",
   "name": "python3"
  },
  "language_info": {
   "codemirror_mode": {
    "name": "ipython",
    "version": 3
   },
   "file_extension": ".py",
   "mimetype": "text/x-python",
   "name": "python",
   "nbconvert_exporter": "python",
   "pygments_lexer": "ipython3",
   "version": "3.9.7"
  }
 },
 "nbformat": 4,
 "nbformat_minor": 5
}
