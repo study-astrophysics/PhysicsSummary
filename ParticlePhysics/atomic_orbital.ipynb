{
 "cells": [
  {
   "cell_type": "markdown",
   "id": "ac93d11e",
   "metadata": {},
   "source": [
    "# Atomic Orbital"
   ]
  },
  {
   "cell_type": "markdown",
   "id": "90d40f59",
   "metadata": {},
   "source": [
    "---"
   ]
  },
  {
   "cell_type": "markdown",
   "id": "a440d9d3",
   "metadata": {},
   "source": [
    "## Quantum Numbers\n",
    "\n",
    "\n",
    "- $n$: principal quantum number\n",
    "\n",
    "\n",
    "- $l$: orbital quantum number (angular momentum quantum number, or azimuthal qunatum number)\n",
    "\n",
    "\n",
    "- $m$: magnetic quantum number\n",
    "\n",
    "\n",
    "- $s$: spin quantum number"
   ]
  },
  {
   "cell_type": "markdown",
   "id": "e6b6c95b",
   "metadata": {},
   "source": [
    "Name\tSymbol\tMeaning\tRange of values\tValue examples\n",
    "Principal quantum number\tn\tshell\t1 ≤ n\tn = 1, 2, 3, …\n",
    "Azimuthal quantum number (angular momentum)\tℓ\tsubshell (s orbital is listed as 0, p orbital as 1 etc.)\t0 ≤ ℓ ≤ n − 1\tfor n = 3: \n",
    "ℓ = 0, 1, 2 (s, p, d)\n",
    "Magnetic quantum number (projection of angular momentum)\tmℓ\tOrbital (orientation of the orbital)\t−ℓ ≤ mℓ ≤ ℓ\tfor ℓ = 2: \n",
    "mℓ = −2, −1, 0, 1, 2\n",
    "Spin quantum number\tms\tspin of the electron (−\n",
    "1\n",
    "/\n",
    "2\n",
    " = \"spin down\", \n",
    "1\n",
    "/\n",
    "2\n",
    " = \"spin up\")\t−s ≤ ms ≤ s\tfor an electron s = \n",
    "1\n",
    "/\n",
    "2\n",
    ",\n",
    "so ms = −\n",
    "1\n",
    "/\n",
    "2\n",
    ", +"
   ]
  },
  {
   "cell_type": "markdown",
   "id": "9b8537dd",
   "metadata": {},
   "source": [
    "The following is the order for filling the \"subshell\" orbitals, which also gives the order of the \"blocks\" in the periodic table:\n",
    "\n",
    "1s, 2s, 2p, 3s, 3p, 4s, 3d, 4p, 5s, 4d, 5p, 6s, 4f, 5d, 6p, 7s, 5f, 6d, 7p"
   ]
  },
  {
   "cell_type": "markdown",
   "id": "2e1ae420",
   "metadata": {},
   "source": [
    "https://en.wikipedia.org/wiki/Atomic_orbital"
   ]
  },
  {
   "cell_type": "markdown",
   "id": "b553af69",
   "metadata": {},
   "source": [
    "## Related Topics\n",
    "\n",
    "\n",
    "### Quantum Numbers"
   ]
  }
 ],
 "metadata": {
  "kernelspec": {
   "display_name": "Python 3 (ipykernel)",
   "language": "python",
   "name": "python3"
  },
  "language_info": {
   "codemirror_mode": {
    "name": "ipython",
    "version": 3
   },
   "file_extension": ".py",
   "mimetype": "text/x-python",
   "name": "python",
   "nbconvert_exporter": "python",
   "pygments_lexer": "ipython3",
   "version": "3.9.7"
  }
 },
 "nbformat": 4,
 "nbformat_minor": 5
}
