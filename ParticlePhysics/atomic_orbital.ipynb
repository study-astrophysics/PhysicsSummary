{
 "cells": [
  {
   "cell_type": "markdown",
   "id": "ac93d11e",
   "metadata": {},
   "source": [
    "# Atomic Orbital"
   ]
  },
  {
   "cell_type": "markdown",
   "id": "90d40f59",
   "metadata": {},
   "source": [
    "---"
   ]
  },
  {
   "cell_type": "markdown",
   "id": "a440d9d3",
   "metadata": {},
   "source": [
    "## Atomic Orbital\n"
   ]
  },
  {
   "cell_type": "markdown",
   "id": "2e1ae420",
   "metadata": {},
   "source": [
    "https://en.wikipedia.org/wiki/Atomic_orbital"
   ]
  }
 ],
 "metadata": {
  "kernelspec": {
   "display_name": "Python 3 (ipykernel)",
   "language": "python",
   "name": "python3"
  },
  "language_info": {
   "codemirror_mode": {
    "name": "ipython",
    "version": 3
   },
   "file_extension": ".py",
   "mimetype": "text/x-python",
   "name": "python",
   "nbconvert_exporter": "python",
   "pygments_lexer": "ipython3",
   "version": "3.9.7"
  }
 },
 "nbformat": 4,
 "nbformat_minor": 5
}
