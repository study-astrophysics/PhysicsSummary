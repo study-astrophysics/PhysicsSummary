{
 "cells": [
  {
   "cell_type": "markdown",
   "id": "cea4440f",
   "metadata": {},
   "source": [
    "# Zeeman Effect"
   ]
  },
  {
   "cell_type": "markdown",
   "id": "1a70c098",
   "metadata": {},
   "source": [
    "---"
   ]
  },
  {
   "cell_type": "markdown",
   "id": "6feff9f6",
   "metadata": {},
   "source": [
    "## Zeeman Effect\n",
    "\n",
    "\n",
    "The Zeeman effect is the effect of splitting of a spectral line into several components in the presence of a static magnetic field.\n",
    "\n",
    "\n",
    "In the magnetic field \n",
    "\n",
    "$$ \\large \\hat{H}'_z = - (\\vec{\\mu}_l + \\vec{\\mu}_s) \\cdot \\vec{B}$$ \n",
    "\n",
    "\n",
    "where \n",
    "\n",
    "\n",
    "- $\\vec{\\mu}_l = -\\frac{e}{2m}\\vec{L}$\n",
    "\n",
    "\n",
    "- $\\vec{\\mu}_s = -\\frac{e}{m}\\vec{S}$\n",
    "\n",
    "\n",
    "\n",
    "\n",
    "### For the weak-field,\n",
    "\n",
    "We want eigenstates of $\\hat{J}^2$ and $\\hat{J}_z$, and\n",
    "\n",
    "\n",
    "$$ \\large E'_z \\ = \\ \\frac{e}{2m} \\vec{B} \\cdots \\langle \\vec{L} + 2 \\vec{S} \\rangle \\ = \\ \\frac{e}{2m} \\vec{B} \\cdot \\langle \\vec{J} \\rangle \\left[ 1 + \\frac{j(j+1) - l(l+1) + 3/4}{2j(j+1)} \\right] $$\n",
    "\n",
    "This splits the ground state into two levels for $m_j = \\pm 1/2$.\n",
    "\n",
    "\n",
    "\n",
    "### For the strong-field,\n",
    "\n",
    "\n",
    "We want eigenstates of $\\vec{L}_z$ and $\\vec{S}_z$, and\n",
    "\n",
    "\n",
    "$$ \\large E'_z \\ = \\ \\mu_B B (m_l + 2m_s) $$\n",
    "\n",
    "\n",
    "where\n",
    "\n",
    "\n",
    "- $\\mu_B = \\frac{e\\hbar}{2m}$: Bohr magneton"
   ]
  },
  {
   "cell_type": "markdown",
   "id": "32d638a1",
   "metadata": {},
   "source": [
    "---"
   ]
  },
  {
   "cell_type": "markdown",
   "id": "9df82a16",
   "metadata": {},
   "source": [
    "## Related Topics\n",
    "\n",
    "\n",
    "### Stark Effect"
   ]
  }
 ],
 "metadata": {
  "kernelspec": {
   "display_name": "Python 3 (ipykernel)",
   "language": "python",
   "name": "python3"
  },
  "language_info": {
   "codemirror_mode": {
    "name": "ipython",
    "version": 3
   },
   "file_extension": ".py",
   "mimetype": "text/x-python",
   "name": "python",
   "nbconvert_exporter": "python",
   "pygments_lexer": "ipython3",
   "version": "3.9.7"
  }
 },
 "nbformat": 4,
 "nbformat_minor": 5
}
