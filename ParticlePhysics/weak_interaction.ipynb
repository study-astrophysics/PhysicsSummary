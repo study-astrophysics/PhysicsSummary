{
 "cells": [
  {
   "cell_type": "markdown",
   "id": "da82d7e3",
   "metadata": {},
   "source": [
    "# Weak Nuclear Force"
   ]
  },
  {
   "cell_type": "markdown",
   "id": "a4cdfabc",
   "metadata": {},
   "source": [
    "## $\\beta^+$-decay\n",
    "\n",
    "$$ \\large ^{13}N \\rightarrow ^{13}C + e^+ + \\nu_e $$"
   ]
  }
 ],
 "metadata": {
  "kernelspec": {
   "display_name": "Python 3",
   "language": "python",
   "name": "python3"
  },
  "language_info": {
   "codemirror_mode": {
    "name": "ipython",
    "version": 3
   },
   "file_extension": ".py",
   "mimetype": "text/x-python",
   "name": "python",
   "nbconvert_exporter": "python",
   "pygments_lexer": "ipython3",
   "version": "3.8.8"
  }
 },
 "nbformat": 4,
 "nbformat_minor": 5
}
