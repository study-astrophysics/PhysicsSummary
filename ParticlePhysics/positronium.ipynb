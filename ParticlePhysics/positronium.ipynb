{
 "cells": [
  {
   "cell_type": "markdown",
   "id": "b1bcefe1",
   "metadata": {},
   "source": [
    "# Positronium"
   ]
  },
  {
   "cell_type": "markdown",
   "id": "a22b79ab",
   "metadata": {},
   "source": [
    "---"
   ]
  },
  {
   "cell_type": "markdown",
   "id": "7490d310",
   "metadata": {},
   "source": [
    "## Positronium\n",
    "\n",
    "Positronium (Ps) is a system consisting of an electron and its anti-particle, a positron, bound together into an exotic atom, specifically an onium.\n",
    "\n"
   ]
  },
  {
   "cell_type": "markdown",
   "id": "241f2ee7",
   "metadata": {},
   "source": [
    "---"
   ]
  },
  {
   "cell_type": "markdown",
   "id": "fd2c0156",
   "metadata": {},
   "source": [
    "## Rydberg Constant\n",
    "\n",
    "Rydberg constant for positronium may be calculated from the reduced mass.\n",
    "\n",
    "\n",
    "$$ \\large R_M = R_\\infty \\Big( \\frac{M}{m_e + M} \\Big) = R_\\infty \\Big( 1 + \\frac{m_e}{M} \\Big)^{-1} $$\n",
    "\n",
    "\n",
    "### Related Problems\n",
    "- GRE Physics GR1777 Problem [023](https://study-astrophysics.com/gr1777-023/)\n"
   ]
  }
 ],
 "metadata": {
  "kernelspec": {
   "display_name": "Python 3 (ipykernel)",
   "language": "python",
   "name": "python3"
  },
  "language_info": {
   "codemirror_mode": {
    "name": "ipython",
    "version": 3
   },
   "file_extension": ".py",
   "mimetype": "text/x-python",
   "name": "python",
   "nbconvert_exporter": "python",
   "pygments_lexer": "ipython3",
   "version": "3.9.7"
  }
 },
 "nbformat": 4,
 "nbformat_minor": 5
}
