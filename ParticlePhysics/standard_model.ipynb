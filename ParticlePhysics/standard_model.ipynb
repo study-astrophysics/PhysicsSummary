{
 "cells": [
  {
   "cell_type": "markdown",
   "id": "dad38125",
   "metadata": {},
   "source": [
    "# [Standard Model of Particle Physics](https://study-astrophysics.com/standard-model-of-particle-physics/)"
   ]
  },
  {
   "cell_type": "markdown",
   "id": "a241f0e6",
   "metadata": {},
   "source": [
    "---"
   ]
  },
  {
   "cell_type": "markdown",
   "id": "f9d7ae8c",
   "metadata": {},
   "source": [
    "![title](https://upload.wikimedia.org/wikipedia/commons/b/b7/Standard_Model_of_Elementary_Particles_%2B_Gravity.svg)\n",
    "\n",
    "\n",
    "### Related Problems\n",
    "\n",
    "- GRE Physics GR1777 Problem [073](https://study-astrophysics.com/gr1777-073/)\n"
   ]
  },
  {
   "cell_type": "markdown",
   "id": "f97d1d44",
   "metadata": {},
   "source": [
    "---"
   ]
  },
  {
   "cell_type": "markdown",
   "id": "bbc34266",
   "metadata": {},
   "source": [
    "## Lepton\n",
    "\n",
    "- No quarks\n",
    "\n",
    "\n",
    "### Lepton Number Conservation\n",
    "\n",
    "$$ \\large \\mu \\rightarrow e^- + \\nu_\\mu + \\bar{\\nu_e}  \\quad \\Leftrightarrow \\quad 1 = 1 + 1 - 1 $$\n",
    "\n",
    "\n",
    "\n",
    "### Related Problems\n",
    "\n",
    "- GRE Physics GR1777 Problem [074](https://study-astrophysics.com/gr1777-074/)\n",
    "- GRE Physics GR0177 Problem 078"
   ]
  },
  {
   "cell_type": "markdown",
   "id": "15708039",
   "metadata": {},
   "source": [
    "---"
   ]
  },
  {
   "cell_type": "markdown",
   "id": "509a1048",
   "metadata": {},
   "source": [
    "## Baryon\n",
    "\n",
    "- 3 quarks\n",
    "\n",
    "\n",
    "### Related Problems\n",
    "\n",
    "- GRE Physics GR1777 Problem [074](https://study-astrophysics.com/gr1777-074/)\n"
   ]
  },
  {
   "cell_type": "markdown",
   "id": "2beb06b7",
   "metadata": {},
   "source": [
    "---"
   ]
  },
  {
   "cell_type": "markdown",
   "id": "7e37369b",
   "metadata": {},
   "source": [
    "## Meson\n",
    "\n",
    "- 1 quark + 1 anti-quark\n",
    "\n",
    "\n",
    "### For example,\n",
    "- $J/\\psi$ meson: charm quark + anti-charm quark\n",
    "\n",
    "\n",
    "### Related Problems\n",
    "\n",
    "- GRE Physics GR1777 Problem [074](https://study-astrophysics.com/gr1777-074/)\n",
    "- GRE Physics GR0877 Problem 073"
   ]
  }
 ],
 "metadata": {
  "kernelspec": {
   "display_name": "Python 3 (ipykernel)",
   "language": "python",
   "name": "python3"
  },
  "language_info": {
   "codemirror_mode": {
    "name": "ipython",
    "version": 3
   },
   "file_extension": ".py",
   "mimetype": "text/x-python",
   "name": "python",
   "nbconvert_exporter": "python",
   "pygments_lexer": "ipython3",
   "version": "3.8.13"
  }
 },
 "nbformat": 4,
 "nbformat_minor": 5
}
