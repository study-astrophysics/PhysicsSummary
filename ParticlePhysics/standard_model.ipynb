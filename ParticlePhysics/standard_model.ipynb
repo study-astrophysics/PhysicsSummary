{
 "cells": [
  {
   "cell_type": "markdown",
   "id": "dad38125",
   "metadata": {},
   "source": [
    "# Standard Model of Particle Physics"
   ]
  },
  {
   "cell_type": "markdown",
   "id": "f9d7ae8c",
   "metadata": {},
   "source": [
    "Insert the diagram"
   ]
  },
  {
   "cell_type": "markdown",
   "id": "bbc34266",
   "metadata": {},
   "source": [
    "## Lepton\n",
    "\n",
    "- No quarks\n",
    "\n",
    "\n",
    "### Lepton Number Conservation\n",
    "\n",
    "$$ \\mu \\rightarrow e^- + \\nu_\\mu + \\bar{\\nu_e}  \\quad \\Leftrightarrow \\quad 1 = 1 + 1 - 1 $$\n",
    "\n",
    "\n",
    "### Related Problems\n",
    "- GRE Physics GR0177: Problem 078"
   ]
  },
  {
   "cell_type": "markdown",
   "id": "509a1048",
   "metadata": {},
   "source": [
    "## Baryon\n",
    "\n",
    "- 3 quarks"
   ]
  },
  {
   "cell_type": "markdown",
   "id": "7e37369b",
   "metadata": {},
   "source": [
    "## Meson\n",
    "\n",
    "- 1 quark + 1 anti-quark\n",
    "\n",
    "\n",
    "### For example,\n",
    "- $J/\\psi$ meson: charm quark + anti-charm quark\n",
    "\n",
    "\n",
    "### Related Problems\n",
    "- GRE Physics GR0877: Problem 073"
   ]
  }
 ],
 "metadata": {
  "kernelspec": {
   "display_name": "Python 3",
   "language": "python",
   "name": "python3"
  },
  "language_info": {
   "codemirror_mode": {
    "name": "ipython",
    "version": 3
   },
   "file_extension": ".py",
   "mimetype": "text/x-python",
   "name": "python",
   "nbconvert_exporter": "python",
   "pygments_lexer": "ipython3",
   "version": "3.8.8"
  }
 },
 "nbformat": 4,
 "nbformat_minor": 5
}
