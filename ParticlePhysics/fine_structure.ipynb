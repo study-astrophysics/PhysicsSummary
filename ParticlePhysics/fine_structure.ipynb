{
 "cells": [
  {
   "cell_type": "markdown",
   "id": "c43112f3",
   "metadata": {},
   "source": [
    "# [Fine Structure](https://study-astrophysics.com/fine-structure/)"
   ]
  },
  {
   "cell_type": "markdown",
   "id": "f888d264",
   "metadata": {},
   "source": [
    "---"
   ]
  },
  {
   "cell_type": "markdown",
   "id": "2fe2868a",
   "metadata": {},
   "source": [
    "## Fine Structure Constant\n",
    "\n",
    "\n",
    "$$ \\large \\alpha \\ = \\ \\frac{e^2}{4\\pi\\epsilon\\hbar c} \\ \\approx \\ \\frac{1}{137} $$"
   ]
  },
  {
   "cell_type": "markdown",
   "id": "bf045365",
   "metadata": {},
   "source": [
    "---"
   ]
  },
  {
   "cell_type": "markdown",
   "id": "6f30caf2",
   "metadata": {},
   "source": [
    "## Hydrogen Fine Structure\n",
    "\n",
    "The small splitting of the spectral line is attributed to an interaction between the electron spin $S$ and the orbital angular momentum $L$.\n",
    "\n",
    "This split can be handeled using the perturbation theory and gives an $O(\\alpha^2)$ correction.\n",
    "\n",
    "For this correction, we use eigenstates of total angular momentum $\\hat{J}^2$ and $\\hat{J}_z$.\n",
    "\n",
    "Taking the fine structure into account always lowers the energy value with lower $j$ corresponding to lower energy.\n",
    "\n",
    "$$ \\large E_{nj} \\ = \\ \\frac{E_1}{n^2} \\left[ 1 + \\frac{\\alpha^2}{n^2} \\left( \\frac{n}{j+1/2} - \\frac{3}{4} \\right) \\right] $$\n",
    "\n",
    "\n",
    "where\n",
    "\n",
    "\n",
    "- $j = |l-1/2|, |l+1/2|$\n",
    "\n",
    "\n",
    "Each energy level for $l > 0$ is split in two by the fine structure."
   ]
  },
  {
   "cell_type": "markdown",
   "id": "d1d3bab2",
   "metadata": {},
   "source": [
    "---"
   ]
  },
  {
   "cell_type": "markdown",
   "id": "5ed0bf9c",
   "metadata": {},
   "source": [
    "## Related Topics\n",
    "\n",
    "\n",
    "### [Lamb Shift](https://study-astrophysics.com/lamb-shift/)\n",
    "\n",
    "\n",
    "### [Hyperfine Structure](https://study-astrophysics.com/hyperfine-structure/)"
   ]
  }
 ],
 "metadata": {
  "kernelspec": {
   "display_name": "Python 3 (ipykernel)",
   "language": "python",
   "name": "python3"
  },
  "language_info": {
   "codemirror_mode": {
    "name": "ipython",
    "version": 3
   },
   "file_extension": ".py",
   "mimetype": "text/x-python",
   "name": "python",
   "nbconvert_exporter": "python",
   "pygments_lexer": "ipython3",
   "version": "3.9.7"
  }
 },
 "nbformat": 4,
 "nbformat_minor": 5
}
