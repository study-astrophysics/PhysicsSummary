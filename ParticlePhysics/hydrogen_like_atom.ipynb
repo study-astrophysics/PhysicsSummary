{
 "cells": [
  {
   "cell_type": "markdown",
   "id": "991a1e33",
   "metadata": {},
   "source": [
    "# [Hydrogen-like Atom](https://study-astrophysics.com/hydrogen-like-atom/)"
   ]
  },
  {
   "cell_type": "markdown",
   "id": "87a9b258",
   "metadata": {},
   "source": [
    "---"
   ]
  },
  {
   "cell_type": "markdown",
   "id": "3e3c1b36",
   "metadata": {},
   "source": [
    "## Hydrogen-like Atom\n",
    "\n",
    "A hydrogen-like atom (or hydrogenic atom) is any atom or ion with a single valence electron.\n",
    "\n",
    "Change $e^2$ to $Z e^2$, where $Z$ is the atomic number."
   ]
  },
  {
   "cell_type": "markdown",
   "id": "c14a789c",
   "metadata": {},
   "source": [
    "---"
   ]
  },
  {
   "cell_type": "markdown",
   "id": "e4ecd99d",
   "metadata": {},
   "source": [
    "## Related Topics\n",
    "\n",
    "\n",
    "### Hydrogen Atoms"
   ]
  }
 ],
 "metadata": {
  "kernelspec": {
   "display_name": "Python 3 (ipykernel)",
   "language": "python",
   "name": "python3"
  },
  "language_info": {
   "codemirror_mode": {
    "name": "ipython",
    "version": 3
   },
   "file_extension": ".py",
   "mimetype": "text/x-python",
   "name": "python",
   "nbconvert_exporter": "python",
   "pygments_lexer": "ipython3",
   "version": "3.9.7"
  }
 },
 "nbformat": 4,
 "nbformat_minor": 5
}
