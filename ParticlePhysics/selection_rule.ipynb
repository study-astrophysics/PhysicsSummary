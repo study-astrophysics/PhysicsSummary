{
 "cells": [
  {
   "cell_type": "markdown",
   "id": "6ba7dcc7",
   "metadata": {},
   "source": [
    "# Selection Rule"
   ]
  },
  {
   "cell_type": "markdown",
   "id": "6bd3fa8e",
   "metadata": {},
   "source": [
    "---"
   ]
  },
  {
   "cell_type": "markdown",
   "id": "e37fb8a6",
   "metadata": {},
   "source": [
    "## Selection Rule\n",
    "\n",
    "In physics and chemistry, a selection rule, or transition rule, formally constrains the possible transitions of a system from one quantum state to another. Selection rules have been derived for electromagnetic transitions in molecules, in atoms, in atomic nuclei, and so on.\n",
    "\n",
    "$$ \\large \\Delta l = \\pm 1 \\quad (\\Delta l = 0 \\text{ is not allowed.}) $$\n",
    "\n",
    "$$ \\large \\Delta m = 0, \\pm 1 $$\n",
    "\n",
    "\n",
    "### Related Problems\n",
    "- GRE Physics GR0177 Problem 084\n"
   ]
  },
  {
   "cell_type": "markdown",
   "id": "0c1b9223",
   "metadata": {},
   "source": [
    "https://en.wikipedia.org/wiki/Selection_rule"
   ]
  }
 ],
 "metadata": {
  "kernelspec": {
   "display_name": "Python 3 (ipykernel)",
   "language": "python",
   "name": "python3"
  },
  "language_info": {
   "codemirror_mode": {
    "name": "ipython",
    "version": 3
   },
   "file_extension": ".py",
   "mimetype": "text/x-python",
   "name": "python",
   "nbconvert_exporter": "python",
   "pygments_lexer": "ipython3",
   "version": "3.9.7"
  }
 },
 "nbformat": 4,
 "nbformat_minor": 5
}
