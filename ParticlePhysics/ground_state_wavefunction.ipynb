{
 "cells": [
  {
   "cell_type": "markdown",
   "id": "0cc813dd",
   "metadata": {},
   "source": [
    "# [Ground-state Wavefunction](https://study-astrophysics.com/ground-state-wavefunction/)"
   ]
  },
  {
   "cell_type": "markdown",
   "id": "524795d6",
   "metadata": {},
   "source": [
    "---"
   ]
  },
  {
   "cell_type": "markdown",
   "id": "f4f42b21",
   "metadata": {},
   "source": [
    "## Ground-state Wavefunction\n",
    "\n",
    "When $n=1$ and $l=m=0$, the particle is in the ground-state. The wavefunction of this particle is\n",
    "\n",
    "$$ \\large \\psi_{100} \\ = \\ \\frac{1}{\\sqrt{\\pi a^3_0}} e^{-r/a_0} $$"
   ]
  }
 ],
 "metadata": {
  "kernelspec": {
   "display_name": "Python 3 (ipykernel)",
   "language": "python",
   "name": "python3"
  },
  "language_info": {
   "codemirror_mode": {
    "name": "ipython",
    "version": 3
   },
   "file_extension": ".py",
   "mimetype": "text/x-python",
   "name": "python",
   "nbconvert_exporter": "python",
   "pygments_lexer": "ipython3",
   "version": "3.9.7"
  }
 },
 "nbformat": 4,
 "nbformat_minor": 5
}
