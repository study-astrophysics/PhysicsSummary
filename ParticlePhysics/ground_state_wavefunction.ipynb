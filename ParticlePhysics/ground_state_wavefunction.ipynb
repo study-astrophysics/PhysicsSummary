{
 "cells": [
  {
   "cell_type": "markdown",
   "id": "19f55b0b",
   "metadata": {},
   "source": [
    "# Ground-state Wavefunction"
   ]
  },
  {
   "cell_type": "markdown",
   "id": "b70aa504",
   "metadata": {},
   "source": [
    "---"
   ]
  },
  {
   "cell_type": "markdown",
   "id": "ec34a078",
   "metadata": {},
   "source": [
    "## Ground-state Wavefunction\n",
    "\n",
    "When $n=1$ and $l=m=0$, the particle is in the ground-state. The wavefunction of this particle is\n",
    "\n",
    "$$ \\large \\psi_{100} \\ = \\ \\frac{1}{\\sqrt{\\pi a^3_0}} e^{-r/a_0} $$"
   ]
  }
 ],
 "metadata": {
  "kernelspec": {
   "display_name": "Python 3 (ipykernel)",
   "language": "python",
   "name": "python3"
  },
  "language_info": {
   "codemirror_mode": {
    "name": "ipython",
    "version": 3
   },
   "file_extension": ".py",
   "mimetype": "text/x-python",
   "name": "python",
   "nbconvert_exporter": "python",
   "pygments_lexer": "ipython3",
   "version": "3.9.7"
  }
 },
 "nbformat": 4,
 "nbformat_minor": 5
}
