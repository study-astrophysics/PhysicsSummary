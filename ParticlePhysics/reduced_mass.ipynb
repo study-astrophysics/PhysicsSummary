{
 "cells": [
  {
   "cell_type": "markdown",
   "id": "1ca04f5a",
   "metadata": {},
   "source": [
    "# [Reduced Mass](https://study-astrophysics.com/reduced-mass/)"
   ]
  },
  {
   "cell_type": "markdown",
   "id": "13958c5c",
   "metadata": {},
   "source": [
    "---"
   ]
  },
  {
   "cell_type": "markdown",
   "id": "0c41fd42",
   "metadata": {},
   "source": [
    "## Reduced Mass\n",
    "\n",
    "The reduced mass is the \"effective\" inertial mass appearing in the two-body problem of Newtonian mechanics.\n",
    "\n",
    "Given two bodies, one with mass $m_1$ and the other with mass $m_2$, the reduced mass $\\mu$ can be calculated:\n",
    "\n",
    "$$ \\large {\\frac {1}{\\mu }}={\\frac {1}{m_{1}}}+{\\frac {1}{m_{2}}} $$\n",
    "\n",
    "$$ \\\\ $$\n",
    "\n",
    "$$ \\large \\mu ={\\cfrac {1}{{\\cfrac {1}{m_{1}}}+{\\cfrac {1}{m_{2}}}}}={\\cfrac {m_{1}m_{2}}{m_{1}+m_{2}}} $$\n",
    "\n"
   ]
  },
  {
   "cell_type": "markdown",
   "id": "84b5e9a4",
   "metadata": {},
   "source": [
    "---"
   ]
  },
  {
   "cell_type": "markdown",
   "id": "5c5d002d",
   "metadata": {},
   "source": [
    "$$ \\large \\frac{E_\\mu}{E_e} \\propto \\frac{\\mu_\\mu}{\\mu_e} $$\n",
    "\n",
    "$$ \\large \\text{energy} \\propto \\text{reduced mass} $$"
   ]
  },
  {
   "cell_type": "markdown",
   "id": "f32d69e8",
   "metadata": {},
   "source": [
    "---"
   ]
  },
  {
   "cell_type": "markdown",
   "id": "bf7cf3f1",
   "metadata": {},
   "source": [
    "## Related Topics\n",
    "\n",
    "\n",
    "### [Positronium](https://study-astrophysics.com/positronium/)"
   ]
  }
 ],
 "metadata": {
  "kernelspec": {
   "display_name": "Python 3 (ipykernel)",
   "language": "python",
   "name": "python3"
  },
  "language_info": {
   "codemirror_mode": {
    "name": "ipython",
    "version": 3
   },
   "file_extension": ".py",
   "mimetype": "text/x-python",
   "name": "python",
   "nbconvert_exporter": "python",
   "pygments_lexer": "ipython3",
   "version": "3.9.7"
  }
 },
 "nbformat": 4,
 "nbformat_minor": 5
}
