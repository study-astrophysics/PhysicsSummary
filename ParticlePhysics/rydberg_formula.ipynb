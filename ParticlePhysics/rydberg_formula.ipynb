{
 "cells": [
  {
   "cell_type": "markdown",
   "id": "6835feca",
   "metadata": {},
   "source": [
    "# Rydberg Formula"
   ]
  },
  {
   "cell_type": "markdown",
   "id": "17d3f623",
   "metadata": {},
   "source": [
    "---"
   ]
  },
  {
   "cell_type": "markdown",
   "id": "5d58b974",
   "metadata": {},
   "source": [
    "## Rydberg Formula\n",
    "\n",
    "\n",
    "The energy of the photon emitted when an electron drops from an initial energy state to a final state is \n",
    "\n",
    "\n",
    "$$ \\large E \\ = \\ E_i - E_f \\ = \\ (-13.6 \\text{ eV}) \\left( \\frac{1}{n^2_i} - \\frac{1}{n^2_f} \\right) $$"
   ]
  },
  {
   "cell_type": "markdown",
   "id": "0709f4e2",
   "metadata": {},
   "source": [
    "---"
   ]
  },
  {
   "cell_type": "markdown",
   "id": "a0144c85",
   "metadata": {},
   "source": [
    "## In terms of the wavelength of the photon,\n",
    "\n",
    "\n",
    "$$ \\large \\frac{1}{\\lambda} \\ = \\ R \\ \\left( \\frac{1}{n^2_f} - \\frac{1}{n^2_i} \\right) $$\n",
    "\n",
    "\n",
    "where\n",
    "\n",
    "\n",
    "- $R$: Rydberg constant"
   ]
  },
  {
   "cell_type": "markdown",
   "id": "ad9aee97",
   "metadata": {},
   "source": [
    "---"
   ]
  },
  {
   "cell_type": "markdown",
   "id": "ed8db872",
   "metadata": {},
   "source": [
    "## Lyman ($n_f = 1$): UV\n",
    "\n",
    "## Balmer ($n_f = 2$): Optical\n",
    "\n",
    "## Paschen ($n_f = 3$) : IR\n",
    "\n",
    "\n",
    "\n",
    "\n",
    "\n"
   ]
  }
 ],
 "metadata": {
  "kernelspec": {
   "display_name": "Python 3 (ipykernel)",
   "language": "python",
   "name": "python3"
  },
  "language_info": {
   "codemirror_mode": {
    "name": "ipython",
    "version": 3
   },
   "file_extension": ".py",
   "mimetype": "text/x-python",
   "name": "python",
   "nbconvert_exporter": "python",
   "pygments_lexer": "ipython3",
   "version": "3.9.7"
  }
 },
 "nbformat": 4,
 "nbformat_minor": 5
}
