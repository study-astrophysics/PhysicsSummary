{
 "cells": [
  {
   "cell_type": "markdown",
   "id": "2b031e73",
   "metadata": {},
   "source": [
    "# [Rydberg Formula](https://study-astrophysics.com/rydberg-formula/)"
   ]
  },
  {
   "cell_type": "markdown",
   "id": "8ad3f568",
   "metadata": {},
   "source": [
    "---"
   ]
  },
  {
   "cell_type": "markdown",
   "id": "42df0c64",
   "metadata": {},
   "source": [
    "## Rydberg Formula\n",
    "\n",
    "\n",
    "The energy of the photon emitted when an electron drops from an initial energy state to a final state is \n",
    "\n",
    "\n",
    "$$ \\large E \\ = \\ E_i - E_f \\ = \\ (-13.6 \\text{ eV}) \\left( \\frac{1}{n^2_i} - \\frac{1}{n^2_f} \\right) $$"
   ]
  },
  {
   "cell_type": "markdown",
   "id": "dd2ae4f4",
   "metadata": {},
   "source": [
    "---"
   ]
  },
  {
   "cell_type": "markdown",
   "id": "835ab2c5",
   "metadata": {},
   "source": [
    "## In terms of the wavelength of the photon,\n",
    "\n",
    "\n",
    "$$ \\large \\frac{1}{\\lambda} \\ = \\ R \\ \\left( \\frac{1}{n^2_f} - \\frac{1}{n^2_i} \\right) $$\n",
    "\n",
    "\n",
    "where\n",
    "\n",
    "\n",
    "- $R$: Rydberg constant"
   ]
  },
  {
   "cell_type": "markdown",
   "id": "1c4a6b36",
   "metadata": {},
   "source": [
    "---"
   ]
  },
  {
   "cell_type": "markdown",
   "id": "caeef895",
   "metadata": {},
   "source": [
    "## Lyman ($n_f = 1$): UV\n",
    "\n",
    "## Balmer ($n_f = 2$): Optical\n",
    "\n",
    "## Paschen ($n_f = 3$) : IR\n",
    "\n",
    "\n",
    "\n",
    "\n",
    "\n"
   ]
  }
 ],
 "metadata": {
  "kernelspec": {
   "display_name": "Python 3 (ipykernel)",
   "language": "python",
   "name": "python3"
  },
  "language_info": {
   "codemirror_mode": {
    "name": "ipython",
    "version": 3
   },
   "file_extension": ".py",
   "mimetype": "text/x-python",
   "name": "python",
   "nbconvert_exporter": "python",
   "pygments_lexer": "ipython3",
   "version": "3.9.7"
  }
 },
 "nbformat": 4,
 "nbformat_minor": 5
}
