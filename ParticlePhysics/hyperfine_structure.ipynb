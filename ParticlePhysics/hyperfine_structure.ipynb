{
 "cells": [
  {
   "cell_type": "markdown",
   "id": "79f76459",
   "metadata": {},
   "source": [
    "# Hyperfine Structure"
   ]
  },
  {
   "cell_type": "markdown",
   "id": "0d4ff7af",
   "metadata": {},
   "source": [
    "---"
   ]
  },
  {
   "cell_type": "markdown",
   "id": "42c5bd21",
   "metadata": {},
   "source": [
    "## Hyperfine Structure\n",
    "\n",
    "Hyperfine structure gives an $O(\\alpha^4)$ corretion.\n",
    "\n",
    "\n",
    "In atomic physics, hyperfine structure is defined by small shifts in otherwise degenerate energy levels and the resulting splittings in those energy levels of atoms, molecules, and ions, due to electromagnetic multipole interaction between the nucleus and electron clouds.\n",
    "\n",
    "\n",
    "It is positive for the spin triplet state, and negative for the spin singlet state.\n",
    "\n",
    "\n",
    "$$ \n",
    "\\large \\begin{split} \n",
    " E'_{hf}  & \\ = \\ & \\frac{g_p \\hbar^4}{3 m_p m_e^2 c^2 a_0^4}, \\quad \\text{triplet} \\\\\n",
    "& \\ = \\ & - \\frac{g_p \\hbar^4}{m_p m_e^2 c^2 a_0^4}, \\quad \\text{singlet}\n",
    "\\end{split} $$\n",
    "\n",
    "\n",
    "\n",
    "where\n",
    "\n",
    "\n",
    "- $g_p \\approx 5.59$ for the proton's gyromagnetic ratio"
   ]
  },
  {
   "cell_type": "markdown",
   "id": "e3e6e6d1",
   "metadata": {},
   "source": [
    "---"
   ]
  },
  {
   "cell_type": "markdown",
   "id": "c1318d2f",
   "metadata": {},
   "source": [
    "## Related Topics\n",
    "\n",
    "\n",
    "### Fine Structure\n",
    "\n",
    "### Lamb Shift"
   ]
  }
 ],
 "metadata": {
  "kernelspec": {
   "display_name": "Python 3 (ipykernel)",
   "language": "python",
   "name": "python3"
  },
  "language_info": {
   "codemirror_mode": {
    "name": "ipython",
    "version": 3
   },
   "file_extension": ".py",
   "mimetype": "text/x-python",
   "name": "python",
   "nbconvert_exporter": "python",
   "pygments_lexer": "ipython3",
   "version": "3.9.7"
  }
 },
 "nbformat": 4,
 "nbformat_minor": 5
}
