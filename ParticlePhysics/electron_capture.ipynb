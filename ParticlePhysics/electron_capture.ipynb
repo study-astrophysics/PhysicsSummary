{
 "cells": [
  {
   "cell_type": "markdown",
   "id": "b273cd87",
   "metadata": {},
   "source": [
    "# Electron Capture"
   ]
  },
  {
   "cell_type": "markdown",
   "id": "2ce9b8a6",
   "metadata": {},
   "source": [
    "$$ \\large p + e \\rightarrow n + \\nu_e $$\n",
    "\n",
    "## Example\n",
    "\n",
    "$$ \\large ^7_4 Be \\rightarrow ^7_3 Li + \\nu_e $$\n",
    "\n",
    "\n",
    "### Related Problems\n",
    "- GRE Physics GR0177: Problem 0687"
   ]
  }
 ],
 "metadata": {
  "kernelspec": {
   "display_name": "Python 3",
   "language": "python",
   "name": "python3"
  },
  "language_info": {
   "codemirror_mode": {
    "name": "ipython",
    "version": 3
   },
   "file_extension": ".py",
   "mimetype": "text/x-python",
   "name": "python",
   "nbconvert_exporter": "python",
   "pygments_lexer": "ipython3",
   "version": "3.8.8"
  }
 },
 "nbformat": 4,
 "nbformat_minor": 5
}
