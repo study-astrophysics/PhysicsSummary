{
 "cells": [
  {
   "cell_type": "markdown",
   "id": "6960d48d",
   "metadata": {},
   "source": [
    "# Hydrogen Atom"
   ]
  },
  {
   "cell_type": "markdown",
   "id": "d0ab0a53",
   "metadata": {},
   "source": [
    "---"
   ]
  },
  {
   "cell_type": "markdown",
   "id": "d5a496a5",
   "metadata": {},
   "source": [
    "## Potential for the Hydrogen Atom\n",
    "\n",
    "\n",
    "$$ \\large V(r) \\ = \\ - \\frac{e^2}{4\\pi\\epsilon_0} \\frac{1}{r} $$"
   ]
  },
  {
   "cell_type": "markdown",
   "id": "a27ff289",
   "metadata": {},
   "source": [
    "---"
   ]
  },
  {
   "cell_type": "markdown",
   "id": "94399c27",
   "metadata": {},
   "source": [
    "## Effective Potential\n",
    "\n",
    "\n",
    "$$ \\large V_\\text{eff} \\ = \\ V(r) + \\frac{\\hbar^2}{2m} \\frac{l(l+1)}{r^2} $$"
   ]
  },
  {
   "cell_type": "markdown",
   "id": "4beadb8e",
   "metadata": {},
   "source": [
    "---"
   ]
  },
  {
   "cell_type": "markdown",
   "id": "4e888073",
   "metadata": {},
   "source": [
    "## Energy Spectrum for Eigenfunctions of the Hamiltonian\n",
    "\n",
    "\n",
    "$$ \\large E_n \\ = \\ - \\left[ \\frac{m}{2\\hbar^2} \\left( \\frac{e^2}{4\\pi\\epsilon_0} \\right)^2 \\right] \\ = \\ \\frac{E_1}{n^2} $$\n",
    "\n",
    "\n",
    "where\n",
    "\n",
    "\n",
    "- $E_1 = 13.6 \\text{ eV}$"
   ]
  }
 ],
 "metadata": {
  "kernelspec": {
   "display_name": "Python 3 (ipykernel)",
   "language": "python",
   "name": "python3"
  },
  "language_info": {
   "codemirror_mode": {
    "name": "ipython",
    "version": 3
   },
   "file_extension": ".py",
   "mimetype": "text/x-python",
   "name": "python",
   "nbconvert_exporter": "python",
   "pygments_lexer": "ipython3",
   "version": "3.9.7"
  }
 },
 "nbformat": 4,
 "nbformat_minor": 5
}
