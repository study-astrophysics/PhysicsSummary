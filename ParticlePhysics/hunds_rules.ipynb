{
 "cells": [
  {
   "cell_type": "markdown",
   "id": "38b2fa59",
   "metadata": {},
   "source": [
    "# Hund's Rules"
   ]
  },
  {
   "cell_type": "markdown",
   "id": "22fb4805",
   "metadata": {},
   "source": [
    "---"
   ]
  },
  {
   "cell_type": "markdown",
   "id": "f32a7b5e",
   "metadata": {},
   "source": [
    "## Hund's Rules\n",
    "\n"
   ]
  },
  {
   "cell_type": "markdown",
   "id": "4b9771ca",
   "metadata": {},
   "source": [
    "https://en.wikipedia.org/wiki/Hund%27s_rules"
   ]
  }
 ],
 "metadata": {
  "kernelspec": {
   "display_name": "Python 3 (ipykernel)",
   "language": "python",
   "name": "python3"
  },
  "language_info": {
   "codemirror_mode": {
    "name": "ipython",
    "version": 3
   },
   "file_extension": ".py",
   "mimetype": "text/x-python",
   "name": "python",
   "nbconvert_exporter": "python",
   "pygments_lexer": "ipython3",
   "version": "3.9.7"
  }
 },
 "nbformat": 4,
 "nbformat_minor": 5
}
