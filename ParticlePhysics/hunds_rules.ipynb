{
 "cells": [
  {
   "cell_type": "markdown",
   "id": "38b2fa59",
   "metadata": {},
   "source": [
    "# [Hund's Rules](https://study-astrophysics.com/hunds-rules/)"
   ]
  },
  {
   "cell_type": "markdown",
   "id": "22fb4805",
   "metadata": {},
   "source": [
    "---"
   ]
  },
  {
   "cell_type": "markdown",
   "id": "f32a7b5e",
   "metadata": {},
   "source": [
    "## Hund's Rules\n",
    "\n",
    "\n",
    "\n",
    "### 1. The term with maximum multiplicity (highest total spin) lies lowest in energy. \n",
    "\n",
    "\n",
    "### 2. For a given multiplicity, the term with the largest value of L lies lowest in energy.\n",
    "\n",
    "\n",
    "### 3. If a subshell is less than half-filled, the one with lowest $J$ is the ground state. If the subshell is more than half-filled, the one with the highest $J$ is the ground state.\n"
   ]
  },
  {
   "cell_type": "markdown",
   "id": "83efc712",
   "metadata": {},
   "source": [
    "---"
   ]
  },
  {
   "cell_type": "markdown",
   "id": "f87f6746",
   "metadata": {},
   "source": [
    "## Related Topics\n",
    "\n",
    "\n",
    "### [Quantum Number](https://study-astrophysics.com/quantum-number/)\n",
    "\n",
    "\n",
    "### [Atomic Orbital](https://study-astrophysics.com/atomic-orbital/)\n",
    "\n",
    "\n",
    "### [Selection Rule](https://study-astrophysics.com/selection-rule/)"
   ]
  }
 ],
 "metadata": {
  "kernelspec": {
   "display_name": "Python 3 (ipykernel)",
   "language": "python",
   "name": "python3"
  },
  "language_info": {
   "codemirror_mode": {
    "name": "ipython",
    "version": 3
   },
   "file_extension": ".py",
   "mimetype": "text/x-python",
   "name": "python",
   "nbconvert_exporter": "python",
   "pygments_lexer": "ipython3",
   "version": "3.9.7"
  }
 },
 "nbformat": 4,
 "nbformat_minor": 5
}
