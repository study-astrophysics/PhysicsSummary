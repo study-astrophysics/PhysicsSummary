{
 "cells": [
  {
   "cell_type": "markdown",
   "id": "04257264",
   "metadata": {},
   "source": [
    "# How to ignore specific file extensions in Git"
   ]
  },
  {
   "cell_type": "markdown",
   "id": "4ade3961",
   "metadata": {},
   "source": [
    "## Situation"
   ]
  },
  {
   "cell_type": "markdown",
   "id": "7efaa627",
   "metadata": {},
   "source": [
    "In my case, I use to upload my ipython notebook in my GitHub repository, but I do not want to commit the ckeckpoint files. In that case, how should I do that?"
   ]
  },
  {
   "cell_type": "markdown",
   "id": "334050f2",
   "metadata": {},
   "source": [
    "## Add the file extention in .gitignore"
   ]
  },
  {
   "cell_type": "markdown",
   "id": "d70ed067",
   "metadata": {},
   "source": [
    "In ```.gitignore```, add the name of the extension you don't want to commit.\n",
    "\n",
    "```.ipynb_checkpoints```"
   ]
  },
  {
   "cell_type": "markdown",
   "id": "02419c08",
   "metadata": {},
   "source": [
    "## Add the file extention in /.git/info/exclude"
   ]
  },
  {
   "cell_type": "markdown",
   "id": "80432fb0",
   "metadata": {},
   "source": [
    "In ```/.git/info/exclude```, add the name of the extension you don't want to commit.\n",
    "\n",
    "```.ipynb_checkpoints```"
   ]
  }
 ],
 "metadata": {
  "kernelspec": {
   "display_name": "Python 3 (ipykernel)",
   "language": "python",
   "name": "python3"
  },
  "language_info": {
   "codemirror_mode": {
    "name": "ipython",
    "version": 3
   },
   "file_extension": ".py",
   "mimetype": "text/x-python",
   "name": "python",
   "nbconvert_exporter": "python",
   "pygments_lexer": "ipython3",
   "version": "3.9.7"
  }
 },
 "nbformat": 4,
 "nbformat_minor": 5
}
