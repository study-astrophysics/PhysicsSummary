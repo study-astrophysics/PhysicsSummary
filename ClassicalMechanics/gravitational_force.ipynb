{
 "cells": [
  {
   "cell_type": "markdown",
   "id": "00c37413",
   "metadata": {},
   "source": [
    "# [Newton's Law of Universal Gravitation](https://study-astrophysics.com/gravity/)"
   ]
  },
  {
   "cell_type": "markdown",
   "id": "1f3766b8",
   "metadata": {},
   "source": [
    "Every particle with mass attracts every other particle in the universe with a force that is directly proportional to the product of their masses and inversely proportional to the square of the distance between their centers. \n",
    "\n",
    "\n",
    "The equation for universal gravitation is\n",
    "\n",
    "\n",
    "$$ \\large \\vec{F} \\ = \\ \\frac{G m_1 m_2}{r^2} \\hat{r} $$\n",
    "\n",
    "where\n",
    "\n",
    "- $m_1$ and $m_2$: masses of two objects\n",
    "- $r$: distance between two objects\n",
    "- $G$: gravitational constant"
   ]
  },
  {
   "cell_type": "markdown",
   "id": "f3765b70",
   "metadata": {},
   "source": [
    "---"
   ]
  },
  {
   "cell_type": "markdown",
   "id": "9522bdc6",
   "metadata": {},
   "source": [
    "### Related Problems\n",
    "- GRE Physics GR1777: Problem [018](https://study-astrophysics.com/gr1777-018/)"
   ]
  }
 ],
 "metadata": {
  "kernelspec": {
   "display_name": "Python 3 (ipykernel)",
   "language": "python",
   "name": "python3"
  },
  "language_info": {
   "codemirror_mode": {
    "name": "ipython",
    "version": 3
   },
   "file_extension": ".py",
   "mimetype": "text/x-python",
   "name": "python",
   "nbconvert_exporter": "python",
   "pygments_lexer": "ipython3",
   "version": "3.8.2"
  }
 },
 "nbformat": 4,
 "nbformat_minor": 5
}
