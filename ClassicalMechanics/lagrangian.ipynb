{
 "cells": [
  {
   "cell_type": "markdown",
   "id": "69498c0d",
   "metadata": {},
   "source": [
    "# [Lagrangian Mechanics](https://study-astrophysics.com/lagrangian/)"
   ]
  },
  {
   "cell_type": "markdown",
   "id": "f7665070",
   "metadata": {},
   "source": [
    "---"
   ]
  },
  {
   "cell_type": "markdown",
   "id": "3c519c48",
   "metadata": {},
   "source": [
    "## Lagrangian\n",
    "\n",
    "$$ \\large L = T - V $$\n",
    "\n",
    "where\n",
    "\n",
    "- $T = \\frac{1}{2} m v^2 $: kinetic energy\n",
    "\n",
    "- $V$: potential energy\n",
    "\n",
    "\n",
    "\n",
    "### Related Problems\n",
    "- GRE Physics GR1777 Problem [097](https://study-astrophysics.com/gr1777-097/)"
   ]
  },
  {
   "cell_type": "markdown",
   "id": "5582e407",
   "metadata": {},
   "source": [
    "---"
   ]
  },
  {
   "cell_type": "markdown",
   "id": "726266bb",
   "metadata": {},
   "source": [
    "## Lagrange's Equation (Euler-Lagrange Equation)\n",
    "\n",
    "$$ \\large \\frac{d}{dt}\\left( \\frac{\\partial L}{\\partial \\dot{q}}\\right)  = \\frac{\\partial L}{\\partial q} $$\n",
    "\n",
    "\n",
    "### Related Problems\n",
    "\n",
    "- GRE Physics GR0177 Problem 074"
   ]
  }
 ],
 "metadata": {
  "kernelspec": {
   "display_name": "Python 3",
   "language": "python",
   "name": "python3"
  },
  "language_info": {
   "codemirror_mode": {
    "name": "ipython",
    "version": 3
   },
   "file_extension": ".py",
   "mimetype": "text/x-python",
   "name": "python",
   "nbconvert_exporter": "python",
   "pygments_lexer": "ipython3",
   "version": "3.8.8"
  }
 },
 "nbformat": 4,
 "nbformat_minor": 5
}
