{
 "cells": [
  {
   "cell_type": "markdown",
   "id": "69498c0d",
   "metadata": {},
   "source": [
    "# [Lagrangian Mechanics](https://study-astrophysics.com/lagrangian/)"
   ]
  },
  {
   "cell_type": "markdown",
   "id": "f7665070",
   "metadata": {},
   "source": [
    "---"
   ]
  },
  {
   "cell_type": "markdown",
   "id": "3c519c48",
   "metadata": {},
   "source": [
    "## Lagrangian\n",
    "\n",
    "$$ \\large L = T - V $$\n",
    "\n",
    "where\n",
    "\n",
    "- $T = \\frac{1}{2} m v^2 $: kinetic energy\n",
    "\n",
    "- $V$: potential energy"
   ]
  },
  {
   "cell_type": "markdown",
   "id": "5582e407",
   "metadata": {},
   "source": [
    "---"
   ]
  },
  {
   "cell_type": "markdown",
   "id": "726266bb",
   "metadata": {},
   "source": [
    "## Lagrange's Equation (Euler-Lagrange Equation)\n",
    "\n",
    "$$ \\large \\frac{d}{dt}\\left( \\frac{\\partial L}{\\partial \\dot{q}}\\right)  = \\frac{\\partial L}{\\partial q} $$\n",
    "\n",
    "\n",
    "### Related Problems\n",
    "\n",
    "- GRE Physics GR0177 Problem 074"
   ]
  }
 ],
 "metadata": {
  "kernelspec": {
   "display_name": "Python 3 (ipykernel)",
   "language": "python",
   "name": "python3"
  },
  "language_info": {
   "codemirror_mode": {
    "name": "ipython",
    "version": 3
   },
   "file_extension": ".py",
   "mimetype": "text/x-python",
   "name": "python",
   "nbconvert_exporter": "python",
   "pygments_lexer": "ipython3",
   "version": "3.9.7"
  }
 },
 "nbformat": 4,
 "nbformat_minor": 5
}
