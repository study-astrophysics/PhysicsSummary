{
 "cells": [
  {
   "cell_type": "markdown",
   "id": "7e459aa0",
   "metadata": {},
   "source": [
    "# [Hamiltonian Mechanics](https://study-astrophysics.com/hamiltonian/)"
   ]
  },
  {
   "cell_type": "markdown",
   "id": "c662497f",
   "metadata": {},
   "source": [
    "---"
   ]
  },
  {
   "cell_type": "markdown",
   "id": "9128e4b1",
   "metadata": {},
   "source": [
    "## Hamiltonian\n",
    "\n",
    "$$ \\large H = T + V = \\frac{p^2}{2m} + V $$\n",
    "\n",
    "\n",
    "### Related Problems\n",
    "\n",
    "- GRE Physics GR0877 Problem 083"
   ]
  },
  {
   "cell_type": "markdown",
   "id": "5087dcc6",
   "metadata": {},
   "source": [
    "---"
   ]
  },
  {
   "cell_type": "markdown",
   "id": "a2e5cde1",
   "metadata": {},
   "source": [
    "## Hamilton's Equation\n",
    "\n",
    "$$ \\large \\frac{dp_i}{dt} = \\dot{p_i} = - \\frac{\\partial H}{\\partial q_i} $$\n",
    "\n",
    "$$ \\large \\frac{dq_i}{dt} = \\dot{q_i} = \\frac{\\partial H}{\\partial p_i} $$\n",
    "\n",
    "\n",
    "### Related Problems \n",
    "\n",
    "- GRE Physics GR0877 Problem 083"
   ]
  }
 ],
 "metadata": {
  "kernelspec": {
   "display_name": "Python 3 (ipykernel)",
   "language": "python",
   "name": "python3"
  },
  "language_info": {
   "codemirror_mode": {
    "name": "ipython",
    "version": 3
   },
   "file_extension": ".py",
   "mimetype": "text/x-python",
   "name": "python",
   "nbconvert_exporter": "python",
   "pygments_lexer": "ipython3",
   "version": "3.8.2"
  }
 },
 "nbformat": 4,
 "nbformat_minor": 5
}
