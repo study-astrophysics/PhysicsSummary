{
 "cells": [
  {
   "cell_type": "markdown",
   "id": "a0279238",
   "metadata": {},
   "source": [
    "# [Free-Fall Motion](https://study-astrophysics.com/free-fall-motion/)"
   ]
  },
  {
   "cell_type": "markdown",
   "id": "13383604",
   "metadata": {},
   "source": [
    "---"
   ]
  },
  {
   "cell_type": "markdown",
   "id": "bce902e0",
   "metadata": {},
   "source": [
    "## Free-Fall Motion\n",
    "\n",
    "\n",
    "When we ignore the air resistance, the position, velocity, and the acceleration are\n",
    "\n",
    "\n",
    "$$ \\large \\begin{align*}\n",
    "a(t) & \\ = \\ -g \\\\\n",
    "\\\\\n",
    "v(t) & \\ = \\ -g t \\\\\n",
    "\\\\\n",
    "h(t) & \\ = \\ h_0 - \\frac{1}{2} gt^2 \n",
    "\\end{align*} $$\n",
    "\n",
    "\n",
    "where\n",
    "\n",
    "\n",
    "- $a(t)$: acceleration after time $t$\n",
    "\n",
    "\n",
    "- $v(t)$: velocity after time $t$\n",
    "\n",
    "\n",
    "- $h(t)$: height after time $t$\n",
    "\n",
    "\n",
    "- $h_0$: initial height\n",
    "\n",
    "\n",
    "- $t$: time passed\n",
    "\n",
    "\n",
    "- $g$: gravitational constant ($\\sim 9.8 \\text{ m/s}^2$)"
   ]
  },
  {
   "cell_type": "markdown",
   "id": "b99759d0",
   "metadata": {},
   "source": [
    "---"
   ]
  },
  {
   "cell_type": "markdown",
   "id": "ee406490",
   "metadata": {},
   "source": [
    "## Related Topics\n",
    "\n",
    "\n",
    "### [Position, Velocity, & Acceleration](https://study-astrophysics.com/position-velocity-acceleration/)"
   ]
  }
 ],
 "metadata": {
  "kernelspec": {
   "display_name": "Python 3 (ipykernel)",
   "language": "python",
   "name": "python3"
  },
  "language_info": {
   "codemirror_mode": {
    "name": "ipython",
    "version": 3
   },
   "file_extension": ".py",
   "mimetype": "text/x-python",
   "name": "python",
   "nbconvert_exporter": "python",
   "pygments_lexer": "ipython3",
   "version": "3.9.12"
  }
 },
 "nbformat": 4,
 "nbformat_minor": 5
}
