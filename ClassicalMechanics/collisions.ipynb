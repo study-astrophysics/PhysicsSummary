{
 "cells": [
  {
   "cell_type": "markdown",
   "id": "f208af42",
   "metadata": {},
   "source": [
    "# [Collisions](https://study-astrophysics.com/collisions/)"
   ]
  },
  {
   "cell_type": "markdown",
   "id": "71b50488",
   "metadata": {},
   "source": [
    "## Elastic Collision"
   ]
  },
  {
   "cell_type": "markdown",
   "id": "894a1530",
   "metadata": {},
   "source": [
    "### Total energy & total momentum are conserved."
   ]
  },
  {
   "cell_type": "markdown",
   "id": "a6ac7f27",
   "metadata": {},
   "source": [
    "---"
   ]
  },
  {
   "cell_type": "markdown",
   "id": "1552be96",
   "metadata": {},
   "source": [
    "## Inelastic Collision"
   ]
  },
  {
   "cell_type": "markdown",
   "id": "9f50898c",
   "metadata": {},
   "source": [
    "### Only total momentum is conserved, total energy is not conserved."
   ]
  }
 ],
 "metadata": {
  "kernelspec": {
   "display_name": "Python 3 (ipykernel)",
   "language": "python",
   "name": "python3"
  },
  "language_info": {
   "codemirror_mode": {
    "name": "ipython",
    "version": 3
   },
   "file_extension": ".py",
   "mimetype": "text/x-python",
   "name": "python",
   "nbconvert_exporter": "python",
   "pygments_lexer": "ipython3",
   "version": "3.8.2"
  }
 },
 "nbformat": 4,
 "nbformat_minor": 5
}
