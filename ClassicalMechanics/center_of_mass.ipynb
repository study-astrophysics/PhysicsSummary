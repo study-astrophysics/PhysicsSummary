{
 "cells": [
  {
   "cell_type": "markdown",
   "id": "9718014f",
   "metadata": {},
   "source": [
    "## Center of Mass\n",
    "\n",
    "$$ \\vec{x}_c = \\frac{m_1 \\vec{x}_1 + m_2 \\vec{x}_2}{m_1 + m_2} = \\frac{\\sum m_i \\vec{x}_i}{M} = \\frac{\\int x dM}{M} $$\n",
    "where $M$ is the total mass.\n",
    "\n",
    "\n",
    "### Related Problems\n",
    "- GRE Physics GR0877: Problem 084"
   ]
  }
 ],
 "metadata": {
  "kernelspec": {
   "display_name": "Python 3 (ipykernel)",
   "language": "python",
   "name": "python3"
  },
  "language_info": {
   "codemirror_mode": {
    "name": "ipython",
    "version": 3
   },
   "file_extension": ".py",
   "mimetype": "text/x-python",
   "name": "python",
   "nbconvert_exporter": "python",
   "pygments_lexer": "ipython3",
   "version": "3.8.2"
  }
 },
 "nbformat": 4,
 "nbformat_minor": 5
}
