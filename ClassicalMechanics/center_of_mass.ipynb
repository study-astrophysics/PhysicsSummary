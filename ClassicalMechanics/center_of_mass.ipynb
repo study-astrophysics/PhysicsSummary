{
 "cells": [
  {
   "cell_type": "markdown",
   "id": "9718014f",
   "metadata": {},
   "source": [
    "# [Center of Mass](https://study-astrophysics.com/center-of-mass/)"
   ]
  },
  {
   "cell_type": "markdown",
   "id": "dca08938",
   "metadata": {},
   "source": [
    "---"
   ]
  },
  {
   "cell_type": "markdown",
   "id": "21d2fc2a",
   "metadata": {},
   "source": [
    "$$ \\large \\vec{x}_c = \\frac{m_1 \\vec{x}_1 + m_2 \\vec{x}_2}{m_1 + m_2} = \\frac{\\sum m_i \\vec{x}_i}{M} = \\frac{\\int x dM}{M} $$\n",
    "\n",
    "where \n",
    "\n",
    "- $M$: total mass"
   ]
  },
  {
   "cell_type": "markdown",
   "id": "5cb54891",
   "metadata": {},
   "source": [
    "### Related Problems\n",
    "- GRE Physics GR0877: Problem 084"
   ]
  }
 ],
 "metadata": {
  "kernelspec": {
   "display_name": "Python 3 (ipykernel)",
   "language": "python",
   "name": "python3"
  },
  "language_info": {
   "codemirror_mode": {
    "name": "ipython",
    "version": 3
   },
   "file_extension": ".py",
   "mimetype": "text/x-python",
   "name": "python",
   "nbconvert_exporter": "python",
   "pygments_lexer": "ipython3",
   "version": "3.8.2"
  }
 },
 "nbformat": 4,
 "nbformat_minor": 5
}
