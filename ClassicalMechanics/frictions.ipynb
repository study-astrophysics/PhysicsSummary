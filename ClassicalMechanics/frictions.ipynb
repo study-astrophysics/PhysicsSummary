{
 "cells": [
  {
   "cell_type": "markdown",
   "id": "c5d76c1a",
   "metadata": {},
   "source": [
    "# [Frictions](https://study-astrophysics.com/frictions/)"
   ]
  },
  {
   "cell_type": "markdown",
   "id": "0c4d1764",
   "metadata": {},
   "source": [
    "---"
   ]
  },
  {
   "cell_type": "markdown",
   "id": "448fbfd6",
   "metadata": {},
   "source": [
    "## Friction Force\n",
    "\n",
    "Friction force is the opposing force that is created between two surfaces that try to move in the same direction or that try to move in opposite directions.\n",
    "\n",
    "$$ \\large f \\ = \\ \\mu F_N $$\n",
    "\n",
    "where\n",
    "\n",
    "- $\\mu$: coefficient of friction\n",
    "    - $\\mu_S$: coefficient of static friction\n",
    "    - $\\mu_K$: coefficient of kinetic friction\n",
    "    - In general, $ \\mu_S > \\mu_K$\n",
    "\n",
    "\n",
    "- $F_N$: normal force exerted orthogonal to the surface"
   ]
  }
 ],
 "metadata": {
  "kernelspec": {
   "display_name": "Python 3 (ipykernel)",
   "language": "python",
   "name": "python3"
  },
  "language_info": {
   "codemirror_mode": {
    "name": "ipython",
    "version": 3
   },
   "file_extension": ".py",
   "mimetype": "text/x-python",
   "name": "python",
   "nbconvert_exporter": "python",
   "pygments_lexer": "ipython3",
   "version": "3.9.7"
  }
 },
 "nbformat": 4,
 "nbformat_minor": 5
}
