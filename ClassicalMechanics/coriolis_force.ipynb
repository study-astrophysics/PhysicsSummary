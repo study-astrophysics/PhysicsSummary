{
 "cells": [
  {
   "cell_type": "markdown",
   "id": "5ee8faa7",
   "metadata": {},
   "source": [
    "# [Coriolis Force](https://study-astrophysics.com/coriolis-force/)"
   ]
  },
  {
   "cell_type": "markdown",
   "id": "aeff06b7",
   "metadata": {},
   "source": [
    "---"
   ]
  },
  {
   "cell_type": "markdown",
   "id": "c2f82440",
   "metadata": {},
   "source": [
    "## Coriolis Force\n",
    "\n",
    "The Coriolis force is an inertial or fictitious force that acts on objects in motion within a frame of reference that rotates with respect to an inertial frame. \n",
    "\n",
    "\n",
    "- In a reference frame with clockwise rotation, the force acts to the left of the motion of the object. \n",
    "\n",
    "- In one with anticlockwise (or counterclockwise) rotation, the force acts to the right. \n",
    "\n",
    "\n",
    "$$ \\large \\vec{f} \\ = \\ - 2m (\\vec{\\omega} \\times \\vec{v}) $$"
   ]
  },
  {
   "cell_type": "markdown",
   "id": "e7e6032a",
   "metadata": {},
   "source": [
    "---"
   ]
  },
  {
   "cell_type": "markdown",
   "id": "60e85c7f",
   "metadata": {},
   "source": [
    "## Related Topics\n",
    "\n",
    "\n",
    "### Euler Force\n",
    "\n",
    "\n",
    "### Centrifugal Force"
   ]
  }
 ],
 "metadata": {
  "kernelspec": {
   "display_name": "Python 3 (ipykernel)",
   "language": "python",
   "name": "python3"
  },
  "language_info": {
   "codemirror_mode": {
    "name": "ipython",
    "version": 3
   },
   "file_extension": ".py",
   "mimetype": "text/x-python",
   "name": "python",
   "nbconvert_exporter": "python",
   "pygments_lexer": "ipython3",
   "version": "3.9.7"
  }
 },
 "nbformat": 4,
 "nbformat_minor": 5
}
