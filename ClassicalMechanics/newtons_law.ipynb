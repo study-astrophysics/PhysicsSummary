{
 "cells": [
  {
   "cell_type": "markdown",
   "id": "ed3e505a",
   "metadata": {},
   "source": [
    "# Newton's Law"
   ]
  },
  {
   "cell_type": "markdown",
   "id": "d4b41816",
   "metadata": {},
   "source": [
    "## Newton's First Law (Inertia)"
   ]
  },
  {
   "cell_type": "markdown",
   "id": "56d9a807",
   "metadata": {},
   "source": [
    "An object at rest will stay at rest, and an object in motion will stay in motion unless acted on by a net force."
   ]
  },
  {
   "cell_type": "markdown",
   "id": "221b986d",
   "metadata": {},
   "source": [
    "Mathematically, this is equivalent to saying that if the net force on an object is zero, then the velocity of the object is constant."
   ]
  },
  {
   "cell_type": "markdown",
   "id": "ac336dac",
   "metadata": {},
   "source": [
    "$$ F = m\\frac{dv}{dt} = 0 \\quad \\rightarrow \\quad v = \\text{constant.} $$"
   ]
  },
  {
   "cell_type": "markdown",
   "id": "a17835bf",
   "metadata": {},
   "source": [
    "### Related Problems"
   ]
  },
  {
   "cell_type": "markdown",
   "id": "58727bc2",
   "metadata": {},
   "source": [
    "## Newton's Seond Law"
   ]
  },
  {
   "cell_type": "markdown",
   "id": "de18b769",
   "metadata": {},
   "source": [
    "The rate of change of momentum of a body over time is directly proportional to the force applied, and occurs in the same direction as the applied force."
   ]
  },
  {
   "cell_type": "markdown",
   "id": "8b2ed137",
   "metadata": {},
   "source": [
    "$$ F = ma $$"
   ]
  },
  {
   "cell_type": "markdown",
   "id": "c258958e",
   "metadata": {},
   "source": [
    "### Related Problems"
   ]
  },
  {
   "cell_type": "markdown",
   "id": "6077a4b0",
   "metadata": {},
   "source": [
    "- GRE Physics GR1777: Problem [001](https://study-astrophysics.com/gr1777-001/)\n",
    "- "
   ]
  },
  {
   "cell_type": "markdown",
   "id": "2b31fe3d",
   "metadata": {},
   "source": [
    "## Newton's Thrid Law (Action-reaction law)"
   ]
  },
  {
   "cell_type": "markdown",
   "id": "a56bd3bc",
   "metadata": {},
   "source": []
  }
 ],
 "metadata": {
  "kernelspec": {
   "display_name": "Python 3 (ipykernel)",
   "language": "python",
   "name": "python3"
  },
  "language_info": {
   "codemirror_mode": {
    "name": "ipython",
    "version": 3
   },
   "file_extension": ".py",
   "mimetype": "text/x-python",
   "name": "python",
   "nbconvert_exporter": "python",
   "pygments_lexer": "ipython3",
   "version": "3.8.2"
  }
 },
 "nbformat": 4,
 "nbformat_minor": 5
}
