{
 "cells": [
  {
   "cell_type": "markdown",
   "id": "ed3e505a",
   "metadata": {},
   "source": [
    "# [Newton's Laws](https://study-astrophysics.com/newtons-laws/)"
   ]
  },
  {
   "cell_type": "markdown",
   "id": "7c26652f",
   "metadata": {},
   "source": [
    "---"
   ]
  },
  {
   "cell_type": "markdown",
   "id": "d4b41816",
   "metadata": {},
   "source": [
    "## Newton's First Law (Inertia)\n",
    "\n",
    "An object at rest will stay at rest, and an object in motion will stay in motion unless acted on by a net force.\n",
    "\n",
    "Mathematically, this is equivalent to saying that if the net force on an object is zero, then the velocity of the object is constant.\n",
    "\n",
    "$$ \\large \\vec{F} \\ = \\ m\\frac{d\\vec{v}}{dt} \\ = \\ 0 \\quad \\quad \\rightarrow \\quad \\quad \\vec{v} \\ = \\ \\text{constant.} $$"
   ]
  },
  {
   "cell_type": "markdown",
   "id": "a17835bf",
   "metadata": {},
   "source": [
    "### Related Problems"
   ]
  },
  {
   "cell_type": "markdown",
   "id": "3b4e666a",
   "metadata": {},
   "source": [
    "---"
   ]
  },
  {
   "cell_type": "markdown",
   "id": "58727bc2",
   "metadata": {},
   "source": [
    "## Newton's Seond Law\n",
    "\n",
    "The rate of change of momentum of a body over time is directly proportional to the force applied, and occurs in the same direction as the applied force.\n",
    "\n",
    "$$ \\large \\vec{F} \\ = \\ m \\frac{d^2 \\vec{x}}{d t^2} \\ = \\ m \\frac{d \\vec{v}}{dt} \\ = \\ m\\vec{a} $$"
   ]
  },
  {
   "cell_type": "markdown",
   "id": "c258958e",
   "metadata": {},
   "source": [
    "### Related Problems\n",
    "\n",
    "- GRE Physics GR1777: Problem [001](https://study-astrophysics.com/gr1777-001/)"
   ]
  },
  {
   "cell_type": "markdown",
   "id": "260ca685",
   "metadata": {},
   "source": [
    "---"
   ]
  },
  {
   "cell_type": "markdown",
   "id": "2b31fe3d",
   "metadata": {},
   "source": [
    "## Newton's Thrid Law (Action-reaction law)"
   ]
  },
  {
   "cell_type": "markdown",
   "id": "a56bd3bc",
   "metadata": {},
   "source": [
    "All forces between two objects exist in equal magnitude and opposite direction.\n",
    "\n",
    "$$ \\large F_{12} \\ = \\ - F_{21} $$"
   ]
  }
 ],
 "metadata": {
  "kernelspec": {
   "display_name": "Python 3 (ipykernel)",
   "language": "python",
   "name": "python3"
  },
  "language_info": {
   "codemirror_mode": {
    "name": "ipython",
    "version": 3
   },
   "file_extension": ".py",
   "mimetype": "text/x-python",
   "name": "python",
   "nbconvert_exporter": "python",
   "pygments_lexer": "ipython3",
   "version": "3.8.2"
  }
 },
 "nbformat": 4,
 "nbformat_minor": 5
}
