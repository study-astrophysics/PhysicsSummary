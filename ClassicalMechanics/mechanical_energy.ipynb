{
 "cells": [
  {
   "cell_type": "markdown",
   "id": "d7c1cafd",
   "metadata": {},
   "source": [
    "# [Mechanical Energy](https://study-astrophysics.com/energy-mechanical/)"
   ]
  },
  {
   "cell_type": "markdown",
   "id": "ed9c484e",
   "metadata": {},
   "source": [
    "---"
   ]
  },
  {
   "cell_type": "markdown",
   "id": "306fab71",
   "metadata": {},
   "source": [
    "## Kinetic Energy\n",
    "\n",
    "\n",
    "$$ \\large E_k = \\frac{1}{2} mv^2 $$\n",
    "\n",
    "\n",
    "where\n",
    "\n",
    "\n",
    "- $m$: mass\n",
    "\n",
    "\n",
    "- $v$: speed (magnitude of the velocity)\n"
   ]
  },
  {
   "cell_type": "markdown",
   "id": "9fe02f9c",
   "metadata": {},
   "source": [
    "---"
   ]
  },
  {
   "cell_type": "markdown",
   "id": "06ee5430",
   "metadata": {},
   "source": [
    "## Gravitational Potential Energy (close to the Earth's surface)\n",
    "\n",
    "\n",
    "$$ \\large E_g = mgh $$\n",
    "\n",
    "\n",
    "where\n",
    "\n",
    "\n",
    "- $g$: gravity of Earth\n",
    "\n",
    "\n",
    "- $h$: height\n",
    "\n",
    "\n",
    "### Related Problems\n",
    "- GRE Physics GR1777 Problem [064](https://study-astrophysics.com/gr1777-064/)"
   ]
  },
  {
   "cell_type": "markdown",
   "id": "0e2b9c3c",
   "metadata": {},
   "source": [
    "---"
   ]
  },
  {
   "cell_type": "markdown",
   "id": "97d136d2",
   "metadata": {},
   "source": [
    "## Mechanical Energy Conservation\n",
    "\n",
    "\n",
    "$$ \\large E_{tot} = E_k + E_g = \\frac{1}{2} mv^2 + mgh $$\n",
    "\n",
    "\n",
    "### Related Problems\n",
    "- GRE Physics GR1777 Problem [087](https://study-astrophysics.com/gr1777-087/)"
   ]
  }
 ],
 "metadata": {
  "kernelspec": {
   "display_name": "Python 3 (ipykernel)",
   "language": "python",
   "name": "python3"
  },
  "language_info": {
   "codemirror_mode": {
    "name": "ipython",
    "version": 3
   },
   "file_extension": ".py",
   "mimetype": "text/x-python",
   "name": "python",
   "nbconvert_exporter": "python",
   "pygments_lexer": "ipython3",
   "version": "3.8.13"
  }
 },
 "nbformat": 4,
 "nbformat_minor": 5
}
