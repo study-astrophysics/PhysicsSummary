{
 "cells": [
  {
   "cell_type": "markdown",
   "id": "2e9bd3fa",
   "metadata": {},
   "source": [
    "# Mechanical Energy"
   ]
  },
  {
   "cell_type": "markdown",
   "id": "a5f0b3cf",
   "metadata": {},
   "source": [
    "---"
   ]
  },
  {
   "cell_type": "markdown",
   "id": "d1e17b99",
   "metadata": {},
   "source": [
    "## Kinetic Energy\n",
    "\n",
    "\n",
    "$$ \\large E_k = \\frac{1}{2} mv^2 $$\n",
    "\n",
    "\n",
    "where\n",
    "\n",
    "\n",
    "- $m$: mass\n",
    "\n",
    "\n",
    "- $v$: speed (magnitude of the velocity)\n"
   ]
  },
  {
   "cell_type": "markdown",
   "id": "fe555bf6",
   "metadata": {},
   "source": [
    "---"
   ]
  },
  {
   "cell_type": "markdown",
   "id": "fb7d8a6b",
   "metadata": {},
   "source": [
    "## Gravitational Potential Energy (close to the Earth's surface)\n",
    "\n",
    "\n",
    "$$ \\large E_g = mgh $$\n",
    "\n",
    "\n",
    "where\n",
    "\n",
    "\n",
    "- $g$: gravity of Earth\n",
    "\n",
    "\n",
    "- $h$: height"
   ]
  },
  {
   "cell_type": "markdown",
   "id": "c3a3b5db",
   "metadata": {},
   "source": [
    "---"
   ]
  },
  {
   "cell_type": "markdown",
   "id": "8cd841b0",
   "metadata": {},
   "source": [
    "## Mechanical Energy Conservation\n",
    "\n",
    "\n",
    "$$ \\large E_{tot} = E_k + E_g = \\frac{1}{2} mv^2 + mgh $$\n",
    "\n",
    "\n",
    "### Related Problems\n",
    "- GRE Physics GR1777 Problem [087](https://study-astrophysics.com/gr1777-087/)"
   ]
  }
 ],
 "metadata": {
  "kernelspec": {
   "display_name": "Python 3 (ipykernel)",
   "language": "python",
   "name": "python3"
  },
  "language_info": {
   "codemirror_mode": {
    "name": "ipython",
    "version": 3
   },
   "file_extension": ".py",
   "mimetype": "text/x-python",
   "name": "python",
   "nbconvert_exporter": "python",
   "pygments_lexer": "ipython3",
   "version": "3.8.13"
  }
 },
 "nbformat": 4,
 "nbformat_minor": 5
}
