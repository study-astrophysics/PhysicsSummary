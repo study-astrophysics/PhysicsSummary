{
 "cells": [
  {
   "cell_type": "markdown",
   "id": "7ce9f70b",
   "metadata": {},
   "source": [
    "# [Springs]()"
   ]
  },
  {
   "cell_type": "markdown",
   "id": "716ea770",
   "metadata": {},
   "source": [
    "---"
   ]
  },
  {
   "cell_type": "markdown",
   "id": "3ce81516",
   "metadata": {},
   "source": [
    "## Hooke's Law\n",
    "\n",
    "For a sping of spring constant $k$,\n",
    "\n",
    "$$ \\large \\vec{F} \\ = \\ - k \\vec{x} $$\n"
   ]
  },
  {
   "cell_type": "markdown",
   "id": "959582d1",
   "metadata": {},
   "source": [
    "---"
   ]
  },
  {
   "cell_type": "markdown",
   "id": "7808521f",
   "metadata": {},
   "source": [
    "## Spring Potential Energy\n",
    "\n",
    "$$ \\large V \\ = \\ \\frac{1}{2} k x^2 \\ = \\ \\frac{1}{2} m \\omega^2 x^2 $$"
   ]
  },
  {
   "cell_type": "markdown",
   "id": "e074868d",
   "metadata": {},
   "source": [
    "---"
   ]
  },
  {
   "cell_type": "markdown",
   "id": "dd40639f",
   "metadata": {},
   "source": [
    "## Angluar Frequency\n",
    "\n",
    "$$ \\large \\omega \\ = \\ \\sqrt{\\frac{k}{m}} \\ = \\ \\frac{2\\pi}{T} $$"
   ]
  },
  {
   "cell_type": "markdown",
   "id": "0466df79",
   "metadata": {},
   "source": [
    "---"
   ]
  },
  {
   "cell_type": "markdown",
   "id": "89c012c1",
   "metadata": {},
   "source": [
    "## Period\n",
    "\n",
    "$$ \\large T = 2\\pi \\sqrt{\\frac{m}{k}} $$"
   ]
  },
  {
   "cell_type": "markdown",
   "id": "7832e3b1",
   "metadata": {},
   "source": [
    "---"
   ]
  },
  {
   "cell_type": "markdown",
   "id": "d4bed1a6",
   "metadata": {},
   "source": [
    "## Spring Constant\n",
    "\n",
    "### Serial Connection \n",
    "\n",
    "$$ \\large \\frac{1}{k_\\text{eff}} = \\frac{1}{k_1} + \\frac{1}{k_2} + \\frac{1}{k_3} + \\cdots $$\n",
    "\n",
    "\n",
    "### Parallel Connection \n",
    "\n",
    "$$ \\large k_\\text{eff} = k_1 + k_2 + k_3 + \\cdots $$\n",
    "\n",
    "\n",
    "### Related Problems\n",
    "- GRE Physics GR0177 Problem 090"
   ]
  }
 ],
 "metadata": {
  "kernelspec": {
   "display_name": "Python 3 (ipykernel)",
   "language": "python",
   "name": "python3"
  },
  "language_info": {
   "codemirror_mode": {
    "name": "ipython",
    "version": 3
   },
   "file_extension": ".py",
   "mimetype": "text/x-python",
   "name": "python",
   "nbconvert_exporter": "python",
   "pygments_lexer": "ipython3",
   "version": "3.9.7"
  }
 },
 "nbformat": 4,
 "nbformat_minor": 5
}
