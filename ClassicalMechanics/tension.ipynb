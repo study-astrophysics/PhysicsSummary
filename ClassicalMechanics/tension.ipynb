{
 "cells": [
  {
   "cell_type": "markdown",
   "id": "00a6fc94",
   "metadata": {},
   "source": [
    "# [Tension](https://study-astrophysics.com/tension/)"
   ]
  },
  {
   "cell_type": "markdown",
   "id": "ef4833bc",
   "metadata": {},
   "source": [
    "---"
   ]
  },
  {
   "cell_type": "markdown",
   "id": "f50aee1a",
   "metadata": {},
   "source": [
    "## Tension\n",
    "\n",
    "Tension is described as the pulling force transmitted axially by the means of a string, a cable, chain, or similar object, or by each end of a rod, truss member, or similar three-dimensional object. It also can be described as the action-reaction pair of forces acting at each end of said elements.\n",
    "\n",
    "To solve problems involving the notion of tension, first you need to identify all force acting in the objects. Also, keep in mind that there are some cases that the system is not in equilibrium.\n",
    "\n",
    "\n",
    "### System in equilibrium\n",
    "$$ \\large \\sum {\\vec {F}}=0$$\n",
    "\n",
    "\n",
    "\n",
    "### System under net force\n",
    "\n",
    "$$ \\large \\sum {\\vec {F}} \\neq 0$$\n",
    "\n",
    "\n",
    "### Related Problems\n",
    "- GRE Physics GR1777 Problem [079](https://study-astrophysics.com/gr1777-079/)"
   ]
  },
  {
   "cell_type": "markdown",
   "id": "85433450",
   "metadata": {},
   "source": [
    "---"
   ]
  },
  {
   "cell_type": "markdown",
   "id": "7ed941f2",
   "metadata": {},
   "source": [
    "## Related Topics\n",
    "\n",
    "### [Newton's Laws](https://study-astrophysics.com/newtons-laws/)"
   ]
  }
 ],
 "metadata": {
  "kernelspec": {
   "display_name": "Python 3 (ipykernel)",
   "language": "python",
   "name": "python3"
  },
  "language_info": {
   "codemirror_mode": {
    "name": "ipython",
    "version": 3
   },
   "file_extension": ".py",
   "mimetype": "text/x-python",
   "name": "python",
   "nbconvert_exporter": "python",
   "pygments_lexer": "ipython3",
   "version": "3.8.13"
  }
 },
 "nbformat": 4,
 "nbformat_minor": 5
}
