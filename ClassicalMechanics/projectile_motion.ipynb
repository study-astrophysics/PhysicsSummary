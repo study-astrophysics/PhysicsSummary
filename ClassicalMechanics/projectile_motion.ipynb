{
 "cells": [
  {
   "cell_type": "markdown",
   "id": "41527af8",
   "metadata": {},
   "source": [
    "# Projectile Motion"
   ]
  },
  {
   "cell_type": "markdown",
   "id": "6a0917f5",
   "metadata": {},
   "source": [
    "---"
   ]
  },
  {
   "cell_type": "markdown",
   "id": "d31ed8d7",
   "metadata": {},
   "source": [
    "# Projectile Motion\n",
    "\n",
    "X and Y directions are independent!\n",
    "\n",
    "Resolve or break the motion into horizontal and vertical components along the x- and y-axes. \n",
    "\n",
    "Treat the motion as two independent one-dimensional motions, one horizontal and the other vertical.\n",
    "\n",
    "https://en.wikipedia.org/wiki/Projectile_motion"
   ]
  },
  {
   "cell_type": "markdown",
   "id": "78bc695f",
   "metadata": {},
   "source": [
    "## Acceleration\n",
    "\n",
    "\n"
   ]
  },
  {
   "cell_type": "markdown",
   "id": "b746a404",
   "metadata": {},
   "source": [
    "## Velocity"
   ]
  },
  {
   "cell_type": "markdown",
   "id": "e2b9855b",
   "metadata": {},
   "source": [
    "## Displacement"
   ]
  },
  {
   "cell_type": "markdown",
   "id": "e0247bc6",
   "metadata": {},
   "source": [
    "### Related Problems\n",
    "- GRE Physics GR1777 Problem []()"
   ]
  }
 ],
 "metadata": {
  "kernelspec": {
   "display_name": "Python 3 (ipykernel)",
   "language": "python",
   "name": "python3"
  },
  "language_info": {
   "codemirror_mode": {
    "name": "ipython",
    "version": 3
   },
   "file_extension": ".py",
   "mimetype": "text/x-python",
   "name": "python",
   "nbconvert_exporter": "python",
   "pygments_lexer": "ipython3",
   "version": "3.9.12"
  }
 },
 "nbformat": 4,
 "nbformat_minor": 5
}
