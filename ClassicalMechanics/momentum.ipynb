{
 "cells": [
  {
   "cell_type": "markdown",
   "id": "e76701ab",
   "metadata": {},
   "source": [
    "# Momentum"
   ]
  },
  {
   "cell_type": "markdown",
   "id": "90744cda",
   "metadata": {},
   "source": [
    "## Linear Momentum"
   ]
  },
  {
   "cell_type": "markdown",
   "id": "ece04775",
   "metadata": {},
   "source": [
    "$$ p = m v $$"
   ]
  },
  {
   "cell_type": "markdown",
   "id": "4896cb95",
   "metadata": {},
   "source": [
    "### Linear Momentum Conservation"
   ]
  },
  {
   "cell_type": "markdown",
   "id": "270e1106",
   "metadata": {},
   "source": [
    "If the velocities of the particles are $u_1$ and $u_2$ before the interaction, and afterwards they are $v_1$ and $v_2$, then"
   ]
  },
  {
   "cell_type": "markdown",
   "id": "8c6e7fbb",
   "metadata": {},
   "source": [
    "$$ m_1u_1 + m_2u_2 = m_1v_1 + m_2v_2 $$"
   ]
  },
  {
   "cell_type": "markdown",
   "id": "bc66f6ff",
   "metadata": {},
   "source": [
    "### Related Problems"
   ]
  },
  {
   "cell_type": "markdown",
   "id": "4be20a3d",
   "metadata": {},
   "source": [
    "- GRE Physics GR1777: Problem [002](https://study-astrophysics.com/gr1777-002/)"
   ]
  },
  {
   "cell_type": "markdown",
   "id": "2482e851",
   "metadata": {},
   "source": [
    "## Angular Momentum"
   ]
  },
  {
   "cell_type": "markdown",
   "id": "da4db8be",
   "metadata": {},
   "source": []
  },
  {
   "cell_type": "markdown",
   "id": "fe6ada45",
   "metadata": {},
   "source": [
    "### Angular Momentum Conservation"
   ]
  },
  {
   "cell_type": "markdown",
   "id": "3a69daae",
   "metadata": {},
   "source": []
  }
 ],
 "metadata": {
  "kernelspec": {
   "display_name": "Python 3 (ipykernel)",
   "language": "python",
   "name": "python3"
  },
  "language_info": {
   "codemirror_mode": {
    "name": "ipython",
    "version": 3
   },
   "file_extension": ".py",
   "mimetype": "text/x-python",
   "name": "python",
   "nbconvert_exporter": "python",
   "pygments_lexer": "ipython3",
   "version": "3.8.2"
  }
 },
 "nbformat": 4,
 "nbformat_minor": 5
}
