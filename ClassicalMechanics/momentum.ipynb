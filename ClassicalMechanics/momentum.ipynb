{
 "cells": [
  {
   "cell_type": "markdown",
   "id": "e76701ab",
   "metadata": {},
   "source": [
    "# [Momentum](https://study-astrophysics.com/momentum/)"
   ]
  },
  {
   "cell_type": "markdown",
   "id": "dafd807b",
   "metadata": {},
   "source": [
    "---"
   ]
  },
  {
   "cell_type": "markdown",
   "id": "90744cda",
   "metadata": {},
   "source": [
    "## Linear Momentum\n",
    "\n",
    "$$ \\large \\vec{p} \\ = \\ m \\vec{v} $$"
   ]
  },
  {
   "cell_type": "markdown",
   "id": "edef150a",
   "metadata": {},
   "source": [
    "---"
   ]
  },
  {
   "cell_type": "markdown",
   "id": "4896cb95",
   "metadata": {},
   "source": [
    "## Linear Momentum Conservation\n",
    "\n",
    "If the velocities of the particles are $\\vec{u_1}$ and $\\vec{u_2}$ before the interaction, and afterwards they are $\\vec{v_1}$ and $\\vec{v_2}$, then\n",
    "\n",
    "$$ \\large m_1\\vec{u_1} + m_2\\vec{u_2} \\ = \\ m_1\\vec{v_1} + m_2\\vec{v_2}. $$"
   ]
  },
  {
   "cell_type": "markdown",
   "id": "261b1b3b",
   "metadata": {},
   "source": [
    "### Related Problems\n",
    "- GRE Physics GR1777: Problem [002](https://study-astrophysics.com/gr1777-002/)"
   ]
  },
  {
   "cell_type": "markdown",
   "id": "727e19a1",
   "metadata": {},
   "source": [
    "---"
   ]
  },
  {
   "cell_type": "markdown",
   "id": "2f1d089e",
   "metadata": {},
   "source": [
    "## Angular Momentum\n",
    "\n",
    "$$ \\large \\vec{L} = m\\vec{v}r $$\n"
   ]
  },
  {
   "cell_type": "markdown",
   "id": "30188069",
   "metadata": {},
   "source": [
    "---"
   ]
  },
  {
   "cell_type": "markdown",
   "id": "ace66a67",
   "metadata": {},
   "source": [
    "## Angular Momentum Conservation"
   ]
  }
 ],
 "metadata": {
  "kernelspec": {
   "display_name": "Python 3 (ipykernel)",
   "language": "python",
   "name": "python3"
  },
  "language_info": {
   "codemirror_mode": {
    "name": "ipython",
    "version": 3
   },
   "file_extension": ".py",
   "mimetype": "text/x-python",
   "name": "python",
   "nbconvert_exporter": "python",
   "pygments_lexer": "ipython3",
   "version": "3.9.7"
  }
 },
 "nbformat": 4,
 "nbformat_minor": 5
}
