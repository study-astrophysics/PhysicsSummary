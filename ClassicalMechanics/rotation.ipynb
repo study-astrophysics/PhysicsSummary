{
 "cells": [
  {
   "cell_type": "markdown",
   "id": "81ca32f0",
   "metadata": {},
   "source": [
    "# [Rotation](https://study-astrophysics.com/rotations/)"
   ]
  },
  {
   "cell_type": "markdown",
   "id": "a8caac65",
   "metadata": {},
   "source": [
    "---"
   ]
  },
  {
   "cell_type": "markdown",
   "id": "1bb837a7",
   "metadata": {},
   "source": [
    "## Centripetal Force\n",
    "\n",
    "\n",
    "$$ \\large F \\ = \\ ma \\ = \\ \\frac{mv^2}{r^2} \\ = \\ mr\\omega^2 $$\n",
    "\n",
    "\n",
    "where \n",
    "\n",
    "\n",
    "- $v = \\omega r$\n",
    "\n",
    "\n",
    "- $\\omega$: angular velocity."
   ]
  },
  {
   "cell_type": "markdown",
   "id": "51b49d4a",
   "metadata": {},
   "source": [
    "---"
   ]
  },
  {
   "cell_type": "markdown",
   "id": "8a7439bb",
   "metadata": {},
   "source": [
    "## Centrifugal Force"
   ]
  },
  {
   "cell_type": "markdown",
   "id": "186cb411",
   "metadata": {},
   "source": [
    "---"
   ]
  },
  {
   "cell_type": "markdown",
   "id": "13e6b086",
   "metadata": {},
   "source": [
    "## Rotational Kinetic Energy\n",
    "\n",
    "\n",
    "$$ \\large E_\\text{rot} \\ = \\ \\frac{1}{2} I \\omega^2 $$\n",
    "\n",
    "\n",
    "where \n",
    "\n",
    "\n",
    "- $I$: moment of inertia."
   ]
  },
  {
   "cell_type": "markdown",
   "id": "542ebca3",
   "metadata": {},
   "source": [
    "---"
   ]
  },
  {
   "cell_type": "markdown",
   "id": "37de3597",
   "metadata": {},
   "source": [
    "## Moment of Inertia\n",
    "\n",
    "\n",
    "$$ \\large I \\ = \\ \\int \\rho r^2 dr $$\n",
    "\n",
    "\n",
    "where\n",
    "\n",
    "\n",
    "- $\\rho$: density of an object\n",
    "\n",
    "\n",
    "- $r$: distance of a given point of the object from its center of mass.\n",
    "\n",
    "\n",
    "### Example\n",
    "\n",
    "\n",
    "1. Rod = $ \\frac{1}{12} Ml^2$\n",
    "\n",
    "\n",
    "2. Disc = $ \\frac{1}{2} MR^2$\n",
    "\n",
    "\n",
    "3. Sphere = $ \\frac{2}{5} MR^2$"
   ]
  },
  {
   "cell_type": "markdown",
   "id": "3add856a",
   "metadata": {},
   "source": [
    "---"
   ]
  },
  {
   "cell_type": "markdown",
   "id": "8303a440",
   "metadata": {},
   "source": [
    "## Parallel Axis Theorem\n",
    "\n",
    "\n",
    "$$ \\large I \\ = \\ I_{\\text{cm}} + md^2 $$\n",
    "\n",
    "\n",
    "### Related Problems\n",
    "- GRE Physics GR0177: Problems 025 and 089"
   ]
  },
  {
   "cell_type": "markdown",
   "id": "193f2545",
   "metadata": {},
   "source": [
    "---"
   ]
  },
  {
   "cell_type": "markdown",
   "id": "2aefb3d9",
   "metadata": {},
   "source": [
    "## Torque\n",
    "\n",
    "\n",
    "$$ \\large \\vec{\\tau} \\ = \\ I \\vec{\\alpha} \\ = \\ \\vec{r} \\times \\vec{F} $$\n",
    "\n",
    "\n",
    "where \n",
    "\n",
    "\n",
    "- $\\vec{\\alpha}$: angular acceleration"
   ]
  },
  {
   "cell_type": "markdown",
   "id": "84068872",
   "metadata": {},
   "source": [
    "---"
   ]
  },
  {
   "cell_type": "markdown",
   "id": "813fc336",
   "metadata": {},
   "source": [
    "## Rotation Matrix\n",
    "\n",
    "Rotation about z-axis of a coordinate system by an angle of $\\theta$.\n",
    "\n",
    "$$ \\large R_z \\ = \\ \\begin{bmatrix}\n",
    "\\cos\\theta & -\\sin\\theta & 0 \\\\\n",
    "\\sin\\theta & \\cos\\theta & 0 \\\\\n",
    "0 & 0 & 1\n",
    "\\end{bmatrix} $$\n",
    "\n",
    "\n",
    "### Related Problems\n",
    "- GRE Physics GR0177: Problem 075\n"
   ]
  }
 ],
 "metadata": {
  "kernelspec": {
   "display_name": "Python 3 (ipykernel)",
   "language": "python",
   "name": "python3"
  },
  "language_info": {
   "codemirror_mode": {
    "name": "ipython",
    "version": 3
   },
   "file_extension": ".py",
   "mimetype": "text/x-python",
   "name": "python",
   "nbconvert_exporter": "python",
   "pygments_lexer": "ipython3",
   "version": "3.9.7"
  }
 },
 "nbformat": 4,
 "nbformat_minor": 5
}
