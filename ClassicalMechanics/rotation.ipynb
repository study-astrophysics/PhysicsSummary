{
 "cells": [
  {
   "cell_type": "markdown",
   "id": "81ca32f0",
   "metadata": {},
   "source": [
    "# Rotation"
   ]
  },
  {
   "cell_type": "markdown",
   "id": "1bb837a7",
   "metadata": {},
   "source": [
    "## Centripetal Force\n",
    "\n",
    "$$ F = ma = \\frac{mv^2}{r^2} = mr\\omega^2 $$\n",
    "\n",
    "where $v = \\omega r$, and $\\omega$ is the angular velocity.\n",
    "\n",
    "### Centrifugal Force"
   ]
  },
  {
   "cell_type": "markdown",
   "id": "5701d083",
   "metadata": {},
   "source": [
    "## Angular Momentum\n",
    "\n",
    "$$ \\vec{L} = m\\vec{v}r $$\n",
    "\n",
    "### Angular Momentum Conservation"
   ]
  },
  {
   "cell_type": "markdown",
   "id": "13e6b086",
   "metadata": {},
   "source": [
    "## Rotational Kinetic Energy\n",
    "\n",
    "$$ E_\\text{rot} = \\frac{1}{2} I \\omega^2 $$\n",
    "\n",
    "where $I$ is the moment of inertia."
   ]
  },
  {
   "cell_type": "markdown",
   "id": "37de3597",
   "metadata": {},
   "source": [
    "## Moment of Inertia\n",
    "\n",
    "### Parallel Axis Theorem\n",
    "\n",
    "$$ I = I_{\\text{cm}} + md^2 $$\n",
    "\n",
    "### Related Problems\n",
    "- GRE Physics GR0177 Problems 025 and 089"
   ]
  },
  {
   "cell_type": "markdown",
   "id": "2aefb3d9",
   "metadata": {},
   "source": [
    "## Torque\n",
    "\n",
    "$$ \\vec{\\tau} = I \\vec{\\alpha} = \\vec{r} \\times \\vec{F} $$\n",
    "\n",
    "where $\\vec{\\alpha}$ is the angular acceleration."
   ]
  },
  {
   "cell_type": "code",
   "execution_count": null,
   "id": "de73be14",
   "metadata": {},
   "outputs": [],
   "source": []
  }
 ],
 "metadata": {
  "kernelspec": {
   "display_name": "Python 3 (ipykernel)",
   "language": "python",
   "name": "python3"
  },
  "language_info": {
   "codemirror_mode": {
    "name": "ipython",
    "version": 3
   },
   "file_extension": ".py",
   "mimetype": "text/x-python",
   "name": "python",
   "nbconvert_exporter": "python",
   "pygments_lexer": "ipython3",
   "version": "3.8.2"
  }
 },
 "nbformat": 4,
 "nbformat_minor": 5
}
