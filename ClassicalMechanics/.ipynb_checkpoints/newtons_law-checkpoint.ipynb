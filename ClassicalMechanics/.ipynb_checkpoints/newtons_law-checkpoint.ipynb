{
 "cells": [
  {
   "cell_type": "markdown",
   "id": "ed3e505a",
   "metadata": {},
   "source": [
    "# Newton's Law"
   ]
  },
  {
   "cell_type": "markdown",
   "id": "d4b41816",
   "metadata": {},
   "source": [
    "## Newton's First Law (Inertia)\n",
    "\n",
    "An object at rest will stay at rest, and an object in motion will stay in motion unless acted on by a net force.\n",
    "\n",
    "Mathematically, this is equivalent to saying that if the net force on an object is zero, then the velocity of the object is constant.\n",
    "\n",
    "$$ \\vec{F} = m\\frac{d\\vec{v}}{dt} = 0 \\quad \\rightarrow \\quad \\vec{v} = \\text{constant.} $$"
   ]
  },
  {
   "cell_type": "markdown",
   "id": "a17835bf",
   "metadata": {},
   "source": [
    "### Related Problems"
   ]
  },
  {
   "cell_type": "markdown",
   "id": "58727bc2",
   "metadata": {},
   "source": [
    "## Newton's Seond Law\n",
    "\n",
    "The rate of change of momentum of a body over time is directly proportional to the force applied, and occurs in the same direction as the applied force.\n",
    "\n",
    "$$ \\vec{F} = m\\vec{a} $$"
   ]
  },
  {
   "cell_type": "markdown",
   "id": "c258958e",
   "metadata": {},
   "source": [
    "### Related Problems\n",
    "\n",
    "- GRE Physics GR1777: Problem [001](https://study-astrophysics.com/gr1777-001/)"
   ]
  },
  {
   "cell_type": "markdown",
   "id": "2b31fe3d",
   "metadata": {},
   "source": [
    "## Newton's Thrid Law (Action-reaction law)"
   ]
  },
  {
   "cell_type": "markdown",
   "id": "a56bd3bc",
   "metadata": {},
   "source": []
  }
 ],
 "metadata": {
  "kernelspec": {
   "display_name": "Python 3 (ipykernel)",
   "language": "python",
   "name": "python3"
  },
  "language_info": {
   "codemirror_mode": {
    "name": "ipython",
    "version": 3
   },
   "file_extension": ".py",
   "mimetype": "text/x-python",
   "name": "python",
   "nbconvert_exporter": "python",
   "pygments_lexer": "ipython3",
   "version": "3.8.2"
  }
 },
 "nbformat": 4,
 "nbformat_minor": 5
}
