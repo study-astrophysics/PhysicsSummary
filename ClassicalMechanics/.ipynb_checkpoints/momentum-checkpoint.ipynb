{
 "cells": [
  {
   "cell_type": "markdown",
   "id": "e76701ab",
   "metadata": {},
   "source": [
    "# [Momentum](https://study-astrophysics.com/momentum/)"
   ]
  },
  {
   "cell_type": "markdown",
   "id": "90744cda",
   "metadata": {},
   "source": [
    "## Linear Momentum\n",
    "\n",
    "$$ \\vec{p} = m \\vec{v} $$"
   ]
  },
  {
   "cell_type": "markdown",
   "id": "4896cb95",
   "metadata": {},
   "source": [
    "### Linear Momentum Conservation\n",
    "\n",
    "If the velocities of the particles are $\\vec{u_1}$ and $\\vec{u_2}$ before the interaction, and afterwards they are $\\vec{v_1}$ and $\\vec{v_2}$, then\n",
    "\n",
    "$$ m_1\\vec{u_1} + m_2\\vec{u_2} = m_1\\vec{v_1} + m_2\\vec{v_2} $$"
   ]
  },
  {
   "cell_type": "markdown",
   "id": "bc66f6ff",
   "metadata": {},
   "source": [
    "### Related Problems\n",
    "\n",
    "- GRE Physics GR1777: Problem [002](https://study-astrophysics.com/gr1777-002/)"
   ]
  },
  {
   "cell_type": "markdown",
   "id": "2482e851",
   "metadata": {},
   "source": [
    "## Angular Momentum"
   ]
  },
  {
   "cell_type": "markdown",
   "id": "da4db8be",
   "metadata": {},
   "source": []
  },
  {
   "cell_type": "markdown",
   "id": "fe6ada45",
   "metadata": {},
   "source": [
    "### Angular Momentum Conservation"
   ]
  },
  {
   "cell_type": "markdown",
   "id": "3a69daae",
   "metadata": {},
   "source": []
  }
 ],
 "metadata": {
  "kernelspec": {
   "display_name": "Python 3 (ipykernel)",
   "language": "python",
   "name": "python3"
  },
  "language_info": {
   "codemirror_mode": {
    "name": "ipython",
    "version": 3
   },
   "file_extension": ".py",
   "mimetype": "text/x-python",
   "name": "python",
   "nbconvert_exporter": "python",
   "pygments_lexer": "ipython3",
   "version": "3.8.2"
  }
 },
 "nbformat": 4,
 "nbformat_minor": 5
}
