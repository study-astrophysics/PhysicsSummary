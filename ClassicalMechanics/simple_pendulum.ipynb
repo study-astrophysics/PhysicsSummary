{
 "cells": [
  {
   "cell_type": "markdown",
   "id": "f39491e6",
   "metadata": {},
   "source": [
    "# [Simple Pendulum](https://study-astrophysics.com/simple-pendulum/)"
   ]
  },
  {
   "cell_type": "markdown",
   "id": "8250aa09",
   "metadata": {},
   "source": [
    "---"
   ]
  },
  {
   "cell_type": "markdown",
   "id": "95e01ef0",
   "metadata": {},
   "source": [
    "## Acceleration\n",
    "\n",
    "Gravity and tension come into play.\n",
    "\n",
    "![gifurl](https://upload.wikimedia.org/wikipedia/commons/2/24/Oscillating_pendulum.gif)\n",
    "\n",
    "\n",
    "### Related Problems\n",
    "- GRE Physics GR0177 Problem [001]"
   ]
  },
  {
   "cell_type": "markdown",
   "id": "3fa21571",
   "metadata": {},
   "source": [
    "---"
   ]
  },
  {
   "cell_type": "markdown",
   "id": "4a8a32fd",
   "metadata": {},
   "source": [
    "## Angular Frequency\n",
    "\n",
    "$$ \\large \\omega = \\sqrt{\\frac{g}{L}} $$\n",
    "\n",
    "where \n",
    "\n",
    "- $L$: length of the pendulum\n",
    "\n",
    "- $g$: acceleration of gravity"
   ]
  },
  {
   "cell_type": "markdown",
   "id": "19ab96d6",
   "metadata": {},
   "source": [
    "---"
   ]
  },
  {
   "cell_type": "markdown",
   "id": "31789ff2",
   "metadata": {},
   "source": [
    "## Period\n",
    "\n",
    "$$ \\large T = 2\\pi \\sqrt{\\frac{L}{g}} $$\n",
    "\n",
    "Note that the period of a pendulum is independent of mass.\n",
    "\n",
    "\n",
    "### Related Problems\n",
    "- GRE Physics GR1777 Problem [003](https://study-astrophysics.com/gr1777-003/)\n",
    "- GRE Physics GR0877 Problem 059"
   ]
  },
  {
   "cell_type": "markdown",
   "id": "de281f6a",
   "metadata": {},
   "source": [
    "---"
   ]
  },
  {
   "cell_type": "markdown",
   "id": "0bd832f3",
   "metadata": {},
   "source": [
    "## Related Topics\n",
    "\n",
    "\n",
    "### [Oscillations](https://study-astrophysics.com/oscillations/)"
   ]
  }
 ],
 "metadata": {
  "kernelspec": {
   "display_name": "Python 3 (ipykernel)",
   "language": "python",
   "name": "python3"
  },
  "language_info": {
   "codemirror_mode": {
    "name": "ipython",
    "version": 3
   },
   "file_extension": ".py",
   "mimetype": "text/x-python",
   "name": "python",
   "nbconvert_exporter": "python",
   "pygments_lexer": "ipython3",
   "version": "3.9.7"
  }
 },
 "nbformat": 4,
 "nbformat_minor": 5
}
