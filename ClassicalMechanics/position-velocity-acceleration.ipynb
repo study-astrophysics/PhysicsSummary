{
 "cells": [
  {
   "cell_type": "markdown",
   "id": "4192468b",
   "metadata": {},
   "source": [
    "# [Position, Velocity, & Acceleration](https://study-astrophysics.com/position-velocity-acceleration/)"
   ]
  },
  {
   "cell_type": "markdown",
   "id": "d6899cca",
   "metadata": {},
   "source": [
    "---"
   ]
  },
  {
   "cell_type": "markdown",
   "id": "22a911c0",
   "metadata": {},
   "source": [
    "## Relationship between Position, Velocity, and Acceleration\n",
    "\n",
    "\n",
    "$$ \\large x \\ = \\ x_0 + v_0 t + \\frac{1}{2} a t^2$$\n",
    "\n",
    "\n",
    "where\n",
    "\n",
    "\n",
    "- $ v = v_0 + at$"
   ]
  }
 ],
 "metadata": {
  "kernelspec": {
   "display_name": "Python 3 (ipykernel)",
   "language": "python",
   "name": "python3"
  },
  "language_info": {
   "codemirror_mode": {
    "name": "ipython",
    "version": 3
   },
   "file_extension": ".py",
   "mimetype": "text/x-python",
   "name": "python",
   "nbconvert_exporter": "python",
   "pygments_lexer": "ipython3",
   "version": "3.9.7"
  }
 },
 "nbformat": 4,
 "nbformat_minor": 5
}
