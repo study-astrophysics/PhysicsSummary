{
 "cells": [
  {
   "cell_type": "markdown",
   "id": "8b0ca28a",
   "metadata": {},
   "source": [
    "# [Work](https://study-astrophysics.com/work/)"
   ]
  },
  {
   "cell_type": "markdown",
   "id": "fd4cb2bb",
   "metadata": {},
   "source": [
    "## Work-Energy Principle"
   ]
  },
  {
   "cell_type": "markdown",
   "id": "381196f6",
   "metadata": {},
   "source": [
    "$$ W = \\Delta E_k = \\Delta\\frac{1}{2}mv^2 $$"
   ]
  },
  {
   "cell_type": "markdown",
   "id": "ca56146e",
   "metadata": {},
   "source": [
    "### Related Problems"
   ]
  },
  {
   "cell_type": "markdown",
   "id": "63264b24",
   "metadata": {},
   "source": [
    "- GRE Physics GR1777: Problem [002](https://study-astrophysics.com/gr1777-002/)"
   ]
  },
  {
   "cell_type": "markdown",
   "id": "e66f8a81",
   "metadata": {},
   "source": []
  }
 ],
 "metadata": {
  "kernelspec": {
   "display_name": "Python 3 (ipykernel)",
   "language": "python",
   "name": "python3"
  },
  "language_info": {
   "codemirror_mode": {
    "name": "ipython",
    "version": 3
   },
   "file_extension": ".py",
   "mimetype": "text/x-python",
   "name": "python",
   "nbconvert_exporter": "python",
   "pygments_lexer": "ipython3",
   "version": "3.8.2"
  }
 },
 "nbformat": 4,
 "nbformat_minor": 5
}
