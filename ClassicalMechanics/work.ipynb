{
 "cells": [
  {
   "cell_type": "markdown",
   "id": "8b0ca28a",
   "metadata": {},
   "source": [
    "# [Work](https://study-astrophysics.com/work/)"
   ]
  },
  {
   "cell_type": "markdown",
   "id": "ef5f7fe2",
   "metadata": {},
   "source": [
    "---"
   ]
  },
  {
   "cell_type": "markdown",
   "id": "fd4cb2bb",
   "metadata": {},
   "source": [
    "## Work-Energy Principle\n",
    "\n",
    "$$ \\large W \\ = \\ \\Delta E_k \\ = \\ \\Delta\\frac{1}{2}mv^2 $$\n",
    "\n",
    "\n",
    "### Related Problems\n",
    "\n",
    "- GRE Physics GR1777: Problems [002](https://study-astrophysics.com/gr1777-002/), [019](https://study-astrophysics.com/gr1777-019/)"
   ]
  }
 ],
 "metadata": {
  "kernelspec": {
   "display_name": "Python 3 (ipykernel)",
   "language": "python",
   "name": "python3"
  },
  "language_info": {
   "codemirror_mode": {
    "name": "ipython",
    "version": 3
   },
   "file_extension": ".py",
   "mimetype": "text/x-python",
   "name": "python",
   "nbconvert_exporter": "python",
   "pygments_lexer": "ipython3",
   "version": "3.9.7"
  }
 },
 "nbformat": 4,
 "nbformat_minor": 5
}
