{
 "cells": [
  {
   "cell_type": "markdown",
   "id": "3bd54a2e",
   "metadata": {},
   "source": [
    "# Kepler's Laws"
   ]
  },
  {
   "cell_type": "markdown",
   "id": "41352836",
   "metadata": {},
   "source": [
    "## First Law"
   ]
  },
  {
   "cell_type": "markdown",
   "id": "f91751dd",
   "metadata": {},
   "source": [
    "## Second Law"
   ]
  },
  {
   "cell_type": "markdown",
   "id": "8ff5cab7",
   "metadata": {},
   "source": [
    "## Third Law\n",
    "\n",
    "\n",
    "$$ \\large T = 2\\pi \\sqrt{\\frac{a^3}{GM}} $$\n",
    "\n",
    "$$ \\large T^2 \\propto a^3 $$"
   ]
  },
  {
   "cell_type": "markdown",
   "id": "eaac805e",
   "metadata": {},
   "source": [
    "### Kepler + Circular Motion\n",
    "\n",
    "\n",
    "$$ \\large \\frac{GMm}{r^2} = \\frac{mv^2}{r} $$\n",
    "\n",
    "Thus,\n",
    "$$ \\large v = \\sqrt{\\frac{GM}{r}} $$\n",
    "\n",
    "The speed is independent of $m$."
   ]
  },
  {
   "cell_type": "code",
   "execution_count": null,
   "id": "495f3e10",
   "metadata": {},
   "outputs": [],
   "source": []
  }
 ],
 "metadata": {
  "kernelspec": {
   "display_name": "Python 3 (ipykernel)",
   "language": "python",
   "name": "python3"
  },
  "language_info": {
   "codemirror_mode": {
    "name": "ipython",
    "version": 3
   },
   "file_extension": ".py",
   "mimetype": "text/x-python",
   "name": "python",
   "nbconvert_exporter": "python",
   "pygments_lexer": "ipython3",
   "version": "3.8.2"
  }
 },
 "nbformat": 4,
 "nbformat_minor": 5
}
