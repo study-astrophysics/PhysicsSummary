{
 "cells": [
  {
   "cell_type": "markdown",
   "id": "3bd54a2e",
   "metadata": {},
   "source": [
    "# [Kepler's Laws](https://study-astrophysics.com/keplers-laws/)"
   ]
  },
  {
   "cell_type": "markdown",
   "id": "59767c42",
   "metadata": {},
   "source": [
    "---"
   ]
  },
  {
   "cell_type": "markdown",
   "id": "41352836",
   "metadata": {},
   "source": [
    "## First Law"
   ]
  },
  {
   "cell_type": "markdown",
   "id": "3c90796a",
   "metadata": {},
   "source": [
    "The orbit of every planet is an **ellipse** with the Sun at one of the two foci."
   ]
  },
  {
   "cell_type": "markdown",
   "id": "479afd69",
   "metadata": {},
   "source": [
    "---"
   ]
  },
  {
   "cell_type": "markdown",
   "id": "f91751dd",
   "metadata": {},
   "source": [
    "## Second Law"
   ]
  },
  {
   "cell_type": "markdown",
   "id": "2c5fe92a",
   "metadata": {},
   "source": [
    "A line joining a planet and the Sun sweeps out equal areas during equal intervals of time."
   ]
  },
  {
   "cell_type": "markdown",
   "id": "8c2dc76e",
   "metadata": {},
   "source": [
    "---"
   ]
  },
  {
   "cell_type": "markdown",
   "id": "8ff5cab7",
   "metadata": {},
   "source": [
    "## Third Law\n",
    "\n",
    "\n",
    "$$ \\large T = 2\\pi \\sqrt{\\frac{a^3}{GM}} $$\n",
    "\n",
    "$$ \\large T^2 \\propto a^3 $$"
   ]
  },
  {
   "cell_type": "markdown",
   "id": "1fb4fbc6",
   "metadata": {},
   "source": [
    "---"
   ]
  },
  {
   "cell_type": "markdown",
   "id": "eaac805e",
   "metadata": {},
   "source": [
    "### Kepler + Circular Motion\n",
    "\n",
    "\n",
    "$$ \\large \\frac{GMm}{r^2} \\ = \\ \\frac{mv^2}{r} \\ = \\ m \\omega^2 r \\ = \\ m r \\left(\\frac{2\\pi}{T}\\right)^2 $$\n",
    "\n",
    "Thus,\n",
    "$$ \\large v \\ = \\ \\sqrt{\\frac{GM}{r}} $$\n",
    "\n",
    "The speed is independent of $m$."
   ]
  },
  {
   "cell_type": "markdown",
   "id": "95c7d5d0",
   "metadata": {},
   "source": [
    "---"
   ]
  },
  {
   "cell_type": "markdown",
   "id": "33d97cd1",
   "metadata": {},
   "source": [
    "### Related Problems\n",
    "- GRE Physics GR1777: Problem [017](https://study-astrophysics.com/gr1777-017/)"
   ]
  }
 ],
 "metadata": {
  "kernelspec": {
   "display_name": "Python 3 (ipykernel)",
   "language": "python",
   "name": "python3"
  },
  "language_info": {
   "codemirror_mode": {
    "name": "ipython",
    "version": 3
   },
   "file_extension": ".py",
   "mimetype": "text/x-python",
   "name": "python",
   "nbconvert_exporter": "python",
   "pygments_lexer": "ipython3",
   "version": "3.8.2"
  }
 },
 "nbformat": 4,
 "nbformat_minor": 5
}
