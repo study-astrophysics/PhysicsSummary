{
 "cells": [
  {
   "cell_type": "markdown",
   "id": "3498337f",
   "metadata": {},
   "source": [
    "# [Oscillations](https://study-astrophysics.com/oscillations/)"
   ]
  },
  {
   "cell_type": "markdown",
   "id": "d42295db",
   "metadata": {},
   "source": [
    "---"
   ]
  },
  {
   "cell_type": "markdown",
   "id": "d39b1bd3",
   "metadata": {},
   "source": [
    "## Angular frequency ($\\omega$) and period ( $T$)\n",
    "\n",
    "$$ \\large \\omega = \\frac{2 \\pi}{T} $$"
   ]
  },
  {
   "cell_type": "markdown",
   "id": "e77f96af",
   "metadata": {},
   "source": [
    "---"
   ]
  },
  {
   "cell_type": "markdown",
   "id": "4d6c3ef3",
   "metadata": {},
   "source": [
    "## Simple Pendulum\n",
    "\n",
    "\n",
    "### Angular Frequency\n",
    "\n",
    "$$ \\large \\omega = \\sqrt{\\frac{g}{L}} $$\n",
    "\n",
    "where \n",
    "\n",
    "- $L$: length of the pendulum\n",
    "\n",
    "- $g$: acceleration of gravity\n",
    "\n",
    "\n",
    "### Period\n",
    "\n",
    "$$ \\large T = 2\\pi \\sqrt{\\frac{L}{g}} $$\n",
    "\n",
    "Note that the period of a pendulum is independent of mass.\n",
    "\n",
    "\n",
    "### Related Problems\n",
    "- GRE Physics GR1777 Problem [003](https://study-astrophysics.com/gr1777-003/)\n",
    "- GRE Physics GR0877 Problem 059"
   ]
  },
  {
   "cell_type": "markdown",
   "id": "18619d85",
   "metadata": {},
   "source": [
    "---"
   ]
  },
  {
   "cell_type": "markdown",
   "id": "1289287f",
   "metadata": {},
   "source": [
    "## Related Topics\n",
    "\n",
    "\n",
    "### Simple Pendulum"
   ]
  }
 ],
 "metadata": {
  "kernelspec": {
   "display_name": "Python 3 (ipykernel)",
   "language": "python",
   "name": "python3"
  },
  "language_info": {
   "codemirror_mode": {
    "name": "ipython",
    "version": 3
   },
   "file_extension": ".py",
   "mimetype": "text/x-python",
   "name": "python",
   "nbconvert_exporter": "python",
   "pygments_lexer": "ipython3",
   "version": "3.9.7"
  }
 },
 "nbformat": 4,
 "nbformat_minor": 5
}
