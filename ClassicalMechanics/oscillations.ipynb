{
 "cells": [
  {
   "cell_type": "markdown",
   "id": "3498337f",
   "metadata": {},
   "source": [
    "# Oscillations"
   ]
  },
  {
   "cell_type": "markdown",
   "id": "d39b1bd3",
   "metadata": {},
   "source": [
    "- Angular frequency ($\\omega$) and period ($T$)\n",
    "\n",
    "$$ \\omega = \\frac{2 \\pi}{T} $$"
   ]
  },
  {
   "cell_type": "markdown",
   "id": "4d6c3ef3",
   "metadata": {},
   "source": [
    "- Period of a simple pendulum\n",
    "\n",
    "$$ T = 2\\pi \\sqrt{\\frac{L}{g}} $$\n",
    "\n",
    "where $L$ is the length of the pendulum and $g$ is the acceleration of gravity.\n",
    "\n",
    "Note that $\\color{red}{\\text{the period of a pendulum is independent of mass.}}$"
   ]
  },
  {
   "cell_type": "markdown",
   "id": "510ebd3f",
   "metadata": {},
   "source": [
    "### Related Problems\n",
    "- GRE Physics GR1777: Problem [003](https://study-astrophysics.com/gr1777-003/)"
   ]
  },
  {
   "cell_type": "code",
   "execution_count": null,
   "id": "1653fa31",
   "metadata": {},
   "outputs": [],
   "source": []
  }
 ],
 "metadata": {
  "kernelspec": {
   "display_name": "Python 3 (ipykernel)",
   "language": "python",
   "name": "python3"
  },
  "language_info": {
   "codemirror_mode": {
    "name": "ipython",
    "version": 3
   },
   "file_extension": ".py",
   "mimetype": "text/x-python",
   "name": "python",
   "nbconvert_exporter": "python",
   "pygments_lexer": "ipython3",
   "version": "3.8.2"
  }
 },
 "nbformat": 4,
 "nbformat_minor": 5
}
