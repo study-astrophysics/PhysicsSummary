{
 "cells": [
  {
   "cell_type": "markdown",
   "id": "fe7304ba",
   "metadata": {},
   "source": [
    "# Radiation"
   ]
  },
  {
   "cell_type": "markdown",
   "id": "8603ace1",
   "metadata": {},
   "source": [
    "---"
   ]
  },
  {
   "cell_type": "markdown",
   "id": "8e75bf53",
   "metadata": {},
   "source": [
    "## Radiation Pressure\n",
    "\n",
    "\n",
    "$$ \\large P \\ = \\ \\frac{I}{c} \\ = \\ \\frac{\\langle S \\rangle}{c} \\cos \\theta $$"
   ]
  },
  {
   "cell_type": "markdown",
   "id": "37738ff1",
   "metadata": {},
   "source": [
    "---"
   ]
  },
  {
   "cell_type": "markdown",
   "id": "7479cdc0",
   "metadata": {},
   "source": [
    "## Radiation Force\n"
   ]
  },
  {
   "cell_type": "markdown",
   "id": "d548e02d",
   "metadata": {},
   "source": [
    "---"
   ]
  },
  {
   "cell_type": "markdown",
   "id": "5ae7fe98",
   "metadata": {},
   "source": [
    "## Radiation Flux"
   ]
  }
 ],
 "metadata": {
  "kernelspec": {
   "display_name": "Python 3 (ipykernel)",
   "language": "python",
   "name": "python3"
  },
  "language_info": {
   "codemirror_mode": {
    "name": "ipython",
    "version": 3
   },
   "file_extension": ".py",
   "mimetype": "text/x-python",
   "name": "python",
   "nbconvert_exporter": "python",
   "pygments_lexer": "ipython3",
   "version": "3.8.13"
  }
 },
 "nbformat": 4,
 "nbformat_minor": 5
}
