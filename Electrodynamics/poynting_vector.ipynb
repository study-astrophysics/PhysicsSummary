{
 "cells": [
  {
   "cell_type": "markdown",
   "id": "be434df4",
   "metadata": {},
   "source": [
    "# [Poynting Vector](https://study-astrophysics.com/poynting-vector/)"
   ]
  },
  {
   "cell_type": "markdown",
   "id": "be5a391f",
   "metadata": {},
   "source": [
    "---"
   ]
  },
  {
   "cell_type": "markdown",
   "id": "fb52fe34",
   "metadata": {},
   "source": [
    "## Poynting Vector\n",
    "\n",
    "\n",
    "The rate of flow of energy crossing a unit area\n",
    "\n",
    "\n",
    "$$ \\large \\vec{S} = \\frac{1}{\\mu_0} \\vec{E} \\times \\vec{B} $$\n",
    "\n",
    "\n",
    "$$ \\large S_\\text{avg} = \\frac{E_\\text{max} B_\\text{max}}{2\\mu_0} $$"
   ]
  },
  {
   "cell_type": "markdown",
   "id": "4bb9a35b",
   "metadata": {},
   "source": [
    "---"
   ]
  },
  {
   "cell_type": "markdown",
   "id": "a9e4c444",
   "metadata": {},
   "source": [
    "## Radiation Pressure\n",
    "\n",
    "\n",
    "$$ \\large P = \\frac{|S|}{c} $$"
   ]
  }
 ],
 "metadata": {
  "kernelspec": {
   "display_name": "Python 3 (ipykernel)",
   "language": "python",
   "name": "python3"
  },
  "language_info": {
   "codemirror_mode": {
    "name": "ipython",
    "version": 3
   },
   "file_extension": ".py",
   "mimetype": "text/x-python",
   "name": "python",
   "nbconvert_exporter": "python",
   "pygments_lexer": "ipython3",
   "version": "3.8.2"
  }
 },
 "nbformat": 4,
 "nbformat_minor": 5
}
