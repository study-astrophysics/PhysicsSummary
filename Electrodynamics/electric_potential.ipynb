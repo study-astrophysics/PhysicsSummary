{
 "cells": [
  {
   "cell_type": "markdown",
   "id": "3de3bfbd",
   "metadata": {},
   "source": [
    "# Electric Potential (and Work)"
   ]
  },
  {
   "cell_type": "markdown",
   "id": "ca408325",
   "metadata": {},
   "source": [
    "## For a Point Charge\n",
    "\n",
    "$$ \\large V = \\frac{1}{4 \\pi \\epsilon_0} \\frac{Q}{r} $$\n",
    "\n",
    "\n",
    "## and work\n",
    "\n",
    "$$ \\large W = \\Delta U = q \\Delta V \\quad \\left(= \\frac{1}{2} m v^2 \\right) $$\n",
    "\n",
    "Thus,\n",
    "\n",
    "$$ \\large \\Rightarrow \\quad v = \\sqrt{\\frac{2qV}{m}} $$\n",
    "\n",
    "\n",
    "### Related Problems\n",
    "- GRE Physics GR0877: Problem 090\n",
    "- GRE Physics GR0177: Problem 058"
   ]
  },
  {
   "cell_type": "markdown",
   "id": "f1fbf736",
   "metadata": {},
   "source": [
    "## In a Conductor\n",
    "\n",
    "$$ \\large V = \\text{constant} $$\n",
    "\n",
    "$$ \\large E = 0 \\quad (\\because E = - \\nabla V ) $$"
   ]
  }
 ],
 "metadata": {
  "kernelspec": {
   "display_name": "Python 3 (ipykernel)",
   "language": "python",
   "name": "python3"
  },
  "language_info": {
   "codemirror_mode": {
    "name": "ipython",
    "version": 3
   },
   "file_extension": ".py",
   "mimetype": "text/x-python",
   "name": "python",
   "nbconvert_exporter": "python",
   "pygments_lexer": "ipython3",
   "version": "3.8.2"
  }
 },
 "nbformat": 4,
 "nbformat_minor": 5
}
