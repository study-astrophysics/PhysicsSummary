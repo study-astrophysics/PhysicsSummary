{
 "cells": [
  {
   "cell_type": "markdown",
   "id": "3de3bfbd",
   "metadata": {},
   "source": [
    "# [Electric Potential (and Work)](https://study-astrophysics.com/electric-potential/)"
   ]
  },
  {
   "cell_type": "markdown",
   "id": "91917a87",
   "metadata": {},
   "source": [
    "---"
   ]
  },
  {
   "cell_type": "markdown",
   "id": "30541bc0",
   "metadata": {},
   "source": [
    "## Definition\n",
    "\n",
    "The electric potential for a point charge $q_0$ moving from point $A$ to point $B$ in an electric field $\\vec{E}$ is\n",
    "\n",
    "\n",
    "$$ \\large V \\ = \\ \\frac{\\Delta U}{q_0} \\ = \\ - \\int^B_A \\vec{E} \\cdot d \\vec{s} $$\n"
   ]
  },
  {
   "cell_type": "markdown",
   "id": "a515efbf",
   "metadata": {},
   "source": [
    "---"
   ]
  },
  {
   "cell_type": "markdown",
   "id": "ca408325",
   "metadata": {},
   "source": [
    "## For a Point Charge\n",
    "\n",
    "$$ \\large V = \\frac{1}{4 \\pi \\epsilon_0} \\frac{Q}{r} $$\n",
    "\n",
    "where \n",
    "\n",
    "- $Q$: point charge\n",
    "\n",
    "\n",
    "- $r$: distance\n",
    "\n",
    "\n",
    "### Related Problems\n",
    "- GRE Physics GR1777 Problem [038](https://study-astrophysics.com/gr1777-038/)\n",
    "- GRE Physics GR0877 Problem 090\n",
    "- GRE Physics GR0177 Problem 058"
   ]
  },
  {
   "cell_type": "markdown",
   "id": "e656cb79",
   "metadata": {},
   "source": [
    "---"
   ]
  },
  {
   "cell_type": "markdown",
   "id": "27f2679a",
   "metadata": {},
   "source": [
    "## Of a Charged Ring\n",
    "\n",
    "\n",
    "$$ \\large V = \\frac{1}{4\\pi \\epsilon_0} \\frac{Q}{r} = \\frac{1}{4\\pi \\epsilon_0} \\frac{\\lambda 2 \\pi R'}{r} $$\n",
    "\n",
    "\n",
    "where\n",
    "\n",
    "\n",
    "- $Q$: total charge\n",
    "\n",
    "\n",
    "- $\\lambda$: linear charge density\n",
    "\n",
    "\n",
    "### Related Problems\n",
    "- GRE Physics GR1777 Problem [095](https://study-astrophysics.com/gr1777-095/)"
   ]
  },
  {
   "cell_type": "markdown",
   "id": "76b46e82",
   "metadata": {},
   "source": [
    "---"
   ]
  },
  {
   "cell_type": "markdown",
   "id": "f1fbf736",
   "metadata": {},
   "source": [
    "## In a Conductor\n",
    "\n",
    "$$ \\large V = \\text{constant} $$\n",
    "\n",
    "$$ \\large E = 0 \\quad (\\because E = - \\nabla V ) $$\n",
    "\n",
    "\n",
    "### Related Problems\n",
    "- GRE Physics GR1777 Problem [038](https://study-astrophysics.com/gr1777-038/)"
   ]
  },
  {
   "cell_type": "markdown",
   "id": "1b29d220",
   "metadata": {},
   "source": [
    "---"
   ]
  },
  {
   "cell_type": "markdown",
   "id": "99bed76e",
   "metadata": {},
   "source": [
    "## In an Uniform Electric Field $\\vec{E}_0$\n",
    "\n",
    "\n",
    "$$ \\large V = \\vec{E}_0 \\cdot \\vec{d} $$\n",
    "\n"
   ]
  }
 ],
 "metadata": {
  "kernelspec": {
   "display_name": "Python 3",
   "language": "python",
   "name": "python3"
  },
  "language_info": {
   "codemirror_mode": {
    "name": "ipython",
    "version": 3
   },
   "file_extension": ".py",
   "mimetype": "text/x-python",
   "name": "python",
   "nbconvert_exporter": "python",
   "pygments_lexer": "ipython3",
   "version": "3.8.8"
  }
 },
 "nbformat": 4,
 "nbformat_minor": 5
}
