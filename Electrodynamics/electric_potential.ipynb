{
 "cells": [
  {
   "cell_type": "markdown",
   "id": "3de3bfbd",
   "metadata": {},
   "source": [
    "# [Electric Potential (and Work)](https://study-astrophysics.com/electric-potential/)"
   ]
  },
  {
   "cell_type": "markdown",
   "id": "ca408325",
   "metadata": {},
   "source": [
    "## For a Point Charge\n",
    "\n",
    "$$ \\large V = \\frac{1}{4 \\pi \\epsilon_0} \\frac{Q}{r} $$\n",
    "\n",
    "where \n",
    "\n",
    "$Q$: point charge\n",
    "\n",
    "$r$: distance\n",
    "\n",
    "\n",
    "### Related Problems\n",
    "- GRE Physics GR1777 Problem [038](https://study-astrophysics.com/gr1777-038/)\n",
    "- GRE Physics GR0877 Problem 090\n",
    "- GRE Physics GR0177 Problem 058"
   ]
  },
  {
   "cell_type": "markdown",
   "id": "f1fbf736",
   "metadata": {},
   "source": [
    "## In a Conductor\n",
    "\n",
    "$$ \\large V = \\text{constant} $$\n",
    "\n",
    "$$ \\large E = 0 \\quad (\\because E = - \\nabla V ) $$\n",
    "\n",
    "\n",
    "### Related Problems\n",
    "- GRE Physics GR1777 Problem [038](https://study-astrophysics.com/gr1777-038/)"
   ]
  }
 ],
 "metadata": {
  "kernelspec": {
   "display_name": "Python 3",
   "language": "python",
   "name": "python3"
  },
  "language_info": {
   "codemirror_mode": {
    "name": "ipython",
    "version": 3
   },
   "file_extension": ".py",
   "mimetype": "text/x-python",
   "name": "python",
   "nbconvert_exporter": "python",
   "pygments_lexer": "ipython3",
   "version": "3.8.8"
  }
 },
 "nbformat": 4,
 "nbformat_minor": 5
}
