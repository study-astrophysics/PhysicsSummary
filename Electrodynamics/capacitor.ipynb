{
 "cells": [
  {
   "cell_type": "markdown",
   "id": "0199d7f6",
   "metadata": {},
   "source": [
    "# Capacitors"
   ]
  },
  {
   "cell_type": "markdown",
   "id": "a3fd9c9c",
   "metadata": {},
   "source": [
    "## Capacity\n",
    "\n",
    "$$ \\large C = \\frac{\\epsilon A}{d} = \\frac{k \\epsilon}{d} $$\n",
    "\n",
    "\n",
    "## Energy\n",
    "\n",
    "$$ \\large E = \\frac{\\sigma}{\\epsilon} = \\frac{Q}{\\epsilon d} = \\frac{V}{d} $$\n",
    "\n",
    "\n",
    "### Related Problems\n",
    "- GRE Physics GR0877: Problem 093"
   ]
  },
  {
   "cell_type": "markdown",
   "id": "dcc7e935",
   "metadata": {},
   "source": [
    "## Permittivity\n",
    "\n",
    "$$ \\large \\kappa \\epsilon_0 = \\epsilon $$\n",
    "\n",
    "\n",
    "### Related Problems\n",
    "- GRE Physics GR0177: Problem 095"
   ]
  }
 ],
 "metadata": {
  "kernelspec": {
   "display_name": "Python 3 (ipykernel)",
   "language": "python",
   "name": "python3"
  },
  "language_info": {
   "codemirror_mode": {
    "name": "ipython",
    "version": 3
   },
   "file_extension": ".py",
   "mimetype": "text/x-python",
   "name": "python",
   "nbconvert_exporter": "python",
   "pygments_lexer": "ipython3",
   "version": "3.8.2"
  }
 },
 "nbformat": 4,
 "nbformat_minor": 5
}
