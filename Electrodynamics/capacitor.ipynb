{
 "cells": [
  {
   "cell_type": "markdown",
   "id": "0199d7f6",
   "metadata": {},
   "source": [
    "# [Capacitors](https://study-astrophysics.com/capacitors/)"
   ]
  },
  {
   "cell_type": "markdown",
   "id": "edb9135e",
   "metadata": {},
   "source": [
    "---"
   ]
  },
  {
   "cell_type": "markdown",
   "id": "a3fd9c9c",
   "metadata": {},
   "source": [
    "## Capacity\n",
    "\n",
    "\n",
    "### Parallel Plate Capacitor\n",
    "\n",
    "$$ \\large C = \\frac{\\epsilon A}{d} \\ = \\ \\frac{k \\epsilon}{d} $$\n",
    "\n",
    "\n",
    "\n",
    "### Spherical Capacitor\n",
    "\n",
    "\n",
    "$$ \\large C \\ = \\ \\frac{4\\pi\\epsilon_0 ab}{a-b} $$"
   ]
  },
  {
   "cell_type": "markdown",
   "id": "8569e7e0",
   "metadata": {},
   "source": [
    "---"
   ]
  },
  {
   "cell_type": "markdown",
   "id": "a35ba21e",
   "metadata": {},
   "source": [
    "## Potential (Voltage)\n",
    "\n",
    "\n",
    "$$ \\large V = \\frac{Q}{C} $$\n",
    "\n",
    "\n",
    "### Related Problems\n",
    "- GRE Physics GR1777 Problem [094](https://study-astrophysics.com/gr1777-094/)"
   ]
  },
  {
   "cell_type": "markdown",
   "id": "0b716386",
   "metadata": {},
   "source": [
    "---"
   ]
  },
  {
   "cell_type": "markdown",
   "id": "e933328f",
   "metadata": {},
   "source": [
    "## Energy\n",
    "\n",
    "$$ \\large E = \\frac{\\sigma}{\\epsilon} = \\frac{Q}{\\epsilon d} = \\frac{V}{d} $$\n",
    "\n",
    "\n",
    "### Related Problems\n",
    "- GRE Physics GR0877: Problem 093"
   ]
  },
  {
   "cell_type": "markdown",
   "id": "60544012",
   "metadata": {},
   "source": [
    "---"
   ]
  },
  {
   "cell_type": "markdown",
   "id": "dcc7e935",
   "metadata": {},
   "source": [
    "## Dielectrics\n",
    "\n",
    "When a dielectric material is inserted between the plates of a capacitor, the capacitance becomes\n",
    "\n",
    "$$ \\large C_\\text{dielectrics} = \\kappa C_0 $$\n",
    "\n",
    "The permittivity becomes\n",
    "\n",
    "$$ \\large \\kappa \\epsilon_0 = \\epsilon $$\n",
    "\n",
    "\n",
    "### Related Problems\n",
    "- GRE Physics GR0177: Problem 095"
   ]
  },
  {
   "cell_type": "markdown",
   "id": "77845ad5",
   "metadata": {},
   "source": [
    "---"
   ]
  },
  {
   "cell_type": "markdown",
   "id": "5cfb1e31",
   "metadata": {},
   "source": [
    "## Capacitors in Serial\n",
    "\n",
    "$$ \\large \\frac{1}{C_\\text{Total}} \\ = \\ \\sum_i \\frac{1}{C_i} $$\n",
    "\n",
    "\n",
    "### Related Problems\n",
    "- GRE Physics GR1777 Problem [094](https://study-astrophysics.com/gr1777-094/)"
   ]
  },
  {
   "cell_type": "markdown",
   "id": "2e0db8ca",
   "metadata": {},
   "source": [
    "---"
   ]
  },
  {
   "cell_type": "markdown",
   "id": "8196caf7",
   "metadata": {},
   "source": [
    "## Capacitors in Parallel\n",
    "\n",
    "$$ \\large C_\\text{Total} = \\sum_i C_i $$"
   ]
  },
  {
   "cell_type": "markdown",
   "id": "dd63b187",
   "metadata": {},
   "source": [
    "---"
   ]
  },
  {
   "cell_type": "markdown",
   "id": "3ca58ddc",
   "metadata": {},
   "source": [
    "## Energy in a Capacitor\n",
    "\n",
    "$$ \\large U \\ = \\ \\frac{1}{2} CV^2 \\ = \\ \\frac{Q^2}{2C} \\ = \\ \\frac{1}{2} QV $$"
   ]
  },
  {
   "cell_type": "markdown",
   "id": "55a325c7",
   "metadata": {},
   "source": [
    "---"
   ]
  },
  {
   "cell_type": "markdown",
   "id": "6c672422",
   "metadata": {},
   "source": [
    "## Charging and Discharging\n",
    "\n",
    "\n",
    "### Charging\n",
    "\n",
    "\n",
    "$$ \\large q \\ = \\ q_0 (1 - e^{-t/RC} $$\n",
    "\n",
    "\n",
    "\n",
    "### Discharging\n",
    "\n",
    "\n",
    "$$ \\large q \\ = \\ q_0 e^{-t/RC} $$"
   ]
  },
  {
   "cell_type": "markdown",
   "id": "a7f59d36",
   "metadata": {},
   "source": [
    "---"
   ]
  },
  {
   "cell_type": "markdown",
   "id": "222b7e4b",
   "metadata": {},
   "source": [
    "## Impedance of Capacitor\n",
    "\n",
    "\n",
    "$$ \\large Z \\ = \\ \\frac{1}{i\\omega C} $$"
   ]
  }
 ],
 "metadata": {
  "kernelspec": {
   "display_name": "Python 3",
   "language": "python",
   "name": "python3"
  },
  "language_info": {
   "codemirror_mode": {
    "name": "ipython",
    "version": 3
   },
   "file_extension": ".py",
   "mimetype": "text/x-python",
   "name": "python",
   "nbconvert_exporter": "python",
   "pygments_lexer": "ipython3",
   "version": "3.8.8"
  }
 },
 "nbformat": 4,
 "nbformat_minor": 5
}
