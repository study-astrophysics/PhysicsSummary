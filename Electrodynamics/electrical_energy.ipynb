{
 "cells": [
  {
   "cell_type": "markdown",
   "id": "9b8498c3",
   "metadata": {},
   "source": [
    "# [Electrical Energy (Work)](https://study-astrophysics.com/electrical-energy/)"
   ]
  },
  {
   "cell_type": "markdown",
   "id": "dd278647",
   "metadata": {},
   "source": [
    "---"
   ]
  },
  {
   "cell_type": "markdown",
   "id": "8e6c41d2",
   "metadata": {},
   "source": [
    "## For a Point Charge\n",
    "\n",
    "$$ \\large W = \\Delta U = q \\Delta V \\quad \\left(= \\frac{1}{2} m v^2 \\right) $$\n",
    "\n",
    "Thus,\n",
    "\n",
    "$$ \\large \\Rightarrow \\quad v = \\sqrt{\\frac{2qV}{m}} $$\n",
    "\n",
    "\n",
    "\n",
    "### Related Problems\n",
    "- GRE Physics GR1777 Problem [095](https://study-astrophysics.com/gr1777-095/)"
   ]
  },
  {
   "cell_type": "markdown",
   "id": "2a154b86",
   "metadata": {},
   "source": [
    "---"
   ]
  },
  {
   "cell_type": "markdown",
   "id": "a03945e4",
   "metadata": {},
   "source": [
    "## Power\n",
    "\n",
    "$$ \\large P = I^2 R = IV = \\frac{V^2}{R} \\quad (\\because V = IR) $$"
   ]
  },
  {
   "cell_type": "markdown",
   "id": "5889f8a2",
   "metadata": {},
   "source": [
    "---"
   ]
  },
  {
   "cell_type": "markdown",
   "id": "3ca58ddc",
   "metadata": {},
   "source": [
    "## Energy in a Capacitor\n",
    "\n",
    "$$ \\large U \\ = \\ \\frac{1}{2} CV^2 \\ = \\ \\frac{Q^2}{2C} \\ = \\ \\frac{1}{2} QV $$"
   ]
  },
  {
   "cell_type": "markdown",
   "id": "05aef3cd",
   "metadata": {},
   "source": [
    "---"
   ]
  },
  {
   "cell_type": "markdown",
   "id": "0fe40ed5",
   "metadata": {},
   "source": [
    "## Energy in a Inductor\n",
    "\n",
    "$$ \\large U = \\frac{1}{2} L I^2 $$"
   ]
  }
 ],
 "metadata": {
  "kernelspec": {
   "display_name": "Python 3",
   "language": "python",
   "name": "python3"
  },
  "language_info": {
   "codemirror_mode": {
    "name": "ipython",
    "version": 3
   },
   "file_extension": ".py",
   "mimetype": "text/x-python",
   "name": "python",
   "nbconvert_exporter": "python",
   "pygments_lexer": "ipython3",
   "version": "3.8.8"
  }
 },
 "nbformat": 4,
 "nbformat_minor": 5
}
