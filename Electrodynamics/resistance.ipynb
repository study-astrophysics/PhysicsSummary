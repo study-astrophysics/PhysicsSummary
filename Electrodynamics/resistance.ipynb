{
 "cells": [
  {
   "cell_type": "markdown",
   "id": "bd47cfa1",
   "metadata": {},
   "source": [
    "# [Resistance](https://study-astrophysics.com/resistance/)"
   ]
  },
  {
   "cell_type": "markdown",
   "id": "ee32fbfc",
   "metadata": {},
   "source": [
    "## Definition\n",
    "\n",
    "$$ \\large R = \\frac{V}{I} $$"
   ]
  },
  {
   "cell_type": "markdown",
   "id": "cb0b60e8",
   "metadata": {},
   "source": [
    "## Resitance of a Wire\n",
    "\n",
    "$$ \\large R = \\frac{\\rho L}{A} \\propto \\frac{L}{A} $$\n",
    "\n"
   ]
  },
  {
   "cell_type": "markdown",
   "id": "01050037",
   "metadata": {},
   "source": [
    "## Combinations of Resistors\n",
    "\n",
    "$$ \\large R_{serial} = R_1 + R_2 $$\n",
    "\n",
    "$$ \\large R_{parallel} = \\frac{1}{R_1} + \\frac{1}{R_2} $$\n",
    "\n",
    "\n",
    "### Related Problems\n",
    "- GRE Physics GR1777: Problem [004](https://study-astrophysics.com/gr1777-004/)"
   ]
  },
  {
   "cell_type": "markdown",
   "id": "b10e5e09",
   "metadata": {},
   "source": [
    "## Related Topics\n",
    "\n",
    "### [Ohm's Law](https://study-astrophysics.com/ohms-law/)"
   ]
  }
 ],
 "metadata": {
  "kernelspec": {
   "display_name": "Python 3 (ipykernel)",
   "language": "python",
   "name": "python3"
  },
  "language_info": {
   "codemirror_mode": {
    "name": "ipython",
    "version": 3
   },
   "file_extension": ".py",
   "mimetype": "text/x-python",
   "name": "python",
   "nbconvert_exporter": "python",
   "pygments_lexer": "ipython3",
   "version": "3.8.2"
  }
 },
 "nbformat": 4,
 "nbformat_minor": 5
}
