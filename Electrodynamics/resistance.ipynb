{
 "cells": [
  {
   "cell_type": "markdown",
   "id": "bd47cfa1",
   "metadata": {},
   "source": [
    "# [Resistance](https://study-astrophysics.com/resistance/)"
   ]
  },
  {
   "cell_type": "markdown",
   "id": "ee32fbfc",
   "metadata": {},
   "source": [
    "## Definition\n",
    "\n",
    "$$ \\large R = \\frac{V}{I} $$"
   ]
  },
  {
   "cell_type": "markdown",
   "id": "6f5742de",
   "metadata": {},
   "source": [
    "---"
   ]
  },
  {
   "cell_type": "markdown",
   "id": "cb0b60e8",
   "metadata": {},
   "source": [
    "## Resitance of a Wire\n",
    "\n",
    "$$ \\large R = \\frac{\\rho L}{A} \\propto \\frac{L}{A} $$\n",
    "\n",
    "where\n",
    "\n",
    "- $L$: length of the wire\n",
    "\n",
    "\n",
    "- $A$: cross-sectional area\n",
    "\n",
    "\n",
    "- $\\rho$: resistivity"
   ]
  },
  {
   "cell_type": "markdown",
   "id": "75e9a586",
   "metadata": {},
   "source": [
    "---"
   ]
  },
  {
   "cell_type": "markdown",
   "id": "220abe66",
   "metadata": {},
   "source": [
    "## Resistivity\n",
    "\n",
    "$$ \\large \\rho = \\rho_0 [1 + \\alpha (T - T_0)] $$\n",
    "\n",
    "where\n",
    "\n",
    "- $\\alpha$: temperature coefficient of resistivity"
   ]
  },
  {
   "cell_type": "markdown",
   "id": "196a775a",
   "metadata": {},
   "source": [
    "---"
   ]
  },
  {
   "cell_type": "markdown",
   "id": "6479222e",
   "metadata": {},
   "source": [
    "## Power dissipated by a Resistor\n",
    "\n",
    "$$ \\large P \\ = \\ IV \\ = \\ I^2 R \\ = \\ \\frac{V^2}{R} $$"
   ]
  },
  {
   "cell_type": "markdown",
   "id": "86a40098",
   "metadata": {},
   "source": [
    "---"
   ]
  },
  {
   "cell_type": "markdown",
   "id": "01050037",
   "metadata": {},
   "source": [
    "## Combinations of Resistors\n",
    "\n",
    "$$ \\large R_\\text{Total} = \\sum_i R_i $$\n",
    "\n",
    "$$ \\large \\frac{1}{R_\\text{Total}} = \\sum_i \\frac{1}{R_i} $$\n",
    "\n",
    "\n",
    "### Related Problems\n",
    "- GRE Physics GR1777: Problem [004](https://study-astrophysics.com/gr1777-004/)"
   ]
  },
  {
   "cell_type": "markdown",
   "id": "96957927",
   "metadata": {},
   "source": [
    "---"
   ]
  },
  {
   "cell_type": "markdown",
   "id": "b10e5e09",
   "metadata": {},
   "source": [
    "## Related Topics\n",
    "\n",
    "### [Ohm's Law](https://study-astrophysics.com/ohms-law/)"
   ]
  }
 ],
 "metadata": {
  "kernelspec": {
   "display_name": "Python 3 (ipykernel)",
   "language": "python",
   "name": "python3"
  },
  "language_info": {
   "codemirror_mode": {
    "name": "ipython",
    "version": 3
   },
   "file_extension": ".py",
   "mimetype": "text/x-python",
   "name": "python",
   "nbconvert_exporter": "python",
   "pygments_lexer": "ipython3",
   "version": "3.8.2"
  }
 },
 "nbformat": 4,
 "nbformat_minor": 5
}
