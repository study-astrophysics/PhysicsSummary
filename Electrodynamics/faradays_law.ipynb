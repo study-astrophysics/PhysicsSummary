{
 "cells": [
  {
   "cell_type": "markdown",
   "id": "f25865ea",
   "metadata": {},
   "source": [
    "# [Faraday's Law](https://study-astrophysics.com/faradays-law/)"
   ]
  },
  {
   "cell_type": "markdown",
   "id": "9da2cabc",
   "metadata": {},
   "source": [
    "---"
   ]
  },
  {
   "cell_type": "markdown",
   "id": "1baa2555",
   "metadata": {},
   "source": [
    "$$ \\large \\begin{split} \\text{emf} \n",
    "&= \\frac{N \\Delta B A}{\\Delta t} = IR \\\\\n",
    "\\\\\n",
    "&= - \\frac{d \\Phi_B}{dt}\n",
    "\\end{split} $$\n",
    "\n",
    "where\n",
    "\n",
    "$$ \\Phi_B = \\int \\vec{B} \\cdot d \\vec{A} $$\n",
    "\n",
    "\n",
    "### Related Problems\n",
    "- GRE Physics GR0177: Problem 086\n",
    "- GRE Physics GR0877: Problem 070"
   ]
  }
 ],
 "metadata": {
  "kernelspec": {
   "display_name": "Python 3 (ipykernel)",
   "language": "python",
   "name": "python3"
  },
  "language_info": {
   "codemirror_mode": {
    "name": "ipython",
    "version": 3
   },
   "file_extension": ".py",
   "mimetype": "text/x-python",
   "name": "python",
   "nbconvert_exporter": "python",
   "pygments_lexer": "ipython3",
   "version": "3.8.2"
  }
 },
 "nbformat": 4,
 "nbformat_minor": 5
}
