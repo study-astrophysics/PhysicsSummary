{
 "cells": [
  {
   "cell_type": "markdown",
   "id": "2acedb5a",
   "metadata": {},
   "source": [
    "# [RL Circuit](https://study-astrophysics.com/rl-circuit/)"
   ]
  },
  {
   "cell_type": "markdown",
   "id": "9fa911bc",
   "metadata": {},
   "source": [
    "---"
   ]
  },
  {
   "cell_type": "markdown",
   "id": "59f17490",
   "metadata": {},
   "source": [
    "## Time Constant for R-L Circuit\n",
    "\n",
    "\n",
    "$$ \\large t \\ = \\ \\frac{L}{R} $$"
   ]
  }
 ],
 "metadata": {
  "kernelspec": {
   "display_name": "Python 3 (ipykernel)",
   "language": "python",
   "name": "python3"
  },
  "language_info": {
   "codemirror_mode": {
    "name": "ipython",
    "version": 3
   },
   "file_extension": ".py",
   "mimetype": "text/x-python",
   "name": "python",
   "nbconvert_exporter": "python",
   "pygments_lexer": "ipython3",
   "version": "3.9.7"
  }
 },
 "nbformat": 4,
 "nbformat_minor": 5
}
