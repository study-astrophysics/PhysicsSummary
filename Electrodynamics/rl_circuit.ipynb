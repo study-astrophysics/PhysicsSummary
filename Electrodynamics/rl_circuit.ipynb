{
 "cells": [
  {
   "cell_type": "markdown",
   "id": "f919ee3b",
   "metadata": {},
   "source": [
    "# RL Circuit"
   ]
  },
  {
   "cell_type": "markdown",
   "id": "99fed036",
   "metadata": {},
   "source": [
    "---"
   ]
  },
  {
   "cell_type": "markdown",
   "id": "8b7002b6",
   "metadata": {},
   "source": [
    "## Time Constant for R-L Circuit\n",
    "\n",
    "\n",
    "$$ \\large t \\ = \\ \\frac{L}{R} $$"
   ]
  }
 ],
 "metadata": {
  "kernelspec": {
   "display_name": "Python 3 (ipykernel)",
   "language": "python",
   "name": "python3"
  },
  "language_info": {
   "codemirror_mode": {
    "name": "ipython",
    "version": 3
   },
   "file_extension": ".py",
   "mimetype": "text/x-python",
   "name": "python",
   "nbconvert_exporter": "python",
   "pygments_lexer": "ipython3",
   "version": "3.9.7"
  }
 },
 "nbformat": 4,
 "nbformat_minor": 5
}
