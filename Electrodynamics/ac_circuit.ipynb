{
 "cells": [
  {
   "cell_type": "markdown",
   "id": "990da474",
   "metadata": {},
   "source": [
    "# AC Circuit"
   ]
  },
  {
   "cell_type": "markdown",
   "id": "e36a7a75",
   "metadata": {},
   "source": [
    "## Impedence\n",
    "\n",
    "- Resistor: $R$\n",
    "- Capacitor: $\\frac{1}{i \\omega C}$\n",
    "\n",
    "Then, the total $Z = $"
   ]
  },
  {
   "cell_type": "markdown",
   "id": "8bd3fea2",
   "metadata": {},
   "source": [
    "## Total Current\n",
    "\n",
    "$$ \\large I = \\frac{V}{Z} $$"
   ]
  },
  {
   "cell_type": "markdown",
   "id": "93af0859",
   "metadata": {},
   "source": [
    "## Output Voltage\n",
    "\n",
    "$$ \\large V_0 = I Z_C $$"
   ]
  },
  {
   "cell_type": "markdown",
   "id": "22d94b87",
   "metadata": {},
   "source": [
    "### Related Problems\n",
    "- GRE Physics GR0877: Problem 070"
   ]
  }
 ],
 "metadata": {
  "kernelspec": {
   "display_name": "Python 3 (ipykernel)",
   "language": "python",
   "name": "python3"
  },
  "language_info": {
   "codemirror_mode": {
    "name": "ipython",
    "version": 3
   },
   "file_extension": ".py",
   "mimetype": "text/x-python",
   "name": "python",
   "nbconvert_exporter": "python",
   "pygments_lexer": "ipython3",
   "version": "3.8.2"
  }
 },
 "nbformat": 4,
 "nbformat_minor": 5
}
