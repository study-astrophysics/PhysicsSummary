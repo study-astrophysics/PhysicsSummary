{
 "cells": [
  {
   "cell_type": "markdown",
   "id": "990da474",
   "metadata": {},
   "source": [
    "# [AC Circuit](https://study-astrophysics.com/ac-circuit/)"
   ]
  },
  {
   "cell_type": "markdown",
   "id": "027ebd12",
   "metadata": {},
   "source": [
    "---"
   ]
  },
  {
   "cell_type": "markdown",
   "id": "e36a7a75",
   "metadata": {},
   "source": [
    "## Impedence\n",
    "\n",
    "- Resistor: $R$\n",
    "- Capacitor: $\\frac{1}{i \\omega C}$\n",
    "\n",
    "Then, the total $Z = $"
   ]
  },
  {
   "cell_type": "markdown",
   "id": "34c7da53",
   "metadata": {},
   "source": [
    "---"
   ]
  },
  {
   "cell_type": "markdown",
   "id": "8bd3fea2",
   "metadata": {},
   "source": [
    "## Total Current\n",
    "\n",
    "$$ \\large I = \\frac{V}{Z} $$\n",
    "\n",
    "\n",
    "$$ \\large I_\\text{rms} = \\frac{I_\\text{max}}{\\sqrt{2}} $$"
   ]
  },
  {
   "cell_type": "markdown",
   "id": "41836372",
   "metadata": {},
   "source": [
    "---"
   ]
  },
  {
   "cell_type": "markdown",
   "id": "93af0859",
   "metadata": {},
   "source": [
    "## Output Voltage\n",
    "\n",
    "$$ \\large \\mathcal{E} = V_\\text{max} \\sin (\\omega t) $$\n",
    "\n",
    "\n",
    "$$ \\large V_{\\text{rms}} = I_{\\text{rms}} Z = \\frac{V_\\text{max}}{\\sqrt{2}} $$"
   ]
  },
  {
   "cell_type": "markdown",
   "id": "00b25ee8",
   "metadata": {},
   "source": [
    "---"
   ]
  },
  {
   "cell_type": "markdown",
   "id": "84e031dc",
   "metadata": {},
   "source": [
    "## Power Dissipated\n",
    "\n",
    "\n",
    "$$ \\large \\begin{split} P & = V_{\\text{rms}} \\ I_{\\text{rms}} \\cos \\phi \\\\ \n",
    "& = I^2_{\\text{rms}} Z \\cos \\phi \\\\\n",
    "& = I^2_{\\text{rms}} R\n",
    "\\end{split}$$\n",
    "\n",
    "\n",
    "### Related Problems\n",
    "- GRE Physics GR0877 Problem 070\n",
    "- GRE Physics GR1777 Problem [040](https://study-astrophysics.com/gr1777-040/)"
   ]
  }
 ],
 "metadata": {
  "kernelspec": {
   "display_name": "Python 3 (ipykernel)",
   "language": "python",
   "name": "python3"
  },
  "language_info": {
   "codemirror_mode": {
    "name": "ipython",
    "version": 3
   },
   "file_extension": ".py",
   "mimetype": "text/x-python",
   "name": "python",
   "nbconvert_exporter": "python",
   "pygments_lexer": "ipython3",
   "version": "3.8.2"
  }
 },
 "nbformat": 4,
 "nbformat_minor": 5
}
