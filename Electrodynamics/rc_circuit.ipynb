{
 "cells": [
  {
   "cell_type": "markdown",
   "id": "b1708bdc",
   "metadata": {},
   "source": [
    "# [RC Circuit](https://study-astrophysics.com/rc-circuit/)"
   ]
  },
  {
   "cell_type": "markdown",
   "id": "2435859b",
   "metadata": {},
   "source": [
    "---"
   ]
  },
  {
   "cell_type": "markdown",
   "id": "06bd9650",
   "metadata": {},
   "source": [
    "## Time Constant for an R-C Circuit\n",
    "\n",
    "\n",
    "$$ \\large t \\ = \\ RC $$"
   ]
  }
 ],
 "metadata": {
  "kernelspec": {
   "display_name": "Python 3 (ipykernel)",
   "language": "python",
   "name": "python3"
  },
  "language_info": {
   "codemirror_mode": {
    "name": "ipython",
    "version": 3
   },
   "file_extension": ".py",
   "mimetype": "text/x-python",
   "name": "python",
   "nbconvert_exporter": "python",
   "pygments_lexer": "ipython3",
   "version": "3.9.7"
  }
 },
 "nbformat": 4,
 "nbformat_minor": 5
}
