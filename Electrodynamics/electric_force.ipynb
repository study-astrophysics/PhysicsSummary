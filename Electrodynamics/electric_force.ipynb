{
 "cells": [
  {
   "cell_type": "markdown",
   "id": "ad3d6376",
   "metadata": {},
   "source": [
    "# Electric Force"
   ]
  },
  {
   "cell_type": "markdown",
   "id": "0acd3ad6",
   "metadata": {},
   "source": [
    "---"
   ]
  },
  {
   "cell_type": "markdown",
   "id": "4b9c4f65",
   "metadata": {},
   "source": [
    "$$ \\large \\vec{F} \\ = \\ q \\vec{E} $$\n",
    "\n",
    "\n",
    "where\n",
    "\n",
    "\n",
    "- $q$: electric charge\n",
    "\n",
    "\n",
    "- $\\vec{E}$: electric field\n",
    "\n",
    "\n",
    "\n",
    "### Unit Analysis"
   ]
  }
 ],
 "metadata": {
  "kernelspec": {
   "display_name": "Python 3 (ipykernel)",
   "language": "python",
   "name": "python3"
  },
  "language_info": {
   "codemirror_mode": {
    "name": "ipython",
    "version": 3
   },
   "file_extension": ".py",
   "mimetype": "text/x-python",
   "name": "python",
   "nbconvert_exporter": "python",
   "pygments_lexer": "ipython3",
   "version": "3.8.2"
  }
 },
 "nbformat": 4,
 "nbformat_minor": 5
}
