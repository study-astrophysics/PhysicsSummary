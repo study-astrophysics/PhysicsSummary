{
 "cells": [
  {
   "cell_type": "markdown",
   "id": "da9ec6bc",
   "metadata": {},
   "source": [
    "# [Electric Field](https://study-astrophysics.com/electric-field/)"
   ]
  },
  {
   "cell_type": "markdown",
   "id": "58ab24c9",
   "metadata": {},
   "source": [
    "$$ \\large \\vec{E} = \\frac{1}{4 \\pi \\epsilon_0} \\frac{q}{r^2}\\hat{r} $$"
   ]
  },
  {
   "cell_type": "markdown",
   "id": "5d76b00a",
   "metadata": {},
   "source": [
    "## In a Capacitor\n",
    "\n",
    "\n",
    "$$ \\large E = \\frac{\\sigma}{\\epsilon_0} = \\frac{Q}{\\epsilon_0 S} \\quad \\Rightarrow \\quad \\frac{dE}{dt} = \\frac{I}{\\epsilon_0 S} $$\n",
    "\n",
    "\n",
    "### Related Problems\n",
    "- GRE Physics GR0877: Problem 067"
   ]
  },
  {
   "cell_type": "markdown",
   "id": "9e19efe8",
   "metadata": {},
   "source": [
    "## Electric Flux\n",
    "\n",
    "$$ \\large \\Phi_E = \\int_S \\vec{E} \\cdot d \\vec{a} $$\n",
    "\n",
    "where\n",
    "\n",
    "$ \\Phi_E$: electric flux through a closed surface $S$ enclosing any volume $V$\n",
    "\n",
    "$Q_\\text{enc}$: total charge enclosed within $V$\n",
    "\n",
    "$\\epsilon_0$: electric constant\n",
    "\n",
    "\n",
    "### Related Topics\n",
    "\n",
    "[Gauss's Law](https://study-astrophysics.com/gausss-law/)"
   ]
  }
 ],
 "metadata": {
  "kernelspec": {
   "display_name": "Python 3 (ipykernel)",
   "language": "python",
   "name": "python3"
  },
  "language_info": {
   "codemirror_mode": {
    "name": "ipython",
    "version": 3
   },
   "file_extension": ".py",
   "mimetype": "text/x-python",
   "name": "python",
   "nbconvert_exporter": "python",
   "pygments_lexer": "ipython3",
   "version": "3.8.2"
  }
 },
 "nbformat": 4,
 "nbformat_minor": 5
}
