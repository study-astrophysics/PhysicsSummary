{
 "cells": [
  {
   "cell_type": "markdown",
   "id": "c8895cab",
   "metadata": {},
   "source": [
    "# [Ohm's Law](https://study-astrophysics.com/ohms-law/)"
   ]
  },
  {
   "cell_type": "markdown",
   "id": "7528b2fd",
   "metadata": {},
   "source": [
    "$$ \\large I = \\frac{V}{R} $$\n",
    "\n",
    "\n",
    "### Related Problems\n",
    "- GRE Physics GR1777: Problem [004](https://study-astrophysics.com/gr1777-004/)"
   ]
  },
  {
   "cell_type": "markdown",
   "id": "049c5f5b",
   "metadata": {},
   "source": [
    "## Related Topics\n",
    "\n",
    "### [Resitance](https://study-astrophysics.com/resistance/)"
   ]
  }
 ],
 "metadata": {
  "kernelspec": {
   "display_name": "Python 3 (ipykernel)",
   "language": "python",
   "name": "python3"
  },
  "language_info": {
   "codemirror_mode": {
    "name": "ipython",
    "version": 3
   },
   "file_extension": ".py",
   "mimetype": "text/x-python",
   "name": "python",
   "nbconvert_exporter": "python",
   "pygments_lexer": "ipython3",
   "version": "3.8.2"
  }
 },
 "nbformat": 4,
 "nbformat_minor": 5
}
