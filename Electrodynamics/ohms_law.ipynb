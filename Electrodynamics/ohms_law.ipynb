{
 "cells": [
  {
   "cell_type": "markdown",
   "id": "c8895cab",
   "metadata": {},
   "source": [
    "# Ohm's Law"
   ]
  },
  {
   "cell_type": "markdown",
   "id": "7528b2fd",
   "metadata": {},
   "source": [
    "The current through a conductor between two points is directly proportional to the voltage across the two points. Introducing the constant of proportionality, the resistance, one arrives at the usual mathematical equation that describes this relationship:\n",
    "\n",
    "\n",
    "For many conductors of electricity, the electric current which will flow through them is directly proportional to the voltage applied to them. When a microscopic view of Ohm's law is taken, it is found to depend upon the fact that the drift velocity of charges through the material is proportional to the electric field in the conductor. The ratio of voltage to current is called the resistance, and if the ratio is constant over a wide range of voltages, the material is said to be an \"ohmic\" material. If the material can be characterized by such a resistance, then the current can be predicted from the relationship:\n",
    "\n",
    "$$ I = \\frac{V}{R} $$"
   ]
  },
  {
   "cell_type": "markdown",
   "id": "70101e5d",
   "metadata": {},
   "source": [
    "### Related Problems\n",
    "- GRE Physics GR1777: Problem [004](https://study-astrophysics.com/gr1777-004/)"
   ]
  },
  {
   "cell_type": "markdown",
   "id": "049c5f5b",
   "metadata": {},
   "source": [
    "## Resistance"
   ]
  },
  {
   "cell_type": "markdown",
   "id": "08e977b3",
   "metadata": {},
   "source": [
    "## Voltage"
   ]
  },
  {
   "cell_type": "markdown",
   "id": "27af8a44",
   "metadata": {},
   "source": [
    "## Current"
   ]
  },
  {
   "cell_type": "code",
   "execution_count": null,
   "id": "4ee2befc",
   "metadata": {},
   "outputs": [],
   "source": []
  }
 ],
 "metadata": {
  "kernelspec": {
   "display_name": "Python 3 (ipykernel)",
   "language": "python",
   "name": "python3"
  },
  "language_info": {
   "codemirror_mode": {
    "name": "ipython",
    "version": 3
   },
   "file_extension": ".py",
   "mimetype": "text/x-python",
   "name": "python",
   "nbconvert_exporter": "python",
   "pygments_lexer": "ipython3",
   "version": "3.8.2"
  }
 },
 "nbformat": 4,
 "nbformat_minor": 5
}
