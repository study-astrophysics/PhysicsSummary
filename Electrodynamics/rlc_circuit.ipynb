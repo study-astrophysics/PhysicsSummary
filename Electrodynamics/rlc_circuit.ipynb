{
 "cells": [
  {
   "cell_type": "markdown",
   "id": "dca97e1f",
   "metadata": {},
   "source": [
    "# [RLC Circuit](https://study-astrophysics.com/rlc-circuit/)"
   ]
  },
  {
   "cell_type": "markdown",
   "id": "b8776372",
   "metadata": {},
   "source": [
    "## Impedence\n",
    "\n",
    "\n",
    "$$ \\large Z = \\sqrt{R^2 + (X_L + X_C)^2} $$\n",
    "\n",
    "\n",
    "where\n",
    "\n",
    "\n",
    "- $X_L = \\omega L$: inductive reactance\n",
    "\n",
    "\n",
    "- $X_C = \\frac{1}{\\omega C}$: capacitive reactance"
   ]
  },
  {
   "cell_type": "markdown",
   "id": "7f14fe49",
   "metadata": {},
   "source": [
    "## Magnetic Energy in the Inductor\n",
    "\n",
    "$$ \\large M = \\frac{1}{2} L I^2 $$"
   ]
  },
  {
   "cell_type": "markdown",
   "id": "9b4be0cc",
   "metadata": {},
   "source": [
    "## Resonance\n",
    "\n",
    "When the complex impedence is zero,\n",
    "\n",
    "$$ \\large X_L = X_C \\quad \\Leftrightarrow \\quad \\omega L = \\frac{1}{\\omega C} $$\n",
    "\n",
    "Thus, \n",
    "\n",
    "$$ \\large \\omega = \\frac{1}{\\sqrt{LC}} $$\n",
    "\n",
    "- Current is maximized"
   ]
  },
  {
   "cell_type": "markdown",
   "id": "1c9fd94a",
   "metadata": {},
   "source": [
    "## High-pass Filter"
   ]
  },
  {
   "cell_type": "markdown",
   "id": "66856556",
   "metadata": {},
   "source": [
    "## Low-pass Filter"
   ]
  }
 ],
 "metadata": {
  "kernelspec": {
   "display_name": "Python 3 (ipykernel)",
   "language": "python",
   "name": "python3"
  },
  "language_info": {
   "codemirror_mode": {
    "name": "ipython",
    "version": 3
   },
   "file_extension": ".py",
   "mimetype": "text/x-python",
   "name": "python",
   "nbconvert_exporter": "python",
   "pygments_lexer": "ipython3",
   "version": "3.8.2"
  }
 },
 "nbformat": 4,
 "nbformat_minor": 5
}
