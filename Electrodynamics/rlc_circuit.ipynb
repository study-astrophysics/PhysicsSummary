{
 "cells": [
  {
   "cell_type": "markdown",
   "id": "dca97e1f",
   "metadata": {},
   "source": [
    "# [RLC Circuit](https://study-astrophysics.com/rlc-circuit/)"
   ]
  },
  {
   "cell_type": "markdown",
   "id": "8a641286",
   "metadata": {},
   "source": [
    "---"
   ]
  },
  {
   "cell_type": "markdown",
   "id": "b8776372",
   "metadata": {},
   "source": [
    "## Impedence\n",
    "\n",
    "\n",
    "$$ \\large Z = \\sqrt{R^2 + (X_L + X_C)^2} $$\n",
    "\n",
    "\n",
    "where\n",
    "\n",
    "\n",
    "- $X_L = \\omega L$: inductive reactance\n",
    "\n",
    "\n",
    "- $X_C = \\frac{1}{\\omega C}$: capacitive reactance"
   ]
  },
  {
   "cell_type": "markdown",
   "id": "ee126c70",
   "metadata": {},
   "source": [
    "---"
   ]
  },
  {
   "cell_type": "markdown",
   "id": "431686bd",
   "metadata": {},
   "source": [
    "## Electric Current\n",
    "\n",
    "\n",
    "$$ \\large I_\\text{rms} = \\frac{V_\\text{rms}}{Z} $$"
   ]
  },
  {
   "cell_type": "markdown",
   "id": "28ba8b46",
   "metadata": {},
   "source": [
    "---"
   ]
  },
  {
   "cell_type": "markdown",
   "id": "9bde4bc0",
   "metadata": {},
   "source": [
    "## Phase\n",
    "\n",
    "\n",
    "$$ \\large \\tan \\phi = \\frac{X_L - X_C}{R} $$"
   ]
  },
  {
   "cell_type": "markdown",
   "id": "31ef8bc4",
   "metadata": {},
   "source": [
    "---"
   ]
  },
  {
   "cell_type": "markdown",
   "id": "7f14fe49",
   "metadata": {},
   "source": [
    "## Magnetic Energy in the Inductor\n",
    "\n",
    "$$ \\large M = \\frac{1}{2} L I^2 $$"
   ]
  },
  {
   "cell_type": "markdown",
   "id": "1de4dec2",
   "metadata": {},
   "source": [
    "---"
   ]
  },
  {
   "cell_type": "markdown",
   "id": "e5d558d9",
   "metadata": {},
   "source": [
    "## Average Power\n",
    "\n",
    "\n",
    "The average power produced by the RLC circuit is\n",
    "\n",
    "\n",
    "$$ \\large P_\\text{avg} = I_\\text{rms} V_{rms} \\cos \\phi = I^2_\\text{rms} R $$"
   ]
  },
  {
   "cell_type": "markdown",
   "id": "b51d640d",
   "metadata": {},
   "source": [
    "---"
   ]
  },
  {
   "cell_type": "markdown",
   "id": "9b4be0cc",
   "metadata": {},
   "source": [
    "## Resonance\n",
    "\n",
    "When the complex impedence is zero,\n",
    "\n",
    "$$ \\large X_L = X_C \\quad \\Leftrightarrow \\quad \\omega L = \\frac{1}{\\omega C} $$\n",
    "\n",
    "Thus, \n",
    "\n",
    "$$ \\large \\omega = \\frac{1}{\\sqrt{LC}} $$\n",
    "\n",
    "- Current is maximized"
   ]
  },
  {
   "cell_type": "markdown",
   "id": "f47993da",
   "metadata": {},
   "source": [
    "---"
   ]
  },
  {
   "cell_type": "markdown",
   "id": "1c9fd94a",
   "metadata": {},
   "source": [
    "## High-pass Filter"
   ]
  },
  {
   "cell_type": "markdown",
   "id": "26d5b470",
   "metadata": {},
   "source": [
    "---"
   ]
  },
  {
   "cell_type": "markdown",
   "id": "66856556",
   "metadata": {},
   "source": [
    "## Low-pass Filter"
   ]
  }
 ],
 "metadata": {
  "kernelspec": {
   "display_name": "Python 3 (ipykernel)",
   "language": "python",
   "name": "python3"
  },
  "language_info": {
   "codemirror_mode": {
    "name": "ipython",
    "version": 3
   },
   "file_extension": ".py",
   "mimetype": "text/x-python",
   "name": "python",
   "nbconvert_exporter": "python",
   "pygments_lexer": "ipython3",
   "version": "3.8.2"
  }
 },
 "nbformat": 4,
 "nbformat_minor": 5
}
