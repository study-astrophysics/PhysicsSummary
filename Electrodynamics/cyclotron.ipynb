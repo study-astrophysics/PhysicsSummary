{
 "cells": [
  {
   "cell_type": "markdown",
   "id": "7b1b6073",
   "metadata": {},
   "source": [
    "# [Cyclotron](https://study-astrophysics.com/cyclotron/)"
   ]
  },
  {
   "cell_type": "markdown",
   "id": "8064d890",
   "metadata": {},
   "source": [
    "---"
   ]
  },
  {
   "cell_type": "markdown",
   "id": "31650af4",
   "metadata": {},
   "source": [
    "A charged particle of charge $q$, mass $m$ in a uniform magnetic field $\\vec{B}$ with an initial velocity $\\vec{v}$ perpendicular to the magnetic field will experience circular motion. \n",
    "\n",
    "$$ \\large F = q v B = \\frac{m v^2}{r} $$\n",
    "\n",
    "$$ \\large v = \\frac{2 \\pi r}{T}, \\quad \\omega = \\frac{2 \\pi}{T} $$\n",
    "\n",
    "$$ \\large v = \\frac{q B r}{m} = \\frac{2\\pi r}{T} $$\n",
    "\n",
    "$$ \\large \\Rightarrow \\quad r = \\frac{mv}{qB} $$\n",
    "\n",
    "$$ \\large \\Rightarrow \\quad T = 2 \\pi \\frac{m}{qB} = \\frac{2\\pi}{\\omega} $$\n",
    "\n",
    "$$ \\large \\Rightarrow \\quad \\omega = \\frac{qB}{m} $$\n",
    "\n",
    "\n",
    "### Related Problems\n",
    "- GRE Physics GR0177: Problem 062"
   ]
  },
  {
   "cell_type": "markdown",
   "id": "92ba26df",
   "metadata": {},
   "source": [
    "---"
   ]
  },
  {
   "cell_type": "markdown",
   "id": "53818af4",
   "metadata": {},
   "source": [
    "## Net Deflected Case\n",
    "\n",
    "$$ \\large qvB = qE $$\n",
    "\n",
    "\n",
    "### Related Problems\n",
    "- GRE Physics GR1777: Problem 076"
   ]
  }
 ],
 "metadata": {
  "kernelspec": {
   "display_name": "Python 3 (ipykernel)",
   "language": "python",
   "name": "python3"
  },
  "language_info": {
   "codemirror_mode": {
    "name": "ipython",
    "version": 3
   },
   "file_extension": ".py",
   "mimetype": "text/x-python",
   "name": "python",
   "nbconvert_exporter": "python",
   "pygments_lexer": "ipython3",
   "version": "3.9.7"
  }
 },
 "nbformat": 4,
 "nbformat_minor": 5
}
