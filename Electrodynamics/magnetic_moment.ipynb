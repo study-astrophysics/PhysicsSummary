{
 "cells": [
  {
   "cell_type": "markdown",
   "id": "b3865d3d",
   "metadata": {},
   "source": [
    "# Magnetic Moment"
   ]
  },
  {
   "cell_type": "markdown",
   "id": "58d945cf",
   "metadata": {},
   "source": [
    "---"
   ]
  },
  {
   "cell_type": "markdown",
   "id": "dcccdc14",
   "metadata": {},
   "source": [
    "## Magnetic Moment of a Loop\n",
    "\n",
    "\n",
    "The magnetic moment is the magnetic strength and orientation of a magnet or other object that produces a magnetic field.\n",
    "\n",
    "\n",
    "$$ \\large \\vec{\\mu} \\ = \\ I \\vec{A} $$\n",
    "\n",
    "\n",
    "where\n",
    "\n",
    "\n",
    "- $I$: electric current of the loop\n",
    "\n",
    "\n",
    "- $\\vec{A}$: area of the loop, direction of the vector is determined by the right-hand rule. \n",
    "\n",
    "\n",
    "\n",
    "The direction of the magnetic moment is in a direction normal to the area enclosed by the current consistent with the direction of the current using the right-hand rule.\n",
    "\n",
    "\n",
    "\n",
    "### Unit Analysis"
   ]
  }
 ],
 "metadata": {
  "kernelspec": {
   "display_name": "Python 3 (ipykernel)",
   "language": "python",
   "name": "python3"
  },
  "language_info": {
   "codemirror_mode": {
    "name": "ipython",
    "version": 3
   },
   "file_extension": ".py",
   "mimetype": "text/x-python",
   "name": "python",
   "nbconvert_exporter": "python",
   "pygments_lexer": "ipython3",
   "version": "3.8.2"
  }
 },
 "nbformat": 4,
 "nbformat_minor": 5
}
