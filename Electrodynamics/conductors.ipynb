{
 "cells": [
  {
   "cell_type": "markdown",
   "id": "45798db9",
   "metadata": {},
   "source": [
    "# [Conductors](https://study-astrophysics.com/conductors/)"
   ]
  },
  {
   "cell_type": "markdown",
   "id": "3bd79d1c",
   "metadata": {},
   "source": [
    "---"
   ]
  },
  {
   "cell_type": "markdown",
   "id": "d83bbfa0",
   "metadata": {},
   "source": [
    "## Conductors in Electrostatic Equilibrium \n",
    "\n",
    "\n",
    "- $\\vec{E} = 0$ inside the conductor.\n",
    "\n",
    "\n",
    "- Any charge resides only on the surface.\n",
    "\n",
    "\n",
    "- The electric field $\\vec{E}$ outside the conductor is perpendiculuar to the surface of the conductor.\n",
    "\n",
    "\n",
    "- Charge accumulates at sharp points. \n",
    "\n",
    "\n",
    "- Conductors do not transmit electromagnetic wave."
   ]
  }
 ],
 "metadata": {
  "kernelspec": {
   "display_name": "Python 3 (ipykernel)",
   "language": "python",
   "name": "python3"
  },
  "language_info": {
   "codemirror_mode": {
    "name": "ipython",
    "version": 3
   },
   "file_extension": ".py",
   "mimetype": "text/x-python",
   "name": "python",
   "nbconvert_exporter": "python",
   "pygments_lexer": "ipython3",
   "version": "3.9.7"
  }
 },
 "nbformat": 4,
 "nbformat_minor": 5
}
