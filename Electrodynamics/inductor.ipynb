{
 "cells": [
  {
   "cell_type": "markdown",
   "id": "daa6b1a3",
   "metadata": {},
   "source": [
    "# Inductor"
   ]
  },
  {
   "cell_type": "markdown",
   "id": "1d7469e6",
   "metadata": {},
   "source": [
    "---"
   ]
  },
  {
   "cell_type": "markdown",
   "id": "af106de5",
   "metadata": {},
   "source": [
    "## Inductance $L$ of a Coil\n",
    "\n",
    "\n",
    "$$ \\large L \\ = \\ \\frac{N \\Phi_B}{I}$$\n",
    "\n",
    "\n",
    "where\n",
    "\n",
    "\n",
    "- $I$: current\n",
    "\n",
    "\n",
    "- $N$: number of turns\n",
    "\n",
    "\n",
    "- $\\Phi_B$: magnetic flux"
   ]
  },
  {
   "cell_type": "markdown",
   "id": "bdd0276e",
   "metadata": {},
   "source": [
    "---"
   ]
  },
  {
   "cell_type": "markdown",
   "id": "7e390061",
   "metadata": {},
   "source": [
    "## Inductance $L$ of a Solenoid\n",
    "\n",
    "\n",
    "$$ \\large L \\ = \\ \\frac{\\mu_0 N^2 A}{l} $$\n",
    "\n",
    "\n",
    "where\n",
    "\n",
    "\n",
    "- $A$: cross-sectional area\n",
    "\n",
    "\n",
    "- $l$: length of the solenoid"
   ]
  },
  {
   "cell_type": "markdown",
   "id": "3db2453b",
   "metadata": {},
   "source": [
    "---"
   ]
  },
  {
   "cell_type": "markdown",
   "id": "5e3b72dc",
   "metadata": {},
   "source": [
    "## Energy Stored in the Magnetic Field of an Inductor\n",
    "\n",
    "\n",
    "$$ \\large U \\ = \\ \\frac{1}{2} L I^2 $$"
   ]
  }
 ],
 "metadata": {
  "kernelspec": {
   "display_name": "Python 3 (ipykernel)",
   "language": "python",
   "name": "python3"
  },
  "language_info": {
   "codemirror_mode": {
    "name": "ipython",
    "version": 3
   },
   "file_extension": ".py",
   "mimetype": "text/x-python",
   "name": "python",
   "nbconvert_exporter": "python",
   "pygments_lexer": "ipython3",
   "version": "3.8.2"
  }
 },
 "nbformat": 4,
 "nbformat_minor": 5
}
