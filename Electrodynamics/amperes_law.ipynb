{
 "cells": [
  {
   "cell_type": "markdown",
   "id": "6286c67e",
   "metadata": {},
   "source": [
    "# [Ampere's Law](https://study-astrophysics.com/amperes-law/)"
   ]
  },
  {
   "cell_type": "markdown",
   "id": "9281f770",
   "metadata": {},
   "source": [
    "---"
   ]
  },
  {
   "cell_type": "markdown",
   "id": "30c7f8d5",
   "metadata": {},
   "source": [
    "## Ampere's Law \n",
    "\n",
    "\n",
    "$$ \\large \\oint \\vec{B} \\cdot d\\vec{l} = \\mu_0 I_{\\text{enc}} $$ \n",
    "\n",
    "\n",
    "### Related Problems \n",
    "- GRE Physics GR1777: Problem [005](https://study-astrophysics.com/gr1777-005/)\n",
    "- GRE Physics GR0877: Problem 092"
   ]
  }
 ],
 "metadata": {
  "kernelspec": {
   "display_name": "Python 3 (ipykernel)",
   "language": "python",
   "name": "python3"
  },
  "language_info": {
   "codemirror_mode": {
    "name": "ipython",
    "version": 3
   },
   "file_extension": ".py",
   "mimetype": "text/x-python",
   "name": "python",
   "nbconvert_exporter": "python",
   "pygments_lexer": "ipython3",
   "version": "3.8.2"
  }
 },
 "nbformat": 4,
 "nbformat_minor": 5
}
