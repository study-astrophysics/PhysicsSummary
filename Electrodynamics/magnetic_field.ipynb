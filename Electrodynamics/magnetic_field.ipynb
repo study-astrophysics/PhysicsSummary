{
 "cells": [
  {
   "cell_type": "markdown",
   "id": "a5fb3795",
   "metadata": {},
   "source": [
    "# Magnetic Field"
   ]
  },
  {
   "cell_type": "markdown",
   "id": "d3e7102c",
   "metadata": {},
   "source": [
    "## Center of the Loop\n",
    "\n",
    "$$ \\large |\\vec{B}| = \\frac{\\mu_0 I}{4\\pi r^2} \\int^{2\\pi}_{0} d\\theta = \\frac{\\mu_0 I}{2r} $$"
   ]
  },
  {
   "cell_type": "markdown",
   "id": "b156909c",
   "metadata": {},
   "source": [
    "## One Wire\n",
    "\n",
    "$$ \\large |\\vec{B}| = \\frac{\\mu_0 I}{2\\pi r} $$"
   ]
  }
 ],
 "metadata": {
  "kernelspec": {
   "display_name": "Python 3 (ipykernel)",
   "language": "python",
   "name": "python3"
  },
  "language_info": {
   "codemirror_mode": {
    "name": "ipython",
    "version": 3
   },
   "file_extension": ".py",
   "mimetype": "text/x-python",
   "name": "python",
   "nbconvert_exporter": "python",
   "pygments_lexer": "ipython3",
   "version": "3.8.2"
  }
 },
 "nbformat": 4,
 "nbformat_minor": 5
}
