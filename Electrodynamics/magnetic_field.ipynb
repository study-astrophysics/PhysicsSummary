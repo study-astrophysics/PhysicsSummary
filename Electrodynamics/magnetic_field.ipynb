{
 "cells": [
  {
   "cell_type": "markdown",
   "id": "a5fb3795",
   "metadata": {},
   "source": [
    "# [Magnetic Field](https://study-astrophysics.com/magnetic-field/)"
   ]
  },
  {
   "cell_type": "markdown",
   "id": "abebf919",
   "metadata": {},
   "source": [
    "---"
   ]
  },
  {
   "cell_type": "markdown",
   "id": "ede557c2",
   "metadata": {},
   "source": [
    "## Infinitely Long Solenoid\n",
    "\n",
    "$$ \\large |\\vec{B}| \\ = \\ \\mu_0 I n $$\n",
    "\n",
    "\n",
    "where\n",
    "\n",
    "\n",
    "- $n = \\frac{N}{l}$: number of turns per unit length.\n",
    "\n",
    "\n",
    "Note that the magnetic field vanishes at the outside of the solenoid."
   ]
  },
  {
   "cell_type": "markdown",
   "id": "6a373772",
   "metadata": {},
   "source": [
    "---"
   ]
  },
  {
   "cell_type": "markdown",
   "id": "d3e7102c",
   "metadata": {},
   "source": [
    "## Center of the Loop\n",
    "\n",
    "$$ \\large |\\vec{B}| = \\frac{\\mu_0 I}{4\\pi r^2} \\int^{2\\pi}_{0} d\\theta = \\frac{\\mu_0 I}{2r} $$"
   ]
  },
  {
   "cell_type": "markdown",
   "id": "cb44f0d6",
   "metadata": {},
   "source": [
    "---"
   ]
  },
  {
   "cell_type": "markdown",
   "id": "b156909c",
   "metadata": {},
   "source": [
    "## One Long Wire\n",
    "\n",
    "\n",
    "$$ \\large\n",
    "\\begin{split}\n",
    "|\\vec{B}| & = \\mu_0 I \\frac{1}{2\\pi r}, \\quad  r \\ge R \\\\\n",
    " & = \\mu_0 I \\frac{r}{2\\pi R^2}, \\quad r < R\n",
    "\\end{split} $$"
   ]
  }
 ],
 "metadata": {
  "kernelspec": {
   "display_name": "Python 3 (ipykernel)",
   "language": "python",
   "name": "python3"
  },
  "language_info": {
   "codemirror_mode": {
    "name": "ipython",
    "version": 3
   },
   "file_extension": ".py",
   "mimetype": "text/x-python",
   "name": "python",
   "nbconvert_exporter": "python",
   "pygments_lexer": "ipython3",
   "version": "3.8.2"
  }
 },
 "nbformat": 4,
 "nbformat_minor": 5
}
