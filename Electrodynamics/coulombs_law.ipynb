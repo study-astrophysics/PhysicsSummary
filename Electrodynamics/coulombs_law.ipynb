{
 "cells": [
  {
   "cell_type": "markdown",
   "id": "047b9454",
   "metadata": {},
   "source": [
    "# [Coulomb's Law](https://study-astrophysics.com/coulombs-law)"
   ]
  },
  {
   "cell_type": "markdown",
   "id": "f867515e",
   "metadata": {},
   "source": [
    "The electrostatics force $\\vec{F}$ between two point charges $q_1$ and $q_2$ is\n",
    "\n",
    "\n",
    "$$ \\large \\vec{F} = k_e \\frac{q_1 q_2}{r^2}\\hat{r} $$\n",
    "\n",
    "where\n",
    "\n",
    "$k_e$: Coulomb's constant $(= \\frac{1}{4\\pi \\epsilon_0})$\n",
    "\n",
    "$q_{1,2}$: point charges\n",
    "\n",
    "$r$: distance between the charges."
   ]
  },
  {
   "cell_type": "markdown",
   "id": "50f7b5ab",
   "metadata": {},
   "source": [
    "## Vector Sum\n",
    "\n",
    "Since the electrostatic force is a vector, the net force is the result of adding all the forces together as vectors.\n",
    "\n",
    "### Related Problems\n",
    "- GRE Physics GR1777 Problem [039](https://study-astrophysics.com/gr1777-039/)\n"
   ]
  }
 ],
 "metadata": {
  "kernelspec": {
   "display_name": "Python 3 (ipykernel)",
   "language": "python",
   "name": "python3"
  },
  "language_info": {
   "codemirror_mode": {
    "name": "ipython",
    "version": 3
   },
   "file_extension": ".py",
   "mimetype": "text/x-python",
   "name": "python",
   "nbconvert_exporter": "python",
   "pygments_lexer": "ipython3",
   "version": "3.8.2"
  }
 },
 "nbformat": 4,
 "nbformat_minor": 5
}
