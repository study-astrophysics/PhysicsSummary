{
 "cells": [
  {
   "cell_type": "markdown",
   "id": "fb3aaf0d",
   "metadata": {},
   "source": [
    "# Maxwell's Equation"
   ]
  },
  {
   "cell_type": "markdown",
   "id": "a6899944",
   "metadata": {},
   "source": [
    "$$ \\large \\nabla \\cdot \\vec{E} = \\frac{\\rho}{\\epsilon_0} \\quad \\text{: Gauss's Law} $$\n",
    "\n",
    "$$ \\large \\nabla \\cdot \\vec{B} = 0 \\quad \\text{: no magnetic monopole exists} $$\n",
    "\n",
    "$$ \\large \\nabla \\times \\vec{E} = - \\frac{\\partial \\vec{B}}{\\partial t} \\quad \\text{: Faraday's Law} $$\n",
    "\n",
    "$$ \\large \\nabla \\times \\vec{B} = \\mu_0 \\left( \\vec{J} + \\epsilon_0 \\frac{\\partial \\vec{E}}{\\partial t} \\right) \\quad \\text{: Ampare's Law } $$"
   ]
  },
  {
   "cell_type": "markdown",
   "id": "4f031191",
   "metadata": {},
   "source": [
    "## In a Static Electromagnetic Field\n",
    "\n",
    "$$ \\large \\frac{\\partial \\vec{B}}{\\partial t} = 0 \\quad \\Rightarrow \\nabla \\times \\vec{E} = 0 $$"
   ]
  },
  {
   "cell_type": "markdown",
   "id": "a266dd0c",
   "metadata": {},
   "source": [
    "## What if a Magnetic Monopole Exists?\n",
    "\n",
    "$$ \\large \\nabla \\cdot \\vec{B} = 4 \\pi \\rho_m $$\n",
    "\n",
    "$$ \\large \\nabla \\times \\vec{E} = - \\frac{1}{c} \\frac{\\partial \\vec{B}}{\\partial t} - \\frac{4\\pi}{c} \\vec{J_m} $$"
   ]
  }
 ],
 "metadata": {
  "kernelspec": {
   "display_name": "Python 3 (ipykernel)",
   "language": "python",
   "name": "python3"
  },
  "language_info": {
   "codemirror_mode": {
    "name": "ipython",
    "version": 3
   },
   "file_extension": ".py",
   "mimetype": "text/x-python",
   "name": "python",
   "nbconvert_exporter": "python",
   "pygments_lexer": "ipython3",
   "version": "3.8.2"
  }
 },
 "nbformat": 4,
 "nbformat_minor": 5
}
