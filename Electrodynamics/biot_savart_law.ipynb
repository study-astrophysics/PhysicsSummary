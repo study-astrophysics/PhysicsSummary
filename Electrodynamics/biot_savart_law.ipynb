{
 "cells": [
  {
   "cell_type": "markdown",
   "id": "8a580c32",
   "metadata": {},
   "source": [
    "# [Biot-Savart Law](https://study-astrophysics.com/biot-savart-law/)"
   ]
  },
  {
   "cell_type": "markdown",
   "id": "0ee9b05e",
   "metadata": {},
   "source": [
    "---"
   ]
  },
  {
   "cell_type": "markdown",
   "id": "066b138d",
   "metadata": {},
   "source": [
    "$$ \\large d\\vec{B} = \\frac{\\mu_0 I d\\vec{l} \\times \\hat{r}}{4\\pi r^2} $$ \n",
    "\n",
    "\n",
    "### Related Problems\n",
    "- GRE Physics GR0177: Problem 088"
   ]
  }
 ],
 "metadata": {
  "kernelspec": {
   "display_name": "Python 3 (ipykernel)",
   "language": "python",
   "name": "python3"
  },
  "language_info": {
   "codemirror_mode": {
    "name": "ipython",
    "version": 3
   },
   "file_extension": ".py",
   "mimetype": "text/x-python",
   "name": "python",
   "nbconvert_exporter": "python",
   "pygments_lexer": "ipython3",
   "version": "3.8.2"
  }
 },
 "nbformat": 4,
 "nbformat_minor": 5
}
