{
 "cells": [
  {
   "cell_type": "markdown",
   "id": "d17a121a",
   "metadata": {},
   "source": [
    "# Magnetic Forces"
   ]
  },
  {
   "cell_type": "markdown",
   "id": "fb628d17",
   "metadata": {},
   "source": [
    "---"
   ]
  },
  {
   "cell_type": "markdown",
   "id": "deb61b12",
   "metadata": {},
   "source": [
    "## Magnetic Force on a Charged Particle\n",
    "\n",
    "$$ \\large \\vec{F} \\ = \\ q \\vec{v} \\times \\vec{B} $$\n",
    "\n",
    "\n",
    "where\n",
    "\n",
    "\n",
    "- $q$: electric charge of the particle\n",
    "\n",
    "\n",
    "- $\\vec{v}$: velocity of the particle\n",
    "\n",
    "\n",
    "- $\\vec{B}$: magnetic field\n",
    "\n",
    "\n",
    "\n",
    "### Unit Analysis"
   ]
  },
  {
   "cell_type": "markdown",
   "id": "7d25a2de",
   "metadata": {},
   "source": [
    "---"
   ]
  },
  {
   "cell_type": "markdown",
   "id": "89950428",
   "metadata": {},
   "source": [
    "## Magnetic Force on a Wire/Conductor\n",
    "\n",
    "$$ \\large \\vec{F} \\ = \\ L \\ (\\vec{I} \\times \\vec{B}) $$\n",
    "\n",
    "\n",
    "where\n",
    "\n",
    "\n",
    "- $L$: length of the wire/conductor\n",
    "\n",
    "\n",
    "- $\\vec{I}$: electric current of the wire/conductor\n",
    "\n",
    "\n",
    "- $\\vec{B}$: magnetic field\n",
    "\n",
    "\n",
    "#### in Infinitesimal Form\n",
    "\n",
    "$$ \\large d\\vec{F} \\ = \\ I d \\vec{l} \\times \\vec{B} $$\n",
    "\n",
    "\n",
    "\n",
    "### Unit Analysis"
   ]
  }
 ],
 "metadata": {
  "kernelspec": {
   "display_name": "Python 3 (ipykernel)",
   "language": "python",
   "name": "python3"
  },
  "language_info": {
   "codemirror_mode": {
    "name": "ipython",
    "version": 3
   },
   "file_extension": ".py",
   "mimetype": "text/x-python",
   "name": "python",
   "nbconvert_exporter": "python",
   "pygments_lexer": "ipython3",
   "version": "3.8.2"
  }
 },
 "nbformat": 4,
 "nbformat_minor": 5
}
