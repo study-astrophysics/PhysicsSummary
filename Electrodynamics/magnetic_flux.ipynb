{
 "cells": [
  {
   "cell_type": "markdown",
   "id": "a0ecec27",
   "metadata": {},
   "source": [
    "# [Magnetic Flux](https://study-astrophysics.com/magnetic-flux/)"
   ]
  },
  {
   "cell_type": "markdown",
   "id": "114df0fe",
   "metadata": {},
   "source": [
    "---"
   ]
  },
  {
   "cell_type": "markdown",
   "id": "d46cd4a8",
   "metadata": {},
   "source": [
    "## Magnetic Flux through a Surface\n",
    "\n",
    "\n",
    "$$ \\large \\Phi_B \\ = \\ \\int_S \\vec{B} \\cdot \\vec{A} $$"
   ]
  },
  {
   "cell_type": "markdown",
   "id": "32b21216",
   "metadata": {},
   "source": [
    "---"
   ]
  },
  {
   "cell_type": "markdown",
   "id": "b9b608c3",
   "metadata": {},
   "source": [
    "### For a Uniform Magnetic Field $\\vec{B}$ and a planar $\\vec{A}$\n",
    "\n",
    "\n",
    "$$ \\large \\Phi_B \\ = \\ BA \\cos\\theta $$"
   ]
  },
  {
   "cell_type": "markdown",
   "id": "fd7fa40d",
   "metadata": {},
   "source": [
    "---"
   ]
  },
  {
   "cell_type": "markdown",
   "id": "6ce68640",
   "metadata": {},
   "source": [
    "## For a Closed Surface, Gauss's Law for Magnetism\n",
    "\n",
    "\n",
    "$$ \\large \\Phi_B \\ = \\ \\int_S \\vec{B} \\cdot \\vec{A} \\ = \\ 0 $$\n",
    "\n",
    "\n",
    "There are no magnetic monopoles in nature."
   ]
  }
 ],
 "metadata": {
  "kernelspec": {
   "display_name": "Python 3 (ipykernel)",
   "language": "python",
   "name": "python3"
  },
  "language_info": {
   "codemirror_mode": {
    "name": "ipython",
    "version": 3
   },
   "file_extension": ".py",
   "mimetype": "text/x-python",
   "name": "python",
   "nbconvert_exporter": "python",
   "pygments_lexer": "ipython3",
   "version": "3.8.2"
  }
 },
 "nbformat": 4,
 "nbformat_minor": 5
}
