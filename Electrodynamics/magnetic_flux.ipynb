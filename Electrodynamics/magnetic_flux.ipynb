{
 "cells": [
  {
   "cell_type": "markdown",
   "id": "9ff188a1",
   "metadata": {},
   "source": [
    "# Magnetic Flux"
   ]
  },
  {
   "cell_type": "markdown",
   "id": "46888b26",
   "metadata": {},
   "source": [
    "---"
   ]
  },
  {
   "cell_type": "markdown",
   "id": "d21813fe",
   "metadata": {},
   "source": [
    "## Magnetic Flux through a Surface\n",
    "\n",
    "\n",
    "$$ \\large \\Phi_B \\ = \\ \\int_S \\vec{B} \\cdot \\vec{A} $$"
   ]
  },
  {
   "cell_type": "markdown",
   "id": "20fcfa29",
   "metadata": {},
   "source": [
    "---"
   ]
  },
  {
   "cell_type": "markdown",
   "id": "8b431fbd",
   "metadata": {},
   "source": [
    "### For a Uniform Magnetic Field $\\vec{B}$ and a planar $\\vec{A}$\n",
    "\n",
    "\n",
    "$$ \\large \\Phi_B \\ = \\ BA \\cos\\theta $$"
   ]
  },
  {
   "cell_type": "markdown",
   "id": "9d23024b",
   "metadata": {},
   "source": [
    "---"
   ]
  },
  {
   "cell_type": "markdown",
   "id": "e803de14",
   "metadata": {},
   "source": [
    "## For a Closed Surface, Gauss's Law for Magnetism\n",
    "\n",
    "\n",
    "$$ \\large \\Phi_B \\ = \\ \\int_S \\vec{B} \\cdot \\vec{A} \\ = \\ 0 $$\n",
    "\n",
    "\n",
    "There are no magnetic monopoles in nature."
   ]
  }
 ],
 "metadata": {
  "kernelspec": {
   "display_name": "Python 3 (ipykernel)",
   "language": "python",
   "name": "python3"
  },
  "language_info": {
   "codemirror_mode": {
    "name": "ipython",
    "version": 3
   },
   "file_extension": ".py",
   "mimetype": "text/x-python",
   "name": "python",
   "nbconvert_exporter": "python",
   "pygments_lexer": "ipython3",
   "version": "3.8.2"
  }
 },
 "nbformat": 4,
 "nbformat_minor": 5
}
