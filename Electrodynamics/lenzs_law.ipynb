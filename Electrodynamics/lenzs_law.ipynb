{
 "cells": [
  {
   "cell_type": "markdown",
   "id": "682ba0f9",
   "metadata": {},
   "source": [
    "# Lenz's Law"
   ]
  },
  {
   "cell_type": "markdown",
   "id": "32ff9dab",
   "metadata": {},
   "source": [
    "---"
   ]
  },
  {
   "cell_type": "markdown",
   "id": "db718563",
   "metadata": {},
   "source": [
    "## Lenz's Law\n",
    "\n",
    "\n",
    "> The current induced in a circuit due to a change in a magnetic field is directed to oppose the change in flux and to exert a mechanical force which opposes the motion.\n",
    "\n",
    "\n",
    "$$ \\large  {\\mathcal {E}} \\ = \\ - \\frac{  d \\Phi _{\\mathbf {B}}}{ d t} $$"
   ]
  }
 ],
 "metadata": {
  "kernelspec": {
   "display_name": "Python 3 (ipykernel)",
   "language": "python",
   "name": "python3"
  },
  "language_info": {
   "codemirror_mode": {
    "name": "ipython",
    "version": 3
   },
   "file_extension": ".py",
   "mimetype": "text/x-python",
   "name": "python",
   "nbconvert_exporter": "python",
   "pygments_lexer": "ipython3",
   "version": "3.9.7"
  }
 },
 "nbformat": 4,
 "nbformat_minor": 5
}
