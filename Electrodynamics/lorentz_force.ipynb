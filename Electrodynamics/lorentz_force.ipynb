{
 "cells": [
  {
   "cell_type": "markdown",
   "id": "5fa4fc4f",
   "metadata": {},
   "source": [
    "# Lorentz Force"
   ]
  },
  {
   "cell_type": "markdown",
   "id": "8a3ae73c",
   "metadata": {},
   "source": [
    "---"
   ]
  },
  {
   "cell_type": "markdown",
   "id": "ca7b640c",
   "metadata": {},
   "source": [
    "## Lorentz Force Law\n",
    "\n",
    "\n",
    "$$ \\large \\vec{F} \\ = \\ q \\vec{E} + q \\vec{v} \\times \\vec{B} $$\n",
    "\n",
    "\n",
    "### Unit Analysis"
   ]
  }
 ],
 "metadata": {
  "kernelspec": {
   "display_name": "Python 3 (ipykernel)",
   "language": "python",
   "name": "python3"
  },
  "language_info": {
   "codemirror_mode": {
    "name": "ipython",
    "version": 3
   },
   "file_extension": ".py",
   "mimetype": "text/x-python",
   "name": "python",
   "nbconvert_exporter": "python",
   "pygments_lexer": "ipython3",
   "version": "3.8.2"
  }
 },
 "nbformat": 4,
 "nbformat_minor": 5
}
