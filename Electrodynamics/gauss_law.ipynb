{
 "cells": [
  {
   "cell_type": "markdown",
   "id": "0f198b15",
   "metadata": {},
   "source": [
    "# [Gauss's Law](https://study-astrophysics.com/gausss-law/)"
   ]
  },
  {
   "cell_type": "markdown",
   "id": "7e578389",
   "metadata": {},
   "source": [
    "$$ \\large \\Phi_E = \\oint_S \\vec{E} \\cdot d \\vec{a} = \\frac{Q_\\text{enc}}{\\epsilon_0} $$\n",
    "\n",
    "where\n",
    "\n",
    "$ \\Phi_E$: electric flux through a closed surface $S$ enclosing any volume $V$\n",
    "\n",
    "$Q_\\text{enc}$: total charge enclosed within $V$\n",
    "\n",
    "$\\epsilon_0$: electric constant\n",
    "\n",
    "\n",
    "### Related Problems\n",
    "- GRE Physics GR1777 Problem [037](https://study-astrophysics.com/gr1777-037/)\n",
    "- GRE Physics GR0877 Problems 017, 062\n",
    "- GRE Physics GR0177 Problem 060"
   ]
  }
 ],
 "metadata": {
  "kernelspec": {
   "display_name": "Python 3 (ipykernel)",
   "language": "python",
   "name": "python3"
  },
  "language_info": {
   "codemirror_mode": {
    "name": "ipython",
    "version": 3
   },
   "file_extension": ".py",
   "mimetype": "text/x-python",
   "name": "python",
   "nbconvert_exporter": "python",
   "pygments_lexer": "ipython3",
   "version": "3.8.2"
  }
 },
 "nbformat": 4,
 "nbformat_minor": 5
}
