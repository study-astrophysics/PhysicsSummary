{
 "cells": [
  {
   "cell_type": "markdown",
   "id": "8e997f7e",
   "metadata": {},
   "source": [
    "# Electromagnetic Waves"
   ]
  },
  {
   "cell_type": "markdown",
   "id": "5469e02b",
   "metadata": {},
   "source": [
    "## Reflection\n",
    "\n",
    "- No phase change in the magnetic field\n",
    "- 180° phase change in the electric field\n",
    "\n",
    "Vice versa is true when reflection occurs at lower refractive index interface.\n",
    "\n",
    "\n",
    "### Related Problems\n",
    "- GRE Physics GR0177: Problem 066"
   ]
  },
  {
   "cell_type": "markdown",
   "id": "21b6b1af",
   "metadata": {},
   "source": [
    "## Magnitude\n",
    "\n",
    "$$ \\large |\\vec{B}| = \\frac{|\\vec{E}|}{c} $$\n",
    "\n",
    "\n",
    "### Related Problems\n",
    "- GRE Physics GR0177: Problem 095\n",
    "\n"
   ]
  }
 ],
 "metadata": {
  "kernelspec": {
   "display_name": "Python 3 (ipykernel)",
   "language": "python",
   "name": "python3"
  },
  "language_info": {
   "codemirror_mode": {
    "name": "ipython",
    "version": 3
   },
   "file_extension": ".py",
   "mimetype": "text/x-python",
   "name": "python",
   "nbconvert_exporter": "python",
   "pygments_lexer": "ipython3",
   "version": "3.8.2"
  }
 },
 "nbformat": 4,
 "nbformat_minor": 5
}
