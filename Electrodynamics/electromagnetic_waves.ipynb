{
 "cells": [
  {
   "cell_type": "markdown",
   "id": "8e997f7e",
   "metadata": {},
   "source": [
    "# [Electromagnetic Waves](https://study-astrophysics.com/electromagnetic-waves/)"
   ]
  },
  {
   "cell_type": "markdown",
   "id": "ad3670d1",
   "metadata": {},
   "source": [
    "---"
   ]
  },
  {
   "cell_type": "markdown",
   "id": "3dc52868",
   "metadata": {},
   "source": [
    "## Wave Equation (in 1-Dim)\n",
    "\n",
    "\n",
    "$$ \\large \\frac{\\partial^2 E}{\\partial x^2} = \\frac{1}{c^2}\\frac{\\partial^2 E}{\\partial t^2} $$\n",
    "\n",
    "\n",
    "$$ \\large \\frac{\\partial^2 B}{\\partial x^2} = \\frac{1}{c^2}\\frac{\\partial^2 B}{\\partial t^2} $$\n",
    "\n",
    "\n",
    "Then, the solutions are\n",
    "\n",
    "\n",
    "$$ \\large E = E_\\text{max} \\cos (kx - \\omega t) $$\n",
    "\n",
    "\n",
    "$$ \\large B = B_\\text{max} \\cos (kx - \\omega t) $$"
   ]
  },
  {
   "cell_type": "markdown",
   "id": "80c5e6e8",
   "metadata": {},
   "source": [
    "---"
   ]
  },
  {
   "cell_type": "markdown",
   "id": "1b062b0c",
   "metadata": {},
   "source": [
    "## Speed of Light\n",
    "\n",
    "\n",
    "$$ \\large c = \\frac{1}{\\sqrt{\\mu_0 \\epsilon_0}} $$\n",
    "\n",
    "\n",
    "$$ \\large c = \\frac{|E|}{|B|} $$\n",
    "\n",
    "\n",
    "$$ \\large c = \\nu \\lambda = \\frac{\\omega \\lambda}{2\\pi} = \\frac{\\omega}{k} $$"
   ]
  },
  {
   "cell_type": "markdown",
   "id": "fdf7b12a",
   "metadata": {},
   "source": [
    "---"
   ]
  },
  {
   "cell_type": "markdown",
   "id": "5469e02b",
   "metadata": {},
   "source": [
    "## Reflection\n",
    "\n",
    "- No phase change in the magnetic field\n",
    "- 180° ($\\pi$) phase change in the electric field\n",
    "\n",
    "Vice versa is true when reflection occurs at lower refractive index interface.\n",
    "\n",
    "\n",
    "### Related Problems\n",
    "- GRE Physics GR0177: Problem 066"
   ]
  },
  {
   "cell_type": "markdown",
   "id": "c046b7d7",
   "metadata": {},
   "source": [
    "---"
   ]
  },
  {
   "cell_type": "markdown",
   "id": "21b6b1af",
   "metadata": {},
   "source": [
    "## Magnitude\n",
    "\n",
    "$$ \\large |\\vec{B}| = \\frac{|\\vec{E}|}{c} $$\n",
    "\n",
    "\n",
    "### Related Problems\n",
    "- GRE Physics GR0177: Problem 095\n",
    "\n"
   ]
  }
 ],
 "metadata": {
  "kernelspec": {
   "display_name": "Python 3 (ipykernel)",
   "language": "python",
   "name": "python3"
  },
  "language_info": {
   "codemirror_mode": {
    "name": "ipython",
    "version": 3
   },
   "file_extension": ".py",
   "mimetype": "text/x-python",
   "name": "python",
   "nbconvert_exporter": "python",
   "pygments_lexer": "ipython3",
   "version": "3.8.2"
  }
 },
 "nbformat": 4,
 "nbformat_minor": 5
}
