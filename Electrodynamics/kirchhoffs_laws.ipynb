{
 "cells": [
  {
   "cell_type": "markdown",
   "id": "78991b36",
   "metadata": {},
   "source": [
    "# Kirchhoff's Circuit Laws"
   ]
  },
  {
   "cell_type": "markdown",
   "id": "b9dfcfac",
   "metadata": {},
   "source": [
    "## Kirchhoff's Current Law (First Law)\n",
    "\n",
    "\n",
    "> The algebraic sum of currents in a network of conductors meeting at a point is zero.\n",
    "\n",
    "Simply speaking,\n",
    "\n",
    "> The sum of the currents going into a junction = the sum of the currents coming out of the junction.\n",
    "\n",
    "$$ \\large {\\displaystyle \\sum _{k=1}^{n}{I}_{k}=0} $$"
   ]
  },
  {
   "cell_type": "markdown",
   "id": "b7fc0575",
   "metadata": {},
   "source": [
    "---"
   ]
  },
  {
   "cell_type": "markdown",
   "id": "fce0b03f",
   "metadata": {},
   "source": [
    "## Kirchhoff's Voltage Law (Second Law)"
   ]
  },
  {
   "cell_type": "markdown",
   "id": "2501fe62",
   "metadata": {},
   "source": [
    "> The directed sum of the potential differences (voltages) around any closed loop is zero.\n",
    "\n",
    "$$ \\large {\\displaystyle \\sum _{k=1}^{n}V_{k}=0} $$"
   ]
  }
 ],
 "metadata": {
  "kernelspec": {
   "display_name": "Python 3 (ipykernel)",
   "language": "python",
   "name": "python3"
  },
  "language_info": {
   "codemirror_mode": {
    "name": "ipython",
    "version": 3
   },
   "file_extension": ".py",
   "mimetype": "text/x-python",
   "name": "python",
   "nbconvert_exporter": "python",
   "pygments_lexer": "ipython3",
   "version": "3.8.2"
  }
 },
 "nbformat": 4,
 "nbformat_minor": 5
}
