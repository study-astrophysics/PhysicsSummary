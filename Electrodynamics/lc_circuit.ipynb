{
 "cells": [
  {
   "cell_type": "markdown",
   "id": "2a775f45",
   "metadata": {},
   "source": [
    "# [LC Circuit](https://study-astrophysics.com/lc-circuit/)"
   ]
  },
  {
   "cell_type": "markdown",
   "id": "118cde33",
   "metadata": {},
   "source": [
    "---"
   ]
  },
  {
   "cell_type": "markdown",
   "id": "815970ce",
   "metadata": {},
   "source": [
    "$$ \\large L \\frac{d^2 Q}{d t^2} + \\frac{1}{C}Q = 0 $$"
   ]
  },
  {
   "cell_type": "markdown",
   "id": "c0c1395c",
   "metadata": {},
   "source": [
    "---"
   ]
  },
  {
   "cell_type": "markdown",
   "id": "c1a3c954",
   "metadata": {},
   "source": [
    "## Time Constant for an L-C Circuit\n",
    "\n",
    "\n",
    "$$ \\large \\omega_0 \\ = \\ \\frac{1}{\\sqrt{LC}} $$"
   ]
  },
  {
   "cell_type": "markdown",
   "id": "a031aca2",
   "metadata": {},
   "source": [
    "---"
   ]
  },
  {
   "cell_type": "markdown",
   "id": "271b6697",
   "metadata": {},
   "source": [
    "## Charge of an LC Circuit\n",
    "\n",
    "\n",
    "$$ \\large Q(t) \\ = \\ Q_0 \\cos (\\omega t + \\phi) $$\n",
    "\n",
    "\n",
    "where\n",
    "\n",
    "\n",
    "- $\\omega = \\frac{1}{\\sqrt{LC}}$\n",
    "\n",
    "\n",
    "- $\\phi$: phase (depends on the initial state of the circuit"
   ]
  },
  {
   "cell_type": "markdown",
   "id": "9c20f8a8",
   "metadata": {},
   "source": [
    "---"
   ]
  },
  {
   "cell_type": "markdown",
   "id": "94f6b424",
   "metadata": {},
   "source": [
    "## Current of an LC Circuit\n",
    "\n",
    "\n",
    "$$ \\large I(t) \\ = \\ \\frac{d Q}{d t} \\ = - \\omega \\ I_0 \\sin (\\omega t + \\phi) $$"
   ]
  },
  {
   "cell_type": "markdown",
   "id": "32f7668d",
   "metadata": {},
   "source": [
    "---"
   ]
  },
  {
   "cell_type": "markdown",
   "id": "e28d205a",
   "metadata": {},
   "source": [
    "## Energy Stored in an LC Circuit\n",
    "\n",
    "\n",
    "$$ \\large U = U_C + U_L = \\frac{Q^2_0}{2C} \\cos^2 (\\omega t + \\phi) + \\frac{L I^2_0}{2} \\sin^2 (\\omega t + \\phi) $$"
   ]
  },
  {
   "cell_type": "markdown",
   "id": "64c72c93",
   "metadata": {},
   "source": [
    "---"
   ]
  },
  {
   "cell_type": "markdown",
   "id": "b3e1e2e6",
   "metadata": {},
   "source": [
    "## Vs. Simple Harmonic Motion\n",
    "\n",
    "$$ \\large m\\frac{d^2 x}{d t^2} + kx = 0 $$\n",
    "\n",
    "\n",
    "$$ \\large \\begin{split} \n",
    "L & \\quad \\Leftrightarrow \\quad & m \\\\\n",
    "\\\\\n",
    "Q & \\quad \\Leftrightarrow \\quad  & Q \\\\\n",
    "\\\\\n",
    "\\frac{1}{C} & \\quad \\Leftrightarrow \\quad  & k\n",
    "\\end{split}\n",
    "$$\n",
    "\n",
    "### Related Problems\n",
    "- GRE Physics GR0177: Problem 059"
   ]
  }
 ],
 "metadata": {
  "kernelspec": {
   "display_name": "Python 3 (ipykernel)",
   "language": "python",
   "name": "python3"
  },
  "language_info": {
   "codemirror_mode": {
    "name": "ipython",
    "version": 3
   },
   "file_extension": ".py",
   "mimetype": "text/x-python",
   "name": "python",
   "nbconvert_exporter": "python",
   "pygments_lexer": "ipython3",
   "version": "3.9.7"
  }
 },
 "nbformat": 4,
 "nbformat_minor": 5
}
