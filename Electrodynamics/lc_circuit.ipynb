{
 "cells": [
  {
   "cell_type": "markdown",
   "id": "2a775f45",
   "metadata": {},
   "source": [
    "# LC Circuit"
   ]
  },
  {
   "cell_type": "markdown",
   "id": "815970ce",
   "metadata": {},
   "source": [
    "$$ \\large L \\frac{d^2 Q}{d t^2} + \\frac{1}{C}Q = 0 $$"
   ]
  },
  {
   "cell_type": "markdown",
   "id": "b3e1e2e6",
   "metadata": {},
   "source": [
    "## Vs. Simple Harmonic Mostion\n",
    "\n",
    "$$ \\large m\\frac{d^2 x}{d t^2} + kx = 0 $$\n",
    "\n",
    "\n",
    "$$ \\large \\begin{split} \n",
    "L & \\quad \\Leftrightarrow \\quad & m \\\\\n",
    "\\\\\n",
    "Q & \\quad \\Leftrightarrow \\quad  & Q \\\\\n",
    "\\\\\n",
    "\\frac{1}{C} & \\quad \\Leftrightarrow \\quad  & k\n",
    "\\end{split}\n",
    "$$\n",
    "\n",
    "### Related Problems\n",
    "- GRE Physics GR0177: Problem 059"
   ]
  }
 ],
 "metadata": {
  "kernelspec": {
   "display_name": "Python 3 (ipykernel)",
   "language": "python",
   "name": "python3"
  },
  "language_info": {
   "codemirror_mode": {
    "name": "ipython",
    "version": 3
   },
   "file_extension": ".py",
   "mimetype": "text/x-python",
   "name": "python",
   "nbconvert_exporter": "python",
   "pygments_lexer": "ipython3",
   "version": "3.8.2"
  }
 },
 "nbformat": 4,
 "nbformat_minor": 5
}
