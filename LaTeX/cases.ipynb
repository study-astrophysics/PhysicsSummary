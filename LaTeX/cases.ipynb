{
 "cells": [
  {
   "cell_type": "markdown",
   "id": "62d6358f",
   "metadata": {},
   "source": [
    "$$ \\large M^2 = \\begin{cases}\n",
    "1 &\\text{se $\\omega\\in A$}\\\\\n",
    "1250 &\\text{se $\\omega \\in A^c$}\n",
    "\\end{cases} $$"
   ]
  },
  {
   "cell_type": "markdown",
   "id": "13c89b3d",
   "metadata": {},
   "source": [
    "$$ \\large \\begin{cases}\n",
    "M^2 > 1 & \\text{advection is dominant}\\\\\n",
    "M^2 < 1 & \\text{pressure is dominant}\n",
    "\\end{cases} $$"
   ]
  },
  {
   "cell_type": "code",
   "execution_count": null,
   "id": "c789789f",
   "metadata": {},
   "outputs": [],
   "source": []
  }
 ],
 "metadata": {
  "kernelspec": {
   "display_name": "Python 3 (ipykernel)",
   "language": "python",
   "name": "python3"
  },
  "language_info": {
   "codemirror_mode": {
    "name": "ipython",
    "version": 3
   },
   "file_extension": ".py",
   "mimetype": "text/x-python",
   "name": "python",
   "nbconvert_exporter": "python",
   "pygments_lexer": "ipython3",
   "version": "3.9.7"
  }
 },
 "nbformat": 4,
 "nbformat_minor": 5
}
