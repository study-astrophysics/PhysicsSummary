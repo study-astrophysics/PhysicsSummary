{
 "cells": [
  {
   "cell_type": "markdown",
   "id": "7d93e22a",
   "metadata": {},
   "source": [
    "# Underbrace in the equation"
   ]
  },
  {
   "cell_type": "markdown",
   "id": "d770909f",
   "metadata": {},
   "source": [
    "## Situation"
   ]
  },
  {
   "cell_type": "markdown",
   "id": "14c9dfa2",
   "metadata": {},
   "source": [
    "- I want to put extra information (text) in the equation"
   ]
  },
  {
   "cell_type": "markdown",
   "id": "1941c8f0",
   "metadata": {},
   "source": [
    "## Syntax"
   ]
  },
  {
   "cell_type": "markdown",
   "id": "7b0cb328",
   "metadata": {},
   "source": [
    "``` \\underbrace{<EQUATION>}_{<EXPLANATION>} ```"
   ]
  },
  {
   "cell_type": "markdown",
   "id": "1083acf4",
   "metadata": {},
   "source": [
    "## Example 1. Euler equation"
   ]
  },
  {
   "cell_type": "markdown",
   "id": "4d37b929",
   "metadata": {},
   "source": [
    "### Code"
   ]
  },
  {
   "cell_type": "markdown",
   "id": "b4dd244f",
   "metadata": {},
   "source": [
    "``` \\begin{equation} \n",
    " \\underbrace{v \\frac{\\partial v}{\\partial r}}_{\\text{advection}} + \\underbrace{\\frac{1}{\\rho} \\frac{\\partial P}{\\partial r}}_{\\text{pressure}} + \\underbrace{\\frac{GM}{r^2}}_{\\text{gravity}} = 0 \n",
    "\\end{equation}```"
   ]
  },
  {
   "cell_type": "markdown",
   "id": "042ff721",
   "metadata": {},
   "source": [
    "### Output"
   ]
  },
  {
   "cell_type": "markdown",
   "id": "47c931e8",
   "metadata": {},
   "source": [
    "$$ \\large \\underbrace{v \\frac{\\partial v}{\\partial r}}_{\\text{advection}} + \\underbrace{\\frac{1}{\\rho} \\frac{\\partial P}{\\partial r}}_{\\text{pressure}} + \\underbrace{\\frac{GM}{r^2}}_{\\text{gravity}} = 0 $$"
   ]
  }
 ],
 "metadata": {
  "kernelspec": {
   "display_name": "Python 3 (ipykernel)",
   "language": "python",
   "name": "python3"
  },
  "language_info": {
   "codemirror_mode": {
    "name": "ipython",
    "version": 3
   },
   "file_extension": ".py",
   "mimetype": "text/x-python",
   "name": "python",
   "nbconvert_exporter": "python",
   "pygments_lexer": "ipython3",
   "version": "3.9.7"
  }
 },
 "nbformat": 4,
 "nbformat_minor": 5
}
