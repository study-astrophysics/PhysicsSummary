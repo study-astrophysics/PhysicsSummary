{
 "cells": [
  {
   "cell_type": "markdown",
   "id": "982f9e88",
   "metadata": {},
   "source": [
    "# Boxed Equation"
   ]
  },
  {
   "cell_type": "markdown",
   "id": "458a4f92",
   "metadata": {},
   "source": [
    "## Situation"
   ]
  },
  {
   "cell_type": "markdown",
   "id": "b8c20667",
   "metadata": {},
   "source": [
    "- I want to emphasize an important result or equation."
   ]
  },
  {
   "cell_type": "markdown",
   "id": "5172a6e0",
   "metadata": {},
   "source": [
    "## Syntax"
   ]
  },
  {
   "cell_type": "markdown",
   "id": "42b37a8c",
   "metadata": {},
   "source": [
    "```\\boxed{<EQUATION>}```"
   ]
  },
  {
   "cell_type": "markdown",
   "id": "3cd5d631",
   "metadata": {},
   "source": [
    "## Example 1. Bondi accretion"
   ]
  },
  {
   "cell_type": "markdown",
   "id": "1ec0bf1f",
   "metadata": {},
   "source": [
    "### Code"
   ]
  },
  {
   "cell_type": "markdown",
   "id": "62761130",
   "metadata": {},
   "source": [
    "``` \\begin{equation}\n",
    "\\boxed{ \\frac{1}{2} \\frac{\\partial v^2}{\\partial r} \\left( 1- \\frac{c^2_s}{v^2} \\right) = - \\frac{GM}{r^2} \\left[ 1 - \\frac{2c^2_s r}{GM} \\right] } \n",
    "\\end{equation}```"
   ]
  },
  {
   "cell_type": "markdown",
   "id": "ee76274b",
   "metadata": {},
   "source": [
    "### Output"
   ]
  },
  {
   "cell_type": "markdown",
   "id": "a0143a58",
   "metadata": {},
   "source": [
    "\n",
    "$$ \\large \\boxed{ \\frac{1}{2} \\frac{\\partial v^2}{\\partial r} \\left( 1- \\frac{c^2_s}{v^2} \\right) = - \\frac{GM}{r^2} \\left[ 1 - \\frac{2c^2_s r}{GM} \\right] }$$"
   ]
  }
 ],
 "metadata": {
  "kernelspec": {
   "display_name": "Python 3 (ipykernel)",
   "language": "python",
   "name": "python3"
  },
  "language_info": {
   "codemirror_mode": {
    "name": "ipython",
    "version": 3
   },
   "file_extension": ".py",
   "mimetype": "text/x-python",
   "name": "python",
   "nbconvert_exporter": "python",
   "pygments_lexer": "ipython3",
   "version": "3.8.2"
  }
 },
 "nbformat": 4,
 "nbformat_minor": 5
}
