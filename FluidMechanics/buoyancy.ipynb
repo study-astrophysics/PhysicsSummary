{
 "cells": [
  {
   "cell_type": "markdown",
   "id": "6434f1fa",
   "metadata": {},
   "source": [
    "# [Buoyancy](https://study-astrophysics.com/buoyancy/)"
   ]
  },
  {
   "cell_type": "markdown",
   "id": "4e08172a",
   "metadata": {},
   "source": [
    "---"
   ]
  },
  {
   "cell_type": "markdown",
   "id": "c0289655",
   "metadata": {},
   "source": [
    "## Buoyancy\n",
    "\n",
    "\n",
    "**Buoyancy force = weight of object in empty space − weight of object immersed in fluid**\n",
    "\n",
    "$$\\large \\vec{F_b} \\ = \\ - \\rho g V $$\n",
    "\n",
    "\n",
    "where \n",
    "\n",
    "\n",
    "- $\\vec{F_b}$: buoyant force\n",
    "\n",
    "\n",
    "- $\\rho$: mass density of the fluid\n",
    "\n",
    "\n",
    "- $g$: gravitational acceleration\n",
    "\n",
    "\n",
    "- $V$: volume of the body.\n",
    "\n",
    "\n",
    "### Related Problems\n",
    "- GRE Physics GR1777 Problem [047](https://study-astrophysics.com/gr1777-047/)\n",
    "- GRE Physics GR0877 Problem 031\n",
    "- GRE Physics GR0177 Problem 056"
   ]
  }
 ],
 "metadata": {
  "kernelspec": {
   "display_name": "Python 3 (ipykernel)",
   "language": "python",
   "name": "python3"
  },
  "language_info": {
   "codemirror_mode": {
    "name": "ipython",
    "version": 3
   },
   "file_extension": ".py",
   "mimetype": "text/x-python",
   "name": "python",
   "nbconvert_exporter": "python",
   "pygments_lexer": "ipython3",
   "version": "3.8.13"
  }
 },
 "nbformat": 4,
 "nbformat_minor": 5
}
