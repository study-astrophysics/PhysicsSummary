{
 "cells": [
  {
   "cell_type": "markdown",
   "id": "7f0e65ca",
   "metadata": {},
   "source": [
    "# [Bernoulli's Principle](https://study-astrophysics.com/bernoullis-principle/)"
   ]
  },
  {
   "cell_type": "markdown",
   "id": "4dd28246",
   "metadata": {},
   "source": [
    "---"
   ]
  },
  {
   "cell_type": "markdown",
   "id": "4fa3b658",
   "metadata": {},
   "source": [
    "## Bernoulli's Principle\n",
    "\n",
    "\n",
    "$$ \\large P_1 + \\frac{1}{2}\\rho v_1^2 + \\rho g h \\ = \\ P_2 + \\frac{1}{2}\\rho v_2^2 + \\rho g h $$"
   ]
  }
 ],
 "metadata": {
  "kernelspec": {
   "display_name": "Python 3 (ipykernel)",
   "language": "python",
   "name": "python3"
  },
  "language_info": {
   "codemirror_mode": {
    "name": "ipython",
    "version": 3
   },
   "file_extension": ".py",
   "mimetype": "text/x-python",
   "name": "python",
   "nbconvert_exporter": "python",
   "pygments_lexer": "ipython3",
   "version": "3.9.7"
  }
 },
 "nbformat": 4,
 "nbformat_minor": 5
}
