{
 "cells": [
  {
   "cell_type": "markdown",
   "id": "4fa3b658",
   "metadata": {},
   "source": [
    "## Bernoulli's Principle\n",
    "\n",
    "$$ \\large P_1 + \\frac{1}{2}\\rho v_1^2 + \\rho g h = P_2 + \\frac{1}{2}\\rho v_2^2 + \\rho g h $$"
   ]
  }
 ],
 "metadata": {
  "kernelspec": {
   "display_name": "Python 3 (ipykernel)",
   "language": "python",
   "name": "python3"
  },
  "language_info": {
   "codemirror_mode": {
    "name": "ipython",
    "version": 3
   },
   "file_extension": ".py",
   "mimetype": "text/x-python",
   "name": "python",
   "nbconvert_exporter": "python",
   "pygments_lexer": "ipython3",
   "version": "3.8.2"
  }
 },
 "nbformat": 4,
 "nbformat_minor": 5
}
