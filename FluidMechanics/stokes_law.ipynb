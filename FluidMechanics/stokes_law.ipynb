{
 "cells": [
  {
   "cell_type": "markdown",
   "id": "1cbc4624",
   "metadata": {},
   "source": [
    "# Stoke's Law"
   ]
  },
  {
   "cell_type": "markdown",
   "id": "d3d153da",
   "metadata": {},
   "source": [
    "---"
   ]
  },
  {
   "cell_type": "markdown",
   "id": "685b4e4b",
   "metadata": {},
   "source": [
    "## Stoke's Law\n",
    "\n",
    "\n",
    "The force of viscosity on a small sphere moving through a vicous fluid is\n",
    "\n",
    "\n",
    "$$ \\large F_d \\ = \\ 6 \\pi \\mu R v $$\n",
    "\n",
    "\n",
    "where\n",
    "\n",
    "\n",
    "- $F_d$: frictional force (Stoke's drag) acting on the interface between the fluid and the particle\n",
    "\n",
    "\n",
    "- $\\mu$: dynamic viscosity\n",
    "\n",
    "\n",
    "- $R$: radius of the spherical object\n",
    "\n",
    "\n",
    "- $v$: flow velocity relative to the object"
   ]
  }
 ],
 "metadata": {
  "kernelspec": {
   "display_name": "Python 3 (ipykernel)",
   "language": "python",
   "name": "python3"
  },
  "language_info": {
   "codemirror_mode": {
    "name": "ipython",
    "version": 3
   },
   "file_extension": ".py",
   "mimetype": "text/x-python",
   "name": "python",
   "nbconvert_exporter": "python",
   "pygments_lexer": "ipython3",
   "version": "3.9.7"
  }
 },
 "nbformat": 4,
 "nbformat_minor": 5
}
