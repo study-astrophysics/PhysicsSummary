{
 "cells": [
  {
   "cell_type": "markdown",
   "id": "398d790b",
   "metadata": {},
   "source": [
    "# [Fick's Laws of Diffusion](https://study-astrophysics.com/ficks-laws-of-diffusion/)"
   ]
  },
  {
   "cell_type": "markdown",
   "id": "6f302b25",
   "metadata": {},
   "source": [
    "---"
   ]
  },
  {
   "cell_type": "markdown",
   "id": "4cfd5fae",
   "metadata": {},
   "source": [
    "## First Law\n",
    "\n",
    "$$ \\large \\begin{split} \n",
    "J & \\ = - D \\frac{d\\varphi}{dx} \\\\\n",
    "& \\\\\n",
    " & \\ = -D \\Delta \\varphi\n",
    "\\end{split} $$\n",
    "\n",
    "\n",
    "where\n",
    "\n",
    "\n",
    "- $J$: diffusion flux\n",
    "\n",
    "\n",
    "- $D$: diffusion coefficient\n",
    "\n",
    "\n",
    "- $\\varphi$: concentration"
   ]
  },
  {
   "cell_type": "markdown",
   "id": "f0bdeb44",
   "metadata": {},
   "source": [
    "---"
   ]
  },
  {
   "cell_type": "markdown",
   "id": "87ca51de",
   "metadata": {},
   "source": [
    "## Second Law\n",
    "\n",
    "$$ \\large \\begin{split}\n",
    "\\frac{\\partial \\varphi}{\\partial t} & \\ = D \\frac{\\partial^2 \\varphi}{\\partial x^2} \\\\\n",
    "& \\\\\n",
    "& \\ = D \\nabla \\varphi\n",
    "\\end{split} $$"
   ]
  }
 ],
 "metadata": {
  "kernelspec": {
   "display_name": "Python 3 (ipykernel)",
   "language": "python",
   "name": "python3"
  },
  "language_info": {
   "codemirror_mode": {
    "name": "ipython",
    "version": 3
   },
   "file_extension": ".py",
   "mimetype": "text/x-python",
   "name": "python",
   "nbconvert_exporter": "python",
   "pygments_lexer": "ipython3",
   "version": "3.9.7"
  }
 },
 "nbformat": 4,
 "nbformat_minor": 5
}
