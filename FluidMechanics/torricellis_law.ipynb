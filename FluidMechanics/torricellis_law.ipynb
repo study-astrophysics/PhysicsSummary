{
 "cells": [
  {
   "cell_type": "markdown",
   "id": "6035b49a",
   "metadata": {},
   "source": [
    "# Torricelli's Law"
   ]
  },
  {
   "cell_type": "markdown",
   "id": "5fddf9ed",
   "metadata": {},
   "source": [
    "---"
   ]
  },
  {
   "cell_type": "markdown",
   "id": "a9167dc8",
   "metadata": {},
   "source": [
    "## Torricelli's Law (Torricelli's Theorem)\n",
    "\n",
    "\n",
    "Torricelli's law is a theorem in fluid dynamics relating the speed of fluid flowing from an orifice to the height of fluid above the opening.\n",
    "\n",
    "\n",
    "The speed $v$ of efflux of a fluid through a sharp-edged hole at the bottom of the tank filled to a depth $h$ is the same as the speed that a body (in this case a drop of water) would acquire in falling freely from a height $h$. \n",
    "\n",
    "$$ \\large v \\ = \\ \\sqrt{2gh} $$ \n",
    "\n",
    "\n",
    "where \n",
    "\n",
    "\n",
    "- $g$ acceleration due to gravity\n",
    "\n",
    "\n",
    "\n",
    "This is a special case of Bernoulli's principle."
   ]
  },
  {
   "cell_type": "markdown",
   "id": "2093c112",
   "metadata": {},
   "source": [
    "---"
   ]
  },
  {
   "cell_type": "markdown",
   "id": "b354b019",
   "metadata": {},
   "source": [
    "## Related Topics\n",
    "\n",
    "\n",
    "### [Bernoulli's Principle](https://study-astrophysics.com/bernoullis-principle/)"
   ]
  }
 ],
 "metadata": {
  "kernelspec": {
   "display_name": "Python 3 (ipykernel)",
   "language": "python",
   "name": "python3"
  },
  "language_info": {
   "codemirror_mode": {
    "name": "ipython",
    "version": 3
   },
   "file_extension": ".py",
   "mimetype": "text/x-python",
   "name": "python",
   "nbconvert_exporter": "python",
   "pygments_lexer": "ipython3",
   "version": "3.9.7"
  }
 },
 "nbformat": 4,
 "nbformat_minor": 5
}
