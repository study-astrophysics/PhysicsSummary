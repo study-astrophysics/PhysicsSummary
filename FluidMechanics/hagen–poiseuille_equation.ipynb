{
 "cells": [
  {
   "cell_type": "markdown",
   "id": "f82fac88",
   "metadata": {},
   "source": [
    "# Hagen–Poiseuille equation"
   ]
  },
  {
   "cell_type": "markdown",
   "id": "d6df53d0",
   "metadata": {},
   "source": [
    "---"
   ]
  },
  {
   "cell_type": "markdown",
   "id": "6ecef26d",
   "metadata": {},
   "source": [
    "## Hagen–Poiseuille equation (Poissuille law)\n",
    "\n",
    "\n",
    "The Hagen–Poiseuille equation (also known as the Hagen–Poiseuille law, Poiseuille law or Poiseuille equation) gives the pressure drop in an incompressible and Newtonian fluid in laminar flow flowing through a long cylindrical pipe of constant cross section.\n",
    "\n",
    "\n",
    "The pressure difference between the two ends is\n",
    "\n",
    "\n",
    "$$ \\large \\Delta p \\ = \\ \\frac{8\\mu LQ}{\\pi R^4} \\ = \\ \\frac{8\\pi \\mu LQ}{A^2} $$\n",
    "\n",
    "\n",
    "where\n",
    "\n",
    "\n",
    "- $L$: length of pipe\n",
    "\n",
    "\n",
    "- $\\mu$: dynamic viscosity\n",
    "\n",
    "\n",
    "- $Q$: volumetric flow rate\n",
    "\n",
    "\n",
    "- $R$: pipe radius\n",
    "\n",
    "\n",
    "- $A$: cross section of pipe"
   ]
  }
 ],
 "metadata": {
  "kernelspec": {
   "display_name": "Python 3 (ipykernel)",
   "language": "python",
   "name": "python3"
  },
  "language_info": {
   "codemirror_mode": {
    "name": "ipython",
    "version": 3
   },
   "file_extension": ".py",
   "mimetype": "text/x-python",
   "name": "python",
   "nbconvert_exporter": "python",
   "pygments_lexer": "ipython3",
   "version": "3.9.7"
  }
 },
 "nbformat": 4,
 "nbformat_minor": 5
}
