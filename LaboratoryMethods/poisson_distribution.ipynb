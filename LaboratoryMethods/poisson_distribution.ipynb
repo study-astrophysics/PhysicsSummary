{
 "cells": [
  {
   "cell_type": "markdown",
   "id": "abe23498",
   "metadata": {},
   "source": [
    "# [Poisson Distribution](https://study-astrophysics.com/poisson-distribution/)"
   ]
  },
  {
   "cell_type": "markdown",
   "id": "7358e863",
   "metadata": {},
   "source": [
    "---"
   ]
  },
  {
   "cell_type": "markdown",
   "id": "b2951a4c",
   "metadata": {},
   "source": [
    "## Standard Deviation\n",
    "\n",
    "\n",
    "$$ \\large \\sigma \\ = \\ \\sqrt{\\bar{x}} $$"
   ]
  }
 ],
 "metadata": {
  "kernelspec": {
   "display_name": "Python 3 (ipykernel)",
   "language": "python",
   "name": "python3"
  },
  "language_info": {
   "codemirror_mode": {
    "name": "ipython",
    "version": 3
   },
   "file_extension": ".py",
   "mimetype": "text/x-python",
   "name": "python",
   "nbconvert_exporter": "python",
   "pygments_lexer": "ipython3",
   "version": "3.9.7"
  }
 },
 "nbformat": 4,
 "nbformat_minor": 5
}
