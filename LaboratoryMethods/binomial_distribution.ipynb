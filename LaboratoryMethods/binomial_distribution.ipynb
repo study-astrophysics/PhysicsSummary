{
 "cells": [
  {
   "cell_type": "markdown",
   "id": "393bf9f5",
   "metadata": {},
   "source": [
    "# [Binomial Distribution](https://study-astrophysics.com/binomial-distribution/)"
   ]
  },
  {
   "cell_type": "markdown",
   "id": "d8a8ce3d",
   "metadata": {},
   "source": [
    "## Expected Value (Mean number)\n",
    "\n",
    "$$ \\large m = np $$\n",
    "\n",
    "where\n",
    "\n",
    "$m$: mean number\n",
    "\n",
    "$n$: total number of experiments\n",
    "\n",
    "$p$: probability of each experiment yielding a successful result."
   ]
  },
  {
   "cell_type": "markdown",
   "id": "fcfe3c65",
   "metadata": {},
   "source": [
    "## Standard Deviation\n",
    "\n",
    "$$ \\large \\sigma = [np(1-p)]^{1/2} $$\n",
    "\n",
    "where\n",
    "\n",
    "$\\sigma$: standard deviation\n",
    "\n",
    "$n$: total number of experiments\n",
    "\n",
    "$p$: probability of each experiment yielding a successful result."
   ]
  },
  {
   "cell_type": "markdown",
   "id": "14844edb",
   "metadata": {},
   "source": [
    "### Related Problems\n",
    "- GRE Physics GR1777 Problem [041](https://study-astrophysics.com/gr1777-041/)"
   ]
  }
 ],
 "metadata": {
  "kernelspec": {
   "display_name": "Python 3 (ipykernel)",
   "language": "python",
   "name": "python3"
  },
  "language_info": {
   "codemirror_mode": {
    "name": "ipython",
    "version": 3
   },
   "file_extension": ".py",
   "mimetype": "text/x-python",
   "name": "python",
   "nbconvert_exporter": "python",
   "pygments_lexer": "ipython3",
   "version": "3.8.2"
  }
 },
 "nbformat": 4,
 "nbformat_minor": 5
}
