{
 "cells": [
  {
   "cell_type": "markdown",
   "id": "e2558ff3",
   "metadata": {},
   "source": [
    "# [Erorr Analysis](https://study-astrophysics.com/erorr-analysis/)"
   ]
  },
  {
   "cell_type": "markdown",
   "id": "26dbed67",
   "metadata": {},
   "source": [
    "---"
   ]
  },
  {
   "cell_type": "markdown",
   "id": "43847fce",
   "metadata": {},
   "source": [
    "## Estimation\n",
    "\n",
    "\n",
    "If you are sure the value is closer to 11 than to 10 or 12, then record best estimate $11 \\pm 0.5$"
   ]
  },
  {
   "cell_type": "markdown",
   "id": "a33217ff",
   "metadata": {},
   "source": [
    "---"
   ]
  },
  {
   "cell_type": "markdown",
   "id": "896d27a1",
   "metadata": {},
   "source": [
    "## Propagation of Uncertainties\n",
    "\n",
    "\n",
    "### For sum of random and independent variables\n",
    "\n",
    "\n",
    "$$ \\large \\delta x \\ = \\ \\sqrt{ \\sum_i (\\delta x_i)^2 } $$\n",
    "\n",
    "\n",
    "\n",
    "### If multiplications or divisions are involved,\n",
    "\n",
    "\n",
    "$$ \\large \\frac{\\delta q}{|q|} \\ = \\ \\sqrt{ \\sum_i \\left( \\frac{\\delta x_i}{x_i} \\right)^2 } $$"
   ]
  }
 ],
 "metadata": {
  "kernelspec": {
   "display_name": "Python 3 (ipykernel)",
   "language": "python",
   "name": "python3"
  },
  "language_info": {
   "codemirror_mode": {
    "name": "ipython",
    "version": 3
   },
   "file_extension": ".py",
   "mimetype": "text/x-python",
   "name": "python",
   "nbconvert_exporter": "python",
   "pygments_lexer": "ipython3",
   "version": "3.9.7"
  }
 },
 "nbformat": 4,
 "nbformat_minor": 5
}
