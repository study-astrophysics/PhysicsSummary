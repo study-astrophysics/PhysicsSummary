{
 "cells": [
  {
   "cell_type": "markdown",
   "id": "f893e632",
   "metadata": {},
   "source": [
    "# Erorr Analysis"
   ]
  },
  {
   "cell_type": "markdown",
   "id": "13f8e4e0",
   "metadata": {},
   "source": [
    "---"
   ]
  },
  {
   "cell_type": "markdown",
   "id": "27eed80c",
   "metadata": {},
   "source": [
    "## Estimation\n",
    "\n",
    "\n",
    "If you are sure the value is closer to 11 than to 10 or 12, then record best estimate $11 \\pm 0.5$"
   ]
  },
  {
   "cell_type": "markdown",
   "id": "9d3426e3",
   "metadata": {},
   "source": [
    "---"
   ]
  },
  {
   "cell_type": "markdown",
   "id": "ad033c09",
   "metadata": {},
   "source": [
    "## Propagation of Uncertainties\n",
    "\n",
    "\n",
    "### For sum of random and independent variables\n",
    "\n",
    "\n",
    "$$ \\large \\delta x \\ = \\ \\sqrt{ \\sum_i (\\delta x_i)^2 } $$\n",
    "\n",
    "\n",
    "\n",
    "### If multiplications or divisions are involved,\n",
    "\n",
    "\n",
    "$$ \\large \\frac{\\delta q}{|q|} \\ = \\ \\sqrt{ \\sum_i \\left( \\frac{\\delta x_i}{x_i} \\right)^2 } $$"
   ]
  }
 ],
 "metadata": {
  "kernelspec": {
   "display_name": "Python 3 (ipykernel)",
   "language": "python",
   "name": "python3"
  },
  "language_info": {
   "codemirror_mode": {
    "name": "ipython",
    "version": 3
   },
   "file_extension": ".py",
   "mimetype": "text/x-python",
   "name": "python",
   "nbconvert_exporter": "python",
   "pygments_lexer": "ipython3",
   "version": "3.9.7"
  }
 },
 "nbformat": 4,
 "nbformat_minor": 5
}
